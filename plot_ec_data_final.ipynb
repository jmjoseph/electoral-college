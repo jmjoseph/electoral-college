{
 "cells": [
  {
   "cell_type": "code",
   "execution_count": 2,
   "metadata": {},
   "outputs": [],
   "source": [
    "import numpy as np\n",
    "import pandas as pd\n",
    "from pandas import Series, DataFrame\n",
    "\n",
    "import plotly\n",
    "import plotly.graph_objs as go\n",
    "import plotly.io as pio"
   ]
  },
  {
   "cell_type": "code",
   "execution_count": 3,
   "metadata": {},
   "outputs": [],
   "source": [
    "# Load dataframes from csv files\n",
    "census_df = pd.read_csv('df_census.csv', index_col=0)\n",
    "ec_df = pd.read_csv('df_ec.csv', index_col=0)\n",
    "election_df = pd.read_csv('df_election.csv', index_col=0)\n",
    "abbrev_df = pd.read_csv('df_abbrev.csv', index_col=0)"
   ]
  },
  {
   "cell_type": "code",
   "execution_count": 4,
   "metadata": {},
   "outputs": [
    {
     "name": "stdout",
     "output_type": "stream",
     "text": [
      "325719178\n",
      "325719178\n",
      "<class 'pandas.core.series.Series'>\n"
     ]
    },
    {
     "data": {
      "text/plain": [
       "dtype('int64')"
      ]
     },
     "execution_count": 4,
     "metadata": {},
     "output_type": "execute_result"
    }
   ],
   "source": [
    "print(census_df.loc[\"United States\", census_df.columns[0]])\n",
    "print(sum(census_df.loc[\"Alabama\":\"Wyoming\", \"HC01_VC03\"]))\n",
    "print(type(census_df.loc[\"Alabama\":\"Wyoming\", \"HC01_VC03\"]))\n",
    "census_df.loc[:, \"HC01_VC03\"].dtype\n",
    "ec_df[\"Number of Electoral Votes\"].dtype"
   ]
  },
  {
   "cell_type": "code",
   "execution_count": 5,
   "metadata": {},
   "outputs": [
    {
     "name": "stdout",
     "output_type": "stream",
     "text": [
      "Average share of an electoral vote for an individual:\n",
      "1.65e-06\n",
      "\n",
      "Average amount of people per electoral vote:\n",
      "605425.98\n"
     ]
    }
   ],
   "source": [
    "# Calculate Average voting power (EV share PER person)\n",
    "avg_vp = ec_df[\"Number of Electoral Votes\"].sum() / float(census_df.loc[\"United States\", \"HC01_VC03\"])\n",
    "print('Average share of an electoral vote for an individual:\\n{:.2e}'\n",
    "      .format(avg_vp))\n",
    "\n",
    "# Store inverse\n",
    "people_per_ev = 1.0/avg_vp\n",
    "print('\\nAverage amount of people per electoral vote:\\n{:.2f}'.format(people_per_ev))"
   ]
  },
  {
   "cell_type": "markdown",
   "metadata": {},
   "source": [
    "### I. Electoral Vote Apportionment Bar Chart"
   ]
  },
  {
   "cell_type": "code",
   "execution_count": 6,
   "metadata": {},
   "outputs": [
    {
     "data": {
      "text/html": [
       "<script type=\"text/javascript\">window.PlotlyConfig = {MathJaxConfig: 'local'};</script><script type=\"text/javascript\">if (window.MathJax) {MathJax.Hub.Config({SVG: {font: \"STIX-Web\"}});}</script><script>requirejs.config({paths: { 'plotly': ['https://cdn.plot.ly/plotly-latest.min']},});if(!window._Plotly) {require(['plotly'],function(plotly) {window._Plotly=plotly;});}</script>"
      ],
      "text/vnd.plotly.v1+html": [
       "<script type=\"text/javascript\">window.PlotlyConfig = {MathJaxConfig: 'local'};</script><script type=\"text/javascript\">if (window.MathJax) {MathJax.Hub.Config({SVG: {font: \"STIX-Web\"}});}</script><script>requirejs.config({paths: { 'plotly': ['https://cdn.plot.ly/plotly-latest.min']},});if(!window._Plotly) {require(['plotly'],function(plotly) {window._Plotly=plotly;});}</script>"
      ]
     },
     "metadata": {},
     "output_type": "display_data"
    },
    {
     "data": {
      "application/vnd.plotly.v1+json": {
       "config": {
        "linkText": "Export to plot.ly",
        "plotlyServerURL": "https://plot.ly",
        "showLink": false
       },
       "data": [
        {
         "marker": {
          "color": "#C2EFEB"
         },
         "name": "Population",
         "type": "bar",
         "uid": "8e1c3342-887b-4ce0-8f1f-3ad647cb7ec5",
         "x": [
          0,
          1,
          2,
          3,
          4,
          5,
          6,
          7,
          8,
          9,
          10,
          11,
          12,
          13,
          14,
          15,
          16,
          17,
          18,
          19,
          20,
          21,
          22,
          23,
          24,
          25,
          26,
          27,
          28,
          29,
          30,
          31,
          32,
          33,
          34,
          35,
          36,
          37,
          38,
          39,
          40,
          41,
          42,
          43,
          44,
          45,
          46,
          47,
          48,
          49,
          50
         ],
         "y": [
          39536653,
          28304596,
          20984400,
          19849399,
          12805537,
          12802023,
          11658609,
          10429379,
          10273419,
          9962311,
          9005644,
          8470020,
          7405743,
          7016270,
          6859819,
          6715984,
          6666818,
          6113532,
          6052177,
          5795483,
          5607154,
          5576606,
          5024369,
          4874747,
          4684333,
          4454189,
          4142776,
          3930864,
          3588184,
          3145711,
          3101833,
          3004279,
          2998039,
          2984100,
          2913123,
          2088070,
          1920076,
          1815857,
          1716943,
          1427538,
          1342795,
          1335907,
          1059639,
          1050493,
          961939,
          869666,
          755393,
          739795,
          693972,
          623657,
          579315
         ]
        },
        {
         "marker": {
          "color": "#6EA4BF"
         },
         "name": "Electoral Votes",
         "type": "bar",
         "uid": "82b531f8-e323-4467-a261-65073bb09c8c",
         "width": 0.2,
         "x": [
          0,
          1,
          2,
          3,
          4,
          5,
          6,
          7,
          8,
          9,
          10,
          11,
          12,
          13,
          14,
          15,
          16,
          17,
          18,
          19,
          20,
          21,
          22,
          23,
          24,
          25,
          26,
          27,
          28,
          29,
          30,
          31,
          32,
          33,
          34,
          35,
          36,
          37,
          38,
          39,
          40,
          41,
          42,
          43,
          44,
          45,
          46,
          47,
          48,
          49,
          50
         ],
         "y": [
          55,
          38,
          29,
          29,
          20,
          20,
          18,
          16,
          15,
          16,
          14,
          13,
          12,
          11,
          11,
          11,
          11,
          10,
          10,
          10,
          9,
          10,
          9,
          9,
          8,
          8,
          7,
          7,
          7,
          6,
          6,
          6,
          6,
          6,
          6,
          5,
          5,
          5,
          4,
          4,
          4,
          4,
          4,
          3,
          3,
          3,
          3,
          3,
          3,
          3,
          3
         ],
         "yaxis": "y2"
        },
        {
         "line": {
          "color": "black",
          "width": 1
         },
         "mode": "lines",
         "type": "scatter",
         "uid": "e3629261-8528-4d6c-92d3-694a2a5e5365",
         "x": [
          1.2,
          2.2,
          2.2,
          1.2
         ],
         "y": [
          33300000,
          33300000,
          39536653,
          39536653
         ]
        }
       ],
       "layout": {
        "annotations": [
         {
          "align": "left",
          "arrowcolor": "black",
          "arrowhead": 0,
          "arrowsize": 1,
          "arrowwidth": 1.2,
          "ax": 6,
          "axref": "x",
          "ay": 36418326.5,
          "ayref": "y",
          "font": {
           "color": "black",
           "size": 12
          },
          "showarrow": true,
          "startstandoff": 3,
          "text": "<i>This gap represents population<br>not represented by electoral votes<br><b>More people than votes!</b></i>",
          "x": 2.2,
          "xanchor": "left",
          "xref": "x",
          "xshift": 0,
          "y": 36418326.5,
          "yanchor": "middle",
          "yref": "y"
         }
        ],
        "height": 500,
        "showlegend": false,
        "title": {
         "font": {
          "family": "verdana",
          "size": 18
         },
         "pad": {
          "b": 20
         },
         "text": "State populations and electoral votes are NOT proportional",
         "y": 1,
         "yanchor": "bottom",
         "yref": "paper"
        },
        "width": 900,
        "xaxis": {
         "tickangle": -65,
         "tickfont": {
          "size": 10
         },
         "tickmode": "array",
         "ticktext": [
          "California",
          "Texas",
          "Florida",
          "New York",
          "Pennsylvania",
          "Illinois",
          "Ohio",
          "Georgia",
          "North Carolina",
          "Michigan",
          "New Jersey",
          "Virginia",
          "Washington",
          "Arizona",
          "Massachusetts",
          "Tennessee",
          "Indiana",
          "Missouri",
          "Maryland",
          "Wisconsin",
          "Colorado",
          "Minnesota",
          "South Carolina",
          "Alabama",
          "Louisiana",
          "Kentucky",
          "Oregon",
          "Oklahoma",
          "Connecticut",
          "Iowa",
          "Utah",
          "Arkansas",
          "Nevada",
          "Mississippi",
          "Kansas",
          "New Mexico",
          "Nebraska",
          "West Virginia",
          "Idaho",
          "Hawaii",
          "New Hampshire",
          "Maine",
          "Rhode Island",
          "Montana",
          "Delaware",
          "South Dakota",
          "North Dakota",
          "Alaska",
          "D.C.",
          "Vermont",
          "Wyoming"
         ],
         "tickvals": [
          0,
          1,
          2,
          3,
          4,
          5,
          6,
          7,
          8,
          9,
          10,
          11,
          12,
          13,
          14,
          15,
          16,
          17,
          18,
          19,
          20,
          21,
          22,
          23,
          24,
          25,
          26,
          27,
          28,
          29,
          30,
          31,
          32,
          33,
          34,
          35,
          36,
          37,
          38,
          39,
          40,
          41,
          42,
          43,
          44,
          45,
          46,
          47,
          48,
          49,
          50
         ]
        },
        "yaxis": {
         "range": [
          0,
          40000000
         ],
         "rangemode": "tozero",
         "tickfont": {
          "size": 12
         },
         "title": {
          "text": "Population"
         }
        },
        "yaxis2": {
         "color": "#6EA4BF",
         "overlaying": "y",
         "range": [
          0,
          66.06918306787573
         ],
         "rangemode": "tozero",
         "side": "right",
         "tickfont": {
          "size": 12
         },
         "title": {
          "text": "Electoral Votes"
         },
         "zeroline": false
        }
       }
      },
      "text/html": [
       "<div id=\"6e252b85-1f01-457c-9c54-ac761c088bc4\" style=\"height: 500px; width: 900px;\" class=\"plotly-graph-div\"></div><script type=\"text/javascript\">require([\"plotly\"], function(Plotly) { window.PLOTLYENV=window.PLOTLYENV || {};window.PLOTLYENV.BASE_URL=\"https://plot.ly\";\n",
       "if (document.getElementById(\"6e252b85-1f01-457c-9c54-ac761c088bc4\")) {\n",
       "    Plotly.newPlot(\"6e252b85-1f01-457c-9c54-ac761c088bc4\", [{\"marker\": {\"color\": \"#C2EFEB\"}, \"name\": \"Population\", \"x\": [0, 1, 2, 3, 4, 5, 6, 7, 8, 9, 10, 11, 12, 13, 14, 15, 16, 17, 18, 19, 20, 21, 22, 23, 24, 25, 26, 27, 28, 29, 30, 31, 32, 33, 34, 35, 36, 37, 38, 39, 40, 41, 42, 43, 44, 45, 46, 47, 48, 49, 50], \"y\": [39536653, 28304596, 20984400, 19849399, 12805537, 12802023, 11658609, 10429379, 10273419, 9962311, 9005644, 8470020, 7405743, 7016270, 6859819, 6715984, 6666818, 6113532, 6052177, 5795483, 5607154, 5576606, 5024369, 4874747, 4684333, 4454189, 4142776, 3930864, 3588184, 3145711, 3101833, 3004279, 2998039, 2984100, 2913123, 2088070, 1920076, 1815857, 1716943, 1427538, 1342795, 1335907, 1059639, 1050493, 961939, 869666, 755393, 739795, 693972, 623657, 579315], \"type\": \"bar\", \"uid\": \"8e1c3342-887b-4ce0-8f1f-3ad647cb7ec5\"}, {\"marker\": {\"color\": \"#6EA4BF\"}, \"name\": \"Electoral Votes\", \"width\": 0.2, \"x\": [0, 1, 2, 3, 4, 5, 6, 7, 8, 9, 10, 11, 12, 13, 14, 15, 16, 17, 18, 19, 20, 21, 22, 23, 24, 25, 26, 27, 28, 29, 30, 31, 32, 33, 34, 35, 36, 37, 38, 39, 40, 41, 42, 43, 44, 45, 46, 47, 48, 49, 50], \"y\": [55, 38, 29, 29, 20, 20, 18, 16, 15, 16, 14, 13, 12, 11, 11, 11, 11, 10, 10, 10, 9, 10, 9, 9, 8, 8, 7, 7, 7, 6, 6, 6, 6, 6, 6, 5, 5, 5, 4, 4, 4, 4, 4, 3, 3, 3, 3, 3, 3, 3, 3], \"yaxis\": \"y2\", \"type\": \"bar\", \"uid\": \"82b531f8-e323-4467-a261-65073bb09c8c\"}, {\"line\": {\"color\": \"black\", \"width\": 1.0}, \"mode\": \"lines\", \"x\": [1.2, 2.2, 2.2, 1.2], \"y\": [33300000, 33300000, 39536653, 39536653], \"type\": \"scatter\", \"uid\": \"e3629261-8528-4d6c-92d3-694a2a5e5365\"}], {\"annotations\": [{\"align\": \"left\", \"arrowcolor\": \"black\", \"arrowhead\": 0, \"arrowsize\": 1, \"arrowwidth\": 1.2, \"ax\": 6, \"axref\": \"x\", \"ay\": 36418326.5, \"ayref\": \"y\", \"font\": {\"color\": \"black\", \"size\": 12}, \"showarrow\": true, \"startstandoff\": 3, \"text\": \"<i>This gap represents population<br>not represented by electoral votes<br><b>More people than votes!</b></i>\", \"x\": 2.2, \"xanchor\": \"left\", \"xref\": \"x\", \"xshift\": 0, \"y\": 36418326.5, \"yanchor\": \"middle\", \"yref\": \"y\"}], \"height\": 500, \"showlegend\": false, \"title\": {\"font\": {\"family\": \"verdana\", \"size\": 18}, \"pad\": {\"b\": 20}, \"text\": \"State populations and electoral votes are NOT proportional\", \"y\": 1.0, \"yanchor\": \"bottom\", \"yref\": \"paper\"}, \"width\": 900, \"xaxis\": {\"tickangle\": -65, \"tickfont\": {\"size\": 10}, \"tickmode\": \"array\", \"ticktext\": [\"California\", \"Texas\", \"Florida\", \"New York\", \"Pennsylvania\", \"Illinois\", \"Ohio\", \"Georgia\", \"North Carolina\", \"Michigan\", \"New Jersey\", \"Virginia\", \"Washington\", \"Arizona\", \"Massachusetts\", \"Tennessee\", \"Indiana\", \"Missouri\", \"Maryland\", \"Wisconsin\", \"Colorado\", \"Minnesota\", \"South Carolina\", \"Alabama\", \"Louisiana\", \"Kentucky\", \"Oregon\", \"Oklahoma\", \"Connecticut\", \"Iowa\", \"Utah\", \"Arkansas\", \"Nevada\", \"Mississippi\", \"Kansas\", \"New Mexico\", \"Nebraska\", \"West Virginia\", \"Idaho\", \"Hawaii\", \"New Hampshire\", \"Maine\", \"Rhode Island\", \"Montana\", \"Delaware\", \"South Dakota\", \"North Dakota\", \"Alaska\", \"D.C.\", \"Vermont\", \"Wyoming\"], \"tickvals\": [0, 1, 2, 3, 4, 5, 6, 7, 8, 9, 10, 11, 12, 13, 14, 15, 16, 17, 18, 19, 20, 21, 22, 23, 24, 25, 26, 27, 28, 29, 30, 31, 32, 33, 34, 35, 36, 37, 38, 39, 40, 41, 42, 43, 44, 45, 46, 47, 48, 49, 50]}, \"yaxis\": {\"range\": [0, 40000000], \"rangemode\": \"tozero\", \"tickfont\": {\"size\": 12}, \"title\": {\"text\": \"Population\"}}, \"yaxis2\": {\"color\": \"#6EA4BF\", \"overlaying\": \"y\", \"range\": [0, 66.06918306787573], \"rangemode\": \"tozero\", \"side\": \"right\", \"tickfont\": {\"size\": 12}, \"title\": {\"text\": \"Electoral Votes\"}, \"zeroline\": false}}, {\"showLink\": false, \"linkText\": \"Export to plot.ly\", \"plotlyServerURL\": \"https://plot.ly\"}); \n",
       "}\n",
       "});</script>"
      ],
      "text/vnd.plotly.v1+html": [
       "<div id=\"6e252b85-1f01-457c-9c54-ac761c088bc4\" style=\"height: 500px; width: 900px;\" class=\"plotly-graph-div\"></div><script type=\"text/javascript\">require([\"plotly\"], function(Plotly) { window.PLOTLYENV=window.PLOTLYENV || {};window.PLOTLYENV.BASE_URL=\"https://plot.ly\";\n",
       "if (document.getElementById(\"6e252b85-1f01-457c-9c54-ac761c088bc4\")) {\n",
       "    Plotly.newPlot(\"6e252b85-1f01-457c-9c54-ac761c088bc4\", [{\"marker\": {\"color\": \"#C2EFEB\"}, \"name\": \"Population\", \"x\": [0, 1, 2, 3, 4, 5, 6, 7, 8, 9, 10, 11, 12, 13, 14, 15, 16, 17, 18, 19, 20, 21, 22, 23, 24, 25, 26, 27, 28, 29, 30, 31, 32, 33, 34, 35, 36, 37, 38, 39, 40, 41, 42, 43, 44, 45, 46, 47, 48, 49, 50], \"y\": [39536653, 28304596, 20984400, 19849399, 12805537, 12802023, 11658609, 10429379, 10273419, 9962311, 9005644, 8470020, 7405743, 7016270, 6859819, 6715984, 6666818, 6113532, 6052177, 5795483, 5607154, 5576606, 5024369, 4874747, 4684333, 4454189, 4142776, 3930864, 3588184, 3145711, 3101833, 3004279, 2998039, 2984100, 2913123, 2088070, 1920076, 1815857, 1716943, 1427538, 1342795, 1335907, 1059639, 1050493, 961939, 869666, 755393, 739795, 693972, 623657, 579315], \"type\": \"bar\", \"uid\": \"8e1c3342-887b-4ce0-8f1f-3ad647cb7ec5\"}, {\"marker\": {\"color\": \"#6EA4BF\"}, \"name\": \"Electoral Votes\", \"width\": 0.2, \"x\": [0, 1, 2, 3, 4, 5, 6, 7, 8, 9, 10, 11, 12, 13, 14, 15, 16, 17, 18, 19, 20, 21, 22, 23, 24, 25, 26, 27, 28, 29, 30, 31, 32, 33, 34, 35, 36, 37, 38, 39, 40, 41, 42, 43, 44, 45, 46, 47, 48, 49, 50], \"y\": [55, 38, 29, 29, 20, 20, 18, 16, 15, 16, 14, 13, 12, 11, 11, 11, 11, 10, 10, 10, 9, 10, 9, 9, 8, 8, 7, 7, 7, 6, 6, 6, 6, 6, 6, 5, 5, 5, 4, 4, 4, 4, 4, 3, 3, 3, 3, 3, 3, 3, 3], \"yaxis\": \"y2\", \"type\": \"bar\", \"uid\": \"82b531f8-e323-4467-a261-65073bb09c8c\"}, {\"line\": {\"color\": \"black\", \"width\": 1.0}, \"mode\": \"lines\", \"x\": [1.2, 2.2, 2.2, 1.2], \"y\": [33300000, 33300000, 39536653, 39536653], \"type\": \"scatter\", \"uid\": \"e3629261-8528-4d6c-92d3-694a2a5e5365\"}], {\"annotations\": [{\"align\": \"left\", \"arrowcolor\": \"black\", \"arrowhead\": 0, \"arrowsize\": 1, \"arrowwidth\": 1.2, \"ax\": 6, \"axref\": \"x\", \"ay\": 36418326.5, \"ayref\": \"y\", \"font\": {\"color\": \"black\", \"size\": 12}, \"showarrow\": true, \"startstandoff\": 3, \"text\": \"<i>This gap represents population<br>not represented by electoral votes<br><b>More people than votes!</b></i>\", \"x\": 2.2, \"xanchor\": \"left\", \"xref\": \"x\", \"xshift\": 0, \"y\": 36418326.5, \"yanchor\": \"middle\", \"yref\": \"y\"}], \"height\": 500, \"showlegend\": false, \"title\": {\"font\": {\"family\": \"verdana\", \"size\": 18}, \"pad\": {\"b\": 20}, \"text\": \"State populations and electoral votes are NOT proportional\", \"y\": 1.0, \"yanchor\": \"bottom\", \"yref\": \"paper\"}, \"width\": 900, \"xaxis\": {\"tickangle\": -65, \"tickfont\": {\"size\": 10}, \"tickmode\": \"array\", \"ticktext\": [\"California\", \"Texas\", \"Florida\", \"New York\", \"Pennsylvania\", \"Illinois\", \"Ohio\", \"Georgia\", \"North Carolina\", \"Michigan\", \"New Jersey\", \"Virginia\", \"Washington\", \"Arizona\", \"Massachusetts\", \"Tennessee\", \"Indiana\", \"Missouri\", \"Maryland\", \"Wisconsin\", \"Colorado\", \"Minnesota\", \"South Carolina\", \"Alabama\", \"Louisiana\", \"Kentucky\", \"Oregon\", \"Oklahoma\", \"Connecticut\", \"Iowa\", \"Utah\", \"Arkansas\", \"Nevada\", \"Mississippi\", \"Kansas\", \"New Mexico\", \"Nebraska\", \"West Virginia\", \"Idaho\", \"Hawaii\", \"New Hampshire\", \"Maine\", \"Rhode Island\", \"Montana\", \"Delaware\", \"South Dakota\", \"North Dakota\", \"Alaska\", \"D.C.\", \"Vermont\", \"Wyoming\"], \"tickvals\": [0, 1, 2, 3, 4, 5, 6, 7, 8, 9, 10, 11, 12, 13, 14, 15, 16, 17, 18, 19, 20, 21, 22, 23, 24, 25, 26, 27, 28, 29, 30, 31, 32, 33, 34, 35, 36, 37, 38, 39, 40, 41, 42, 43, 44, 45, 46, 47, 48, 49, 50]}, \"yaxis\": {\"range\": [0, 40000000], \"rangemode\": \"tozero\", \"tickfont\": {\"size\": 12}, \"title\": {\"text\": \"Population\"}}, \"yaxis2\": {\"color\": \"#6EA4BF\", \"overlaying\": \"y\", \"range\": [0, 66.06918306787573], \"rangemode\": \"tozero\", \"side\": \"right\", \"tickfont\": {\"size\": 12}, \"title\": {\"text\": \"Electoral Votes\"}, \"zeroline\": false}}, {\"showLink\": false, \"linkText\": \"Export to plot.ly\", \"plotlyServerURL\": \"https://plot.ly\"}); \n",
       "}\n",
       "});</script>"
      ]
     },
     "metadata": {},
     "output_type": "display_data"
    }
   ],
   "source": [
    "# Get list of states in decreasing order of population\n",
    "states = sorted(list(census_df.index[1:]), \n",
    "                key=lambda state: census_df.loc[state, 'HC01_VC03'],\n",
    "                reverse=True)\n",
    "\n",
    "state_pop = go.Bar(\n",
    "    x=list(range(51)),#states,\n",
    "    y=[census_df.loc[state, 'HC01_VC03'] for state in states],\n",
    "    name='Population',\n",
    "    marker=dict(\n",
    "        color='#C2EFEB',\n",
    "        #opacity=,\n",
    "    )\n",
    ")\n",
    "\n",
    "ev_color = '#6EA4BF'\n",
    "state_ev = go.Bar(\n",
    "    x=list(range(51)),#states,\n",
    "    y=[ec_df.loc[state, 'Number of Electoral Votes'] for state in states],\n",
    "    name='Electoral Votes',\n",
    "    yaxis='y2',\n",
    "    #offset=4,\n",
    "    marker=dict(\n",
    "        color=ev_color,\n",
    "        #opacity=,\n",
    "    ),\n",
    "    width=0.2,\n",
    ")\n",
    "\n",
    "# Hacky way to get grouped bars on multiple y-axes. Not working.\n",
    "dummies = [\n",
    "    go.Bar(\n",
    "        x=['Alabama'], \n",
    "        y=[0],\n",
    "        yaxis='y',\n",
    "        name='y dummy', \n",
    "        hoverinfo='none', \n",
    "        showlegend=False\n",
    "    ), \n",
    "    go.Bar(\n",
    "        x=['Alabama'],\n",
    "        y=[0],\n",
    "        yaxis='y2', \n",
    "        name='y2 dummy', \n",
    "        hoverinfo='none', \n",
    "        showlegend=False\n",
    "    ),\n",
    "]\n",
    "\n",
    "b_top = census_df.loc['California', 'HC01_VC03']\n",
    "b_bot = 33300000\n",
    "b_x = 1.2\n",
    "b_size = 1.0\n",
    "bracket = go.Scatter(\n",
    "    x=[b_x, b_x+b_size, b_x+b_size, b_x],\n",
    "    y=[b_bot, b_bot, b_top, b_top],\n",
    "    fill=None,\n",
    "    mode='lines',\n",
    "    line=dict(\n",
    "        width=1.0,\n",
    "        color='black',\n",
    "    ),\n",
    ")\n",
    "\n",
    "data = [state_pop, state_ev] + [bracket] #+ dummies\n",
    "\n",
    "layout = go.Layout(\n",
    "    title=dict(   \n",
    "        text='State populations and electoral votes are NOT proportional',\n",
    "        font=dict(\n",
    "            family='verdana',\n",
    "            size=18,\n",
    "            color=None,\n",
    "        ),\n",
    "        #xref='paper',\n",
    "        yref='paper',\n",
    "        y=1.0,\n",
    "        yanchor='bottom',\n",
    "        #xanchor='right',\n",
    "        pad=dict( # unit: pixels\n",
    "            b=20,\n",
    "        ),\n",
    "    ),\n",
    "    width=900,\n",
    "    height=500,\n",
    "    #barmode='group',\n",
    "    showlegend=False,\n",
    "    xaxis=dict(\n",
    "        tickfont=dict(\n",
    "            size=10,\n",
    "        ),\n",
    "        tickangle=-65,\n",
    "        #automargin=True,\n",
    "        tickmode='array',\n",
    "        tickvals=list(range(51)),\n",
    "        ticktext=states[:states.index('District of Columbia')] \\\n",
    "                 + ['D.C.'] + states[states.index('District of Columbia')+1:] \n",
    "    ),\n",
    "    yaxis=dict(\n",
    "        title='Population',\n",
    "        range=[0,40000000],\n",
    "        tickfont=dict(\n",
    "            size=12,\n",
    "        ),\n",
    "        rangemode='tozero',\n",
    "    ),\n",
    "    yaxis2=dict(\n",
    "        title='Electoral Votes',\n",
    "        range=[0,40000000/float(people_per_ev)],\n",
    "        color=ev_color,\n",
    "#         titlefont=dict(\n",
    "#             color=ev_color,\n",
    "#         ),\n",
    "        tickfont=dict(\n",
    "            size=12,\n",
    "        ),\n",
    "        overlaying='y',\n",
    "        side='right',\n",
    "        rangemode='tozero',\n",
    "        zeroline=False,\n",
    "    )\n",
    ")\n",
    "\n",
    "notes = [dict(\n",
    "    text='<i>This gap represents population<br>' +\\\n",
    "         'not represented by electoral votes<br>' +\\\n",
    "         '<b>More people than votes!</b></i>',\n",
    "    font=dict(\n",
    "        family=None,\n",
    "        size=12,\n",
    "        color='black',\n",
    "    ),\n",
    "    x=b_x + b_size,\n",
    "    y=(b_top + b_bot)/2.0,\n",
    "    xref='x',\n",
    "    yref='y',\n",
    "    align='left',\n",
    "    xanchor='left',\n",
    "    yanchor='middle',\n",
    "    showarrow=True,\n",
    "    arrowcolor='black',\n",
    "    arrowwidth=1.2,\n",
    "    arrowhead=0,\n",
    "    arrowsize=1,\n",
    "    startstandoff=3,\n",
    "    axref='x',\n",
    "    ayref='y',\n",
    "    ax=6,\n",
    "    ay=(b_top + b_bot)/2.0,\n",
    "    xshift=0,\n",
    ")]\n",
    "\n",
    "layout.update(annotations=notes)\n",
    "\n",
    "fig = go.Figure(data=data, layout=layout)\n",
    "plotly.offline.init_notebook_mode(connected=True)\n",
    "plotly.offline.iplot(fig)"
   ]
  },
  {
   "cell_type": "markdown",
   "metadata": {},
   "source": [
    "### II. US Map by Voting Power"
   ]
  },
  {
   "cell_type": "code",
   "execution_count": 8,
   "metadata": {},
   "outputs": [
    {
     "data": {
      "text/plain": [
       "[[0.47244094488188976, 'rgb(242, 246, 235)'],\n",
       " [0.4763779527559055, 'rgb(242, 246, 237)'],\n",
       " [0.48031496062992124, 'rgb(243, 246, 238)'],\n",
       " [0.49, 'rgb(255, 255, 255)'],\n",
       " [0.51, 'rgb(255, 255, 255)'],\n",
       " [0.5196850393700787, 'rgb(248, 242, 245)']]"
      ]
     },
     "execution_count": 8,
     "metadata": {},
     "output_type": "execute_result"
    }
   ],
   "source": [
    "# Try out function to convert matplotlib colormaps to Plotly format\n",
    "import matplotlib\n",
    "from matplotlib import cm\n",
    "import numpy as np\n",
    "\n",
    "magma_cmap = matplotlib.cm.get_cmap('PiYG_r')\n",
    "\n",
    "def matplotlib_to_plotly(cmap, pl_entries):\n",
    "    h = 1.0/(pl_entries-1)\n",
    "    pl_colorscale = []\n",
    "\n",
    "    for k in range(pl_entries):\n",
    "        C = list(map(np.uint8, np.array(cmap(k*h)[:3])*255))\n",
    "        pl_colorscale.append([k*h, 'rgb'+str((C[0], C[1], C[2]))])\n",
    "\n",
    "    return pl_colorscale\n",
    "\n",
    "magma = matplotlib_to_plotly(magma_cmap, 255)\n",
    "#magma[123:132]\n",
    "modm = magma[:123] + [[0.49, 'rgb(255, 255, 255)'],[0.51, 'rgb(255, 255, 255)']] + magma[132:]\n",
    "modm[120:126]"
   ]
  },
  {
   "cell_type": "code",
   "execution_count": 145,
   "metadata": {},
   "outputs": [
    {
     "data": {
      "text/plain": [
       "2.6172207873486513"
      ]
     },
     "execution_count": 145,
     "metadata": {},
     "output_type": "execute_result"
    }
   ],
   "source": [
    "norm_states_vp[states.index('District of Columbia')]"
   ]
  },
  {
   "cell_type": "code",
   "execution_count": 170,
   "metadata": {
    "scrolled": false
   },
   "outputs": [
    {
     "data": {
      "text/html": [
       "<script type=\"text/javascript\">window.PlotlyConfig = {MathJaxConfig: 'local'};</script><script type=\"text/javascript\">if (window.MathJax) {MathJax.Hub.Config({SVG: {font: \"STIX-Web\"}});}</script><script>requirejs.config({paths: { 'plotly': ['https://cdn.plot.ly/plotly-latest.min']},});if(!window._Plotly) {require(['plotly'],function(plotly) {window._Plotly=plotly;});}</script>"
      ],
      "text/vnd.plotly.v1+html": [
       "<script type=\"text/javascript\">window.PlotlyConfig = {MathJaxConfig: 'local'};</script><script type=\"text/javascript\">if (window.MathJax) {MathJax.Hub.Config({SVG: {font: \"STIX-Web\"}});}</script><script>requirejs.config({paths: { 'plotly': ['https://cdn.plot.ly/plotly-latest.min']},});if(!window._Plotly) {require(['plotly'],function(plotly) {window._Plotly=plotly;});}</script>"
      ]
     },
     "metadata": {},
     "output_type": "display_data"
    },
    {
     "data": {
      "application/vnd.plotly.v1+json": {
       "config": {
        "linkText": "Export to plot.ly",
        "plotlyServerURL": "https://plot.ly",
        "showLink": false
       },
       "data": [
        {
         "autocolorscale": false,
         "colorbar": {
          "title": {
           "text": ""
          }
         },
         "colorscale": [
          [
           0,
           "rgb(39, 100, 25)"
          ],
          [
           0.003937007874015748,
           "rgb(40, 101, 25)"
          ],
          [
           0.007874015748031496,
           "rgb(41, 103, 25)"
          ],
          [
           0.011811023622047244,
           "rgb(43, 105, 25)"
          ],
          [
           0.015748031496062992,
           "rgb(44, 107, 26)"
          ],
          [
           0.01968503937007874,
           "rgb(46, 109, 26)"
          ],
          [
           0.023622047244094488,
           "rgb(47, 110, 26)"
          ],
          [
           0.027559055118110236,
           "rgb(49, 112, 27)"
          ],
          [
           0.031496062992125984,
           "rgb(50, 114, 27)"
          ],
          [
           0.03543307086614173,
           "rgb(52, 116, 27)"
          ],
          [
           0.03937007874015748,
           "rgb(53, 118, 28)"
          ],
          [
           0.04330708661417323,
           "rgb(55, 119, 28)"
          ],
          [
           0.047244094488188976,
           "rgb(56, 121, 28)"
          ],
          [
           0.051181102362204724,
           "rgb(58, 123, 29)"
          ],
          [
           0.05511811023622047,
           "rgb(59, 125, 29)"
          ],
          [
           0.05905511811023622,
           "rgb(61, 127, 29)"
          ],
          [
           0.06299212598425197,
           "rgb(62, 128, 30)"
          ],
          [
           0.06692913385826771,
           "rgb(64, 130, 30)"
          ],
          [
           0.07086614173228346,
           "rgb(65, 132, 30)"
          ],
          [
           0.07480314960629922,
           "rgb(67, 134, 30)"
          ],
          [
           0.07874015748031496,
           "rgb(68, 136, 31)"
          ],
          [
           0.0826771653543307,
           "rgb(70, 137, 31)"
          ],
          [
           0.08661417322834646,
           "rgb(71, 139, 31)"
          ],
          [
           0.09055118110236221,
           "rgb(73, 141, 32)"
          ],
          [
           0.09448818897637795,
           "rgb(74, 143, 32)"
          ],
          [
           0.09842519685039369,
           "rgb(76, 145, 32)"
          ],
          [
           0.10236220472440945,
           "rgb(77, 146, 33)"
          ],
          [
           0.1062992125984252,
           "rgb(79, 148, 34)"
          ],
          [
           0.11023622047244094,
           "rgb(81, 150, 36)"
          ],
          [
           0.11417322834645668,
           "rgb(83, 151, 37)"
          ],
          [
           0.11811023622047244,
           "rgb(85, 153, 38)"
          ],
          [
           0.1220472440944882,
           "rgb(87, 155, 39)"
          ],
          [
           0.12598425196850394,
           "rgb(89, 156, 41)"
          ],
          [
           0.12992125984251968,
           "rgb(91, 158, 42)"
          ],
          [
           0.13385826771653542,
           "rgb(93, 160, 43)"
          ],
          [
           0.1377952755905512,
           "rgb(95, 161, 44)"
          ],
          [
           0.14173228346456693,
           "rgb(97, 163, 46)"
          ],
          [
           0.14566929133858267,
           "rgb(99, 164, 47)"
          ],
          [
           0.14960629921259844,
           "rgb(101, 166, 48)"
          ],
          [
           0.15354330708661418,
           "rgb(103, 168, 49)"
          ],
          [
           0.15748031496062992,
           "rgb(105, 169, 51)"
          ],
          [
           0.16141732283464566,
           "rgb(107, 171, 52)"
          ],
          [
           0.1653543307086614,
           "rgb(109, 173, 53)"
          ],
          [
           0.16929133858267717,
           "rgb(111, 174, 54)"
          ],
          [
           0.1732283464566929,
           "rgb(113, 176, 56)"
          ],
          [
           0.17716535433070865,
           "rgb(115, 178, 57)"
          ],
          [
           0.18110236220472442,
           "rgb(117, 179, 58)"
          ],
          [
           0.18503937007874016,
           "rgb(119, 181, 59)"
          ],
          [
           0.1889763779527559,
           "rgb(121, 183, 61)"
          ],
          [
           0.19291338582677164,
           "rgb(123, 184, 62)"
          ],
          [
           0.19685039370078738,
           "rgb(125, 186, 63)"
          ],
          [
           0.20078740157480315,
           "rgb(127, 188, 65)"
          ],
          [
           0.2047244094488189,
           "rgb(129, 189, 67)"
          ],
          [
           0.20866141732283464,
           "rgb(131, 190, 70)"
          ],
          [
           0.2125984251968504,
           "rgb(133, 192, 73)"
          ],
          [
           0.21653543307086615,
           "rgb(135, 193, 75)"
          ],
          [
           0.2204724409448819,
           "rgb(138, 195, 78)"
          ],
          [
           0.22440944881889763,
           "rgb(140, 196, 81)"
          ],
          [
           0.22834645669291337,
           "rgb(142, 198, 83)"
          ],
          [
           0.23228346456692914,
           "rgb(144, 199, 86)"
          ],
          [
           0.23622047244094488,
           "rgb(147, 201, 89)"
          ],
          [
           0.24015748031496062,
           "rgb(149, 202, 92)"
          ],
          [
           0.2440944881889764,
           "rgb(151, 203, 94)"
          ],
          [
           0.24803149606299213,
           "rgb(153, 205, 97)"
          ],
          [
           0.25196850393700787,
           "rgb(156, 206, 100)"
          ],
          [
           0.2559055118110236,
           "rgb(158, 208, 102)"
          ],
          [
           0.25984251968503935,
           "rgb(160, 209, 105)"
          ],
          [
           0.2637795275590551,
           "rgb(162, 211, 108)"
          ],
          [
           0.26771653543307083,
           "rgb(164, 212, 110)"
          ],
          [
           0.27165354330708663,
           "rgb(167, 214, 113)"
          ],
          [
           0.2755905511811024,
           "rgb(169, 215, 116)"
          ],
          [
           0.2795275590551181,
           "rgb(171, 217, 119)"
          ],
          [
           0.28346456692913385,
           "rgb(173, 218, 121)"
          ],
          [
           0.2874015748031496,
           "rgb(176, 219, 124)"
          ],
          [
           0.29133858267716534,
           "rgb(178, 221, 127)"
          ],
          [
           0.2952755905511811,
           "rgb(180, 222, 129)"
          ],
          [
           0.2992125984251969,
           "rgb(182, 224, 132)"
          ],
          [
           0.3031496062992126,
           "rgb(184, 225, 135)"
          ],
          [
           0.30708661417322836,
           "rgb(186, 226, 138)"
          ],
          [
           0.3110236220472441,
           "rgb(188, 226, 141)"
          ],
          [
           0.31496062992125984,
           "rgb(190, 227, 144)"
          ],
          [
           0.3188976377952756,
           "rgb(192, 228, 147)"
          ],
          [
           0.3228346456692913,
           "rgb(193, 229, 149)"
          ],
          [
           0.32677165354330706,
           "rgb(195, 230, 152)"
          ],
          [
           0.3307086614173228,
           "rgb(197, 230, 155)"
          ],
          [
           0.3346456692913386,
           "rgb(199, 231, 158)"
          ],
          [
           0.33858267716535434,
           "rgb(201, 232, 161)"
          ],
          [
           0.3425196850393701,
           "rgb(202, 233, 164)"
          ],
          [
           0.3464566929133858,
           "rgb(204, 234, 167)"
          ],
          [
           0.35039370078740156,
           "rgb(206, 234, 170)"
          ],
          [
           0.3543307086614173,
           "rgb(208, 235, 173)"
          ],
          [
           0.35826771653543305,
           "rgb(210, 236, 176)"
          ],
          [
           0.36220472440944884,
           "rgb(211, 237, 178)"
          ],
          [
           0.3661417322834646,
           "rgb(213, 237, 181)"
          ],
          [
           0.3700787401574803,
           "rgb(215, 238, 184)"
          ],
          [
           0.37401574803149606,
           "rgb(217, 239, 187)"
          ],
          [
           0.3779527559055118,
           "rgb(219, 240, 190)"
          ],
          [
           0.38188976377952755,
           "rgb(220, 241, 193)"
          ],
          [
           0.3858267716535433,
           "rgb(222, 241, 196)"
          ],
          [
           0.38976377952755903,
           "rgb(224, 242, 199)"
          ],
          [
           0.39370078740157477,
           "rgb(226, 243, 202)"
          ],
          [
           0.39763779527559057,
           "rgb(228, 244, 205)"
          ],
          [
           0.4015748031496063,
           "rgb(230, 245, 208)"
          ],
          [
           0.40551181102362205,
           "rgb(230, 245, 209)"
          ],
          [
           0.4094488188976378,
           "rgb(231, 245, 211)"
          ],
          [
           0.41338582677165353,
           "rgb(232, 245, 212)"
          ],
          [
           0.41732283464566927,
           "rgb(232, 245, 214)"
          ],
          [
           0.421259842519685,
           "rgb(233, 245, 215)"
          ],
          [
           0.4251968503937008,
           "rgb(234, 245, 217)"
          ],
          [
           0.42913385826771655,
           "rgb(234, 245, 218)"
          ],
          [
           0.4330708661417323,
           "rgb(235, 245, 220)"
          ],
          [
           0.43700787401574803,
           "rgb(236, 245, 221)"
          ],
          [
           0.4409448818897638,
           "rgb(236, 245, 223)"
          ],
          [
           0.4448818897637795,
           "rgb(237, 245, 224)"
          ],
          [
           0.44881889763779526,
           "rgb(238, 245, 226)"
          ],
          [
           0.452755905511811,
           "rgb(238, 246, 227)"
          ],
          [
           0.45669291338582674,
           "rgb(239, 246, 229)"
          ],
          [
           0.46062992125984253,
           "rgb(240, 246, 230)"
          ],
          [
           0.4645669291338583,
           "rgb(240, 246, 232)"
          ],
          [
           0.468503937007874,
           "rgb(241, 246, 234)"
          ],
          [
           0.47244094488188976,
           "rgb(242, 246, 235)"
          ],
          [
           0.4763779527559055,
           "rgb(242, 246, 237)"
          ],
          [
           0.48031496062992124,
           "rgb(243, 246, 238)"
          ],
          [
           0.484251968503937,
           "rgb(244, 246, 240)"
          ],
          [
           0.4881889763779528,
           "rgb(244, 246, 241)"
          ],
          [
           0.4921259842519685,
           "rgb(245, 246, 243)"
          ],
          [
           0.49606299212598426,
           "rgb(246, 246, 244)"
          ],
          [
           0.5,
           "rgb(247, 246, 246)"
          ],
          [
           0.5039370078740157,
           "rgb(247, 245, 246)"
          ],
          [
           0.5078740157480315,
           "rgb(247, 244, 246)"
          ],
          [
           0.5118110236220472,
           "rgb(247, 243, 245)"
          ],
          [
           0.515748031496063,
           "rgb(248, 242, 245)"
          ],
          [
           0.5196850393700787,
           "rgb(248, 242, 245)"
          ],
          [
           0.5236220472440944,
           "rgb(248, 241, 244)"
          ],
          [
           0.5275590551181102,
           "rgb(248, 240, 244)"
          ],
          [
           0.5314960629921259,
           "rgb(249, 239, 244)"
          ],
          [
           0.5354330708661417,
           "rgb(249, 238, 244)"
          ],
          [
           0.5393700787401575,
           "rgb(249, 237, 243)"
          ],
          [
           0.5433070866141733,
           "rgb(249, 236, 243)"
          ],
          [
           0.547244094488189,
           "rgb(249, 235, 243)"
          ],
          [
           0.5511811023622047,
           "rgb(250, 234, 242)"
          ],
          [
           0.5551181102362205,
           "rgb(250, 233, 242)"
          ],
          [
           0.5590551181102362,
           "rgb(250, 233, 242)"
          ],
          [
           0.562992125984252,
           "rgb(250, 232, 241)"
          ],
          [
           0.5669291338582677,
           "rgb(251, 231, 241)"
          ],
          [
           0.5708661417322834,
           "rgb(251, 230, 241)"
          ],
          [
           0.5748031496062992,
           "rgb(251, 229, 240)"
          ],
          [
           0.5787401574803149,
           "rgb(251, 228, 240)"
          ],
          [
           0.5826771653543307,
           "rgb(252, 227, 240)"
          ],
          [
           0.5866141732283464,
           "rgb(252, 226, 239)"
          ],
          [
           0.5905511811023622,
           "rgb(252, 225, 239)"
          ],
          [
           0.5944881889763779,
           "rgb(252, 224, 239)"
          ],
          [
           0.5984251968503937,
           "rgb(253, 224, 239)"
          ],
          [
           0.6023622047244095,
           "rgb(252, 222, 238)"
          ],
          [
           0.6062992125984252,
           "rgb(252, 220, 237)"
          ],
          [
           0.610236220472441,
           "rgb(251, 219, 236)"
          ],
          [
           0.6141732283464567,
           "rgb(251, 217, 235)"
          ],
          [
           0.6181102362204725,
           "rgb(250, 215, 234)"
          ],
          [
           0.6220472440944882,
           "rgb(250, 214, 234)"
          ],
          [
           0.6259842519685039,
           "rgb(249, 212, 233)"
          ],
          [
           0.6299212598425197,
           "rgb(249, 210, 232)"
          ],
          [
           0.6338582677165354,
           "rgb(248, 209, 231)"
          ],
          [
           0.6377952755905512,
           "rgb(248, 207, 230)"
          ],
          [
           0.6417322834645669,
           "rgb(247, 205, 229)"
          ],
          [
           0.6456692913385826,
           "rgb(247, 204, 229)"
          ],
          [
           0.6496062992125984,
           "rgb(246, 202, 228)"
          ],
          [
           0.6535433070866141,
           "rgb(246, 200, 227)"
          ],
          [
           0.6574803149606299,
           "rgb(245, 199, 226)"
          ],
          [
           0.6614173228346456,
           "rgb(245, 197, 225)"
          ],
          [
           0.6653543307086615,
           "rgb(245, 196, 225)"
          ],
          [
           0.6692913385826772,
           "rgb(244, 194, 224)"
          ],
          [
           0.6732283464566929,
           "rgb(244, 192, 223)"
          ],
          [
           0.6771653543307087,
           "rgb(243, 191, 222)"
          ],
          [
           0.6811023622047244,
           "rgb(243, 189, 221)"
          ],
          [
           0.6850393700787402,
           "rgb(242, 187, 220)"
          ],
          [
           0.6889763779527559,
           "rgb(242, 186, 220)"
          ],
          [
           0.6929133858267716,
           "rgb(241, 184, 219)"
          ],
          [
           0.6968503937007874,
           "rgb(241, 182, 218)"
          ],
          [
           0.7007874015748031,
           "rgb(240, 180, 217)"
          ],
          [
           0.7047244094488189,
           "rgb(239, 178, 215)"
          ],
          [
           0.7086614173228346,
           "rgb(239, 175, 213)"
          ],
          [
           0.7125984251968503,
           "rgb(238, 173, 211)"
          ],
          [
           0.7165354330708661,
           "rgb(237, 170, 210)"
          ],
          [
           0.7204724409448818,
           "rgb(236, 168, 208)"
          ],
          [
           0.7244094488188977,
           "rgb(236, 165, 206)"
          ],
          [
           0.7283464566929134,
           "rgb(235, 163, 205)"
          ],
          [
           0.7322834645669292,
           "rgb(234, 161, 203)"
          ],
          [
           0.7362204724409449,
           "rgb(233, 158, 201)"
          ],
          [
           0.7401574803149606,
           "rgb(233, 156, 199)"
          ],
          [
           0.7440944881889764,
           "rgb(232, 153, 198)"
          ],
          [
           0.7480314960629921,
           "rgb(231, 151, 196)"
          ],
          [
           0.7519685039370079,
           "rgb(230, 148, 194)"
          ],
          [
           0.7559055118110236,
           "rgb(230, 146, 192)"
          ],
          [
           0.7598425196850394,
           "rgb(229, 143, 191)"
          ],
          [
           0.7637795275590551,
           "rgb(228, 141, 189)"
          ],
          [
           0.7677165354330708,
           "rgb(227, 138, 187)"
          ],
          [
           0.7716535433070866,
           "rgb(227, 136, 186)"
          ],
          [
           0.7755905511811023,
           "rgb(226, 133, 184)"
          ],
          [
           0.7795275590551181,
           "rgb(225, 131, 182)"
          ],
          [
           0.7834645669291338,
           "rgb(224, 128, 180)"
          ],
          [
           0.7874015748031495,
           "rgb(224, 126, 179)"
          ],
          [
           0.7913385826771654,
           "rgb(223, 123, 177)"
          ],
          [
           0.7952755905511811,
           "rgb(222, 121, 175)"
          ],
          [
           0.7992125984251969,
           "rgb(222, 119, 174)"
          ],
          [
           0.8031496062992126,
           "rgb(221, 115, 172)"
          ],
          [
           0.8070866141732284,
           "rgb(220, 111, 170)"
          ],
          [
           0.8110236220472441,
           "rgb(219, 108, 168)"
          ],
          [
           0.8149606299212598,
           "rgb(218, 104, 166)"
          ],
          [
           0.8188976377952756,
           "rgb(217, 100, 164)"
          ],
          [
           0.8228346456692913,
           "rgb(216, 97, 162)"
          ],
          [
           0.8267716535433071,
           "rgb(215, 93, 160)"
          ],
          [
           0.8307086614173228,
           "rgb(214, 90, 158)"
          ],
          [
           0.8346456692913385,
           "rgb(213, 86, 156)"
          ],
          [
           0.8385826771653543,
           "rgb(212, 82, 154)"
          ],
          [
           0.84251968503937,
           "rgb(211, 79, 152)"
          ],
          [
           0.8464566929133858,
           "rgb(210, 75, 150)"
          ],
          [
           0.8503937007874016,
           "rgb(209, 72, 149)"
          ],
          [
           0.8543307086614174,
           "rgb(208, 68, 147)"
          ],
          [
           0.8582677165354331,
           "rgb(207, 64, 145)"
          ],
          [
           0.8622047244094488,
           "rgb(206, 61, 143)"
          ],
          [
           0.8661417322834646,
           "rgb(205, 57, 141)"
          ],
          [
           0.8700787401574803,
           "rgb(204, 54, 139)"
          ],
          [
           0.8740157480314961,
           "rgb(203, 50, 137)"
          ],
          [
           0.8779527559055118,
           "rgb(202, 46, 135)"
          ],
          [
           0.8818897637795275,
           "rgb(201, 43, 133)"
          ],
          [
           0.8858267716535433,
           "rgb(200, 39, 131)"
          ],
          [
           0.889763779527559,
           "rgb(199, 36, 129)"
          ],
          [
           0.8937007874015748,
           "rgb(198, 32, 127)"
          ],
          [
           0.8976377952755905,
           "rgb(197, 28, 125)"
          ],
          [
           0.9015748031496063,
           "rgb(195, 26, 124)"
          ],
          [
           0.905511811023622,
           "rgb(193, 25, 122)"
          ],
          [
           0.9094488188976377,
           "rgb(191, 24, 120)"
          ],
          [
           0.9133858267716535,
           "rgb(189, 23, 119)"
          ],
          [
           0.9173228346456693,
           "rgb(187, 22, 117)"
          ],
          [
           0.9212598425196851,
           "rgb(185, 21, 115)"
          ],
          [
           0.9251968503937008,
           "rgb(182, 20, 114)"
          ],
          [
           0.9291338582677166,
           "rgb(180, 19, 112)"
          ],
          [
           0.9330708661417323,
           "rgb(178, 18, 110)"
          ],
          [
           0.937007874015748,
           "rgb(176, 17, 108)"
          ],
          [
           0.9409448818897638,
           "rgb(174, 16, 107)"
          ],
          [
           0.9448818897637795,
           "rgb(172, 15, 105)"
          ],
          [
           0.9488188976377953,
           "rgb(170, 14, 103)"
          ],
          [
           0.952755905511811,
           "rgb(167, 13, 102)"
          ],
          [
           0.9566929133858267,
           "rgb(165, 12, 100)"
          ],
          [
           0.9606299212598425,
           "rgb(163, 11, 98)"
          ],
          [
           0.9645669291338582,
           "rgb(161, 10, 97)"
          ],
          [
           0.968503937007874,
           "rgb(159, 9, 95)"
          ],
          [
           0.9724409448818897,
           "rgb(157, 8, 93)"
          ],
          [
           0.9763779527559056,
           "rgb(154, 7, 92)"
          ],
          [
           0.9803149606299213,
           "rgb(152, 6, 90)"
          ],
          [
           0.984251968503937,
           "rgb(150, 5, 88)"
          ],
          [
           0.9881889763779528,
           "rgb(148, 4, 87)"
          ],
          [
           0.9921259842519685,
           "rgb(146, 3, 85)"
          ],
          [
           0.9960629921259843,
           "rgb(144, 2, 83)"
          ],
          [
           1,
           "rgb(142, 1, 82)"
          ]
         ],
         "locationmode": "USA-states",
         "locations": [
          "CA",
          "TX",
          "FL",
          "NY",
          "PA",
          "IL",
          "OH",
          "GA",
          "NC",
          "MI",
          "NJ",
          "VA",
          "WA",
          "AZ",
          "MA",
          "TN",
          "IN",
          "MO",
          "MD",
          "WI",
          "CO",
          "MN",
          "SC",
          "AL",
          "LA",
          "KY",
          "OR",
          "OK",
          "CT",
          "IA",
          "UT",
          "AR",
          "NV",
          "MS",
          "KS",
          "NM",
          "NE",
          "WV",
          "ID",
          "HI",
          "NH",
          "ME",
          "RI",
          "MT",
          "DE",
          "SD",
          "ND",
          "AK",
          "DC",
          "VT",
          "WY"
         ],
         "marker": {
          "line": {
           "color": "black",
           "width": 0.2
          }
         },
         "reversescale": true,
         "type": "choropleth",
         "uid": "a5df4d3a-f5fc-40a5-bb9d-022e2d48d105",
         "z": [
          0.8422166888455421,
          0.8128074781099259,
          0.8366859886852397,
          0.8845282147316674,
          0.9455690634647175,
          0.9458286107010422,
          0.9347313787972055,
          0.9288008137974688,
          0.8839695646784766,
          0.9723462460268737,
          0.9411835222197271,
          0.929223042963808,
          0.9810105180468284,
          0.949177525314595,
          0.9708252937197079,
          0.9916172813304847,
          0.99893019361546,
          0.9903047557657986,
          1.0003441429631676,
          1.0446514663448059,
          0.9717646122638606,
          1.0856531399432547,
          1.084481221963147,
          1.117767513414287,
          1.0339589118239705,
          1.0873826528917196,
          1.0229811773285535,
          1.0781298640422248,
          1.1810937983917424,
          1.1547646584431426,
          1.1710997621328538,
          1.2091273441900159,
          1.2116439741030174,
          1.2173036722884074,
          1.2469627573143451,
          1.4497262577706673,
          1.5765677541218146,
          1.6670530262367562,
          1.4104742706371487,
          1.69641993813864,
          1.8034799992929358,
          1.812778827905354,
          2.2854046761685423,
          1.7289767225844612,
          1.8881425373520757,
          2.0884775813219307,
          2.404414581863902,
          2.455109786140645,
          2.6172207873486513,
          2.9123026667509837,
          3.1352164957543276
         ],
         "zauto": true,
         "zmid": 1
        },
        {
         "locationmode": "USA-states",
         "locations": [
          "CA",
          "TX",
          "FL",
          "NY",
          "PA",
          "IL",
          "OH",
          "GA",
          "NC",
          "MI",
          "NJ",
          "VA",
          "WA",
          "AZ",
          "MA",
          "TN",
          "IN",
          "MO",
          "MD",
          "WI",
          "CO",
          "MN",
          "SC",
          "AL",
          "LA",
          "KY",
          "OR",
          "OK",
          "CT",
          "IA",
          "UT",
          "AR",
          "NV",
          "MS",
          "KS",
          "NM",
          "NE",
          "WV",
          "ID",
          "HI",
          "NH",
          "ME",
          "RI",
          "MT",
          "DE",
          "SD",
          "ND",
          "AK",
          "DC",
          "VT",
          "WY"
         ],
         "mode": "text",
         "name": "",
         "text": [
          "<b>0.84</b>",
          "<b>0.81</b>",
          "<b>0.84</b>",
          "<b>0.88</b>",
          "<b>0.95</b>",
          "<b>0.95</b>",
          "<b>0.93</b>",
          "<b>0.93</b>",
          "<b>0.88</b>",
          "<b>0.97</b>",
          "<b>0.94</b>",
          "<b>0.93</b>",
          "<b>0.98</b>",
          "<b>0.95</b>",
          "<b>0.97</b>",
          "<b>0.99</b>",
          "<b>1.00</b>",
          "<b>0.99</b>",
          "<b>1.00</b>",
          "<b>1.04</b>",
          "<b>0.97</b>",
          "<b>1.09</b>",
          "<b>1.08</b>",
          "<b>1.12</b>",
          "<b>1.03</b>",
          "<b>1.09</b>",
          "<b>1.02</b>",
          "<b>1.08</b>",
          "<b>1.18</b>",
          "<b>1.15</b>",
          "<b>1.17</b>",
          "<b>1.21</b>",
          "<b>1.21</b>",
          "<b>1.22</b>",
          "<b>1.25</b>",
          "<b>1.45</b>",
          "<b>1.58</b>",
          "<b>1.67</b>",
          "<b>1.41</b>",
          "<b>1.70</b>",
          "<b>1.80</b>",
          "<b>1.81</b>",
          "<b>2.29</b>",
          "<b>1.73</b>",
          "<b>1.89</b>",
          "<b>2.09</b>",
          "<b>2.40</b>",
          "<b>2.46</b>",
          "<b>2.62</b>",
          "<b>2.91</b>",
          "<b>3.14</b>"
         ],
         "textfont": {
          "family": "Courier New",
          "size": 8
         },
         "type": "scattergeo",
         "uid": "f37d9186-f652-43d0-82f9-1e4ce28891e7"
        }
       ],
       "layout": {
        "dragmode": false,
        "geo": {
         "lakecolor": "rgb(255, 255, 255)",
         "projection": {
          "type": "albers usa"
         },
         "scope": "usa",
         "showlakes": false
        },
        "height": 600,
        "title": {
         "pad": {
          "b": 10
         },
         "text": "Average Voting Power by State",
         "y": 1,
         "yanchor": "bottom",
         "yref": "paper"
        },
        "width": 900
       }
      },
      "text/html": [
       "<div id=\"8f7e3b0a-982b-43ab-80eb-90cce4e87b03\" style=\"height: 600px; width: 900px;\" class=\"plotly-graph-div\"></div><script type=\"text/javascript\">require([\"plotly\"], function(Plotly) { window.PLOTLYENV=window.PLOTLYENV || {};window.PLOTLYENV.BASE_URL=\"https://plot.ly\";\n",
       "if (document.getElementById(\"8f7e3b0a-982b-43ab-80eb-90cce4e87b03\")) {\n",
       "    Plotly.newPlot(\"8f7e3b0a-982b-43ab-80eb-90cce4e87b03\", [{\"autocolorscale\": false, \"colorbar\": {\"title\": {\"text\": \"\"}}, \"colorscale\": [[0.0, \"rgb(39, 100, 25)\"], [0.003937007874015748, \"rgb(40, 101, 25)\"], [0.007874015748031496, \"rgb(41, 103, 25)\"], [0.011811023622047244, \"rgb(43, 105, 25)\"], [0.015748031496062992, \"rgb(44, 107, 26)\"], [0.01968503937007874, \"rgb(46, 109, 26)\"], [0.023622047244094488, \"rgb(47, 110, 26)\"], [0.027559055118110236, \"rgb(49, 112, 27)\"], [0.031496062992125984, \"rgb(50, 114, 27)\"], [0.03543307086614173, \"rgb(52, 116, 27)\"], [0.03937007874015748, \"rgb(53, 118, 28)\"], [0.04330708661417323, \"rgb(55, 119, 28)\"], [0.047244094488188976, \"rgb(56, 121, 28)\"], [0.051181102362204724, \"rgb(58, 123, 29)\"], [0.05511811023622047, \"rgb(59, 125, 29)\"], [0.05905511811023622, \"rgb(61, 127, 29)\"], [0.06299212598425197, \"rgb(62, 128, 30)\"], [0.06692913385826771, \"rgb(64, 130, 30)\"], [0.07086614173228346, \"rgb(65, 132, 30)\"], [0.07480314960629922, \"rgb(67, 134, 30)\"], [0.07874015748031496, \"rgb(68, 136, 31)\"], [0.0826771653543307, \"rgb(70, 137, 31)\"], [0.08661417322834646, \"rgb(71, 139, 31)\"], [0.09055118110236221, \"rgb(73, 141, 32)\"], [0.09448818897637795, \"rgb(74, 143, 32)\"], [0.09842519685039369, \"rgb(76, 145, 32)\"], [0.10236220472440945, \"rgb(77, 146, 33)\"], [0.1062992125984252, \"rgb(79, 148, 34)\"], [0.11023622047244094, \"rgb(81, 150, 36)\"], [0.11417322834645668, \"rgb(83, 151, 37)\"], [0.11811023622047244, \"rgb(85, 153, 38)\"], [0.1220472440944882, \"rgb(87, 155, 39)\"], [0.12598425196850394, \"rgb(89, 156, 41)\"], [0.12992125984251968, \"rgb(91, 158, 42)\"], [0.13385826771653542, \"rgb(93, 160, 43)\"], [0.1377952755905512, \"rgb(95, 161, 44)\"], [0.14173228346456693, \"rgb(97, 163, 46)\"], [0.14566929133858267, \"rgb(99, 164, 47)\"], [0.14960629921259844, \"rgb(101, 166, 48)\"], [0.15354330708661418, \"rgb(103, 168, 49)\"], [0.15748031496062992, \"rgb(105, 169, 51)\"], [0.16141732283464566, \"rgb(107, 171, 52)\"], [0.1653543307086614, \"rgb(109, 173, 53)\"], [0.16929133858267717, \"rgb(111, 174, 54)\"], [0.1732283464566929, \"rgb(113, 176, 56)\"], [0.17716535433070865, \"rgb(115, 178, 57)\"], [0.18110236220472442, \"rgb(117, 179, 58)\"], [0.18503937007874016, \"rgb(119, 181, 59)\"], [0.1889763779527559, \"rgb(121, 183, 61)\"], [0.19291338582677164, \"rgb(123, 184, 62)\"], [0.19685039370078738, \"rgb(125, 186, 63)\"], [0.20078740157480315, \"rgb(127, 188, 65)\"], [0.2047244094488189, \"rgb(129, 189, 67)\"], [0.20866141732283464, \"rgb(131, 190, 70)\"], [0.2125984251968504, \"rgb(133, 192, 73)\"], [0.21653543307086615, \"rgb(135, 193, 75)\"], [0.2204724409448819, \"rgb(138, 195, 78)\"], [0.22440944881889763, \"rgb(140, 196, 81)\"], [0.22834645669291337, \"rgb(142, 198, 83)\"], [0.23228346456692914, \"rgb(144, 199, 86)\"], [0.23622047244094488, \"rgb(147, 201, 89)\"], [0.24015748031496062, \"rgb(149, 202, 92)\"], [0.2440944881889764, \"rgb(151, 203, 94)\"], [0.24803149606299213, \"rgb(153, 205, 97)\"], [0.25196850393700787, \"rgb(156, 206, 100)\"], [0.2559055118110236, \"rgb(158, 208, 102)\"], [0.25984251968503935, \"rgb(160, 209, 105)\"], [0.2637795275590551, \"rgb(162, 211, 108)\"], [0.26771653543307083, \"rgb(164, 212, 110)\"], [0.27165354330708663, \"rgb(167, 214, 113)\"], [0.2755905511811024, \"rgb(169, 215, 116)\"], [0.2795275590551181, \"rgb(171, 217, 119)\"], [0.28346456692913385, \"rgb(173, 218, 121)\"], [0.2874015748031496, \"rgb(176, 219, 124)\"], [0.29133858267716534, \"rgb(178, 221, 127)\"], [0.2952755905511811, \"rgb(180, 222, 129)\"], [0.2992125984251969, \"rgb(182, 224, 132)\"], [0.3031496062992126, \"rgb(184, 225, 135)\"], [0.30708661417322836, \"rgb(186, 226, 138)\"], [0.3110236220472441, \"rgb(188, 226, 141)\"], [0.31496062992125984, \"rgb(190, 227, 144)\"], [0.3188976377952756, \"rgb(192, 228, 147)\"], [0.3228346456692913, \"rgb(193, 229, 149)\"], [0.32677165354330706, \"rgb(195, 230, 152)\"], [0.3307086614173228, \"rgb(197, 230, 155)\"], [0.3346456692913386, \"rgb(199, 231, 158)\"], [0.33858267716535434, \"rgb(201, 232, 161)\"], [0.3425196850393701, \"rgb(202, 233, 164)\"], [0.3464566929133858, \"rgb(204, 234, 167)\"], [0.35039370078740156, \"rgb(206, 234, 170)\"], [0.3543307086614173, \"rgb(208, 235, 173)\"], [0.35826771653543305, \"rgb(210, 236, 176)\"], [0.36220472440944884, \"rgb(211, 237, 178)\"], [0.3661417322834646, \"rgb(213, 237, 181)\"], [0.3700787401574803, \"rgb(215, 238, 184)\"], [0.37401574803149606, \"rgb(217, 239, 187)\"], [0.3779527559055118, \"rgb(219, 240, 190)\"], [0.38188976377952755, \"rgb(220, 241, 193)\"], [0.3858267716535433, \"rgb(222, 241, 196)\"], [0.38976377952755903, \"rgb(224, 242, 199)\"], [0.39370078740157477, \"rgb(226, 243, 202)\"], [0.39763779527559057, \"rgb(228, 244, 205)\"], [0.4015748031496063, \"rgb(230, 245, 208)\"], [0.40551181102362205, \"rgb(230, 245, 209)\"], [0.4094488188976378, \"rgb(231, 245, 211)\"], [0.41338582677165353, \"rgb(232, 245, 212)\"], [0.41732283464566927, \"rgb(232, 245, 214)\"], [0.421259842519685, \"rgb(233, 245, 215)\"], [0.4251968503937008, \"rgb(234, 245, 217)\"], [0.42913385826771655, \"rgb(234, 245, 218)\"], [0.4330708661417323, \"rgb(235, 245, 220)\"], [0.43700787401574803, \"rgb(236, 245, 221)\"], [0.4409448818897638, \"rgb(236, 245, 223)\"], [0.4448818897637795, \"rgb(237, 245, 224)\"], [0.44881889763779526, \"rgb(238, 245, 226)\"], [0.452755905511811, \"rgb(238, 246, 227)\"], [0.45669291338582674, \"rgb(239, 246, 229)\"], [0.46062992125984253, \"rgb(240, 246, 230)\"], [0.4645669291338583, \"rgb(240, 246, 232)\"], [0.468503937007874, \"rgb(241, 246, 234)\"], [0.47244094488188976, \"rgb(242, 246, 235)\"], [0.4763779527559055, \"rgb(242, 246, 237)\"], [0.48031496062992124, \"rgb(243, 246, 238)\"], [0.484251968503937, \"rgb(244, 246, 240)\"], [0.4881889763779528, \"rgb(244, 246, 241)\"], [0.4921259842519685, \"rgb(245, 246, 243)\"], [0.49606299212598426, \"rgb(246, 246, 244)\"], [0.5, \"rgb(247, 246, 246)\"], [0.5039370078740157, \"rgb(247, 245, 246)\"], [0.5078740157480315, \"rgb(247, 244, 246)\"], [0.5118110236220472, \"rgb(247, 243, 245)\"], [0.515748031496063, \"rgb(248, 242, 245)\"], [0.5196850393700787, \"rgb(248, 242, 245)\"], [0.5236220472440944, \"rgb(248, 241, 244)\"], [0.5275590551181102, \"rgb(248, 240, 244)\"], [0.5314960629921259, \"rgb(249, 239, 244)\"], [0.5354330708661417, \"rgb(249, 238, 244)\"], [0.5393700787401575, \"rgb(249, 237, 243)\"], [0.5433070866141733, \"rgb(249, 236, 243)\"], [0.547244094488189, \"rgb(249, 235, 243)\"], [0.5511811023622047, \"rgb(250, 234, 242)\"], [0.5551181102362205, \"rgb(250, 233, 242)\"], [0.5590551181102362, \"rgb(250, 233, 242)\"], [0.562992125984252, \"rgb(250, 232, 241)\"], [0.5669291338582677, \"rgb(251, 231, 241)\"], [0.5708661417322834, \"rgb(251, 230, 241)\"], [0.5748031496062992, \"rgb(251, 229, 240)\"], [0.5787401574803149, \"rgb(251, 228, 240)\"], [0.5826771653543307, \"rgb(252, 227, 240)\"], [0.5866141732283464, \"rgb(252, 226, 239)\"], [0.5905511811023622, \"rgb(252, 225, 239)\"], [0.5944881889763779, \"rgb(252, 224, 239)\"], [0.5984251968503937, \"rgb(253, 224, 239)\"], [0.6023622047244095, \"rgb(252, 222, 238)\"], [0.6062992125984252, \"rgb(252, 220, 237)\"], [0.610236220472441, \"rgb(251, 219, 236)\"], [0.6141732283464567, \"rgb(251, 217, 235)\"], [0.6181102362204725, \"rgb(250, 215, 234)\"], [0.6220472440944882, \"rgb(250, 214, 234)\"], [0.6259842519685039, \"rgb(249, 212, 233)\"], [0.6299212598425197, \"rgb(249, 210, 232)\"], [0.6338582677165354, \"rgb(248, 209, 231)\"], [0.6377952755905512, \"rgb(248, 207, 230)\"], [0.6417322834645669, \"rgb(247, 205, 229)\"], [0.6456692913385826, \"rgb(247, 204, 229)\"], [0.6496062992125984, \"rgb(246, 202, 228)\"], [0.6535433070866141, \"rgb(246, 200, 227)\"], [0.6574803149606299, \"rgb(245, 199, 226)\"], [0.6614173228346456, \"rgb(245, 197, 225)\"], [0.6653543307086615, \"rgb(245, 196, 225)\"], [0.6692913385826772, \"rgb(244, 194, 224)\"], [0.6732283464566929, \"rgb(244, 192, 223)\"], [0.6771653543307087, \"rgb(243, 191, 222)\"], [0.6811023622047244, \"rgb(243, 189, 221)\"], [0.6850393700787402, \"rgb(242, 187, 220)\"], [0.6889763779527559, \"rgb(242, 186, 220)\"], [0.6929133858267716, \"rgb(241, 184, 219)\"], [0.6968503937007874, \"rgb(241, 182, 218)\"], [0.7007874015748031, \"rgb(240, 180, 217)\"], [0.7047244094488189, \"rgb(239, 178, 215)\"], [0.7086614173228346, \"rgb(239, 175, 213)\"], [0.7125984251968503, \"rgb(238, 173, 211)\"], [0.7165354330708661, \"rgb(237, 170, 210)\"], [0.7204724409448818, \"rgb(236, 168, 208)\"], [0.7244094488188977, \"rgb(236, 165, 206)\"], [0.7283464566929134, \"rgb(235, 163, 205)\"], [0.7322834645669292, \"rgb(234, 161, 203)\"], [0.7362204724409449, \"rgb(233, 158, 201)\"], [0.7401574803149606, \"rgb(233, 156, 199)\"], [0.7440944881889764, \"rgb(232, 153, 198)\"], [0.7480314960629921, \"rgb(231, 151, 196)\"], [0.7519685039370079, \"rgb(230, 148, 194)\"], [0.7559055118110236, \"rgb(230, 146, 192)\"], [0.7598425196850394, \"rgb(229, 143, 191)\"], [0.7637795275590551, \"rgb(228, 141, 189)\"], [0.7677165354330708, \"rgb(227, 138, 187)\"], [0.7716535433070866, \"rgb(227, 136, 186)\"], [0.7755905511811023, \"rgb(226, 133, 184)\"], [0.7795275590551181, \"rgb(225, 131, 182)\"], [0.7834645669291338, \"rgb(224, 128, 180)\"], [0.7874015748031495, \"rgb(224, 126, 179)\"], [0.7913385826771654, \"rgb(223, 123, 177)\"], [0.7952755905511811, \"rgb(222, 121, 175)\"], [0.7992125984251969, \"rgb(222, 119, 174)\"], [0.8031496062992126, \"rgb(221, 115, 172)\"], [0.8070866141732284, \"rgb(220, 111, 170)\"], [0.8110236220472441, \"rgb(219, 108, 168)\"], [0.8149606299212598, \"rgb(218, 104, 166)\"], [0.8188976377952756, \"rgb(217, 100, 164)\"], [0.8228346456692913, \"rgb(216, 97, 162)\"], [0.8267716535433071, \"rgb(215, 93, 160)\"], [0.8307086614173228, \"rgb(214, 90, 158)\"], [0.8346456692913385, \"rgb(213, 86, 156)\"], [0.8385826771653543, \"rgb(212, 82, 154)\"], [0.84251968503937, \"rgb(211, 79, 152)\"], [0.8464566929133858, \"rgb(210, 75, 150)\"], [0.8503937007874016, \"rgb(209, 72, 149)\"], [0.8543307086614174, \"rgb(208, 68, 147)\"], [0.8582677165354331, \"rgb(207, 64, 145)\"], [0.8622047244094488, \"rgb(206, 61, 143)\"], [0.8661417322834646, \"rgb(205, 57, 141)\"], [0.8700787401574803, \"rgb(204, 54, 139)\"], [0.8740157480314961, \"rgb(203, 50, 137)\"], [0.8779527559055118, \"rgb(202, 46, 135)\"], [0.8818897637795275, \"rgb(201, 43, 133)\"], [0.8858267716535433, \"rgb(200, 39, 131)\"], [0.889763779527559, \"rgb(199, 36, 129)\"], [0.8937007874015748, \"rgb(198, 32, 127)\"], [0.8976377952755905, \"rgb(197, 28, 125)\"], [0.9015748031496063, \"rgb(195, 26, 124)\"], [0.905511811023622, \"rgb(193, 25, 122)\"], [0.9094488188976377, \"rgb(191, 24, 120)\"], [0.9133858267716535, \"rgb(189, 23, 119)\"], [0.9173228346456693, \"rgb(187, 22, 117)\"], [0.9212598425196851, \"rgb(185, 21, 115)\"], [0.9251968503937008, \"rgb(182, 20, 114)\"], [0.9291338582677166, \"rgb(180, 19, 112)\"], [0.9330708661417323, \"rgb(178, 18, 110)\"], [0.937007874015748, \"rgb(176, 17, 108)\"], [0.9409448818897638, \"rgb(174, 16, 107)\"], [0.9448818897637795, \"rgb(172, 15, 105)\"], [0.9488188976377953, \"rgb(170, 14, 103)\"], [0.952755905511811, \"rgb(167, 13, 102)\"], [0.9566929133858267, \"rgb(165, 12, 100)\"], [0.9606299212598425, \"rgb(163, 11, 98)\"], [0.9645669291338582, \"rgb(161, 10, 97)\"], [0.968503937007874, \"rgb(159, 9, 95)\"], [0.9724409448818897, \"rgb(157, 8, 93)\"], [0.9763779527559056, \"rgb(154, 7, 92)\"], [0.9803149606299213, \"rgb(152, 6, 90)\"], [0.984251968503937, \"rgb(150, 5, 88)\"], [0.9881889763779528, \"rgb(148, 4, 87)\"], [0.9921259842519685, \"rgb(146, 3, 85)\"], [0.9960629921259843, \"rgb(144, 2, 83)\"], [1.0, \"rgb(142, 1, 82)\"]], \"locationmode\": \"USA-states\", \"locations\": [\"CA\", \"TX\", \"FL\", \"NY\", \"PA\", \"IL\", \"OH\", \"GA\", \"NC\", \"MI\", \"NJ\", \"VA\", \"WA\", \"AZ\", \"MA\", \"TN\", \"IN\", \"MO\", \"MD\", \"WI\", \"CO\", \"MN\", \"SC\", \"AL\", \"LA\", \"KY\", \"OR\", \"OK\", \"CT\", \"IA\", \"UT\", \"AR\", \"NV\", \"MS\", \"KS\", \"NM\", \"NE\", \"WV\", \"ID\", \"HI\", \"NH\", \"ME\", \"RI\", \"MT\", \"DE\", \"SD\", \"ND\", \"AK\", \"DC\", \"VT\", \"WY\"], \"marker\": {\"line\": {\"color\": \"black\", \"width\": 0.2}}, \"reversescale\": true, \"z\": [0.8422166888455421, 0.8128074781099259, 0.8366859886852397, 0.8845282147316674, 0.9455690634647175, 0.9458286107010422, 0.9347313787972055, 0.9288008137974688, 0.8839695646784766, 0.9723462460268737, 0.9411835222197271, 0.929223042963808, 0.9810105180468284, 0.949177525314595, 0.9708252937197079, 0.9916172813304847, 0.99893019361546, 0.9903047557657986, 1.0003441429631676, 1.0446514663448059, 0.9717646122638606, 1.0856531399432547, 1.084481221963147, 1.117767513414287, 1.0339589118239705, 1.0873826528917196, 1.0229811773285535, 1.0781298640422248, 1.1810937983917424, 1.1547646584431426, 1.1710997621328538, 1.2091273441900159, 1.2116439741030174, 1.2173036722884074, 1.2469627573143451, 1.4497262577706673, 1.5765677541218146, 1.6670530262367562, 1.4104742706371487, 1.69641993813864, 1.8034799992929358, 1.812778827905354, 2.2854046761685423, 1.7289767225844612, 1.8881425373520757, 2.0884775813219307, 2.404414581863902, 2.455109786140645, 2.6172207873486513, 2.9123026667509837, 3.1352164957543276], \"zauto\": true, \"zmid\": 1.0, \"type\": \"choropleth\", \"uid\": \"a5df4d3a-f5fc-40a5-bb9d-022e2d48d105\"}, {\"locationmode\": \"USA-states\", \"locations\": [\"CA\", \"TX\", \"FL\", \"NY\", \"PA\", \"IL\", \"OH\", \"GA\", \"NC\", \"MI\", \"NJ\", \"VA\", \"WA\", \"AZ\", \"MA\", \"TN\", \"IN\", \"MO\", \"MD\", \"WI\", \"CO\", \"MN\", \"SC\", \"AL\", \"LA\", \"KY\", \"OR\", \"OK\", \"CT\", \"IA\", \"UT\", \"AR\", \"NV\", \"MS\", \"KS\", \"NM\", \"NE\", \"WV\", \"ID\", \"HI\", \"NH\", \"ME\", \"RI\", \"MT\", \"DE\", \"SD\", \"ND\", \"AK\", \"DC\", \"VT\", \"WY\"], \"mode\": \"text\", \"name\": \"\", \"text\": [\"<b>0.84</b>\", \"<b>0.81</b>\", \"<b>0.84</b>\", \"<b>0.88</b>\", \"<b>0.95</b>\", \"<b>0.95</b>\", \"<b>0.93</b>\", \"<b>0.93</b>\", \"<b>0.88</b>\", \"<b>0.97</b>\", \"<b>0.94</b>\", \"<b>0.93</b>\", \"<b>0.98</b>\", \"<b>0.95</b>\", \"<b>0.97</b>\", \"<b>0.99</b>\", \"<b>1.00</b>\", \"<b>0.99</b>\", \"<b>1.00</b>\", \"<b>1.04</b>\", \"<b>0.97</b>\", \"<b>1.09</b>\", \"<b>1.08</b>\", \"<b>1.12</b>\", \"<b>1.03</b>\", \"<b>1.09</b>\", \"<b>1.02</b>\", \"<b>1.08</b>\", \"<b>1.18</b>\", \"<b>1.15</b>\", \"<b>1.17</b>\", \"<b>1.21</b>\", \"<b>1.21</b>\", \"<b>1.22</b>\", \"<b>1.25</b>\", \"<b>1.45</b>\", \"<b>1.58</b>\", \"<b>1.67</b>\", \"<b>1.41</b>\", \"<b>1.70</b>\", \"<b>1.80</b>\", \"<b>1.81</b>\", \"<b>2.29</b>\", \"<b>1.73</b>\", \"<b>1.89</b>\", \"<b>2.09</b>\", \"<b>2.40</b>\", \"<b>2.46</b>\", \"<b>2.62</b>\", \"<b>2.91</b>\", \"<b>3.14</b>\"], \"textfont\": {\"family\": \"Courier New\", \"size\": 8}, \"type\": \"scattergeo\", \"uid\": \"f37d9186-f652-43d0-82f9-1e4ce28891e7\"}], {\"dragmode\": false, \"geo\": {\"lakecolor\": \"rgb(255, 255, 255)\", \"projection\": {\"type\": \"albers usa\"}, \"scope\": \"usa\", \"showlakes\": false}, \"height\": 600, \"title\": {\"pad\": {\"b\": 10}, \"text\": \"Average Voting Power by State\", \"y\": 1.0, \"yanchor\": \"bottom\", \"yref\": \"paper\"}, \"width\": 900}, {\"showLink\": false, \"linkText\": \"Export to plot.ly\", \"plotlyServerURL\": \"https://plot.ly\"}); \n",
       "}\n",
       "});</script>"
      ],
      "text/vnd.plotly.v1+html": [
       "<div id=\"8f7e3b0a-982b-43ab-80eb-90cce4e87b03\" style=\"height: 600px; width: 900px;\" class=\"plotly-graph-div\"></div><script type=\"text/javascript\">require([\"plotly\"], function(Plotly) { window.PLOTLYENV=window.PLOTLYENV || {};window.PLOTLYENV.BASE_URL=\"https://plot.ly\";\n",
       "if (document.getElementById(\"8f7e3b0a-982b-43ab-80eb-90cce4e87b03\")) {\n",
       "    Plotly.newPlot(\"8f7e3b0a-982b-43ab-80eb-90cce4e87b03\", [{\"autocolorscale\": false, \"colorbar\": {\"title\": {\"text\": \"\"}}, \"colorscale\": [[0.0, \"rgb(39, 100, 25)\"], [0.003937007874015748, \"rgb(40, 101, 25)\"], [0.007874015748031496, \"rgb(41, 103, 25)\"], [0.011811023622047244, \"rgb(43, 105, 25)\"], [0.015748031496062992, \"rgb(44, 107, 26)\"], [0.01968503937007874, \"rgb(46, 109, 26)\"], [0.023622047244094488, \"rgb(47, 110, 26)\"], [0.027559055118110236, \"rgb(49, 112, 27)\"], [0.031496062992125984, \"rgb(50, 114, 27)\"], [0.03543307086614173, \"rgb(52, 116, 27)\"], [0.03937007874015748, \"rgb(53, 118, 28)\"], [0.04330708661417323, \"rgb(55, 119, 28)\"], [0.047244094488188976, \"rgb(56, 121, 28)\"], [0.051181102362204724, \"rgb(58, 123, 29)\"], [0.05511811023622047, \"rgb(59, 125, 29)\"], [0.05905511811023622, \"rgb(61, 127, 29)\"], [0.06299212598425197, \"rgb(62, 128, 30)\"], [0.06692913385826771, \"rgb(64, 130, 30)\"], [0.07086614173228346, \"rgb(65, 132, 30)\"], [0.07480314960629922, \"rgb(67, 134, 30)\"], [0.07874015748031496, \"rgb(68, 136, 31)\"], [0.0826771653543307, \"rgb(70, 137, 31)\"], [0.08661417322834646, \"rgb(71, 139, 31)\"], [0.09055118110236221, \"rgb(73, 141, 32)\"], [0.09448818897637795, \"rgb(74, 143, 32)\"], [0.09842519685039369, \"rgb(76, 145, 32)\"], [0.10236220472440945, \"rgb(77, 146, 33)\"], [0.1062992125984252, \"rgb(79, 148, 34)\"], [0.11023622047244094, \"rgb(81, 150, 36)\"], [0.11417322834645668, \"rgb(83, 151, 37)\"], [0.11811023622047244, \"rgb(85, 153, 38)\"], [0.1220472440944882, \"rgb(87, 155, 39)\"], [0.12598425196850394, \"rgb(89, 156, 41)\"], [0.12992125984251968, \"rgb(91, 158, 42)\"], [0.13385826771653542, \"rgb(93, 160, 43)\"], [0.1377952755905512, \"rgb(95, 161, 44)\"], [0.14173228346456693, \"rgb(97, 163, 46)\"], [0.14566929133858267, \"rgb(99, 164, 47)\"], [0.14960629921259844, \"rgb(101, 166, 48)\"], [0.15354330708661418, \"rgb(103, 168, 49)\"], [0.15748031496062992, \"rgb(105, 169, 51)\"], [0.16141732283464566, \"rgb(107, 171, 52)\"], [0.1653543307086614, \"rgb(109, 173, 53)\"], [0.16929133858267717, \"rgb(111, 174, 54)\"], [0.1732283464566929, \"rgb(113, 176, 56)\"], [0.17716535433070865, \"rgb(115, 178, 57)\"], [0.18110236220472442, \"rgb(117, 179, 58)\"], [0.18503937007874016, \"rgb(119, 181, 59)\"], [0.1889763779527559, \"rgb(121, 183, 61)\"], [0.19291338582677164, \"rgb(123, 184, 62)\"], [0.19685039370078738, \"rgb(125, 186, 63)\"], [0.20078740157480315, \"rgb(127, 188, 65)\"], [0.2047244094488189, \"rgb(129, 189, 67)\"], [0.20866141732283464, \"rgb(131, 190, 70)\"], [0.2125984251968504, \"rgb(133, 192, 73)\"], [0.21653543307086615, \"rgb(135, 193, 75)\"], [0.2204724409448819, \"rgb(138, 195, 78)\"], [0.22440944881889763, \"rgb(140, 196, 81)\"], [0.22834645669291337, \"rgb(142, 198, 83)\"], [0.23228346456692914, \"rgb(144, 199, 86)\"], [0.23622047244094488, \"rgb(147, 201, 89)\"], [0.24015748031496062, \"rgb(149, 202, 92)\"], [0.2440944881889764, \"rgb(151, 203, 94)\"], [0.24803149606299213, \"rgb(153, 205, 97)\"], [0.25196850393700787, \"rgb(156, 206, 100)\"], [0.2559055118110236, \"rgb(158, 208, 102)\"], [0.25984251968503935, \"rgb(160, 209, 105)\"], [0.2637795275590551, \"rgb(162, 211, 108)\"], [0.26771653543307083, \"rgb(164, 212, 110)\"], [0.27165354330708663, \"rgb(167, 214, 113)\"], [0.2755905511811024, \"rgb(169, 215, 116)\"], [0.2795275590551181, \"rgb(171, 217, 119)\"], [0.28346456692913385, \"rgb(173, 218, 121)\"], [0.2874015748031496, \"rgb(176, 219, 124)\"], [0.29133858267716534, \"rgb(178, 221, 127)\"], [0.2952755905511811, \"rgb(180, 222, 129)\"], [0.2992125984251969, \"rgb(182, 224, 132)\"], [0.3031496062992126, \"rgb(184, 225, 135)\"], [0.30708661417322836, \"rgb(186, 226, 138)\"], [0.3110236220472441, \"rgb(188, 226, 141)\"], [0.31496062992125984, \"rgb(190, 227, 144)\"], [0.3188976377952756, \"rgb(192, 228, 147)\"], [0.3228346456692913, \"rgb(193, 229, 149)\"], [0.32677165354330706, \"rgb(195, 230, 152)\"], [0.3307086614173228, \"rgb(197, 230, 155)\"], [0.3346456692913386, \"rgb(199, 231, 158)\"], [0.33858267716535434, \"rgb(201, 232, 161)\"], [0.3425196850393701, \"rgb(202, 233, 164)\"], [0.3464566929133858, \"rgb(204, 234, 167)\"], [0.35039370078740156, \"rgb(206, 234, 170)\"], [0.3543307086614173, \"rgb(208, 235, 173)\"], [0.35826771653543305, \"rgb(210, 236, 176)\"], [0.36220472440944884, \"rgb(211, 237, 178)\"], [0.3661417322834646, \"rgb(213, 237, 181)\"], [0.3700787401574803, \"rgb(215, 238, 184)\"], [0.37401574803149606, \"rgb(217, 239, 187)\"], [0.3779527559055118, \"rgb(219, 240, 190)\"], [0.38188976377952755, \"rgb(220, 241, 193)\"], [0.3858267716535433, \"rgb(222, 241, 196)\"], [0.38976377952755903, \"rgb(224, 242, 199)\"], [0.39370078740157477, \"rgb(226, 243, 202)\"], [0.39763779527559057, \"rgb(228, 244, 205)\"], [0.4015748031496063, \"rgb(230, 245, 208)\"], [0.40551181102362205, \"rgb(230, 245, 209)\"], [0.4094488188976378, \"rgb(231, 245, 211)\"], [0.41338582677165353, \"rgb(232, 245, 212)\"], [0.41732283464566927, \"rgb(232, 245, 214)\"], [0.421259842519685, \"rgb(233, 245, 215)\"], [0.4251968503937008, \"rgb(234, 245, 217)\"], [0.42913385826771655, \"rgb(234, 245, 218)\"], [0.4330708661417323, \"rgb(235, 245, 220)\"], [0.43700787401574803, \"rgb(236, 245, 221)\"], [0.4409448818897638, \"rgb(236, 245, 223)\"], [0.4448818897637795, \"rgb(237, 245, 224)\"], [0.44881889763779526, \"rgb(238, 245, 226)\"], [0.452755905511811, \"rgb(238, 246, 227)\"], [0.45669291338582674, \"rgb(239, 246, 229)\"], [0.46062992125984253, \"rgb(240, 246, 230)\"], [0.4645669291338583, \"rgb(240, 246, 232)\"], [0.468503937007874, \"rgb(241, 246, 234)\"], [0.47244094488188976, \"rgb(242, 246, 235)\"], [0.4763779527559055, \"rgb(242, 246, 237)\"], [0.48031496062992124, \"rgb(243, 246, 238)\"], [0.484251968503937, \"rgb(244, 246, 240)\"], [0.4881889763779528, \"rgb(244, 246, 241)\"], [0.4921259842519685, \"rgb(245, 246, 243)\"], [0.49606299212598426, \"rgb(246, 246, 244)\"], [0.5, \"rgb(247, 246, 246)\"], [0.5039370078740157, \"rgb(247, 245, 246)\"], [0.5078740157480315, \"rgb(247, 244, 246)\"], [0.5118110236220472, \"rgb(247, 243, 245)\"], [0.515748031496063, \"rgb(248, 242, 245)\"], [0.5196850393700787, \"rgb(248, 242, 245)\"], [0.5236220472440944, \"rgb(248, 241, 244)\"], [0.5275590551181102, \"rgb(248, 240, 244)\"], [0.5314960629921259, \"rgb(249, 239, 244)\"], [0.5354330708661417, \"rgb(249, 238, 244)\"], [0.5393700787401575, \"rgb(249, 237, 243)\"], [0.5433070866141733, \"rgb(249, 236, 243)\"], [0.547244094488189, \"rgb(249, 235, 243)\"], [0.5511811023622047, \"rgb(250, 234, 242)\"], [0.5551181102362205, \"rgb(250, 233, 242)\"], [0.5590551181102362, \"rgb(250, 233, 242)\"], [0.562992125984252, \"rgb(250, 232, 241)\"], [0.5669291338582677, \"rgb(251, 231, 241)\"], [0.5708661417322834, \"rgb(251, 230, 241)\"], [0.5748031496062992, \"rgb(251, 229, 240)\"], [0.5787401574803149, \"rgb(251, 228, 240)\"], [0.5826771653543307, \"rgb(252, 227, 240)\"], [0.5866141732283464, \"rgb(252, 226, 239)\"], [0.5905511811023622, \"rgb(252, 225, 239)\"], [0.5944881889763779, \"rgb(252, 224, 239)\"], [0.5984251968503937, \"rgb(253, 224, 239)\"], [0.6023622047244095, \"rgb(252, 222, 238)\"], [0.6062992125984252, \"rgb(252, 220, 237)\"], [0.610236220472441, \"rgb(251, 219, 236)\"], [0.6141732283464567, \"rgb(251, 217, 235)\"], [0.6181102362204725, \"rgb(250, 215, 234)\"], [0.6220472440944882, \"rgb(250, 214, 234)\"], [0.6259842519685039, \"rgb(249, 212, 233)\"], [0.6299212598425197, \"rgb(249, 210, 232)\"], [0.6338582677165354, \"rgb(248, 209, 231)\"], [0.6377952755905512, \"rgb(248, 207, 230)\"], [0.6417322834645669, \"rgb(247, 205, 229)\"], [0.6456692913385826, \"rgb(247, 204, 229)\"], [0.6496062992125984, \"rgb(246, 202, 228)\"], [0.6535433070866141, \"rgb(246, 200, 227)\"], [0.6574803149606299, \"rgb(245, 199, 226)\"], [0.6614173228346456, \"rgb(245, 197, 225)\"], [0.6653543307086615, \"rgb(245, 196, 225)\"], [0.6692913385826772, \"rgb(244, 194, 224)\"], [0.6732283464566929, \"rgb(244, 192, 223)\"], [0.6771653543307087, \"rgb(243, 191, 222)\"], [0.6811023622047244, \"rgb(243, 189, 221)\"], [0.6850393700787402, \"rgb(242, 187, 220)\"], [0.6889763779527559, \"rgb(242, 186, 220)\"], [0.6929133858267716, \"rgb(241, 184, 219)\"], [0.6968503937007874, \"rgb(241, 182, 218)\"], [0.7007874015748031, \"rgb(240, 180, 217)\"], [0.7047244094488189, \"rgb(239, 178, 215)\"], [0.7086614173228346, \"rgb(239, 175, 213)\"], [0.7125984251968503, \"rgb(238, 173, 211)\"], [0.7165354330708661, \"rgb(237, 170, 210)\"], [0.7204724409448818, \"rgb(236, 168, 208)\"], [0.7244094488188977, \"rgb(236, 165, 206)\"], [0.7283464566929134, \"rgb(235, 163, 205)\"], [0.7322834645669292, \"rgb(234, 161, 203)\"], [0.7362204724409449, \"rgb(233, 158, 201)\"], [0.7401574803149606, \"rgb(233, 156, 199)\"], [0.7440944881889764, \"rgb(232, 153, 198)\"], [0.7480314960629921, \"rgb(231, 151, 196)\"], [0.7519685039370079, \"rgb(230, 148, 194)\"], [0.7559055118110236, \"rgb(230, 146, 192)\"], [0.7598425196850394, \"rgb(229, 143, 191)\"], [0.7637795275590551, \"rgb(228, 141, 189)\"], [0.7677165354330708, \"rgb(227, 138, 187)\"], [0.7716535433070866, \"rgb(227, 136, 186)\"], [0.7755905511811023, \"rgb(226, 133, 184)\"], [0.7795275590551181, \"rgb(225, 131, 182)\"], [0.7834645669291338, \"rgb(224, 128, 180)\"], [0.7874015748031495, \"rgb(224, 126, 179)\"], [0.7913385826771654, \"rgb(223, 123, 177)\"], [0.7952755905511811, \"rgb(222, 121, 175)\"], [0.7992125984251969, \"rgb(222, 119, 174)\"], [0.8031496062992126, \"rgb(221, 115, 172)\"], [0.8070866141732284, \"rgb(220, 111, 170)\"], [0.8110236220472441, \"rgb(219, 108, 168)\"], [0.8149606299212598, \"rgb(218, 104, 166)\"], [0.8188976377952756, \"rgb(217, 100, 164)\"], [0.8228346456692913, \"rgb(216, 97, 162)\"], [0.8267716535433071, \"rgb(215, 93, 160)\"], [0.8307086614173228, \"rgb(214, 90, 158)\"], [0.8346456692913385, \"rgb(213, 86, 156)\"], [0.8385826771653543, \"rgb(212, 82, 154)\"], [0.84251968503937, \"rgb(211, 79, 152)\"], [0.8464566929133858, \"rgb(210, 75, 150)\"], [0.8503937007874016, \"rgb(209, 72, 149)\"], [0.8543307086614174, \"rgb(208, 68, 147)\"], [0.8582677165354331, \"rgb(207, 64, 145)\"], [0.8622047244094488, \"rgb(206, 61, 143)\"], [0.8661417322834646, \"rgb(205, 57, 141)\"], [0.8700787401574803, \"rgb(204, 54, 139)\"], [0.8740157480314961, \"rgb(203, 50, 137)\"], [0.8779527559055118, \"rgb(202, 46, 135)\"], [0.8818897637795275, \"rgb(201, 43, 133)\"], [0.8858267716535433, \"rgb(200, 39, 131)\"], [0.889763779527559, \"rgb(199, 36, 129)\"], [0.8937007874015748, \"rgb(198, 32, 127)\"], [0.8976377952755905, \"rgb(197, 28, 125)\"], [0.9015748031496063, \"rgb(195, 26, 124)\"], [0.905511811023622, \"rgb(193, 25, 122)\"], [0.9094488188976377, \"rgb(191, 24, 120)\"], [0.9133858267716535, \"rgb(189, 23, 119)\"], [0.9173228346456693, \"rgb(187, 22, 117)\"], [0.9212598425196851, \"rgb(185, 21, 115)\"], [0.9251968503937008, \"rgb(182, 20, 114)\"], [0.9291338582677166, \"rgb(180, 19, 112)\"], [0.9330708661417323, \"rgb(178, 18, 110)\"], [0.937007874015748, \"rgb(176, 17, 108)\"], [0.9409448818897638, \"rgb(174, 16, 107)\"], [0.9448818897637795, \"rgb(172, 15, 105)\"], [0.9488188976377953, \"rgb(170, 14, 103)\"], [0.952755905511811, \"rgb(167, 13, 102)\"], [0.9566929133858267, \"rgb(165, 12, 100)\"], [0.9606299212598425, \"rgb(163, 11, 98)\"], [0.9645669291338582, \"rgb(161, 10, 97)\"], [0.968503937007874, \"rgb(159, 9, 95)\"], [0.9724409448818897, \"rgb(157, 8, 93)\"], [0.9763779527559056, \"rgb(154, 7, 92)\"], [0.9803149606299213, \"rgb(152, 6, 90)\"], [0.984251968503937, \"rgb(150, 5, 88)\"], [0.9881889763779528, \"rgb(148, 4, 87)\"], [0.9921259842519685, \"rgb(146, 3, 85)\"], [0.9960629921259843, \"rgb(144, 2, 83)\"], [1.0, \"rgb(142, 1, 82)\"]], \"locationmode\": \"USA-states\", \"locations\": [\"CA\", \"TX\", \"FL\", \"NY\", \"PA\", \"IL\", \"OH\", \"GA\", \"NC\", \"MI\", \"NJ\", \"VA\", \"WA\", \"AZ\", \"MA\", \"TN\", \"IN\", \"MO\", \"MD\", \"WI\", \"CO\", \"MN\", \"SC\", \"AL\", \"LA\", \"KY\", \"OR\", \"OK\", \"CT\", \"IA\", \"UT\", \"AR\", \"NV\", \"MS\", \"KS\", \"NM\", \"NE\", \"WV\", \"ID\", \"HI\", \"NH\", \"ME\", \"RI\", \"MT\", \"DE\", \"SD\", \"ND\", \"AK\", \"DC\", \"VT\", \"WY\"], \"marker\": {\"line\": {\"color\": \"black\", \"width\": 0.2}}, \"reversescale\": true, \"z\": [0.8422166888455421, 0.8128074781099259, 0.8366859886852397, 0.8845282147316674, 0.9455690634647175, 0.9458286107010422, 0.9347313787972055, 0.9288008137974688, 0.8839695646784766, 0.9723462460268737, 0.9411835222197271, 0.929223042963808, 0.9810105180468284, 0.949177525314595, 0.9708252937197079, 0.9916172813304847, 0.99893019361546, 0.9903047557657986, 1.0003441429631676, 1.0446514663448059, 0.9717646122638606, 1.0856531399432547, 1.084481221963147, 1.117767513414287, 1.0339589118239705, 1.0873826528917196, 1.0229811773285535, 1.0781298640422248, 1.1810937983917424, 1.1547646584431426, 1.1710997621328538, 1.2091273441900159, 1.2116439741030174, 1.2173036722884074, 1.2469627573143451, 1.4497262577706673, 1.5765677541218146, 1.6670530262367562, 1.4104742706371487, 1.69641993813864, 1.8034799992929358, 1.812778827905354, 2.2854046761685423, 1.7289767225844612, 1.8881425373520757, 2.0884775813219307, 2.404414581863902, 2.455109786140645, 2.6172207873486513, 2.9123026667509837, 3.1352164957543276], \"zauto\": true, \"zmid\": 1.0, \"type\": \"choropleth\", \"uid\": \"a5df4d3a-f5fc-40a5-bb9d-022e2d48d105\"}, {\"locationmode\": \"USA-states\", \"locations\": [\"CA\", \"TX\", \"FL\", \"NY\", \"PA\", \"IL\", \"OH\", \"GA\", \"NC\", \"MI\", \"NJ\", \"VA\", \"WA\", \"AZ\", \"MA\", \"TN\", \"IN\", \"MO\", \"MD\", \"WI\", \"CO\", \"MN\", \"SC\", \"AL\", \"LA\", \"KY\", \"OR\", \"OK\", \"CT\", \"IA\", \"UT\", \"AR\", \"NV\", \"MS\", \"KS\", \"NM\", \"NE\", \"WV\", \"ID\", \"HI\", \"NH\", \"ME\", \"RI\", \"MT\", \"DE\", \"SD\", \"ND\", \"AK\", \"DC\", \"VT\", \"WY\"], \"mode\": \"text\", \"name\": \"\", \"text\": [\"<b>0.84</b>\", \"<b>0.81</b>\", \"<b>0.84</b>\", \"<b>0.88</b>\", \"<b>0.95</b>\", \"<b>0.95</b>\", \"<b>0.93</b>\", \"<b>0.93</b>\", \"<b>0.88</b>\", \"<b>0.97</b>\", \"<b>0.94</b>\", \"<b>0.93</b>\", \"<b>0.98</b>\", \"<b>0.95</b>\", \"<b>0.97</b>\", \"<b>0.99</b>\", \"<b>1.00</b>\", \"<b>0.99</b>\", \"<b>1.00</b>\", \"<b>1.04</b>\", \"<b>0.97</b>\", \"<b>1.09</b>\", \"<b>1.08</b>\", \"<b>1.12</b>\", \"<b>1.03</b>\", \"<b>1.09</b>\", \"<b>1.02</b>\", \"<b>1.08</b>\", \"<b>1.18</b>\", \"<b>1.15</b>\", \"<b>1.17</b>\", \"<b>1.21</b>\", \"<b>1.21</b>\", \"<b>1.22</b>\", \"<b>1.25</b>\", \"<b>1.45</b>\", \"<b>1.58</b>\", \"<b>1.67</b>\", \"<b>1.41</b>\", \"<b>1.70</b>\", \"<b>1.80</b>\", \"<b>1.81</b>\", \"<b>2.29</b>\", \"<b>1.73</b>\", \"<b>1.89</b>\", \"<b>2.09</b>\", \"<b>2.40</b>\", \"<b>2.46</b>\", \"<b>2.62</b>\", \"<b>2.91</b>\", \"<b>3.14</b>\"], \"textfont\": {\"family\": \"Courier New\", \"size\": 8}, \"type\": \"scattergeo\", \"uid\": \"f37d9186-f652-43d0-82f9-1e4ce28891e7\"}], {\"dragmode\": false, \"geo\": {\"lakecolor\": \"rgb(255, 255, 255)\", \"projection\": {\"type\": \"albers usa\"}, \"scope\": \"usa\", \"showlakes\": false}, \"height\": 600, \"title\": {\"pad\": {\"b\": 10}, \"text\": \"Average Voting Power by State\", \"y\": 1.0, \"yanchor\": \"bottom\", \"yref\": \"paper\"}, \"width\": 900}, {\"showLink\": false, \"linkText\": \"Export to plot.ly\", \"plotlyServerURL\": \"https://plot.ly\"}); \n",
       "}\n",
       "});</script>"
      ]
     },
     "metadata": {},
     "output_type": "display_data"
    }
   ],
   "source": [
    "# Calculate State Voting Power (SVP) and normalize by average voting power\n",
    "states_vp = [ec_df.loc[state, \"Number of Electoral Votes\"] / \\\n",
    "             float(census_df.loc[state, \"HC01_VC03\"]) for state in states]\n",
    "norm_states_vp = [vp/avg_vp for vp in states_vp]\n",
    "\n",
    "rasp_green = [\n",
    "    [0.0, 'rgb(144,11,85)'],\n",
    "    #[0.4, 'blue'],\n",
    "    [0.495, 'white'],\n",
    "    [0.505, 'white'],\n",
    "    [0.6, 'rgb(43,102,30)'],\n",
    "    [1.0, 'rgb(43,102,30)']\n",
    "]\n",
    "\n",
    "orange_green = [\n",
    "    [0.0, 'rgb(130,61,17)'],\n",
    "    [0.25, 'rgb(218,126,38)'],\n",
    "    [0.495, 'white'],\n",
    "    [0.505, 'white'],\n",
    "    [0.7, 'rgb(4,62,50)'],\n",
    "    [1.0, 'rgb(4,62,50)']\n",
    "]\n",
    "\n",
    "# Diverging scheme from colorbrewer2.org\n",
    "Pi = 'rgb(208,28, 139)'\n",
    "G = 'rgb(77,172,38)'\n",
    "PiYG = [\n",
    "    [0.0, Pi],\n",
    "    [0.25, 'rgb(241,182,218)'],\n",
    "    #[0.495, 'white'],\n",
    "    [0.50, 'white'],\n",
    "    [0.52, 'rgb(184,225,134)'],\n",
    "    [0.55, G],\n",
    "    [1.0, G]\n",
    "]\n",
    "\n",
    "# Diverging scheme from colorbrewer2.org\n",
    "Or = 'rgb(230,97,1)' #'rgb(253,184,99)'#\n",
    "BG = 'rgb(53,151,143)' #'rgb(90,180,172)' #\n",
    "\n",
    "OrBG = [\n",
    "    [0.0, Or],\n",
    "    [0.25, 'rgb(253, 184, 99)'],\n",
    "    [0.50, 'white'],\n",
    "    [0.52, 'rgb(128,205,193)'],\n",
    "    [0.55, BG],\n",
    "    [1.0, BG]\n",
    "]\n",
    "\n",
    "# Plot\n",
    "vp_map = go.Choropleth(\n",
    "    colorscale=magma, #OrBG, #PiYG, #rasp_green,#'RdBu',\n",
    "    autocolorscale=False,\n",
    "    reversescale=True,\n",
    "    locations=[abbrev_df.loc[state, 'Postal Code'] for state in states], # Needs abbreviations\n",
    "    z=norm_states_vp,\n",
    "    locationmode='USA-states',\n",
    "    marker=dict(\n",
    "        line=dict(\n",
    "            color='black',\n",
    "            width=0.2,\n",
    "        )\n",
    "    ),\n",
    "    zauto=True,\n",
    "    zmid=1.0,\n",
    "#     zmin=min(norm_states_vp),   # does nothing while auto=True\n",
    "#     zmax=max(norm_states_vp),\n",
    "    colorbar = dict(\n",
    "        title = \"\"\n",
    "    )\n",
    ")\n",
    "\n",
    "vp_map2 = go.Choropleth(\n",
    "    colorscale=PiYG, #rasp_green,#'RdBu',\n",
    "    autocolorscale=False,\n",
    "    reversescale=True,\n",
    "    locations=['WY'], # Needs abbreviations\n",
    "    z=[3.1],\n",
    "    locationmode='USA-states',\n",
    "    marker=dict(\n",
    "        line=dict(\n",
    "            color='black',\n",
    "            width=0.2,\n",
    "        )\n",
    "    ),\n",
    "    zauto=True,\n",
    "    zmid=1.0,\n",
    "#     zmin=min(norm_states_vp),   # does nothing while auto=True\n",
    "#     zmax=max(norm_states_vp),\n",
    "#     colorbar = dict(\n",
    "#         title = \"\"\n",
    "#     )\n",
    ")\n",
    "\n",
    "dc_overlay = go.Scattergeo(\n",
    "        locations=['DC'],\n",
    "        locationmode='USA-states',\n",
    "        name='',\n",
    "        mode='markers',\n",
    "        opacity=1.0,\n",
    "        marker=dict(\n",
    "            symbol='circle',\n",
    "            size=10,\n",
    "            line=dict(\n",
    "                color='black',\n",
    "                width=0.2,\n",
    "            ),\n",
    "            color=[1.0],#norm_states_vp[states.index('District of Columbia')]],\n",
    "            colorscale=OrBG,\n",
    "            reversescale=True,\n",
    "            cauto=False,\n",
    "            cmid=1.0,\n",
    "#             cmin=min(norm_states_vp),\n",
    "            cmax=max(norm_states_vp),\n",
    "            showscale=True,\n",
    "            colorbar=dict(\n",
    "                x=0.9,\n",
    "            )\n",
    "        ),\n",
    "    )\n",
    "\n",
    "#test - labels\n",
    "labels = go.Scattergeo(\n",
    "        locations=[abbrev_df.loc[state, 'Postal Code'] for state in states],\n",
    "        locationmode='USA-states',\n",
    "        name='',\n",
    "        mode='text',\n",
    "        text=[f'<b>{z:.2f}</b>' for z in norm_states_vp],\n",
    "        textfont=dict(\n",
    "            family='Courier New',\n",
    "            size=8,\n",
    "        )\n",
    "    )\n",
    "\n",
    "data = [vp_map, labels]#, dc_overlay, vp_map2]\n",
    "\n",
    "layout = go.Layout(\n",
    "    title=go.layout.Title(\n",
    "        text='Average Voting Power by State',\n",
    "        yref='paper',\n",
    "        y=1.0,\n",
    "        yanchor='bottom',\n",
    "        pad=dict( # unit: pixels\n",
    "            b=10,\n",
    "        ),\n",
    "    ),\n",
    "    width=900,\n",
    "    height=600,\n",
    "    dragmode=False,\n",
    "    geo=go.layout.Geo(\n",
    "        scope='usa',\n",
    "        projection=go.layout.geo.Projection(type = 'albers usa'),\n",
    "        showlakes=False,\n",
    "        lakecolor='rgb(255, 255, 255)'),\n",
    ")\n",
    "\n",
    "fig = go.Figure(data=data, layout=layout)\n",
    "plotly.offline.init_notebook_mode(connected=True)\n",
    "plotly.offline.iplot(fig)"
   ]
  },
  {
   "cell_type": "code",
   "execution_count": 43,
   "metadata": {},
   "outputs": [],
   "source": [
    "pio.write_image(fig, 'images/ec_vp_map02.png', format='png', scale=3.0)"
   ]
  },
  {
   "cell_type": "code",
   "execution_count": 10,
   "metadata": {},
   "outputs": [
    {
     "ename": "NameError",
     "evalue": "name 'grayscale' is not defined",
     "output_type": "error",
     "traceback": [
      "\u001b[0;31m---------------------------------------------------------------------------\u001b[0m",
      "\u001b[0;31mNameError\u001b[0m                                 Traceback (most recent call last)",
      "\u001b[0;32m<ipython-input-10-01be5d2b25aa>\u001b[0m in \u001b[0;36m<module>\u001b[0;34m\u001b[0m\n\u001b[1;32m     22\u001b[0m     \u001b[0;32mreturn\u001b[0m \u001b[0md_cmap\u001b[0m\u001b[0;34m\u001b[0m\u001b[0;34m\u001b[0m\u001b[0m\n\u001b[1;32m     23\u001b[0m \u001b[0;34m\u001b[0m\u001b[0m\n\u001b[0;32m---> 24\u001b[0;31m \u001b[0mwhat\u001b[0m \u001b[0;34m=\u001b[0m \u001b[0mcreate_discrete_cmap\u001b[0m\u001b[0;34m(\u001b[0m\u001b[0mgrayscale\u001b[0m\u001b[0;34m,\u001b[0m \u001b[0;36m5\u001b[0m\u001b[0;34m)\u001b[0m\u001b[0;34m\u001b[0m\u001b[0;34m\u001b[0m\u001b[0m\n\u001b[0m\u001b[1;32m     25\u001b[0m \u001b[0mwhat\u001b[0m\u001b[0;34m\u001b[0m\u001b[0;34m\u001b[0m\u001b[0m\n",
      "\u001b[0;31mNameError\u001b[0m: name 'grayscale' is not defined"
     ]
    }
   ],
   "source": [
    "# Function to build discretized colormap with user-input # of classes\n",
    "# Passed in colormap should have only 2 colors in rgb format (defined at 0 and 1)\n",
    "def create_discrete_cmap(cmap, classes):\n",
    "    # Get colormap scale values\n",
    "    beg_val = cmap[0][0]\n",
    "    end_val = cmap[1][0]\n",
    "    val_adj = (end_val - beg_val) / float(classes)\n",
    "\n",
    "    # Extract rgb values into list of ints\n",
    "    beg_color = [int(x) for x in cmap[0][1].replace(' ', '')[4:-1].split(',')]\n",
    "    end_color = [int(x) for x in cmap[1][1].replace(' ', '')[4:-1].split(',')]\n",
    "    color_adj = [(end_color[n] - beg_color[n]) / float(classes-1) for n in range(3)]\n",
    "\n",
    "    d_cmap = []\n",
    "    for i in range(classes):\n",
    "        class_color = 'rgb(' + \\\n",
    "                      ','.join(str(beg_color[n] + i*color_adj[n]) for n in range(3)) + ')'\n",
    "        d_cmap.append([beg_val + i*val_adj, class_color])\n",
    "        d_cmap.append([beg_val + (i+1)*val_adj, class_color])\n",
    "        \n",
    "\n",
    "    return d_cmap\n",
    "\n",
    "what = create_discrete_cmap(grayscale, 5)\n",
    "what"
   ]
  },
  {
   "cell_type": "code",
   "execution_count": 11,
   "metadata": {
    "scrolled": false
   },
   "outputs": [
    {
     "data": {
      "text/html": [
       "<script type=\"text/javascript\">window.PlotlyConfig = {MathJaxConfig: 'local'};</script><script type=\"text/javascript\">if (window.MathJax) {MathJax.Hub.Config({SVG: {font: \"STIX-Web\"}});}</script><script>requirejs.config({paths: { 'plotly': ['https://cdn.plot.ly/plotly-latest.min']},});if(!window._Plotly) {require(['plotly'],function(plotly) {window._Plotly=plotly;});}</script>"
      ],
      "text/vnd.plotly.v1+html": [
       "<script type=\"text/javascript\">window.PlotlyConfig = {MathJaxConfig: 'local'};</script><script type=\"text/javascript\">if (window.MathJax) {MathJax.Hub.Config({SVG: {font: \"STIX-Web\"}});}</script><script>requirejs.config({paths: { 'plotly': ['https://cdn.plot.ly/plotly-latest.min']},});if(!window._Plotly) {require(['plotly'],function(plotly) {window._Plotly=plotly;});}</script>"
      ]
     },
     "metadata": {},
     "output_type": "display_data"
    },
    {
     "data": {
      "application/vnd.plotly.v1+json": {
       "config": {
        "linkText": "Export to plot.ly",
        "plotlyServerURL": "https://plot.ly",
        "showLink": false
       },
       "data": [
        {
         "locationmode": "USA-states",
         "locations": [
          null
         ],
         "marker": {
          "color": "rgb(77,172,38)",
          "line": {
           "width": 2.5
          },
          "size": 12,
          "symbol": "square-open"
         },
         "mode": "markers",
         "name": "Lowest voting power<br>(< 0.95x average)",
         "type": "scattergeo",
         "uid": "64400aa3-2f8d-410f-88f9-7e3fde7bced6"
        },
        {
         "locationmode": "USA-states",
         "locations": [
          null
         ],
         "marker": {
          "color": "rgb(208,28, 139)",
          "line": {
           "width": 2.5
          },
          "size": 12,
          "symbol": "square-open"
         },
         "mode": "markers",
         "name": "Highest voting power<br>(> 1.5x average)",
         "opacity": 1,
         "type": "scattergeo",
         "uid": "7885ef52-8101-4d06-9f0e-92267f5e8f37"
        },
        {
         "autocolorscale": false,
         "colorbar": {
          "len": 0.5,
          "lenmode": "fraction",
          "outlinewidth": 0.5,
          "thickness": 0.03,
          "thicknessmode": "fraction",
          "ticksuffix": "%",
          "title": {
           "text": ""
          },
          "x": 0.85,
          "y": 0.35
         },
         "colorscale": [
          [
           0,
           "rgb(255,255,255)"
          ],
          [
           1,
           "rgb(99,99,99)"
          ]
         ],
         "geo": "geo",
         "locationmode": "USA-states",
         "locations": [
          "ID",
          "NM",
          "KS",
          "MS",
          "NV",
          "AR",
          "UT",
          "IA",
          "CT",
          "OK",
          "OR",
          "KY",
          "LA",
          "AL",
          "SC",
          "MN",
          "CO",
          "WI",
          "MD",
          "MO",
          "IN",
          "TN",
          "MA",
          "WA",
          "MI",
          "CA",
          "TX",
          "FL",
          "NY",
          "PA",
          "IL",
          "OH",
          "GA",
          "NC",
          "NJ",
          "VA",
          "AZ",
          "NE",
          "WV",
          "HI",
          "NH",
          "ME",
          "RI",
          "MT",
          "DE",
          "SD",
          "ND",
          "AK",
          "DC",
          "VT",
          "WY"
         ],
         "marker": {
          "line": {
           "color": [
            "black",
            "black",
            "black",
            "black",
            "black",
            "black",
            "black",
            "black",
            "black",
            "black",
            "black",
            "black",
            "black",
            "black",
            "black",
            "black",
            "black",
            "black",
            "black",
            "black",
            "black",
            "black",
            "black",
            "black",
            "black",
            "rgb(77,172,38)",
            "rgb(77,172,38)",
            "rgb(77,172,38)",
            "rgb(77,172,38)",
            "rgb(77,172,38)",
            "rgb(77,172,38)",
            "rgb(77,172,38)",
            "rgb(77,172,38)",
            "rgb(77,172,38)",
            "rgb(77,172,38)",
            "rgb(77,172,38)",
            "rgb(77,172,38)",
            "rgb(208,28, 139)",
            "rgb(208,28, 139)",
            "rgb(208,28, 139)",
            "rgb(208,28, 139)",
            "rgb(208,28, 139)",
            "rgb(208,28, 139)",
            "rgb(208,28, 139)",
            "rgb(208,28, 139)",
            "rgb(208,28, 139)",
            "rgb(208,28, 139)",
            "rgb(208,28, 139)",
            "rgb(208,28, 139)",
            "rgb(208,28, 139)",
            "rgb(208,28, 139)"
           ],
           "width": [
            0,
            0,
            0,
            0,
            0,
            0,
            0,
            0,
            0,
            0,
            0,
            0,
            0,
            0,
            0,
            0,
            0,
            0,
            0,
            0,
            0,
            0,
            0,
            0,
            0,
            2.5,
            2.5,
            2.5,
            2.5,
            2.5,
            2.5,
            2.5,
            2.5,
            2.5,
            2.5,
            2.5,
            2.5,
            2.5,
            2.5,
            2.5,
            2.5,
            2.5,
            2.5,
            2.5,
            2.5,
            2.5,
            2.5,
            2.5,
            2.5,
            2.5,
            2.5
           ]
          }
         },
         "type": "choropleth",
         "uid": "cf770a3f-235c-46bc-b559-ba45a2a3e20a",
         "z": [
          82,
          37.4,
          75.9,
          56.6,
          48.8,
          72.3,
          78.3,
          85.9,
          66.7,
          65.6,
          75.6,
          84.6,
          58.5,
          65.5,
          63.6,
          79.9,
          68.2,
          81.2,
          50.7,
          79.4,
          79.2,
          73.9,
          71.5,
          68.6,
          75,
          37,
          41.9,
          53.8,
          55.1,
          76.4,
          61.2,
          78.9,
          52.6,
          63,
          54.8,
          61.7,
          54.7,
          79,
          92,
          21.8,
          90.3,
          93.4,
          72.1,
          86.3,
          62.2,
          82.3,
          84.4,
          60.6,
          36.5,
          92.8,
          84
         ],
         "zmax": 93.4,
         "zmin": 31.8
        }
       ],
       "layout": {
        "dragmode": false,
        "geo": {
         "lakecolor": "rgb(255, 255, 255)",
         "projection": {
          "type": "albers usa"
         },
         "scope": "usa",
         "showlakes": false
        },
        "height": 600,
        "legend": {
         "font": {
          "size": 11
         },
         "orientation": "h",
         "traceorder": "reversed",
         "x": 0.5,
         "xanchor": "center",
         "y": 1.01
        },
        "showlegend": true,
        "title": {
         "pad": {
          "b": 20
         },
         "text": "Percent <b>White</b> Population By State",
         "y": 1,
         "yanchor": "bottom",
         "yref": "paper"
        },
        "width": 900
       }
      },
      "text/html": [
       "<div id=\"81ac501b-ed76-4263-a4a3-ed58e4d920e7\" style=\"height: 600px; width: 900px;\" class=\"plotly-graph-div\"></div><script type=\"text/javascript\">require([\"plotly\"], function(Plotly) { window.PLOTLYENV=window.PLOTLYENV || {};window.PLOTLYENV.BASE_URL=\"https://plot.ly\";\n",
       "if (document.getElementById(\"81ac501b-ed76-4263-a4a3-ed58e4d920e7\")) {\n",
       "    Plotly.newPlot(\"81ac501b-ed76-4263-a4a3-ed58e4d920e7\", [{\"locationmode\": \"USA-states\", \"locations\": [null], \"marker\": {\"color\": \"rgb(77,172,38)\", \"line\": {\"width\": 2.5}, \"size\": 12, \"symbol\": \"square-open\"}, \"mode\": \"markers\", \"name\": \"Lowest voting power<br>(< 0.95x average)\", \"type\": \"scattergeo\", \"uid\": \"64400aa3-2f8d-410f-88f9-7e3fde7bced6\"}, {\"locationmode\": \"USA-states\", \"locations\": [null], \"marker\": {\"color\": \"rgb(208,28, 139)\", \"line\": {\"width\": 2.5}, \"size\": 12, \"symbol\": \"square-open\"}, \"mode\": \"markers\", \"name\": \"Highest voting power<br>(> 1.5x average)\", \"opacity\": 1.0, \"type\": \"scattergeo\", \"uid\": \"7885ef52-8101-4d06-9f0e-92267f5e8f37\"}, {\"autocolorscale\": false, \"colorbar\": {\"len\": 0.5, \"lenmode\": \"fraction\", \"outlinewidth\": 0.5, \"thickness\": 0.03, \"thicknessmode\": \"fraction\", \"ticksuffix\": \"%\", \"title\": {\"text\": \"\"}, \"x\": 0.85, \"y\": 0.35}, \"colorscale\": [[0.0, \"rgb(255,255,255)\"], [1.0, \"rgb(99,99,99)\"]], \"geo\": \"geo\", \"locationmode\": \"USA-states\", \"locations\": [\"ID\", \"NM\", \"KS\", \"MS\", \"NV\", \"AR\", \"UT\", \"IA\", \"CT\", \"OK\", \"OR\", \"KY\", \"LA\", \"AL\", \"SC\", \"MN\", \"CO\", \"WI\", \"MD\", \"MO\", \"IN\", \"TN\", \"MA\", \"WA\", \"MI\", \"CA\", \"TX\", \"FL\", \"NY\", \"PA\", \"IL\", \"OH\", \"GA\", \"NC\", \"NJ\", \"VA\", \"AZ\", \"NE\", \"WV\", \"HI\", \"NH\", \"ME\", \"RI\", \"MT\", \"DE\", \"SD\", \"ND\", \"AK\", \"DC\", \"VT\", \"WY\"], \"marker\": {\"line\": {\"color\": [\"black\", \"black\", \"black\", \"black\", \"black\", \"black\", \"black\", \"black\", \"black\", \"black\", \"black\", \"black\", \"black\", \"black\", \"black\", \"black\", \"black\", \"black\", \"black\", \"black\", \"black\", \"black\", \"black\", \"black\", \"black\", \"rgb(77,172,38)\", \"rgb(77,172,38)\", \"rgb(77,172,38)\", \"rgb(77,172,38)\", \"rgb(77,172,38)\", \"rgb(77,172,38)\", \"rgb(77,172,38)\", \"rgb(77,172,38)\", \"rgb(77,172,38)\", \"rgb(77,172,38)\", \"rgb(77,172,38)\", \"rgb(77,172,38)\", \"rgb(208,28, 139)\", \"rgb(208,28, 139)\", \"rgb(208,28, 139)\", \"rgb(208,28, 139)\", \"rgb(208,28, 139)\", \"rgb(208,28, 139)\", \"rgb(208,28, 139)\", \"rgb(208,28, 139)\", \"rgb(208,28, 139)\", \"rgb(208,28, 139)\", \"rgb(208,28, 139)\", \"rgb(208,28, 139)\", \"rgb(208,28, 139)\", \"rgb(208,28, 139)\"], \"width\": [0.0, 0.0, 0.0, 0.0, 0.0, 0.0, 0.0, 0.0, 0.0, 0.0, 0.0, 0.0, 0.0, 0.0, 0.0, 0.0, 0.0, 0.0, 0.0, 0.0, 0.0, 0.0, 0.0, 0.0, 0.0, 2.5, 2.5, 2.5, 2.5, 2.5, 2.5, 2.5, 2.5, 2.5, 2.5, 2.5, 2.5, 2.5, 2.5, 2.5, 2.5, 2.5, 2.5, 2.5, 2.5, 2.5, 2.5, 2.5, 2.5, 2.5, 2.5]}}, \"z\": [82.0, 37.4, 75.9, 56.6, 48.8, 72.3, 78.3, 85.9, 66.7, 65.6, 75.6, 84.6, 58.5, 65.5, 63.6, 79.9, 68.2, 81.2, 50.7, 79.4, 79.2, 73.9, 71.5, 68.6, 75.0, 37.0, 41.9, 53.8, 55.1, 76.4, 61.2, 78.9, 52.6, 63.0, 54.8, 61.7, 54.7, 79.0, 92.0, 21.8, 90.3, 93.4, 72.1, 86.3, 62.2, 82.3, 84.4, 60.6, 36.5, 92.8, 84.0], \"zmax\": 93.4, \"zmin\": 31.8, \"type\": \"choropleth\", \"uid\": \"cf770a3f-235c-46bc-b559-ba45a2a3e20a\"}], {\"dragmode\": false, \"geo\": {\"lakecolor\": \"rgb(255, 255, 255)\", \"projection\": {\"type\": \"albers usa\"}, \"scope\": \"usa\", \"showlakes\": false}, \"height\": 600, \"legend\": {\"font\": {\"size\": 11}, \"orientation\": \"h\", \"traceorder\": \"reversed\", \"x\": 0.5, \"xanchor\": \"center\", \"y\": 1.01}, \"showlegend\": true, \"title\": {\"pad\": {\"b\": 20}, \"text\": \"Percent <b>White</b> Population By State\", \"y\": 1.0, \"yanchor\": \"bottom\", \"yref\": \"paper\"}, \"width\": 900}, {\"showLink\": false, \"linkText\": \"Export to plot.ly\", \"plotlyServerURL\": \"https://plot.ly\"}); \n",
       "}\n",
       "});</script>"
      ],
      "text/vnd.plotly.v1+html": [
       "<div id=\"81ac501b-ed76-4263-a4a3-ed58e4d920e7\" style=\"height: 600px; width: 900px;\" class=\"plotly-graph-div\"></div><script type=\"text/javascript\">require([\"plotly\"], function(Plotly) { window.PLOTLYENV=window.PLOTLYENV || {};window.PLOTLYENV.BASE_URL=\"https://plot.ly\";\n",
       "if (document.getElementById(\"81ac501b-ed76-4263-a4a3-ed58e4d920e7\")) {\n",
       "    Plotly.newPlot(\"81ac501b-ed76-4263-a4a3-ed58e4d920e7\", [{\"locationmode\": \"USA-states\", \"locations\": [null], \"marker\": {\"color\": \"rgb(77,172,38)\", \"line\": {\"width\": 2.5}, \"size\": 12, \"symbol\": \"square-open\"}, \"mode\": \"markers\", \"name\": \"Lowest voting power<br>(< 0.95x average)\", \"type\": \"scattergeo\", \"uid\": \"64400aa3-2f8d-410f-88f9-7e3fde7bced6\"}, {\"locationmode\": \"USA-states\", \"locations\": [null], \"marker\": {\"color\": \"rgb(208,28, 139)\", \"line\": {\"width\": 2.5}, \"size\": 12, \"symbol\": \"square-open\"}, \"mode\": \"markers\", \"name\": \"Highest voting power<br>(> 1.5x average)\", \"opacity\": 1.0, \"type\": \"scattergeo\", \"uid\": \"7885ef52-8101-4d06-9f0e-92267f5e8f37\"}, {\"autocolorscale\": false, \"colorbar\": {\"len\": 0.5, \"lenmode\": \"fraction\", \"outlinewidth\": 0.5, \"thickness\": 0.03, \"thicknessmode\": \"fraction\", \"ticksuffix\": \"%\", \"title\": {\"text\": \"\"}, \"x\": 0.85, \"y\": 0.35}, \"colorscale\": [[0.0, \"rgb(255,255,255)\"], [1.0, \"rgb(99,99,99)\"]], \"geo\": \"geo\", \"locationmode\": \"USA-states\", \"locations\": [\"ID\", \"NM\", \"KS\", \"MS\", \"NV\", \"AR\", \"UT\", \"IA\", \"CT\", \"OK\", \"OR\", \"KY\", \"LA\", \"AL\", \"SC\", \"MN\", \"CO\", \"WI\", \"MD\", \"MO\", \"IN\", \"TN\", \"MA\", \"WA\", \"MI\", \"CA\", \"TX\", \"FL\", \"NY\", \"PA\", \"IL\", \"OH\", \"GA\", \"NC\", \"NJ\", \"VA\", \"AZ\", \"NE\", \"WV\", \"HI\", \"NH\", \"ME\", \"RI\", \"MT\", \"DE\", \"SD\", \"ND\", \"AK\", \"DC\", \"VT\", \"WY\"], \"marker\": {\"line\": {\"color\": [\"black\", \"black\", \"black\", \"black\", \"black\", \"black\", \"black\", \"black\", \"black\", \"black\", \"black\", \"black\", \"black\", \"black\", \"black\", \"black\", \"black\", \"black\", \"black\", \"black\", \"black\", \"black\", \"black\", \"black\", \"black\", \"rgb(77,172,38)\", \"rgb(77,172,38)\", \"rgb(77,172,38)\", \"rgb(77,172,38)\", \"rgb(77,172,38)\", \"rgb(77,172,38)\", \"rgb(77,172,38)\", \"rgb(77,172,38)\", \"rgb(77,172,38)\", \"rgb(77,172,38)\", \"rgb(77,172,38)\", \"rgb(77,172,38)\", \"rgb(208,28, 139)\", \"rgb(208,28, 139)\", \"rgb(208,28, 139)\", \"rgb(208,28, 139)\", \"rgb(208,28, 139)\", \"rgb(208,28, 139)\", \"rgb(208,28, 139)\", \"rgb(208,28, 139)\", \"rgb(208,28, 139)\", \"rgb(208,28, 139)\", \"rgb(208,28, 139)\", \"rgb(208,28, 139)\", \"rgb(208,28, 139)\", \"rgb(208,28, 139)\"], \"width\": [0.0, 0.0, 0.0, 0.0, 0.0, 0.0, 0.0, 0.0, 0.0, 0.0, 0.0, 0.0, 0.0, 0.0, 0.0, 0.0, 0.0, 0.0, 0.0, 0.0, 0.0, 0.0, 0.0, 0.0, 0.0, 2.5, 2.5, 2.5, 2.5, 2.5, 2.5, 2.5, 2.5, 2.5, 2.5, 2.5, 2.5, 2.5, 2.5, 2.5, 2.5, 2.5, 2.5, 2.5, 2.5, 2.5, 2.5, 2.5, 2.5, 2.5, 2.5]}}, \"z\": [82.0, 37.4, 75.9, 56.6, 48.8, 72.3, 78.3, 85.9, 66.7, 65.6, 75.6, 84.6, 58.5, 65.5, 63.6, 79.9, 68.2, 81.2, 50.7, 79.4, 79.2, 73.9, 71.5, 68.6, 75.0, 37.0, 41.9, 53.8, 55.1, 76.4, 61.2, 78.9, 52.6, 63.0, 54.8, 61.7, 54.7, 79.0, 92.0, 21.8, 90.3, 93.4, 72.1, 86.3, 62.2, 82.3, 84.4, 60.6, 36.5, 92.8, 84.0], \"zmax\": 93.4, \"zmin\": 31.8, \"type\": \"choropleth\", \"uid\": \"cf770a3f-235c-46bc-b559-ba45a2a3e20a\"}], {\"dragmode\": false, \"geo\": {\"lakecolor\": \"rgb(255, 255, 255)\", \"projection\": {\"type\": \"albers usa\"}, \"scope\": \"usa\", \"showlakes\": false}, \"height\": 600, \"legend\": {\"font\": {\"size\": 11}, \"orientation\": \"h\", \"traceorder\": \"reversed\", \"x\": 0.5, \"xanchor\": \"center\", \"y\": 1.01}, \"showlegend\": true, \"title\": {\"pad\": {\"b\": 20}, \"text\": \"Percent <b>White</b> Population By State\", \"y\": 1.0, \"yanchor\": \"bottom\", \"yref\": \"paper\"}, \"width\": 900}, {\"showLink\": false, \"linkText\": \"Export to plot.ly\", \"plotlyServerURL\": \"https://plot.ly\"}); \n",
       "}\n",
       "});</script>"
      ]
     },
     "metadata": {},
     "output_type": "display_data"
    }
   ],
   "source": [
    "# Plot choropleth of racial percentage by state with high/low voting power highlighted\n",
    "\n",
    "def create_racial_plot(rkey, adj_min=0, adj_max=0):\n",
    "    most = Pi\n",
    "    least = G\n",
    "    grayscale = [\n",
    "        [0.0, 'rgb(255,255,255)'],\n",
    "        [1.0, 'rgb(99,99,99)']\n",
    "    ]\n",
    "\n",
    "    # Rearrange states so highlighted ones get drawn last\n",
    "    reorder_idx = []   # for faster insertions, probably should use deque\n",
    "    for i in range(51):\n",
    "        if norm_states_vp[i] < .95 or norm_states_vp[i] > 1.5:\n",
    "            reorder_idx.append(i)\n",
    "        else:\n",
    "            reorder_idx.insert(0, i)\n",
    "\n",
    "    race_keys = [('White', 'HC03_VC99'),\n",
    "                 ('Hispanic/Latino', 'HC03_VC93'),\n",
    "                 ('Black/African American', 'HC03_VC100'),\n",
    "                 ('Asian', 'HC03_VC102')]\n",
    "\n",
    "    race_percent = [census_df.loc[states[idx], race_keys[rkey][1]] for idx in reorder_idx]\n",
    "    race = race_keys[rkey][0]\n",
    "\n",
    "    r_map = go.Choropleth(\n",
    "        colorscale=grayscale,\n",
    "        autocolorscale=False,\n",
    "        #reversescale=True,\n",
    "        locations=[abbrev_df.loc[states[idx], 'Postal Code'] for idx in reorder_idx], # Needs abbreviations\n",
    "        z=race_percent,\n",
    "        locationmode='USA-states',\n",
    "        marker=dict(\n",
    "            line=dict(\n",
    "                color=[most if norm_states_vp[idx] > 1.5 \n",
    "                       else least if norm_states_vp[idx] < .95 \n",
    "                       else 'black' for idx in reorder_idx],\n",
    "                width=[2.5 if norm_states_vp[idx] > 1.5 \n",
    "                       else 2.5 if norm_states_vp[idx] < .95 \n",
    "                       else 0.0 for idx in reorder_idx],\n",
    "            )\n",
    "        ),\n",
    "        #zauto=True,\n",
    "        zmin=min(race_percent) + adj_min,\n",
    "        zmax=max(race_percent) - adj_max,\n",
    "        colorbar=dict(\n",
    "            title='',\n",
    "            ticksuffix='%',\n",
    "            thicknessmode='fraction',\n",
    "            thickness=.030,\n",
    "            lenmode='fraction',\n",
    "            len=0.5,\n",
    "            x=0.85,\n",
    "            y=0.35,\n",
    "            outlinewidth=0.5\n",
    "        ),\n",
    "        geo='geo',\n",
    "    )\n",
    "\n",
    "    most_outline = go.Scattergeo(\n",
    "        locations=[None],\n",
    "        locationmode='USA-states',\n",
    "        name='Highest voting power<br>' + \\\n",
    "             '(> 1.5x average)',\n",
    "        mode='markers',\n",
    "        opacity=1.0,\n",
    "        marker=dict(\n",
    "            symbol='square-open',\n",
    "            size=12,\n",
    "            color=Pi,\n",
    "            line=dict(\n",
    "                width=2.5,\n",
    "            )\n",
    "        )\n",
    "    )\n",
    "\n",
    "    least_outline = go.Scattergeo(\n",
    "        locations=[None],\n",
    "        locationmode='USA-states',\n",
    "        name='Lowest voting power<br>' + \\\n",
    "             '(< 0.95x average)',\n",
    "        mode='markers',\n",
    "        marker=dict(\n",
    "            symbol='square-open',\n",
    "            size=12,\n",
    "            color=G,\n",
    "            line=dict(\n",
    "                width=2.5,\n",
    "            )\n",
    "        )\n",
    "    )\n",
    "\n",
    "    \n",
    "    data = [least_outline, most_outline, r_map]\n",
    "\n",
    "    layout = go.Layout(\n",
    "        title=go.layout.Title(\n",
    "            text='Percent <b>'+race+'</b> Population By State',\n",
    "            yref='paper',\n",
    "            y=1.0,\n",
    "            yanchor='bottom',\n",
    "            pad=dict( # unit: pixels\n",
    "                b=20,\n",
    "            ),\n",
    "        ),\n",
    "        width=900,\n",
    "        height=600,\n",
    "        dragmode=False,\n",
    "        geo=go.layout.Geo(\n",
    "            scope='usa',\n",
    "            projection=go.layout.geo.Projection(type = 'albers usa'),\n",
    "            showlakes=False,\n",
    "            lakecolor='rgb(255, 255, 255)',\n",
    "        ),\n",
    "        showlegend=True,\n",
    "        legend=dict(\n",
    "            orientation='h',\n",
    "            traceorder='reversed',\n",
    "            #tracegroupgap=1000,\n",
    "            font=dict(\n",
    "                size=11\n",
    "            ),\n",
    "            x=0.5,\n",
    "            xanchor='center',\n",
    "            y=1.01,\n",
    "        ),\n",
    "    )\n",
    "\n",
    "\n",
    "    fig = go.Figure(data=data, layout=layout)\n",
    "    plotly.offline.init_notebook_mode(connected=True)\n",
    "    plotly.offline.iplot(fig)\n",
    "    \n",
    "    return fig\n",
    "    \n",
    "# white: 0, adj_min = 10 (Hawaii)\n",
    "# hispanic: 1\n",
    "# black: 2, adj_max = 5 (DC)\n",
    "# asian: 3, adj_max = 20 (Hawaii)\n",
    "fig = create_racial_plot(0, adj_min=10)"
   ]
  },
  {
   "cell_type": "code",
   "execution_count": 62,
   "metadata": {},
   "outputs": [],
   "source": [
    "ctest = [\n",
    "    [0.0, 'white'],\n",
    "    [0.02, 'white'],\n",
    "    [0.02, 'blue'],\n",
    "    [0.49, 'blue'],\n",
    "    [0.49, 'white'],\n",
    "    [0.51, 'white'],\n",
    "    [0.51, 'red'],\n",
    "    [0.98, 'red'],\n",
    "    [0.98, 'white'],\n",
    "    [1.0, 'white']\n",
    "]"
   ]
  },
  {
   "cell_type": "code",
   "execution_count": 122,
   "metadata": {
    "scrolled": false
   },
   "outputs": [
    {
     "data": {
      "text/html": [
       "<script type=\"text/javascript\">window.PlotlyConfig = {MathJaxConfig: 'local'};</script><script type=\"text/javascript\">if (window.MathJax) {MathJax.Hub.Config({SVG: {font: \"STIX-Web\"}});}</script><script>requirejs.config({paths: { 'plotly': ['https://cdn.plot.ly/plotly-latest.min']},});if(!window._Plotly) {require(['plotly'],function(plotly) {window._Plotly=plotly;});}</script>"
      ],
      "text/vnd.plotly.v1+html": [
       "<script type=\"text/javascript\">window.PlotlyConfig = {MathJaxConfig: 'local'};</script><script type=\"text/javascript\">if (window.MathJax) {MathJax.Hub.Config({SVG: {font: \"STIX-Web\"}});}</script><script>requirejs.config({paths: { 'plotly': ['https://cdn.plot.ly/plotly-latest.min']},});if(!window._Plotly) {require(['plotly'],function(plotly) {window._Plotly=plotly;});}</script>"
      ]
     },
     "metadata": {},
     "output_type": "display_data"
    },
    {
     "data": {
      "application/vnd.plotly.v1+json": {
       "config": {
        "linkText": "Export to plot.ly",
        "plotlyServerURL": "https://plot.ly",
        "showLink": false
       },
       "data": [
        {
         "locationmode": "USA-states",
         "locations": [
          null
         ],
         "marker": {
          "color": "rgb(53,151,143)",
          "line": {
           "width": 2.5
          },
          "size": 12,
          "symbol": "square-open"
         },
         "mode": "markers",
         "name": "Lowest voting power<br>(< 0.95x average)",
         "type": "scattergeo",
         "uid": "f8f1857e-bbd2-46ce-9f2f-77f0a7ac9cca"
        },
        {
         "locationmode": "USA-states",
         "locations": [
          null
         ],
         "marker": {
          "color": "rgb(230,97,1)",
          "line": {
           "width": 2.5
          },
          "size": 12,
          "symbol": "square-open"
         },
         "mode": "markers",
         "name": "Highest voting power<br>(> 1.5x average)",
         "opacity": 1,
         "type": "scattergeo",
         "uid": "fade68ed-5042-4bc5-9677-ca6be66f8356"
        },
        {
         "autocolorscale": false,
         "colorscale": [
          [
           0,
           "rgb(255,255,255)"
          ],
          [
           1,
           "rgb(99,99,99)"
          ]
         ],
         "geo": "geo",
         "locationmode": "USA-states",
         "locations": [
          "ID",
          "NM",
          "KS",
          "MS",
          "NV",
          "AR",
          "UT",
          "IA",
          "CT",
          "OK",
          "OR",
          "KY",
          "LA",
          "AL",
          "SC",
          "MN",
          "CO",
          "WI",
          "MD",
          "MO",
          "IN",
          "TN",
          "MA",
          "WA",
          "MI",
          "CA",
          "TX",
          "FL",
          "NY",
          "PA",
          "IL",
          "OH",
          "GA",
          "NC",
          "NJ",
          "VA",
          "AZ",
          "NE",
          "WV",
          "HI",
          "NH",
          "ME",
          "RI",
          "MT",
          "DE",
          "SD",
          "ND",
          "AK",
          "DC",
          "VT",
          "WY"
         ],
         "marker": {
          "line": {
           "color": [
            "black",
            "black",
            "black",
            "black",
            "black",
            "black",
            "black",
            "black",
            "black",
            "black",
            "black",
            "black",
            "black",
            "black",
            "black",
            "black",
            "black",
            "black",
            "black",
            "black",
            "black",
            "black",
            "black",
            "black",
            "black",
            "rgb(53,151,143)",
            "rgb(53,151,143)",
            "rgb(53,151,143)",
            "rgb(53,151,143)",
            "rgb(53,151,143)",
            "rgb(53,151,143)",
            "rgb(53,151,143)",
            "rgb(53,151,143)",
            "rgb(53,151,143)",
            "rgb(53,151,143)",
            "rgb(53,151,143)",
            "rgb(53,151,143)",
            "rgb(230,97,1)",
            "rgb(230,97,1)",
            "rgb(230,97,1)",
            "rgb(230,97,1)",
            "rgb(230,97,1)",
            "rgb(230,97,1)",
            "rgb(230,97,1)",
            "rgb(230,97,1)",
            "rgb(230,97,1)",
            "rgb(230,97,1)",
            "rgb(230,97,1)",
            "rgb(230,97,1)",
            "rgb(230,97,1)",
            "rgb(230,97,1)"
           ],
           "width": [
            0.2,
            0.2,
            0.2,
            0.2,
            0.2,
            0.2,
            0.2,
            0.2,
            0.2,
            0.2,
            0.2,
            0.2,
            0.2,
            0.2,
            0.2,
            0.2,
            0.2,
            0.2,
            0.2,
            0.2,
            0.2,
            0.2,
            0.2,
            0.2,
            0.2,
            2.5,
            2.5,
            2.5,
            2.5,
            2.5,
            2.5,
            2.5,
            2.5,
            2.5,
            2.5,
            2.5,
            2.5,
            2.5,
            2.5,
            2.5,
            2.5,
            2.5,
            2.5,
            2.5,
            2.5,
            2.5,
            2.5,
            2.5,
            2.5,
            2.5,
            2.5
           ]
          }
         },
         "showscale": false,
         "type": "choropleth",
         "uid": "31178044-c4be-4394-8475-e25e2629f123",
         "z": [
          82,
          37.4,
          75.9,
          56.6,
          48.8,
          72.3,
          78.3,
          85.9,
          66.7,
          65.6,
          75.6,
          84.6,
          58.5,
          65.5,
          63.6,
          79.9,
          68.2,
          81.2,
          50.7,
          79.4,
          79.2,
          73.9,
          71.5,
          68.6,
          75,
          37,
          41.9,
          53.8,
          55.1,
          76.4,
          61.2,
          78.9,
          52.6,
          63,
          54.8,
          61.7,
          54.7,
          79,
          92,
          21.8,
          90.3,
          93.4,
          72.1,
          86.3,
          62.2,
          82.3,
          84.4,
          60.6,
          36.5,
          92.8,
          84
         ],
         "zmax": 93.4,
         "zmin": 31.8
        },
        {
         "marker": {
          "cmax": 93.4,
          "cmin": 31.8,
          "color": [
           31.8,
           32.416000000000004,
           33.032000000000004,
           33.648,
           34.264,
           34.88,
           35.496,
           36.112,
           36.728,
           37.344,
           37.96,
           38.576,
           39.192,
           39.808,
           40.42400000000001,
           41.040000000000006,
           41.656000000000006,
           42.272000000000006,
           42.888000000000005,
           43.504000000000005,
           44.120000000000005,
           44.736000000000004,
           45.352000000000004,
           45.968,
           46.584,
           47.2,
           47.816,
           48.432,
           49.048,
           49.664,
           50.28,
           50.896,
           51.512,
           52.128,
           52.744,
           53.36,
           53.976,
           54.592000000000006,
           55.208000000000006,
           55.824000000000005,
           56.440000000000005,
           57.056000000000004,
           57.672000000000004,
           58.288000000000004,
           58.90400000000001,
           59.52000000000001,
           60.13600000000001,
           60.75200000000001,
           61.36800000000001,
           61.98400000000001,
           62.60000000000001,
           63.21600000000001,
           63.83200000000001,
           64.44800000000001,
           65.06400000000001,
           65.68,
           66.296,
           66.912,
           67.528,
           68.144,
           68.76,
           69.376,
           69.992,
           70.608,
           71.224,
           71.84,
           72.456,
           73.072,
           73.688,
           74.304,
           74.92,
           75.536,
           76.152,
           76.76800000000001,
           77.38400000000001,
           78.00000000000001,
           78.61600000000001,
           79.23200000000001,
           79.84800000000001,
           80.46400000000001,
           81.08000000000001,
           81.69600000000001,
           82.31200000000001,
           82.92800000000001,
           83.54400000000001,
           84.16000000000001,
           84.77600000000001,
           85.39200000000001,
           86.00800000000001,
           86.62400000000001,
           87.24000000000001,
           87.85600000000001,
           88.47200000000001,
           89.08800000000001,
           89.70400000000001,
           90.32000000000001,
           90.936,
           91.552,
           92.168,
           92.784,
           93.4
          ],
          "colorscale": [
           [
            0,
            "rgb(255,255,255)"
           ],
           [
            1,
            "rgb(99,99,99)"
           ]
          ],
          "line": {
           "width": 0
          },
          "size": 15,
          "symbol": "square"
         },
         "mode": "markers",
         "name": "what",
         "showlegend": false,
         "type": "scatter",
         "uid": "d680fce5-aaa4-4da8-ba99-ea9193bd23d3",
         "x": [
          34.264,
          34.88,
          35.496,
          36.112,
          36.728,
          37.344,
          37.96,
          38.576,
          39.192,
          39.808,
          40.42400000000001,
          41.040000000000006,
          41.656000000000006,
          42.272000000000006,
          42.888000000000005,
          43.504000000000005,
          44.120000000000005,
          44.736000000000004,
          45.352000000000004,
          45.968,
          46.584,
          47.2,
          47.816,
          48.432,
          49.048,
          49.664,
          50.28,
          50.896,
          51.512,
          52.128,
          52.744,
          53.36,
          53.976,
          54.592000000000006,
          55.208000000000006,
          55.824000000000005,
          56.440000000000005,
          57.056000000000004,
          57.672000000000004,
          58.288000000000004,
          58.90400000000001,
          59.52000000000001,
          60.13600000000001,
          60.75200000000001,
          61.36800000000001,
          61.98400000000001,
          62.60000000000001,
          63.21600000000001,
          63.83200000000001,
          64.44800000000001,
          65.06400000000001,
          65.68,
          66.296,
          66.912,
          67.528,
          68.144,
          68.76,
          69.376,
          69.992,
          70.608,
          71.224,
          71.84,
          72.456,
          73.072,
          73.688,
          74.304,
          74.92,
          75.536,
          76.152,
          76.76800000000001,
          77.38400000000001,
          78.00000000000001,
          78.61600000000001,
          79.23200000000001,
          79.84800000000001,
          80.46400000000001,
          81.08000000000001,
          81.69600000000001,
          82.31200000000001,
          82.92800000000001,
          83.54400000000001,
          84.16000000000001,
          84.77600000000001,
          85.39200000000001,
          86.00800000000001,
          86.62400000000001,
          87.24000000000001,
          87.85600000000001,
          88.47200000000001,
          89.08800000000001,
          89.70400000000001,
          90.32000000000001,
          90.936,
          91.552,
          92.168,
          92.784,
          93.4,
          94.016,
          94.632,
          95.248,
          95.864
         ],
         "y": [
          0,
          0,
          0,
          0,
          0,
          0,
          0,
          0,
          0,
          0,
          0,
          0,
          0,
          0,
          0,
          0,
          0,
          0,
          0,
          0,
          0,
          0,
          0,
          0,
          0,
          0,
          0,
          0,
          0,
          0,
          0,
          0,
          0,
          0,
          0,
          0,
          0,
          0,
          0,
          0,
          0,
          0,
          0,
          0,
          0,
          0,
          0,
          0,
          0,
          0,
          0,
          0,
          0,
          0,
          0,
          0,
          0,
          0,
          0,
          0,
          0,
          0,
          0,
          0,
          0,
          0,
          0,
          0,
          0,
          0,
          0,
          0,
          0,
          0,
          0,
          0,
          0,
          0,
          0,
          0,
          0,
          0,
          0,
          0,
          0,
          0,
          0,
          0,
          0,
          0,
          0,
          0,
          0,
          0,
          0,
          0,
          0,
          0,
          0,
          0,
          0
         ]
        }
       ],
       "layout": {
        "annotations": [
         {
          "align": "right",
          "font": {
           "color": "lightgray",
           "family": "Andale Mono",
           "size": 10
          },
          "showarrow": false,
          "text": "04/22/2019<br>@jeremy_m_joseph",
          "x": 0.9,
          "xanchor": "right",
          "xref": "paper",
          "y": -0.13,
          "yanchor": "bottom",
          "yref": "paper"
         }
        ],
        "dragmode": false,
        "geo": {
         "domain": {
          "x": [
           0,
           1
          ],
          "y": [
           0.1,
           1
          ]
         },
         "lakecolor": "rgb(255, 255, 255)",
         "projection": {
          "type": "albers usa"
         },
         "scope": "usa",
         "showlakes": false
        },
        "height": 550,
        "legend": {
         "font": {
          "size": 11
         },
         "orientation": "h",
         "tracegroupgap": 10,
         "traceorder": "reversed",
         "x": 0.525,
         "xanchor": "right",
         "y": 0.06,
         "yanchor": "top"
        },
        "margin": {
         "autoexpand": false,
         "b": 60,
         "l": 0,
         "r": 0,
         "t": 70
        },
        "plot_bgcolor": "black",
        "shapes": [
         {
          "fillcolor": "black",
          "layer": "above",
          "line": {
           "width": 0
          },
          "type": "rect",
          "x0": 31.184,
          "x1": 31.8,
          "xref": "x",
          "xsizemode": "scaled",
          "y0": -1,
          "y1": 1,
          "yref": "y",
          "ysizemode": "scaled"
         },
         {
          "fillcolor": "black",
          "layer": "above",
          "line": {
           "width": 0
          },
          "type": "rect",
          "x0": 93.4,
          "x1": 94.016,
          "xref": "x",
          "xsizemode": "scaled",
          "y0": -1,
          "y1": 1,
          "yref": "y",
          "ysizemode": "scaled"
         }
        ],
        "showlegend": true,
        "title": {
         "pad": {
          "b": 20
         },
         "text": "Percent <b>White</b> Population And Voting Power Extremes",
         "y": 1,
         "yanchor": "bottom",
         "yref": "paper"
        },
        "width": 720,
        "xaxis": {
         "color": "black",
         "domain": [
          0.575,
          0.875
         ],
         "dtick": 10,
         "range": [
          31.954,
          93.70800000000001
         ],
         "showgrid": false,
         "showline": false,
         "showticksuffix": "all",
         "tickfont": {
          "size": 11
         },
         "tickmode": "linear",
         "ticks": "",
         "ticksuffix": "%",
         "visible": true,
         "zeroline": false
        },
        "yaxis": {
         "domain": [
          0,
          0.04
         ],
         "range": [
          -1,
          1
         ],
         "showgrid": false,
         "showline": false,
         "visible": false,
         "zeroline": false
        }
       }
      },
      "text/html": [
       "<div id=\"7fb99fbd-b1f0-4a23-bcfe-ae2698178833\" style=\"height: 550px; width: 720px;\" class=\"plotly-graph-div\"></div><script type=\"text/javascript\">require([\"plotly\"], function(Plotly) { window.PLOTLYENV=window.PLOTLYENV || {};window.PLOTLYENV.BASE_URL=\"https://plot.ly\";\n",
       "if (document.getElementById(\"7fb99fbd-b1f0-4a23-bcfe-ae2698178833\")) {\n",
       "    Plotly.newPlot(\"7fb99fbd-b1f0-4a23-bcfe-ae2698178833\", [{\"locationmode\": \"USA-states\", \"locations\": [null], \"marker\": {\"color\": \"rgb(53,151,143)\", \"line\": {\"width\": 2.5}, \"size\": 12, \"symbol\": \"square-open\"}, \"mode\": \"markers\", \"name\": \"Lowest voting power<br>(< 0.95x average)\", \"type\": \"scattergeo\", \"uid\": \"f8f1857e-bbd2-46ce-9f2f-77f0a7ac9cca\"}, {\"locationmode\": \"USA-states\", \"locations\": [null], \"marker\": {\"color\": \"rgb(230,97,1)\", \"line\": {\"width\": 2.5}, \"size\": 12, \"symbol\": \"square-open\"}, \"mode\": \"markers\", \"name\": \"Highest voting power<br>(> 1.5x average)\", \"opacity\": 1.0, \"type\": \"scattergeo\", \"uid\": \"fade68ed-5042-4bc5-9677-ca6be66f8356\"}, {\"autocolorscale\": false, \"colorscale\": [[0.0, \"rgb(255,255,255)\"], [1.0, \"rgb(99,99,99)\"]], \"geo\": \"geo\", \"locationmode\": \"USA-states\", \"locations\": [\"ID\", \"NM\", \"KS\", \"MS\", \"NV\", \"AR\", \"UT\", \"IA\", \"CT\", \"OK\", \"OR\", \"KY\", \"LA\", \"AL\", \"SC\", \"MN\", \"CO\", \"WI\", \"MD\", \"MO\", \"IN\", \"TN\", \"MA\", \"WA\", \"MI\", \"CA\", \"TX\", \"FL\", \"NY\", \"PA\", \"IL\", \"OH\", \"GA\", \"NC\", \"NJ\", \"VA\", \"AZ\", \"NE\", \"WV\", \"HI\", \"NH\", \"ME\", \"RI\", \"MT\", \"DE\", \"SD\", \"ND\", \"AK\", \"DC\", \"VT\", \"WY\"], \"marker\": {\"line\": {\"color\": [\"black\", \"black\", \"black\", \"black\", \"black\", \"black\", \"black\", \"black\", \"black\", \"black\", \"black\", \"black\", \"black\", \"black\", \"black\", \"black\", \"black\", \"black\", \"black\", \"black\", \"black\", \"black\", \"black\", \"black\", \"black\", \"rgb(53,151,143)\", \"rgb(53,151,143)\", \"rgb(53,151,143)\", \"rgb(53,151,143)\", \"rgb(53,151,143)\", \"rgb(53,151,143)\", \"rgb(53,151,143)\", \"rgb(53,151,143)\", \"rgb(53,151,143)\", \"rgb(53,151,143)\", \"rgb(53,151,143)\", \"rgb(53,151,143)\", \"rgb(230,97,1)\", \"rgb(230,97,1)\", \"rgb(230,97,1)\", \"rgb(230,97,1)\", \"rgb(230,97,1)\", \"rgb(230,97,1)\", \"rgb(230,97,1)\", \"rgb(230,97,1)\", \"rgb(230,97,1)\", \"rgb(230,97,1)\", \"rgb(230,97,1)\", \"rgb(230,97,1)\", \"rgb(230,97,1)\", \"rgb(230,97,1)\"], \"width\": [0.2, 0.2, 0.2, 0.2, 0.2, 0.2, 0.2, 0.2, 0.2, 0.2, 0.2, 0.2, 0.2, 0.2, 0.2, 0.2, 0.2, 0.2, 0.2, 0.2, 0.2, 0.2, 0.2, 0.2, 0.2, 2.5, 2.5, 2.5, 2.5, 2.5, 2.5, 2.5, 2.5, 2.5, 2.5, 2.5, 2.5, 2.5, 2.5, 2.5, 2.5, 2.5, 2.5, 2.5, 2.5, 2.5, 2.5, 2.5, 2.5, 2.5, 2.5]}}, \"showscale\": false, \"z\": [82.0, 37.4, 75.9, 56.6, 48.8, 72.3, 78.3, 85.9, 66.7, 65.6, 75.6, 84.6, 58.5, 65.5, 63.6, 79.9, 68.2, 81.2, 50.7, 79.4, 79.2, 73.9, 71.5, 68.6, 75.0, 37.0, 41.9, 53.8, 55.1, 76.4, 61.2, 78.9, 52.6, 63.0, 54.8, 61.7, 54.7, 79.0, 92.0, 21.8, 90.3, 93.4, 72.1, 86.3, 62.2, 82.3, 84.4, 60.6, 36.5, 92.8, 84.0], \"zmax\": 93.4, \"zmin\": 31.8, \"type\": \"choropleth\", \"uid\": \"31178044-c4be-4394-8475-e25e2629f123\"}, {\"marker\": {\"cmax\": 93.4, \"cmin\": 31.8, \"color\": [31.8, 32.416000000000004, 33.032000000000004, 33.648, 34.264, 34.88, 35.496, 36.112, 36.728, 37.344, 37.96, 38.576, 39.192, 39.808, 40.42400000000001, 41.040000000000006, 41.656000000000006, 42.272000000000006, 42.888000000000005, 43.504000000000005, 44.120000000000005, 44.736000000000004, 45.352000000000004, 45.968, 46.584, 47.2, 47.816, 48.432, 49.048, 49.664, 50.28, 50.896, 51.512, 52.128, 52.744, 53.36, 53.976, 54.592000000000006, 55.208000000000006, 55.824000000000005, 56.440000000000005, 57.056000000000004, 57.672000000000004, 58.288000000000004, 58.90400000000001, 59.52000000000001, 60.13600000000001, 60.75200000000001, 61.36800000000001, 61.98400000000001, 62.60000000000001, 63.21600000000001, 63.83200000000001, 64.44800000000001, 65.06400000000001, 65.68, 66.296, 66.912, 67.528, 68.144, 68.76, 69.376, 69.992, 70.608, 71.224, 71.84, 72.456, 73.072, 73.688, 74.304, 74.92, 75.536, 76.152, 76.76800000000001, 77.38400000000001, 78.00000000000001, 78.61600000000001, 79.23200000000001, 79.84800000000001, 80.46400000000001, 81.08000000000001, 81.69600000000001, 82.31200000000001, 82.92800000000001, 83.54400000000001, 84.16000000000001, 84.77600000000001, 85.39200000000001, 86.00800000000001, 86.62400000000001, 87.24000000000001, 87.85600000000001, 88.47200000000001, 89.08800000000001, 89.70400000000001, 90.32000000000001, 90.936, 91.552, 92.168, 92.784, 93.4], \"colorscale\": [[0.0, \"rgb(255,255,255)\"], [1.0, \"rgb(99,99,99)\"]], \"line\": {\"width\": 0}, \"size\": 15, \"symbol\": \"square\"}, \"mode\": \"markers\", \"name\": \"what\", \"showlegend\": false, \"x\": [34.264, 34.88, 35.496, 36.112, 36.728, 37.344, 37.96, 38.576, 39.192, 39.808, 40.42400000000001, 41.040000000000006, 41.656000000000006, 42.272000000000006, 42.888000000000005, 43.504000000000005, 44.120000000000005, 44.736000000000004, 45.352000000000004, 45.968, 46.584, 47.2, 47.816, 48.432, 49.048, 49.664, 50.28, 50.896, 51.512, 52.128, 52.744, 53.36, 53.976, 54.592000000000006, 55.208000000000006, 55.824000000000005, 56.440000000000005, 57.056000000000004, 57.672000000000004, 58.288000000000004, 58.90400000000001, 59.52000000000001, 60.13600000000001, 60.75200000000001, 61.36800000000001, 61.98400000000001, 62.60000000000001, 63.21600000000001, 63.83200000000001, 64.44800000000001, 65.06400000000001, 65.68, 66.296, 66.912, 67.528, 68.144, 68.76, 69.376, 69.992, 70.608, 71.224, 71.84, 72.456, 73.072, 73.688, 74.304, 74.92, 75.536, 76.152, 76.76800000000001, 77.38400000000001, 78.00000000000001, 78.61600000000001, 79.23200000000001, 79.84800000000001, 80.46400000000001, 81.08000000000001, 81.69600000000001, 82.31200000000001, 82.92800000000001, 83.54400000000001, 84.16000000000001, 84.77600000000001, 85.39200000000001, 86.00800000000001, 86.62400000000001, 87.24000000000001, 87.85600000000001, 88.47200000000001, 89.08800000000001, 89.70400000000001, 90.32000000000001, 90.936, 91.552, 92.168, 92.784, 93.4, 94.016, 94.632, 95.248, 95.864], \"y\": [0, 0, 0, 0, 0, 0, 0, 0, 0, 0, 0, 0, 0, 0, 0, 0, 0, 0, 0, 0, 0, 0, 0, 0, 0, 0, 0, 0, 0, 0, 0, 0, 0, 0, 0, 0, 0, 0, 0, 0, 0, 0, 0, 0, 0, 0, 0, 0, 0, 0, 0, 0, 0, 0, 0, 0, 0, 0, 0, 0, 0, 0, 0, 0, 0, 0, 0, 0, 0, 0, 0, 0, 0, 0, 0, 0, 0, 0, 0, 0, 0, 0, 0, 0, 0, 0, 0, 0, 0, 0, 0, 0, 0, 0, 0, 0, 0, 0, 0, 0, 0], \"type\": \"scatter\", \"uid\": \"d680fce5-aaa4-4da8-ba99-ea9193bd23d3\"}], {\"annotations\": [{\"align\": \"right\", \"font\": {\"color\": \"lightgray\", \"family\": \"Andale Mono\", \"size\": 10}, \"showarrow\": false, \"text\": \"04/22/2019<br>@jeremy_m_joseph\", \"x\": 0.9, \"xanchor\": \"right\", \"xref\": \"paper\", \"y\": -0.13, \"yanchor\": \"bottom\", \"yref\": \"paper\"}], \"dragmode\": false, \"geo\": {\"domain\": {\"x\": [0, 1.0], \"y\": [0.1, 1.0]}, \"lakecolor\": \"rgb(255, 255, 255)\", \"projection\": {\"type\": \"albers usa\"}, \"scope\": \"usa\", \"showlakes\": false}, \"height\": 550, \"legend\": {\"font\": {\"size\": 11}, \"orientation\": \"h\", \"tracegroupgap\": 10, \"traceorder\": \"reversed\", \"x\": 0.525, \"xanchor\": \"right\", \"y\": 0.06, \"yanchor\": \"top\"}, \"margin\": {\"autoexpand\": false, \"b\": 60, \"l\": 0, \"r\": 0, \"t\": 70}, \"plot_bgcolor\": \"black\", \"shapes\": [{\"fillcolor\": \"black\", \"layer\": \"above\", \"line\": {\"width\": 0}, \"type\": \"rect\", \"x0\": 31.184, \"x1\": 31.8, \"xref\": \"x\", \"xsizemode\": \"scaled\", \"y0\": -1, \"y1\": 1, \"yref\": \"y\", \"ysizemode\": \"scaled\"}, {\"fillcolor\": \"black\", \"layer\": \"above\", \"line\": {\"width\": 0}, \"type\": \"rect\", \"x0\": 93.4, \"x1\": 94.016, \"xref\": \"x\", \"xsizemode\": \"scaled\", \"y0\": -1, \"y1\": 1, \"yref\": \"y\", \"ysizemode\": \"scaled\"}], \"showlegend\": true, \"title\": {\"pad\": {\"b\": 20}, \"text\": \"Percent <b>White</b> Population And Voting Power Extremes\", \"y\": 1.0, \"yanchor\": \"bottom\", \"yref\": \"paper\"}, \"width\": 720, \"xaxis\": {\"color\": \"black\", \"domain\": [0.575, 0.875], \"dtick\": 10, \"range\": [31.954, 93.70800000000001], \"showgrid\": false, \"showline\": false, \"showticksuffix\": \"all\", \"tickfont\": {\"size\": 11}, \"tickmode\": \"linear\", \"ticks\": \"\", \"ticksuffix\": \"%\", \"visible\": true, \"zeroline\": false}, \"yaxis\": {\"domain\": [0.0, 0.04], \"range\": [-1, 1], \"showgrid\": false, \"showline\": false, \"visible\": false, \"zeroline\": false}}, {\"showLink\": false, \"linkText\": \"Export to plot.ly\", \"plotlyServerURL\": \"https://plot.ly\"}); \n",
       "}\n",
       "});</script>"
      ],
      "text/vnd.plotly.v1+html": [
       "<div id=\"7fb99fbd-b1f0-4a23-bcfe-ae2698178833\" style=\"height: 550px; width: 720px;\" class=\"plotly-graph-div\"></div><script type=\"text/javascript\">require([\"plotly\"], function(Plotly) { window.PLOTLYENV=window.PLOTLYENV || {};window.PLOTLYENV.BASE_URL=\"https://plot.ly\";\n",
       "if (document.getElementById(\"7fb99fbd-b1f0-4a23-bcfe-ae2698178833\")) {\n",
       "    Plotly.newPlot(\"7fb99fbd-b1f0-4a23-bcfe-ae2698178833\", [{\"locationmode\": \"USA-states\", \"locations\": [null], \"marker\": {\"color\": \"rgb(53,151,143)\", \"line\": {\"width\": 2.5}, \"size\": 12, \"symbol\": \"square-open\"}, \"mode\": \"markers\", \"name\": \"Lowest voting power<br>(< 0.95x average)\", \"type\": \"scattergeo\", \"uid\": \"f8f1857e-bbd2-46ce-9f2f-77f0a7ac9cca\"}, {\"locationmode\": \"USA-states\", \"locations\": [null], \"marker\": {\"color\": \"rgb(230,97,1)\", \"line\": {\"width\": 2.5}, \"size\": 12, \"symbol\": \"square-open\"}, \"mode\": \"markers\", \"name\": \"Highest voting power<br>(> 1.5x average)\", \"opacity\": 1.0, \"type\": \"scattergeo\", \"uid\": \"fade68ed-5042-4bc5-9677-ca6be66f8356\"}, {\"autocolorscale\": false, \"colorscale\": [[0.0, \"rgb(255,255,255)\"], [1.0, \"rgb(99,99,99)\"]], \"geo\": \"geo\", \"locationmode\": \"USA-states\", \"locations\": [\"ID\", \"NM\", \"KS\", \"MS\", \"NV\", \"AR\", \"UT\", \"IA\", \"CT\", \"OK\", \"OR\", \"KY\", \"LA\", \"AL\", \"SC\", \"MN\", \"CO\", \"WI\", \"MD\", \"MO\", \"IN\", \"TN\", \"MA\", \"WA\", \"MI\", \"CA\", \"TX\", \"FL\", \"NY\", \"PA\", \"IL\", \"OH\", \"GA\", \"NC\", \"NJ\", \"VA\", \"AZ\", \"NE\", \"WV\", \"HI\", \"NH\", \"ME\", \"RI\", \"MT\", \"DE\", \"SD\", \"ND\", \"AK\", \"DC\", \"VT\", \"WY\"], \"marker\": {\"line\": {\"color\": [\"black\", \"black\", \"black\", \"black\", \"black\", \"black\", \"black\", \"black\", \"black\", \"black\", \"black\", \"black\", \"black\", \"black\", \"black\", \"black\", \"black\", \"black\", \"black\", \"black\", \"black\", \"black\", \"black\", \"black\", \"black\", \"rgb(53,151,143)\", \"rgb(53,151,143)\", \"rgb(53,151,143)\", \"rgb(53,151,143)\", \"rgb(53,151,143)\", \"rgb(53,151,143)\", \"rgb(53,151,143)\", \"rgb(53,151,143)\", \"rgb(53,151,143)\", \"rgb(53,151,143)\", \"rgb(53,151,143)\", \"rgb(53,151,143)\", \"rgb(230,97,1)\", \"rgb(230,97,1)\", \"rgb(230,97,1)\", \"rgb(230,97,1)\", \"rgb(230,97,1)\", \"rgb(230,97,1)\", \"rgb(230,97,1)\", \"rgb(230,97,1)\", \"rgb(230,97,1)\", \"rgb(230,97,1)\", \"rgb(230,97,1)\", \"rgb(230,97,1)\", \"rgb(230,97,1)\", \"rgb(230,97,1)\"], \"width\": [0.2, 0.2, 0.2, 0.2, 0.2, 0.2, 0.2, 0.2, 0.2, 0.2, 0.2, 0.2, 0.2, 0.2, 0.2, 0.2, 0.2, 0.2, 0.2, 0.2, 0.2, 0.2, 0.2, 0.2, 0.2, 2.5, 2.5, 2.5, 2.5, 2.5, 2.5, 2.5, 2.5, 2.5, 2.5, 2.5, 2.5, 2.5, 2.5, 2.5, 2.5, 2.5, 2.5, 2.5, 2.5, 2.5, 2.5, 2.5, 2.5, 2.5, 2.5]}}, \"showscale\": false, \"z\": [82.0, 37.4, 75.9, 56.6, 48.8, 72.3, 78.3, 85.9, 66.7, 65.6, 75.6, 84.6, 58.5, 65.5, 63.6, 79.9, 68.2, 81.2, 50.7, 79.4, 79.2, 73.9, 71.5, 68.6, 75.0, 37.0, 41.9, 53.8, 55.1, 76.4, 61.2, 78.9, 52.6, 63.0, 54.8, 61.7, 54.7, 79.0, 92.0, 21.8, 90.3, 93.4, 72.1, 86.3, 62.2, 82.3, 84.4, 60.6, 36.5, 92.8, 84.0], \"zmax\": 93.4, \"zmin\": 31.8, \"type\": \"choropleth\", \"uid\": \"31178044-c4be-4394-8475-e25e2629f123\"}, {\"marker\": {\"cmax\": 93.4, \"cmin\": 31.8, \"color\": [31.8, 32.416000000000004, 33.032000000000004, 33.648, 34.264, 34.88, 35.496, 36.112, 36.728, 37.344, 37.96, 38.576, 39.192, 39.808, 40.42400000000001, 41.040000000000006, 41.656000000000006, 42.272000000000006, 42.888000000000005, 43.504000000000005, 44.120000000000005, 44.736000000000004, 45.352000000000004, 45.968, 46.584, 47.2, 47.816, 48.432, 49.048, 49.664, 50.28, 50.896, 51.512, 52.128, 52.744, 53.36, 53.976, 54.592000000000006, 55.208000000000006, 55.824000000000005, 56.440000000000005, 57.056000000000004, 57.672000000000004, 58.288000000000004, 58.90400000000001, 59.52000000000001, 60.13600000000001, 60.75200000000001, 61.36800000000001, 61.98400000000001, 62.60000000000001, 63.21600000000001, 63.83200000000001, 64.44800000000001, 65.06400000000001, 65.68, 66.296, 66.912, 67.528, 68.144, 68.76, 69.376, 69.992, 70.608, 71.224, 71.84, 72.456, 73.072, 73.688, 74.304, 74.92, 75.536, 76.152, 76.76800000000001, 77.38400000000001, 78.00000000000001, 78.61600000000001, 79.23200000000001, 79.84800000000001, 80.46400000000001, 81.08000000000001, 81.69600000000001, 82.31200000000001, 82.92800000000001, 83.54400000000001, 84.16000000000001, 84.77600000000001, 85.39200000000001, 86.00800000000001, 86.62400000000001, 87.24000000000001, 87.85600000000001, 88.47200000000001, 89.08800000000001, 89.70400000000001, 90.32000000000001, 90.936, 91.552, 92.168, 92.784, 93.4], \"colorscale\": [[0.0, \"rgb(255,255,255)\"], [1.0, \"rgb(99,99,99)\"]], \"line\": {\"width\": 0}, \"size\": 15, \"symbol\": \"square\"}, \"mode\": \"markers\", \"name\": \"what\", \"showlegend\": false, \"x\": [34.264, 34.88, 35.496, 36.112, 36.728, 37.344, 37.96, 38.576, 39.192, 39.808, 40.42400000000001, 41.040000000000006, 41.656000000000006, 42.272000000000006, 42.888000000000005, 43.504000000000005, 44.120000000000005, 44.736000000000004, 45.352000000000004, 45.968, 46.584, 47.2, 47.816, 48.432, 49.048, 49.664, 50.28, 50.896, 51.512, 52.128, 52.744, 53.36, 53.976, 54.592000000000006, 55.208000000000006, 55.824000000000005, 56.440000000000005, 57.056000000000004, 57.672000000000004, 58.288000000000004, 58.90400000000001, 59.52000000000001, 60.13600000000001, 60.75200000000001, 61.36800000000001, 61.98400000000001, 62.60000000000001, 63.21600000000001, 63.83200000000001, 64.44800000000001, 65.06400000000001, 65.68, 66.296, 66.912, 67.528, 68.144, 68.76, 69.376, 69.992, 70.608, 71.224, 71.84, 72.456, 73.072, 73.688, 74.304, 74.92, 75.536, 76.152, 76.76800000000001, 77.38400000000001, 78.00000000000001, 78.61600000000001, 79.23200000000001, 79.84800000000001, 80.46400000000001, 81.08000000000001, 81.69600000000001, 82.31200000000001, 82.92800000000001, 83.54400000000001, 84.16000000000001, 84.77600000000001, 85.39200000000001, 86.00800000000001, 86.62400000000001, 87.24000000000001, 87.85600000000001, 88.47200000000001, 89.08800000000001, 89.70400000000001, 90.32000000000001, 90.936, 91.552, 92.168, 92.784, 93.4, 94.016, 94.632, 95.248, 95.864], \"y\": [0, 0, 0, 0, 0, 0, 0, 0, 0, 0, 0, 0, 0, 0, 0, 0, 0, 0, 0, 0, 0, 0, 0, 0, 0, 0, 0, 0, 0, 0, 0, 0, 0, 0, 0, 0, 0, 0, 0, 0, 0, 0, 0, 0, 0, 0, 0, 0, 0, 0, 0, 0, 0, 0, 0, 0, 0, 0, 0, 0, 0, 0, 0, 0, 0, 0, 0, 0, 0, 0, 0, 0, 0, 0, 0, 0, 0, 0, 0, 0, 0, 0, 0, 0, 0, 0, 0, 0, 0, 0, 0, 0, 0, 0, 0, 0, 0, 0, 0, 0, 0], \"type\": \"scatter\", \"uid\": \"d680fce5-aaa4-4da8-ba99-ea9193bd23d3\"}], {\"annotations\": [{\"align\": \"right\", \"font\": {\"color\": \"lightgray\", \"family\": \"Andale Mono\", \"size\": 10}, \"showarrow\": false, \"text\": \"04/22/2019<br>@jeremy_m_joseph\", \"x\": 0.9, \"xanchor\": \"right\", \"xref\": \"paper\", \"y\": -0.13, \"yanchor\": \"bottom\", \"yref\": \"paper\"}], \"dragmode\": false, \"geo\": {\"domain\": {\"x\": [0, 1.0], \"y\": [0.1, 1.0]}, \"lakecolor\": \"rgb(255, 255, 255)\", \"projection\": {\"type\": \"albers usa\"}, \"scope\": \"usa\", \"showlakes\": false}, \"height\": 550, \"legend\": {\"font\": {\"size\": 11}, \"orientation\": \"h\", \"tracegroupgap\": 10, \"traceorder\": \"reversed\", \"x\": 0.525, \"xanchor\": \"right\", \"y\": 0.06, \"yanchor\": \"top\"}, \"margin\": {\"autoexpand\": false, \"b\": 60, \"l\": 0, \"r\": 0, \"t\": 70}, \"plot_bgcolor\": \"black\", \"shapes\": [{\"fillcolor\": \"black\", \"layer\": \"above\", \"line\": {\"width\": 0}, \"type\": \"rect\", \"x0\": 31.184, \"x1\": 31.8, \"xref\": \"x\", \"xsizemode\": \"scaled\", \"y0\": -1, \"y1\": 1, \"yref\": \"y\", \"ysizemode\": \"scaled\"}, {\"fillcolor\": \"black\", \"layer\": \"above\", \"line\": {\"width\": 0}, \"type\": \"rect\", \"x0\": 93.4, \"x1\": 94.016, \"xref\": \"x\", \"xsizemode\": \"scaled\", \"y0\": -1, \"y1\": 1, \"yref\": \"y\", \"ysizemode\": \"scaled\"}], \"showlegend\": true, \"title\": {\"pad\": {\"b\": 20}, \"text\": \"Percent <b>White</b> Population And Voting Power Extremes\", \"y\": 1.0, \"yanchor\": \"bottom\", \"yref\": \"paper\"}, \"width\": 720, \"xaxis\": {\"color\": \"black\", \"domain\": [0.575, 0.875], \"dtick\": 10, \"range\": [31.954, 93.70800000000001], \"showgrid\": false, \"showline\": false, \"showticksuffix\": \"all\", \"tickfont\": {\"size\": 11}, \"tickmode\": \"linear\", \"ticks\": \"\", \"ticksuffix\": \"%\", \"visible\": true, \"zeroline\": false}, \"yaxis\": {\"domain\": [0.0, 0.04], \"range\": [-1, 1], \"showgrid\": false, \"showline\": false, \"visible\": false, \"zeroline\": false}}, {\"showLink\": false, \"linkText\": \"Export to plot.ly\", \"plotlyServerURL\": \"https://plot.ly\"}); \n",
       "}\n",
       "});</script>"
      ]
     },
     "metadata": {},
     "output_type": "display_data"
    }
   ],
   "source": [
    "# Plot choropleth of racial percentage by state with high/low voting power highlighted\n",
    "def create_racial_plot2(rkey, adj_min=0, adj_max=0):\n",
    "    most = Or #Pi\n",
    "    least = BG #G\n",
    "    grayscale = [\n",
    "        [0.0, 'rgb(255,255,255)'],\n",
    "        [1.0, 'rgb(99,99,99)']\n",
    "    ]\n",
    "\n",
    "    # Rearrange states so highlighted ones get drawn last\n",
    "    reorder_idx = []   # for faster insertions, probably should use deque\n",
    "    for i in range(51):\n",
    "        if norm_states_vp[i] < .95 or norm_states_vp[i] > 1.5:\n",
    "            reorder_idx.append(i)\n",
    "        else:\n",
    "            reorder_idx.insert(0, i)\n",
    "\n",
    "    race_keys = [('White', 'HC03_VC99'),\n",
    "                 ('Hispanic/Latino', 'HC03_VC93'),\n",
    "                 ('Black/African American', 'HC03_VC100'),\n",
    "                 ('Asian', 'HC03_VC102')]\n",
    "\n",
    "    race_percent = [census_df.loc[states[idx], race_keys[rkey][1]] for idx in reorder_idx]\n",
    "    race = race_keys[rkey][0]\n",
    "    race_min = min(race_percent) + adj_min\n",
    "    race_max = max(race_percent) - adj_max\n",
    "    \n",
    "    plot_w = 900\n",
    "    plot_h = 600\n",
    "\n",
    "    r_map = go.Choropleth(\n",
    "        colorscale=grayscale,\n",
    "        autocolorscale=False,\n",
    "        #reversescale=True,\n",
    "        locations=[abbrev_df.loc[states[idx], 'Postal Code'] for idx in reorder_idx], # Needs abbreviations\n",
    "        z=race_percent,\n",
    "        locationmode='USA-states',\n",
    "        marker=dict(\n",
    "            line=dict(\n",
    "                color=[most if norm_states_vp[idx] > 1.5 \n",
    "                       else least if norm_states_vp[idx] < .95 \n",
    "                       else 'black' for idx in reorder_idx],\n",
    "                width=[2.5 if norm_states_vp[idx] > 1.5 \n",
    "                       else 2.5 if norm_states_vp[idx] < .95 \n",
    "                       else 0.2 for idx in reorder_idx],\n",
    "            )\n",
    "        ),\n",
    "        #zauto=True,\n",
    "        zmin=race_min,\n",
    "        zmax=race_max,\n",
    "        showscale=False,\n",
    "        geo='geo',\n",
    "    )\n",
    "\n",
    "    most_outline = go.Scattergeo(\n",
    "        locations=[None],\n",
    "        locationmode='USA-states',\n",
    "        name='Highest voting power<br>' + \\\n",
    "             '(> 1.5x average)',\n",
    "        mode='markers',\n",
    "        opacity=1.0,\n",
    "        marker=dict(\n",
    "            symbol='square-open',\n",
    "            size=12,\n",
    "            color=most,\n",
    "            line=dict(\n",
    "                width=2.5,\n",
    "            )\n",
    "        )\n",
    "    )\n",
    "\n",
    "    least_outline = go.Scattergeo(\n",
    "        locations=[None],\n",
    "        locationmode='USA-states',\n",
    "        name='Lowest voting power<br>' + \\\n",
    "             '(< 0.95x average)',\n",
    "        mode='markers',\n",
    "        marker=dict(\n",
    "            symbol='square-open',\n",
    "            size=12,\n",
    "            color=least,\n",
    "            line=dict(\n",
    "                width=2.5,\n",
    "            )\n",
    "        )\n",
    "    )\n",
    "    \n",
    "    bar_pixel = 15\n",
    "#     horiz_colorbar = go.Scatter(\n",
    "#         x=list(range(int(race_min), int(race_max), 1)),\n",
    "#         y=[0]*int(race_max - race_min + 1),\n",
    "#         showlegend=False,\n",
    "#         name='what',\n",
    "#         mode='markers',\n",
    "#         marker=dict(\n",
    "#             symbol='square',\n",
    "#             size=bar_pixel,\n",
    "#             color=list(range(int(race_min), int(race_max), 1)),\n",
    "#             colorscale=grayscale,\n",
    "#             cmin=race_min,\n",
    "#             cmax=race_max,\n",
    "#             line=dict(\n",
    "#                 color=None,\n",
    "#                 width=0,\n",
    "#             )\n",
    "#         )\n",
    "#     )\n",
    "    \n",
    "    cb_res = 100\n",
    "    cb_step = (race_max - race_min) / float(cb_res)\n",
    "    horiz_colorbar = go.Scatter(\n",
    "        x=[cb_step*(x+4) + race_min for x in range(cb_res+1)],\n",
    "        y=[0]*(cb_res+1),\n",
    "        showlegend=False,\n",
    "        name='what',\n",
    "        mode='markers',\n",
    "        marker=dict(\n",
    "            symbol='square',\n",
    "            size=bar_pixel,\n",
    "            color=[cb_step*x + race_min for x in range(cb_res+1)],\n",
    "            colorscale=grayscale,\n",
    "            cmin=race_min,\n",
    "            cmax=race_max,\n",
    "            line=dict(\n",
    "                color=None,\n",
    "                width=0,\n",
    "            )\n",
    "        )\n",
    "    )\n",
    "    \n",
    "    data = [least_outline, most_outline, r_map, horiz_colorbar]\n",
    "\n",
    "    layout = go.Layout(\n",
    "        title=go.layout.Title(\n",
    "            text='Percent <b>'+race+'</b> Population And Voting Power Extremes',\n",
    "            yref='paper',\n",
    "            y=1.0,\n",
    "            yanchor='bottom',\n",
    "            pad=dict( # unit: pixels\n",
    "                b=20,\n",
    "            ),\n",
    "        ),\n",
    "        width=plot_w-160-20,\n",
    "        height=plot_h-50,\n",
    "        dragmode=False,\n",
    "        geo=go.layout.Geo(\n",
    "            scope='usa',\n",
    "            projection=go.layout.geo.Projection(type = 'albers usa'),\n",
    "            showlakes=False,\n",
    "            lakecolor='rgb(255, 255, 255)',\n",
    "            domain=dict(\n",
    "                x=[0,1.0],\n",
    "                y=[0.1,1.0],\n",
    "            ),\n",
    "        ),\n",
    "        showlegend=True,\n",
    "        legend=dict(\n",
    "            orientation='h',\n",
    "            traceorder='reversed',\n",
    "            tracegroupgap=10,\n",
    "            font=dict(\n",
    "                size=11\n",
    "            ),\n",
    "            x=0.525,\n",
    "            xanchor='right',\n",
    "            y=0.06,\n",
    "            yanchor='top'\n",
    "        ),\n",
    "        \n",
    "        margin=dict(\n",
    "            l=0,\n",
    "            r=0,\n",
    "            t=70,\n",
    "            b=60,\n",
    "            autoexpand=False,\n",
    "        ),\n",
    "        annotations=[dict(\n",
    "            text='04/22/2019<br>@jeremy_m_joseph',\n",
    "            font=dict(\n",
    "                family='Andale Mono',\n",
    "                size=10,\n",
    "                color='lightgray',\n",
    "            ),\n",
    "            x=.9,\n",
    "            y=-.13,\n",
    "            xref='paper',\n",
    "            yref='paper',\n",
    "            align='right',\n",
    "            xanchor='right',\n",
    "            yanchor='bottom',\n",
    "            showarrow=False,\n",
    "        ),]\n",
    "    )\n",
    "    \n",
    "    # Add horizontal colorbar\n",
    "    layout.update(dict(\n",
    "        xaxis=dict(\n",
    "            domain=[0.575, .875],\n",
    "            visible=True,\n",
    "            range=[race_min + (cb_step/4.0),\n",
    "                   race_max + (cb_step/2.0)],\n",
    "            #range=[race_min-3.25, race_max+1],\n",
    "            #range=[race_min-2, race_max],\n",
    "            ticksuffix='%',\n",
    "            showticksuffix='all',\n",
    "            tickfont=dict(\n",
    "                size=11,\n",
    "            ),\n",
    "            tickmode='linear',\n",
    "            dtick=10,\n",
    "            ticks='',\n",
    "            showline=False,\n",
    "            showgrid=False,\n",
    "            zeroline=False,\n",
    "            color='black'\n",
    "        ),\n",
    "        yaxis=dict(\n",
    "            domain=[0.0, 0.04],\n",
    "            visible=False,\n",
    "            range=[-1, 1],\n",
    "            showline=False,\n",
    "            showgrid=False,\n",
    "            zeroline=False,\n",
    "        ),\n",
    "        plot_bgcolor='black',\n",
    "        shapes=[\n",
    "            dict(\n",
    "                type='rect',\n",
    "                layer='above',\n",
    "                xref='x',\n",
    "                xsizemode='scaled',\n",
    "                yref='y',\n",
    "                ysizemode='scaled',\n",
    "                x0=race_min - cb_step, #replace\n",
    "                x1=race_min,\n",
    "                y0=-1,\n",
    "                y1=1,\n",
    "                fillcolor='black',\n",
    "                line=dict(\n",
    "                    width=0,\n",
    "                )\n",
    "            ),\n",
    "            dict(\n",
    "                type='rect',\n",
    "                layer='above',\n",
    "                xref='x',\n",
    "                xsizemode='scaled',\n",
    "                yref='y',\n",
    "                ysizemode='scaled',\n",
    "                x0=race_max,\n",
    "                x1=race_max + cb_step,\n",
    "                y0=-1,\n",
    "                y1=1,\n",
    "                fillcolor='black',\n",
    "                line=dict(\n",
    "                    width=0,\n",
    "                ),\n",
    "            )]\n",
    "    ))\n",
    "\n",
    "\n",
    "    fig = go.Figure(data=data, layout=layout)\n",
    "    plotly.offline.init_notebook_mode(connected=True)\n",
    "    plotly.offline.iplot(fig)\n",
    "    \n",
    "    return fig\n",
    "    \n",
    "# white: 0, adj_min = 10 (Hawaii)\n",
    "# hispanic: 1\n",
    "# black: 2, adj_max = 5 (DC)\n",
    "# asian: 3, adj_max = 20 (Hawaii)\n",
    "fig = create_racial_plot2(0, adj_min=10)"
   ]
  },
  {
   "cell_type": "code",
   "execution_count": 123,
   "metadata": {},
   "outputs": [],
   "source": [
    "pio.write_image(fig, 'images/mock_bottom_margin7_bold2.png', format='png', scale=3.0)"
   ]
  },
  {
   "cell_type": "code",
   "execution_count": 379,
   "metadata": {},
   "outputs": [
    {
     "data": {
      "text/html": [
       "<script type=\"text/javascript\">window.PlotlyConfig = {MathJaxConfig: 'local'};</script><script type=\"text/javascript\">if (window.MathJax) {MathJax.Hub.Config({SVG: {font: \"STIX-Web\"}});}</script><script>requirejs.config({paths: { 'plotly': ['https://cdn.plot.ly/plotly-latest.min']},});if(!window._Plotly) {require(['plotly'],function(plotly) {window._Plotly=plotly;});}</script>"
      ],
      "text/vnd.plotly.v1+html": [
       "<script type=\"text/javascript\">window.PlotlyConfig = {MathJaxConfig: 'local'};</script><script type=\"text/javascript\">if (window.MathJax) {MathJax.Hub.Config({SVG: {font: \"STIX-Web\"}});}</script><script>requirejs.config({paths: { 'plotly': ['https://cdn.plot.ly/plotly-latest.min']},});if(!window._Plotly) {require(['plotly'],function(plotly) {window._Plotly=plotly;});}</script>"
      ]
     },
     "metadata": {},
     "output_type": "display_data"
    },
    {
     "data": {
      "application/vnd.plotly.v1+json": {
       "config": {
        "linkText": "Export to plot.ly",
        "plotlyServerURL": "https://plot.ly",
        "showLink": false
       },
       "data": [
        {
         "locationmode": "USA-states",
         "locations": [
          null
         ],
         "marker": {
          "color": "rgb(77,172,38)",
          "line": {
           "width": 2.5
          },
          "size": 12,
          "symbol": "square-open"
         },
         "mode": "markers",
         "name": "Below 0.95x Average Voting Power",
         "type": "scattergeo",
         "uid": "c4a1bc1e-4449-43a2-b893-adc3f440d9bc"
        },
        {
         "locationmode": "USA-states",
         "locations": [
          null
         ],
         "marker": {
          "color": "rgb(208,28, 139)",
          "line": {
           "width": 2.5
          },
          "size": 12,
          "symbol": "square-open"
         },
         "mode": "markers",
         "name": "Above 1.5x Average Voting Power",
         "opacity": 1,
         "type": "scattergeo",
         "uid": "98217a07-5aa6-4708-8048-4fcf59e7045a"
        },
        {
         "autocolorscale": false,
         "colorbar": {
          "ticksuffix": "%",
          "title": {
           "text": ""
          }
         },
         "colorscale": [
          [
           0,
           "rgb(255,255,255)"
          ],
          [
           1,
           "rgb(99,99,99)"
          ]
         ],
         "geo": "geo",
         "locationmode": "USA-states",
         "locations": [
          "ID",
          "NM",
          "KS",
          "MS",
          "NV",
          "AR",
          "UT",
          "IA",
          "CT",
          "OK",
          "OR",
          "KY",
          "LA",
          "AL",
          "SC",
          "MN",
          "CO",
          "WI",
          "MD",
          "MO",
          "IN",
          "TN",
          "MA",
          "WA",
          "MI",
          "CA",
          "TX",
          "FL",
          "NY",
          "PA",
          "IL",
          "OH",
          "GA",
          "NC",
          "NJ",
          "VA",
          "AZ",
          "NE",
          "WV",
          "HI",
          "NH",
          "ME",
          "RI",
          "MT",
          "DE",
          "SD",
          "ND",
          "AK",
          "DC",
          "VT",
          "WY"
         ],
         "marker": {
          "line": {
           "color": [
            "black",
            "black",
            "black",
            "black",
            "black",
            "black",
            "black",
            "black",
            "black",
            "black",
            "black",
            "black",
            "black",
            "black",
            "black",
            "black",
            "black",
            "black",
            "black",
            "black",
            "black",
            "black",
            "black",
            "black",
            "black",
            "rgb(77,172,38)",
            "rgb(77,172,38)",
            "rgb(77,172,38)",
            "rgb(77,172,38)",
            "rgb(77,172,38)",
            "rgb(77,172,38)",
            "rgb(77,172,38)",
            "rgb(77,172,38)",
            "rgb(77,172,38)",
            "rgb(77,172,38)",
            "rgb(77,172,38)",
            "rgb(77,172,38)",
            "rgb(208,28, 139)",
            "rgb(208,28, 139)",
            "rgb(208,28, 139)",
            "rgb(208,28, 139)",
            "rgb(208,28, 139)",
            "rgb(208,28, 139)",
            "rgb(208,28, 139)",
            "rgb(208,28, 139)",
            "rgb(208,28, 139)",
            "rgb(208,28, 139)",
            "rgb(208,28, 139)",
            "rgb(208,28, 139)",
            "rgb(208,28, 139)",
            "rgb(208,28, 139)"
           ],
           "width": [
            1,
            1,
            1,
            1,
            1,
            1,
            1,
            1,
            1,
            1,
            1,
            1,
            1,
            1,
            1,
            1,
            1,
            1,
            1,
            1,
            1,
            1,
            1,
            1,
            1,
            2.5,
            2.5,
            2.5,
            2.5,
            2.5,
            2.5,
            2.5,
            2.5,
            2.5,
            2.5,
            2.5,
            2.5,
            2.5,
            2.5,
            2.5,
            2.5,
            2.5,
            2.5,
            2.5,
            2.5,
            2.5,
            2.5,
            2.5,
            2.5,
            2.5,
            2.5
           ]
          }
         },
         "type": "choropleth",
         "uid": "cabe9cb7-74ed-4a9d-ae91-251f878616d5",
         "z": [
          12.4,
          48.8,
          11.9,
          2.9,
          28.8,
          7.4,
          14,
          5.9,
          16.1,
          10.6,
          13.1,
          3.5,
          5.2,
          4.1,
          5.7,
          5.3,
          21.5,
          6.9,
          10.1,
          4.2,
          6.9,
          5.4,
          11.8,
          12.7,
          5.1,
          39.1,
          39.4,
          25.6,
          19.2,
          7.3,
          17.2,
          3.7,
          9.6,
          9.4,
          20.4,
          9.3,
          31.4,
          10.9,
          1.3,
          10.5,
          3.8,
          1.6,
          15.4,
          3.7,
          9.3,
          3.6,
          3.5,
          7,
          11,
          1.9,
          10
         ],
         "zmax": 48.8,
         "zmin": 1.3
        }
       ],
       "layout": {
        "dragmode": false,
        "geo": {
         "lakecolor": "rgb(255, 255, 255)",
         "projection": {
          "type": "albers usa"
         },
         "scope": "usa",
         "showlakes": true
        },
        "height": 600,
        "legend": {
         "orientation": "h",
         "x": 0.5,
         "xanchor": "center",
         "y": -0.01
        },
        "showlegend": true,
        "title": {
         "pad": {
          "b": 20
         },
         "text": "Percent <b>Hispanic/Latino</b> Population By State",
         "y": 1,
         "yanchor": "bottom",
         "yref": "paper"
        },
        "width": 900
       }
      },
      "text/html": [
       "<div id=\"97eda903-21e1-4eaf-a7c3-cc5d830c59ec\" style=\"height: 600px; width: 900px;\" class=\"plotly-graph-div\"></div><script type=\"text/javascript\">require([\"plotly\"], function(Plotly) { window.PLOTLYENV=window.PLOTLYENV || {};window.PLOTLYENV.BASE_URL=\"https://plot.ly\";\n",
       "if (document.getElementById(\"97eda903-21e1-4eaf-a7c3-cc5d830c59ec\")) {\n",
       "    Plotly.newPlot(\"97eda903-21e1-4eaf-a7c3-cc5d830c59ec\", [{\"locationmode\": \"USA-states\", \"locations\": [null], \"marker\": {\"color\": \"rgb(77,172,38)\", \"line\": {\"width\": 2.5}, \"size\": 12, \"symbol\": \"square-open\"}, \"mode\": \"markers\", \"name\": \"Below 0.95x Average Voting Power\", \"type\": \"scattergeo\", \"uid\": \"c4a1bc1e-4449-43a2-b893-adc3f440d9bc\"}, {\"locationmode\": \"USA-states\", \"locations\": [null], \"marker\": {\"color\": \"rgb(208,28, 139)\", \"line\": {\"width\": 2.5}, \"size\": 12, \"symbol\": \"square-open\"}, \"mode\": \"markers\", \"name\": \"Above 1.5x Average Voting Power\", \"opacity\": 1.0, \"type\": \"scattergeo\", \"uid\": \"98217a07-5aa6-4708-8048-4fcf59e7045a\"}, {\"autocolorscale\": false, \"colorbar\": {\"ticksuffix\": \"%\", \"title\": {\"text\": \"\"}}, \"colorscale\": [[0.0, \"rgb(255,255,255)\"], [1.0, \"rgb(99,99,99)\"]], \"geo\": \"geo\", \"locationmode\": \"USA-states\", \"locations\": [\"ID\", \"NM\", \"KS\", \"MS\", \"NV\", \"AR\", \"UT\", \"IA\", \"CT\", \"OK\", \"OR\", \"KY\", \"LA\", \"AL\", \"SC\", \"MN\", \"CO\", \"WI\", \"MD\", \"MO\", \"IN\", \"TN\", \"MA\", \"WA\", \"MI\", \"CA\", \"TX\", \"FL\", \"NY\", \"PA\", \"IL\", \"OH\", \"GA\", \"NC\", \"NJ\", \"VA\", \"AZ\", \"NE\", \"WV\", \"HI\", \"NH\", \"ME\", \"RI\", \"MT\", \"DE\", \"SD\", \"ND\", \"AK\", \"DC\", \"VT\", \"WY\"], \"marker\": {\"line\": {\"color\": [\"black\", \"black\", \"black\", \"black\", \"black\", \"black\", \"black\", \"black\", \"black\", \"black\", \"black\", \"black\", \"black\", \"black\", \"black\", \"black\", \"black\", \"black\", \"black\", \"black\", \"black\", \"black\", \"black\", \"black\", \"black\", \"rgb(77,172,38)\", \"rgb(77,172,38)\", \"rgb(77,172,38)\", \"rgb(77,172,38)\", \"rgb(77,172,38)\", \"rgb(77,172,38)\", \"rgb(77,172,38)\", \"rgb(77,172,38)\", \"rgb(77,172,38)\", \"rgb(77,172,38)\", \"rgb(77,172,38)\", \"rgb(77,172,38)\", \"rgb(208,28, 139)\", \"rgb(208,28, 139)\", \"rgb(208,28, 139)\", \"rgb(208,28, 139)\", \"rgb(208,28, 139)\", \"rgb(208,28, 139)\", \"rgb(208,28, 139)\", \"rgb(208,28, 139)\", \"rgb(208,28, 139)\", \"rgb(208,28, 139)\", \"rgb(208,28, 139)\", \"rgb(208,28, 139)\", \"rgb(208,28, 139)\", \"rgb(208,28, 139)\"], \"width\": [1.0, 1.0, 1.0, 1.0, 1.0, 1.0, 1.0, 1.0, 1.0, 1.0, 1.0, 1.0, 1.0, 1.0, 1.0, 1.0, 1.0, 1.0, 1.0, 1.0, 1.0, 1.0, 1.0, 1.0, 1.0, 2.5, 2.5, 2.5, 2.5, 2.5, 2.5, 2.5, 2.5, 2.5, 2.5, 2.5, 2.5, 2.5, 2.5, 2.5, 2.5, 2.5, 2.5, 2.5, 2.5, 2.5, 2.5, 2.5, 2.5, 2.5, 2.5]}}, \"z\": [12.4, 48.8, 11.9, 2.9, 28.8, 7.4, 14.0, 5.9, 16.1, 10.6, 13.1, 3.5, 5.2, 4.1, 5.7, 5.3, 21.5, 6.9, 10.1, 4.2, 6.9, 5.4, 11.8, 12.7, 5.1, 39.1, 39.4, 25.6, 19.2, 7.3, 17.2, 3.7, 9.6, 9.4, 20.4, 9.3, 31.4, 10.9, 1.3, 10.5, 3.8, 1.6, 15.4, 3.7, 9.3, 3.6, 3.5, 7.0, 11.0, 1.9, 10.0], \"zmax\": 48.8, \"zmin\": 1.3, \"type\": \"choropleth\", \"uid\": \"cabe9cb7-74ed-4a9d-ae91-251f878616d5\"}], {\"dragmode\": false, \"geo\": {\"lakecolor\": \"rgb(255, 255, 255)\", \"projection\": {\"type\": \"albers usa\"}, \"scope\": \"usa\", \"showlakes\": true}, \"height\": 600, \"legend\": {\"orientation\": \"h\", \"x\": 0.5, \"xanchor\": \"center\", \"y\": -0.01}, \"showlegend\": true, \"title\": {\"pad\": {\"b\": 20}, \"text\": \"Percent <b>Hispanic/Latino</b> Population By State\", \"y\": 1.0, \"yanchor\": \"bottom\", \"yref\": \"paper\"}, \"width\": 900}, {\"showLink\": false, \"linkText\": \"Export to plot.ly\", \"plotlyServerURL\": \"https://plot.ly\"}); \n",
       "}\n",
       "});</script>"
      ],
      "text/vnd.plotly.v1+html": [
       "<div id=\"97eda903-21e1-4eaf-a7c3-cc5d830c59ec\" style=\"height: 600px; width: 900px;\" class=\"plotly-graph-div\"></div><script type=\"text/javascript\">require([\"plotly\"], function(Plotly) { window.PLOTLYENV=window.PLOTLYENV || {};window.PLOTLYENV.BASE_URL=\"https://plot.ly\";\n",
       "if (document.getElementById(\"97eda903-21e1-4eaf-a7c3-cc5d830c59ec\")) {\n",
       "    Plotly.newPlot(\"97eda903-21e1-4eaf-a7c3-cc5d830c59ec\", [{\"locationmode\": \"USA-states\", \"locations\": [null], \"marker\": {\"color\": \"rgb(77,172,38)\", \"line\": {\"width\": 2.5}, \"size\": 12, \"symbol\": \"square-open\"}, \"mode\": \"markers\", \"name\": \"Below 0.95x Average Voting Power\", \"type\": \"scattergeo\", \"uid\": \"c4a1bc1e-4449-43a2-b893-adc3f440d9bc\"}, {\"locationmode\": \"USA-states\", \"locations\": [null], \"marker\": {\"color\": \"rgb(208,28, 139)\", \"line\": {\"width\": 2.5}, \"size\": 12, \"symbol\": \"square-open\"}, \"mode\": \"markers\", \"name\": \"Above 1.5x Average Voting Power\", \"opacity\": 1.0, \"type\": \"scattergeo\", \"uid\": \"98217a07-5aa6-4708-8048-4fcf59e7045a\"}, {\"autocolorscale\": false, \"colorbar\": {\"ticksuffix\": \"%\", \"title\": {\"text\": \"\"}}, \"colorscale\": [[0.0, \"rgb(255,255,255)\"], [1.0, \"rgb(99,99,99)\"]], \"geo\": \"geo\", \"locationmode\": \"USA-states\", \"locations\": [\"ID\", \"NM\", \"KS\", \"MS\", \"NV\", \"AR\", \"UT\", \"IA\", \"CT\", \"OK\", \"OR\", \"KY\", \"LA\", \"AL\", \"SC\", \"MN\", \"CO\", \"WI\", \"MD\", \"MO\", \"IN\", \"TN\", \"MA\", \"WA\", \"MI\", \"CA\", \"TX\", \"FL\", \"NY\", \"PA\", \"IL\", \"OH\", \"GA\", \"NC\", \"NJ\", \"VA\", \"AZ\", \"NE\", \"WV\", \"HI\", \"NH\", \"ME\", \"RI\", \"MT\", \"DE\", \"SD\", \"ND\", \"AK\", \"DC\", \"VT\", \"WY\"], \"marker\": {\"line\": {\"color\": [\"black\", \"black\", \"black\", \"black\", \"black\", \"black\", \"black\", \"black\", \"black\", \"black\", \"black\", \"black\", \"black\", \"black\", \"black\", \"black\", \"black\", \"black\", \"black\", \"black\", \"black\", \"black\", \"black\", \"black\", \"black\", \"rgb(77,172,38)\", \"rgb(77,172,38)\", \"rgb(77,172,38)\", \"rgb(77,172,38)\", \"rgb(77,172,38)\", \"rgb(77,172,38)\", \"rgb(77,172,38)\", \"rgb(77,172,38)\", \"rgb(77,172,38)\", \"rgb(77,172,38)\", \"rgb(77,172,38)\", \"rgb(77,172,38)\", \"rgb(208,28, 139)\", \"rgb(208,28, 139)\", \"rgb(208,28, 139)\", \"rgb(208,28, 139)\", \"rgb(208,28, 139)\", \"rgb(208,28, 139)\", \"rgb(208,28, 139)\", \"rgb(208,28, 139)\", \"rgb(208,28, 139)\", \"rgb(208,28, 139)\", \"rgb(208,28, 139)\", \"rgb(208,28, 139)\", \"rgb(208,28, 139)\", \"rgb(208,28, 139)\"], \"width\": [1.0, 1.0, 1.0, 1.0, 1.0, 1.0, 1.0, 1.0, 1.0, 1.0, 1.0, 1.0, 1.0, 1.0, 1.0, 1.0, 1.0, 1.0, 1.0, 1.0, 1.0, 1.0, 1.0, 1.0, 1.0, 2.5, 2.5, 2.5, 2.5, 2.5, 2.5, 2.5, 2.5, 2.5, 2.5, 2.5, 2.5, 2.5, 2.5, 2.5, 2.5, 2.5, 2.5, 2.5, 2.5, 2.5, 2.5, 2.5, 2.5, 2.5, 2.5]}}, \"z\": [12.4, 48.8, 11.9, 2.9, 28.8, 7.4, 14.0, 5.9, 16.1, 10.6, 13.1, 3.5, 5.2, 4.1, 5.7, 5.3, 21.5, 6.9, 10.1, 4.2, 6.9, 5.4, 11.8, 12.7, 5.1, 39.1, 39.4, 25.6, 19.2, 7.3, 17.2, 3.7, 9.6, 9.4, 20.4, 9.3, 31.4, 10.9, 1.3, 10.5, 3.8, 1.6, 15.4, 3.7, 9.3, 3.6, 3.5, 7.0, 11.0, 1.9, 10.0], \"zmax\": 48.8, \"zmin\": 1.3, \"type\": \"choropleth\", \"uid\": \"cabe9cb7-74ed-4a9d-ae91-251f878616d5\"}], {\"dragmode\": false, \"geo\": {\"lakecolor\": \"rgb(255, 255, 255)\", \"projection\": {\"type\": \"albers usa\"}, \"scope\": \"usa\", \"showlakes\": true}, \"height\": 600, \"legend\": {\"orientation\": \"h\", \"x\": 0.5, \"xanchor\": \"center\", \"y\": -0.01}, \"showlegend\": true, \"title\": {\"pad\": {\"b\": 20}, \"text\": \"Percent <b>Hispanic/Latino</b> Population By State\", \"y\": 1.0, \"yanchor\": \"bottom\", \"yref\": \"paper\"}, \"width\": 900}, {\"showLink\": false, \"linkText\": \"Export to plot.ly\", \"plotlyServerURL\": \"https://plot.ly\"}); \n",
       "}\n",
       "});</script>"
      ]
     },
     "metadata": {},
     "output_type": "display_data"
    }
   ],
   "source": [
    "create_racial_plot(1)"
   ]
  },
  {
   "cell_type": "code",
   "execution_count": 404,
   "metadata": {},
   "outputs": [],
   "source": [
    "pio.write_image(fig, 'images/legend_bottom.png', format='png', scale=3.0)"
   ]
  },
  {
   "cell_type": "code",
   "execution_count": 22,
   "metadata": {
    "scrolled": false
   },
   "outputs": [
    {
     "data": {
      "text/html": [
       "<script type=\"text/javascript\">window.PlotlyConfig = {MathJaxConfig: 'local'};</script><script type=\"text/javascript\">if (window.MathJax) {MathJax.Hub.Config({SVG: {font: \"STIX-Web\"}});}</script><script>requirejs.config({paths: { 'plotly': ['https://cdn.plot.ly/plotly-latest.min']},});if(!window._Plotly) {require(['plotly'],function(plotly) {window._Plotly=plotly;});}</script>"
      ],
      "text/vnd.plotly.v1+html": [
       "<script type=\"text/javascript\">window.PlotlyConfig = {MathJaxConfig: 'local'};</script><script type=\"text/javascript\">if (window.MathJax) {MathJax.Hub.Config({SVG: {font: \"STIX-Web\"}});}</script><script>requirejs.config({paths: { 'plotly': ['https://cdn.plot.ly/plotly-latest.min']},});if(!window._Plotly) {require(['plotly'],function(plotly) {window._Plotly=plotly;});}</script>"
      ]
     },
     "metadata": {},
     "output_type": "display_data"
    },
    {
     "data": {
      "application/vnd.plotly.v1+json": {
       "config": {
        "linkText": "Export to plot.ly",
        "plotlyServerURL": "https://plot.ly",
        "showLink": false
       },
       "data": [
        {
         "locationmode": "USA-states",
         "locations": [
          null
         ],
         "marker": {
          "color": "rgb(90,180,172)",
          "line": {
           "width": 2.5
          },
          "size": 12,
          "symbol": "square-open"
         },
         "mode": "markers",
         "name": "Lowest voting power<br>(< 0.95x average)",
         "type": "scattergeo",
         "uid": "2222909a-6b49-4b78-9910-c4f4b26b42d2"
        },
        {
         "locationmode": "USA-states",
         "locations": [
          null
         ],
         "marker": {
          "color": "rgb(253,184,99)",
          "line": {
           "width": 2.5
          },
          "size": 12,
          "symbol": "square-open"
         },
         "mode": "markers",
         "name": "Highest voting power<br>(> 1.5x average)",
         "opacity": 1,
         "type": "scattergeo",
         "uid": "f9e35051-159d-47c1-96af-94d2dd0154b8"
        },
        {
         "autocolorscale": false,
         "colorscale": [
          [
           0,
           "rgb(255,255,255)"
          ],
          [
           1,
           "rgb(99,99,99)"
          ]
         ],
         "geo": "geo",
         "locationmode": "USA-states",
         "locations": [
          "ID",
          "NM",
          "KS",
          "MS",
          "NV",
          "AR",
          "UT",
          "IA",
          "CT",
          "OK",
          "OR",
          "KY",
          "LA",
          "AL",
          "SC",
          "MN",
          "CO",
          "WI",
          "MD",
          "MO",
          "IN",
          "TN",
          "MA",
          "WA",
          "MI",
          "CA",
          "TX",
          "FL",
          "NY",
          "PA",
          "IL",
          "OH",
          "GA",
          "NC",
          "NJ",
          "VA",
          "AZ",
          "NE",
          "WV",
          "HI",
          "NH",
          "ME",
          "RI",
          "MT",
          "DE",
          "SD",
          "ND",
          "AK",
          "DC",
          "VT",
          "WY"
         ],
         "marker": {
          "line": {
           "color": [
            "black",
            "black",
            "black",
            "black",
            "black",
            "black",
            "black",
            "black",
            "black",
            "black",
            "black",
            "black",
            "black",
            "black",
            "black",
            "black",
            "black",
            "black",
            "black",
            "black",
            "black",
            "black",
            "black",
            "black",
            "black",
            "rgb(90,180,172)",
            "rgb(90,180,172)",
            "rgb(90,180,172)",
            "rgb(90,180,172)",
            "rgb(90,180,172)",
            "rgb(90,180,172)",
            "rgb(90,180,172)",
            "rgb(90,180,172)",
            "rgb(90,180,172)",
            "rgb(90,180,172)",
            "rgb(90,180,172)",
            "rgb(90,180,172)",
            "rgb(253,184,99)",
            "rgb(253,184,99)",
            "rgb(253,184,99)",
            "rgb(253,184,99)",
            "rgb(253,184,99)",
            "rgb(253,184,99)",
            "rgb(253,184,99)",
            "rgb(253,184,99)",
            "rgb(253,184,99)",
            "rgb(253,184,99)",
            "rgb(253,184,99)",
            "rgb(253,184,99)",
            "rgb(253,184,99)",
            "rgb(253,184,99)"
           ],
           "width": [
            0.2,
            0.2,
            0.2,
            0.2,
            0.2,
            0.2,
            0.2,
            0.2,
            0.2,
            0.2,
            0.2,
            0.2,
            0.2,
            0.2,
            0.2,
            0.2,
            0.2,
            0.2,
            0.2,
            0.2,
            0.2,
            0.2,
            0.2,
            0.2,
            0.2,
            2.5,
            2.5,
            2.5,
            2.5,
            2.5,
            2.5,
            2.5,
            2.5,
            2.5,
            2.5,
            2.5,
            2.5,
            2.5,
            2.5,
            2.5,
            2.5,
            2.5,
            2.5,
            2.5,
            2.5,
            2.5,
            2.5,
            2.5,
            2.5,
            2.5,
            2.5
           ]
          }
         },
         "showscale": false,
         "type": "choropleth",
         "uid": "28c22911-2206-4f39-bca5-a4145dfe1a37",
         "z": [
          0.6,
          1.8,
          5.5,
          37.9,
          8.9,
          15.2,
          1.2,
          3.3,
          9.9,
          7.2,
          1.8,
          8,
          32.1,
          26.7,
          26.8,
          6.4,
          3.9,
          6.3,
          29.4,
          11.4,
          9.2,
          16.6,
          7,
          3.5,
          13.6,
          5.5,
          11.8,
          15.4,
          14.3,
          10.7,
          14,
          12.2,
          31.1,
          21.2,
          12.8,
          18.8,
          4.1,
          4.5,
          3.9,
          1.6,
          1.3,
          1.2,
          5.4,
          0.4,
          21.5,
          1.9,
          3,
          2.9,
          45.3,
          1.2,
          0.9
         ],
         "zmax": 40.3,
         "zmin": 0.4
        },
        {
         "marker": {
          "cmax": 40.3,
          "cmin": 0.4,
          "color": [
           0,
           1,
           2,
           3,
           4,
           5,
           6,
           7,
           8,
           9,
           10,
           11,
           12,
           13,
           14,
           15,
           16,
           17,
           18,
           19,
           20,
           21,
           22,
           23,
           24,
           25,
           26,
           27,
           28,
           29,
           30,
           31,
           32,
           33,
           34,
           35,
           36,
           37,
           38,
           39
          ],
          "colorscale": [
           [
            0,
            "rgb(255,255,255)"
           ],
           [
            1,
            "rgb(99,99,99)"
           ]
          ],
          "line": {
           "width": 0
          },
          "size": 15,
          "symbol": "square"
         },
         "mode": "markers",
         "name": "what",
         "showlegend": false,
         "type": "scatter",
         "uid": "a94a6716-6672-43eb-abbe-c68cdbcfa586",
         "x": [
          0,
          1,
          2,
          3,
          4,
          5,
          6,
          7,
          8,
          9,
          10,
          11,
          12,
          13,
          14,
          15,
          16,
          17,
          18,
          19,
          20,
          21,
          22,
          23,
          24,
          25,
          26,
          27,
          28,
          29,
          30,
          31,
          32,
          33,
          34,
          35,
          36,
          37,
          38,
          39
         ],
         "y": [
          0,
          0,
          0,
          0,
          0,
          0,
          0,
          0,
          0,
          0,
          0,
          0,
          0,
          0,
          0,
          0,
          0,
          0,
          0,
          0,
          0,
          0,
          0,
          0,
          0,
          0,
          0,
          0,
          0,
          0,
          0,
          0,
          0,
          0,
          0,
          0,
          0,
          0,
          0,
          0
         ]
        }
       ],
       "layout": {
        "annotations": [
         {
          "align": "right",
          "font": {
           "color": "lightgray",
           "family": "Andale Mono",
           "size": 10
          },
          "showarrow": false,
          "text": "04/22/2019<br>@jeremy_m_joseph",
          "x": 0.9,
          "xanchor": "right",
          "xref": "paper",
          "y": -0.13,
          "yanchor": "bottom",
          "yref": "paper"
         }
        ],
        "dragmode": false,
        "geo": {
         "domain": {
          "x": [
           0,
           1
          ],
          "y": [
           0.1,
           1
          ]
         },
         "lakecolor": "rgb(255, 255, 255)",
         "projection": {
          "type": "albers usa"
         },
         "scope": "usa",
         "showlakes": false
        },
        "height": 550,
        "legend": {
         "font": {
          "size": 11
         },
         "orientation": "h",
         "tracegroupgap": 10,
         "traceorder": "reversed",
         "x": 0.525,
         "xanchor": "right",
         "y": 0.06,
         "yanchor": "top"
        },
        "margin": {
         "autoexpand": false,
         "b": 60,
         "l": 0,
         "r": 0,
         "t": 70
        },
        "plot_bgcolor": "black",
        "showlegend": true,
        "title": {
         "pad": {
          "b": 20
         },
         "text": "Percent <b>Black/African American</b> Population And Voting Power Extremes",
         "y": 1,
         "yanchor": "bottom",
         "yref": "paper"
        },
        "width": 720,
        "xaxis": {
         "domain": [
          0.575,
          0.875
         ],
         "dtick": 10,
         "range": [
          -1.6,
          40.3
         ],
         "showticksuffix": "all",
         "tickfont": {
          "size": 11
         },
         "ticksuffix": "%",
         "visible": true
        },
        "yaxis": {
         "domain": [
          0,
          0.04
         ],
         "range": [
          -0.5,
          0.5
         ],
         "visible": false
        }
       }
      },
      "text/html": [
       "<div id=\"ef111590-31aa-490a-b19c-4add09edf9fa\" style=\"height: 550px; width: 720px;\" class=\"plotly-graph-div\"></div><script type=\"text/javascript\">require([\"plotly\"], function(Plotly) { window.PLOTLYENV=window.PLOTLYENV || {};window.PLOTLYENV.BASE_URL=\"https://plot.ly\";\n",
       "if (document.getElementById(\"ef111590-31aa-490a-b19c-4add09edf9fa\")) {\n",
       "    Plotly.newPlot(\"ef111590-31aa-490a-b19c-4add09edf9fa\", [{\"locationmode\": \"USA-states\", \"locations\": [null], \"marker\": {\"color\": \"rgb(90,180,172)\", \"line\": {\"width\": 2.5}, \"size\": 12, \"symbol\": \"square-open\"}, \"mode\": \"markers\", \"name\": \"Lowest voting power<br>(< 0.95x average)\", \"type\": \"scattergeo\", \"uid\": \"2222909a-6b49-4b78-9910-c4f4b26b42d2\"}, {\"locationmode\": \"USA-states\", \"locations\": [null], \"marker\": {\"color\": \"rgb(253,184,99)\", \"line\": {\"width\": 2.5}, \"size\": 12, \"symbol\": \"square-open\"}, \"mode\": \"markers\", \"name\": \"Highest voting power<br>(> 1.5x average)\", \"opacity\": 1.0, \"type\": \"scattergeo\", \"uid\": \"f9e35051-159d-47c1-96af-94d2dd0154b8\"}, {\"autocolorscale\": false, \"colorscale\": [[0.0, \"rgb(255,255,255)\"], [1.0, \"rgb(99,99,99)\"]], \"geo\": \"geo\", \"locationmode\": \"USA-states\", \"locations\": [\"ID\", \"NM\", \"KS\", \"MS\", \"NV\", \"AR\", \"UT\", \"IA\", \"CT\", \"OK\", \"OR\", \"KY\", \"LA\", \"AL\", \"SC\", \"MN\", \"CO\", \"WI\", \"MD\", \"MO\", \"IN\", \"TN\", \"MA\", \"WA\", \"MI\", \"CA\", \"TX\", \"FL\", \"NY\", \"PA\", \"IL\", \"OH\", \"GA\", \"NC\", \"NJ\", \"VA\", \"AZ\", \"NE\", \"WV\", \"HI\", \"NH\", \"ME\", \"RI\", \"MT\", \"DE\", \"SD\", \"ND\", \"AK\", \"DC\", \"VT\", \"WY\"], \"marker\": {\"line\": {\"color\": [\"black\", \"black\", \"black\", \"black\", \"black\", \"black\", \"black\", \"black\", \"black\", \"black\", \"black\", \"black\", \"black\", \"black\", \"black\", \"black\", \"black\", \"black\", \"black\", \"black\", \"black\", \"black\", \"black\", \"black\", \"black\", \"rgb(90,180,172)\", \"rgb(90,180,172)\", \"rgb(90,180,172)\", \"rgb(90,180,172)\", \"rgb(90,180,172)\", \"rgb(90,180,172)\", \"rgb(90,180,172)\", \"rgb(90,180,172)\", \"rgb(90,180,172)\", \"rgb(90,180,172)\", \"rgb(90,180,172)\", \"rgb(90,180,172)\", \"rgb(253,184,99)\", \"rgb(253,184,99)\", \"rgb(253,184,99)\", \"rgb(253,184,99)\", \"rgb(253,184,99)\", \"rgb(253,184,99)\", \"rgb(253,184,99)\", \"rgb(253,184,99)\", \"rgb(253,184,99)\", \"rgb(253,184,99)\", \"rgb(253,184,99)\", \"rgb(253,184,99)\", \"rgb(253,184,99)\", \"rgb(253,184,99)\"], \"width\": [0.2, 0.2, 0.2, 0.2, 0.2, 0.2, 0.2, 0.2, 0.2, 0.2, 0.2, 0.2, 0.2, 0.2, 0.2, 0.2, 0.2, 0.2, 0.2, 0.2, 0.2, 0.2, 0.2, 0.2, 0.2, 2.5, 2.5, 2.5, 2.5, 2.5, 2.5, 2.5, 2.5, 2.5, 2.5, 2.5, 2.5, 2.5, 2.5, 2.5, 2.5, 2.5, 2.5, 2.5, 2.5, 2.5, 2.5, 2.5, 2.5, 2.5, 2.5]}}, \"showscale\": false, \"z\": [0.6, 1.8, 5.5, 37.9, 8.9, 15.2, 1.2, 3.3, 9.9, 7.2, 1.8, 8.0, 32.1, 26.7, 26.8, 6.4, 3.9, 6.3, 29.4, 11.4, 9.2, 16.6, 7.0, 3.5, 13.6, 5.5, 11.8, 15.4, 14.3, 10.7, 14.0, 12.2, 31.1, 21.2, 12.8, 18.8, 4.1, 4.5, 3.9, 1.6, 1.3, 1.2, 5.4, 0.4, 21.5, 1.9, 3.0, 2.9, 45.3, 1.2, 0.9], \"zmax\": 40.3, \"zmin\": 0.4, \"type\": \"choropleth\", \"uid\": \"28c22911-2206-4f39-bca5-a4145dfe1a37\"}, {\"marker\": {\"cmax\": 40.3, \"cmin\": 0.4, \"color\": [0, 1, 2, 3, 4, 5, 6, 7, 8, 9, 10, 11, 12, 13, 14, 15, 16, 17, 18, 19, 20, 21, 22, 23, 24, 25, 26, 27, 28, 29, 30, 31, 32, 33, 34, 35, 36, 37, 38, 39], \"colorscale\": [[0.0, \"rgb(255,255,255)\"], [1.0, \"rgb(99,99,99)\"]], \"line\": {\"width\": 0}, \"size\": 15, \"symbol\": \"square\"}, \"mode\": \"markers\", \"name\": \"what\", \"showlegend\": false, \"x\": [0, 1, 2, 3, 4, 5, 6, 7, 8, 9, 10, 11, 12, 13, 14, 15, 16, 17, 18, 19, 20, 21, 22, 23, 24, 25, 26, 27, 28, 29, 30, 31, 32, 33, 34, 35, 36, 37, 38, 39], \"y\": [0, 0, 0, 0, 0, 0, 0, 0, 0, 0, 0, 0, 0, 0, 0, 0, 0, 0, 0, 0, 0, 0, 0, 0, 0, 0, 0, 0, 0, 0, 0, 0, 0, 0, 0, 0, 0, 0, 0, 0], \"type\": \"scatter\", \"uid\": \"a94a6716-6672-43eb-abbe-c68cdbcfa586\"}], {\"annotations\": [{\"align\": \"right\", \"font\": {\"color\": \"lightgray\", \"family\": \"Andale Mono\", \"size\": 10}, \"showarrow\": false, \"text\": \"04/22/2019<br>@jeremy_m_joseph\", \"x\": 0.9, \"xanchor\": \"right\", \"xref\": \"paper\", \"y\": -0.13, \"yanchor\": \"bottom\", \"yref\": \"paper\"}], \"dragmode\": false, \"geo\": {\"domain\": {\"x\": [0, 1.0], \"y\": [0.1, 1.0]}, \"lakecolor\": \"rgb(255, 255, 255)\", \"projection\": {\"type\": \"albers usa\"}, \"scope\": \"usa\", \"showlakes\": false}, \"height\": 550, \"legend\": {\"font\": {\"size\": 11}, \"orientation\": \"h\", \"tracegroupgap\": 10, \"traceorder\": \"reversed\", \"x\": 0.525, \"xanchor\": \"right\", \"y\": 0.06, \"yanchor\": \"top\"}, \"margin\": {\"autoexpand\": false, \"b\": 60, \"l\": 0, \"r\": 0, \"t\": 70}, \"plot_bgcolor\": \"black\", \"showlegend\": true, \"title\": {\"pad\": {\"b\": 20}, \"text\": \"Percent <b>Black/African American</b> Population And Voting Power Extremes\", \"y\": 1.0, \"yanchor\": \"bottom\", \"yref\": \"paper\"}, \"width\": 720, \"xaxis\": {\"domain\": [0.575, 0.875], \"dtick\": 10, \"range\": [-1.6, 40.3], \"showticksuffix\": \"all\", \"tickfont\": {\"size\": 11}, \"ticksuffix\": \"%\", \"visible\": true}, \"yaxis\": {\"domain\": [0.0, 0.04], \"range\": [-0.5, 0.5], \"visible\": false}}, {\"showLink\": false, \"linkText\": \"Export to plot.ly\", \"plotlyServerURL\": \"https://plot.ly\"}); \n",
       "}\n",
       "});</script>"
      ],
      "text/vnd.plotly.v1+html": [
       "<div id=\"ef111590-31aa-490a-b19c-4add09edf9fa\" style=\"height: 550px; width: 720px;\" class=\"plotly-graph-div\"></div><script type=\"text/javascript\">require([\"plotly\"], function(Plotly) { window.PLOTLYENV=window.PLOTLYENV || {};window.PLOTLYENV.BASE_URL=\"https://plot.ly\";\n",
       "if (document.getElementById(\"ef111590-31aa-490a-b19c-4add09edf9fa\")) {\n",
       "    Plotly.newPlot(\"ef111590-31aa-490a-b19c-4add09edf9fa\", [{\"locationmode\": \"USA-states\", \"locations\": [null], \"marker\": {\"color\": \"rgb(90,180,172)\", \"line\": {\"width\": 2.5}, \"size\": 12, \"symbol\": \"square-open\"}, \"mode\": \"markers\", \"name\": \"Lowest voting power<br>(< 0.95x average)\", \"type\": \"scattergeo\", \"uid\": \"2222909a-6b49-4b78-9910-c4f4b26b42d2\"}, {\"locationmode\": \"USA-states\", \"locations\": [null], \"marker\": {\"color\": \"rgb(253,184,99)\", \"line\": {\"width\": 2.5}, \"size\": 12, \"symbol\": \"square-open\"}, \"mode\": \"markers\", \"name\": \"Highest voting power<br>(> 1.5x average)\", \"opacity\": 1.0, \"type\": \"scattergeo\", \"uid\": \"f9e35051-159d-47c1-96af-94d2dd0154b8\"}, {\"autocolorscale\": false, \"colorscale\": [[0.0, \"rgb(255,255,255)\"], [1.0, \"rgb(99,99,99)\"]], \"geo\": \"geo\", \"locationmode\": \"USA-states\", \"locations\": [\"ID\", \"NM\", \"KS\", \"MS\", \"NV\", \"AR\", \"UT\", \"IA\", \"CT\", \"OK\", \"OR\", \"KY\", \"LA\", \"AL\", \"SC\", \"MN\", \"CO\", \"WI\", \"MD\", \"MO\", \"IN\", \"TN\", \"MA\", \"WA\", \"MI\", \"CA\", \"TX\", \"FL\", \"NY\", \"PA\", \"IL\", \"OH\", \"GA\", \"NC\", \"NJ\", \"VA\", \"AZ\", \"NE\", \"WV\", \"HI\", \"NH\", \"ME\", \"RI\", \"MT\", \"DE\", \"SD\", \"ND\", \"AK\", \"DC\", \"VT\", \"WY\"], \"marker\": {\"line\": {\"color\": [\"black\", \"black\", \"black\", \"black\", \"black\", \"black\", \"black\", \"black\", \"black\", \"black\", \"black\", \"black\", \"black\", \"black\", \"black\", \"black\", \"black\", \"black\", \"black\", \"black\", \"black\", \"black\", \"black\", \"black\", \"black\", \"rgb(90,180,172)\", \"rgb(90,180,172)\", \"rgb(90,180,172)\", \"rgb(90,180,172)\", \"rgb(90,180,172)\", \"rgb(90,180,172)\", \"rgb(90,180,172)\", \"rgb(90,180,172)\", \"rgb(90,180,172)\", \"rgb(90,180,172)\", \"rgb(90,180,172)\", \"rgb(90,180,172)\", \"rgb(253,184,99)\", \"rgb(253,184,99)\", \"rgb(253,184,99)\", \"rgb(253,184,99)\", \"rgb(253,184,99)\", \"rgb(253,184,99)\", \"rgb(253,184,99)\", \"rgb(253,184,99)\", \"rgb(253,184,99)\", \"rgb(253,184,99)\", \"rgb(253,184,99)\", \"rgb(253,184,99)\", \"rgb(253,184,99)\", \"rgb(253,184,99)\"], \"width\": [0.2, 0.2, 0.2, 0.2, 0.2, 0.2, 0.2, 0.2, 0.2, 0.2, 0.2, 0.2, 0.2, 0.2, 0.2, 0.2, 0.2, 0.2, 0.2, 0.2, 0.2, 0.2, 0.2, 0.2, 0.2, 2.5, 2.5, 2.5, 2.5, 2.5, 2.5, 2.5, 2.5, 2.5, 2.5, 2.5, 2.5, 2.5, 2.5, 2.5, 2.5, 2.5, 2.5, 2.5, 2.5, 2.5, 2.5, 2.5, 2.5, 2.5, 2.5]}}, \"showscale\": false, \"z\": [0.6, 1.8, 5.5, 37.9, 8.9, 15.2, 1.2, 3.3, 9.9, 7.2, 1.8, 8.0, 32.1, 26.7, 26.8, 6.4, 3.9, 6.3, 29.4, 11.4, 9.2, 16.6, 7.0, 3.5, 13.6, 5.5, 11.8, 15.4, 14.3, 10.7, 14.0, 12.2, 31.1, 21.2, 12.8, 18.8, 4.1, 4.5, 3.9, 1.6, 1.3, 1.2, 5.4, 0.4, 21.5, 1.9, 3.0, 2.9, 45.3, 1.2, 0.9], \"zmax\": 40.3, \"zmin\": 0.4, \"type\": \"choropleth\", \"uid\": \"28c22911-2206-4f39-bca5-a4145dfe1a37\"}, {\"marker\": {\"cmax\": 40.3, \"cmin\": 0.4, \"color\": [0, 1, 2, 3, 4, 5, 6, 7, 8, 9, 10, 11, 12, 13, 14, 15, 16, 17, 18, 19, 20, 21, 22, 23, 24, 25, 26, 27, 28, 29, 30, 31, 32, 33, 34, 35, 36, 37, 38, 39], \"colorscale\": [[0.0, \"rgb(255,255,255)\"], [1.0, \"rgb(99,99,99)\"]], \"line\": {\"width\": 0}, \"size\": 15, \"symbol\": \"square\"}, \"mode\": \"markers\", \"name\": \"what\", \"showlegend\": false, \"x\": [0, 1, 2, 3, 4, 5, 6, 7, 8, 9, 10, 11, 12, 13, 14, 15, 16, 17, 18, 19, 20, 21, 22, 23, 24, 25, 26, 27, 28, 29, 30, 31, 32, 33, 34, 35, 36, 37, 38, 39], \"y\": [0, 0, 0, 0, 0, 0, 0, 0, 0, 0, 0, 0, 0, 0, 0, 0, 0, 0, 0, 0, 0, 0, 0, 0, 0, 0, 0, 0, 0, 0, 0, 0, 0, 0, 0, 0, 0, 0, 0, 0], \"type\": \"scatter\", \"uid\": \"a94a6716-6672-43eb-abbe-c68cdbcfa586\"}], {\"annotations\": [{\"align\": \"right\", \"font\": {\"color\": \"lightgray\", \"family\": \"Andale Mono\", \"size\": 10}, \"showarrow\": false, \"text\": \"04/22/2019<br>@jeremy_m_joseph\", \"x\": 0.9, \"xanchor\": \"right\", \"xref\": \"paper\", \"y\": -0.13, \"yanchor\": \"bottom\", \"yref\": \"paper\"}], \"dragmode\": false, \"geo\": {\"domain\": {\"x\": [0, 1.0], \"y\": [0.1, 1.0]}, \"lakecolor\": \"rgb(255, 255, 255)\", \"projection\": {\"type\": \"albers usa\"}, \"scope\": \"usa\", \"showlakes\": false}, \"height\": 550, \"legend\": {\"font\": {\"size\": 11}, \"orientation\": \"h\", \"tracegroupgap\": 10, \"traceorder\": \"reversed\", \"x\": 0.525, \"xanchor\": \"right\", \"y\": 0.06, \"yanchor\": \"top\"}, \"margin\": {\"autoexpand\": false, \"b\": 60, \"l\": 0, \"r\": 0, \"t\": 70}, \"plot_bgcolor\": \"black\", \"showlegend\": true, \"title\": {\"pad\": {\"b\": 20}, \"text\": \"Percent <b>Black/African American</b> Population And Voting Power Extremes\", \"y\": 1.0, \"yanchor\": \"bottom\", \"yref\": \"paper\"}, \"width\": 720, \"xaxis\": {\"domain\": [0.575, 0.875], \"dtick\": 10, \"range\": [-1.6, 40.3], \"showticksuffix\": \"all\", \"tickfont\": {\"size\": 11}, \"ticksuffix\": \"%\", \"visible\": true}, \"yaxis\": {\"domain\": [0.0, 0.04], \"range\": [-0.5, 0.5], \"visible\": false}}, {\"showLink\": false, \"linkText\": \"Export to plot.ly\", \"plotlyServerURL\": \"https://plot.ly\"}); \n",
       "}\n",
       "});</script>"
      ]
     },
     "metadata": {},
     "output_type": "display_data"
    }
   ],
   "source": [
    "fig=create_racial_plot2(2, adj_max=5)"
   ]
  },
  {
   "cell_type": "code",
   "execution_count": 381,
   "metadata": {},
   "outputs": [
    {
     "data": {
      "text/html": [
       "<script type=\"text/javascript\">window.PlotlyConfig = {MathJaxConfig: 'local'};</script><script type=\"text/javascript\">if (window.MathJax) {MathJax.Hub.Config({SVG: {font: \"STIX-Web\"}});}</script><script>requirejs.config({paths: { 'plotly': ['https://cdn.plot.ly/plotly-latest.min']},});if(!window._Plotly) {require(['plotly'],function(plotly) {window._Plotly=plotly;});}</script>"
      ],
      "text/vnd.plotly.v1+html": [
       "<script type=\"text/javascript\">window.PlotlyConfig = {MathJaxConfig: 'local'};</script><script type=\"text/javascript\">if (window.MathJax) {MathJax.Hub.Config({SVG: {font: \"STIX-Web\"}});}</script><script>requirejs.config({paths: { 'plotly': ['https://cdn.plot.ly/plotly-latest.min']},});if(!window._Plotly) {require(['plotly'],function(plotly) {window._Plotly=plotly;});}</script>"
      ]
     },
     "metadata": {},
     "output_type": "display_data"
    },
    {
     "data": {
      "application/vnd.plotly.v1+json": {
       "config": {
        "linkText": "Export to plot.ly",
        "plotlyServerURL": "https://plot.ly",
        "showLink": false
       },
       "data": [
        {
         "locationmode": "USA-states",
         "locations": [
          null
         ],
         "marker": {
          "color": "rgb(77,172,38)",
          "line": {
           "width": 2.5
          },
          "size": 12,
          "symbol": "square-open"
         },
         "mode": "markers",
         "name": "Below 0.95x Average Voting Power",
         "type": "scattergeo",
         "uid": "ca99ba09-7282-4726-9e49-ac0d25fa7b58"
        },
        {
         "locationmode": "USA-states",
         "locations": [
          null
         ],
         "marker": {
          "color": "rgb(208,28, 139)",
          "line": {
           "width": 2.5
          },
          "size": 12,
          "symbol": "square-open"
         },
         "mode": "markers",
         "name": "Above 1.5x Average Voting Power",
         "opacity": 1,
         "type": "scattergeo",
         "uid": "a8fc8d6d-fd79-4b17-9f25-da0d55876cc7"
        },
        {
         "autocolorscale": false,
         "colorbar": {
          "ticksuffix": "%",
          "title": {
           "text": ""
          }
         },
         "colorscale": [
          [
           0,
           "rgb(255,255,255)"
          ],
          [
           1,
           "rgb(99,99,99)"
          ]
         ],
         "geo": "geo",
         "locationmode": "USA-states",
         "locations": [
          "ID",
          "NM",
          "KS",
          "MS",
          "NV",
          "AR",
          "UT",
          "IA",
          "CT",
          "OK",
          "OR",
          "KY",
          "LA",
          "AL",
          "SC",
          "MN",
          "CO",
          "WI",
          "MD",
          "MO",
          "IN",
          "TN",
          "MA",
          "WA",
          "MI",
          "CA",
          "TX",
          "FL",
          "NY",
          "PA",
          "IL",
          "OH",
          "GA",
          "NC",
          "NJ",
          "VA",
          "AZ",
          "NE",
          "WV",
          "HI",
          "NH",
          "ME",
          "RI",
          "MT",
          "DE",
          "SD",
          "ND",
          "AK",
          "DC",
          "VT",
          "WY"
         ],
         "marker": {
          "line": {
           "color": [
            "black",
            "black",
            "black",
            "black",
            "black",
            "black",
            "black",
            "black",
            "black",
            "black",
            "black",
            "black",
            "black",
            "black",
            "black",
            "black",
            "black",
            "black",
            "black",
            "black",
            "black",
            "black",
            "black",
            "black",
            "black",
            "rgb(77,172,38)",
            "rgb(77,172,38)",
            "rgb(77,172,38)",
            "rgb(77,172,38)",
            "rgb(77,172,38)",
            "rgb(77,172,38)",
            "rgb(77,172,38)",
            "rgb(77,172,38)",
            "rgb(77,172,38)",
            "rgb(77,172,38)",
            "rgb(77,172,38)",
            "rgb(77,172,38)",
            "rgb(208,28, 139)",
            "rgb(208,28, 139)",
            "rgb(208,28, 139)",
            "rgb(208,28, 139)",
            "rgb(208,28, 139)",
            "rgb(208,28, 139)",
            "rgb(208,28, 139)",
            "rgb(208,28, 139)",
            "rgb(208,28, 139)",
            "rgb(208,28, 139)",
            "rgb(208,28, 139)",
            "rgb(208,28, 139)",
            "rgb(208,28, 139)",
            "rgb(208,28, 139)"
           ],
           "width": [
            1,
            1,
            1,
            1,
            1,
            1,
            1,
            1,
            1,
            1,
            1,
            1,
            1,
            1,
            1,
            1,
            1,
            1,
            1,
            1,
            1,
            1,
            1,
            1,
            1,
            2.5,
            2.5,
            2.5,
            2.5,
            2.5,
            2.5,
            2.5,
            2.5,
            2.5,
            2.5,
            2.5,
            2.5,
            2.5,
            2.5,
            2.5,
            2.5,
            2.5,
            2.5,
            2.5,
            2.5,
            2.5,
            2.5,
            2.5,
            2.5,
            2.5,
            2.5
           ]
          }
         },
         "type": "choropleth",
         "uid": "9297a7a2-2169-4cc0-b771-946eb91093ba",
         "z": [
          1.3,
          1.3,
          2.9,
          0.9,
          8.3,
          1.6,
          2.4,
          2.6,
          4.5,
          2.1,
          4.3,
          1.4,
          1.8,
          1.3,
          1.5,
          4.9,
          3.1,
          2.7,
          6.4,
          2,
          2.2,
          1.8,
          6.6,
          8.5,
          3.1,
          14.4,
          4.8,
          2.8,
          8.7,
          3.5,
          5.4,
          2.2,
          3.9,
          2.9,
          9.8,
          6.4,
          3.2,
          2.4,
          0.8,
          37.3,
          2.7,
          1.1,
          3.6,
          0.7,
          4,
          1.2,
          1.7,
          6.6,
          4,
          1.8,
          0.8
         ],
         "zmax": 17.299999999999997,
         "zmin": 0.7
        }
       ],
       "layout": {
        "dragmode": false,
        "geo": {
         "lakecolor": "rgb(255, 255, 255)",
         "projection": {
          "type": "albers usa"
         },
         "scope": "usa",
         "showlakes": true
        },
        "height": 600,
        "legend": {
         "orientation": "h",
         "x": 0.5,
         "xanchor": "center",
         "y": -0.01
        },
        "showlegend": true,
        "title": {
         "pad": {
          "b": 20
         },
         "text": "Percent <b>Asian</b> Population By State",
         "y": 1,
         "yanchor": "bottom",
         "yref": "paper"
        },
        "width": 900
       }
      },
      "text/html": [
       "<div id=\"4866f7d6-aa3f-46de-ace6-93a46a24ab8b\" style=\"height: 600px; width: 900px;\" class=\"plotly-graph-div\"></div><script type=\"text/javascript\">require([\"plotly\"], function(Plotly) { window.PLOTLYENV=window.PLOTLYENV || {};window.PLOTLYENV.BASE_URL=\"https://plot.ly\";\n",
       "if (document.getElementById(\"4866f7d6-aa3f-46de-ace6-93a46a24ab8b\")) {\n",
       "    Plotly.newPlot(\"4866f7d6-aa3f-46de-ace6-93a46a24ab8b\", [{\"locationmode\": \"USA-states\", \"locations\": [null], \"marker\": {\"color\": \"rgb(77,172,38)\", \"line\": {\"width\": 2.5}, \"size\": 12, \"symbol\": \"square-open\"}, \"mode\": \"markers\", \"name\": \"Below 0.95x Average Voting Power\", \"type\": \"scattergeo\", \"uid\": \"ca99ba09-7282-4726-9e49-ac0d25fa7b58\"}, {\"locationmode\": \"USA-states\", \"locations\": [null], \"marker\": {\"color\": \"rgb(208,28, 139)\", \"line\": {\"width\": 2.5}, \"size\": 12, \"symbol\": \"square-open\"}, \"mode\": \"markers\", \"name\": \"Above 1.5x Average Voting Power\", \"opacity\": 1.0, \"type\": \"scattergeo\", \"uid\": \"a8fc8d6d-fd79-4b17-9f25-da0d55876cc7\"}, {\"autocolorscale\": false, \"colorbar\": {\"ticksuffix\": \"%\", \"title\": {\"text\": \"\"}}, \"colorscale\": [[0.0, \"rgb(255,255,255)\"], [1.0, \"rgb(99,99,99)\"]], \"geo\": \"geo\", \"locationmode\": \"USA-states\", \"locations\": [\"ID\", \"NM\", \"KS\", \"MS\", \"NV\", \"AR\", \"UT\", \"IA\", \"CT\", \"OK\", \"OR\", \"KY\", \"LA\", \"AL\", \"SC\", \"MN\", \"CO\", \"WI\", \"MD\", \"MO\", \"IN\", \"TN\", \"MA\", \"WA\", \"MI\", \"CA\", \"TX\", \"FL\", \"NY\", \"PA\", \"IL\", \"OH\", \"GA\", \"NC\", \"NJ\", \"VA\", \"AZ\", \"NE\", \"WV\", \"HI\", \"NH\", \"ME\", \"RI\", \"MT\", \"DE\", \"SD\", \"ND\", \"AK\", \"DC\", \"VT\", \"WY\"], \"marker\": {\"line\": {\"color\": [\"black\", \"black\", \"black\", \"black\", \"black\", \"black\", \"black\", \"black\", \"black\", \"black\", \"black\", \"black\", \"black\", \"black\", \"black\", \"black\", \"black\", \"black\", \"black\", \"black\", \"black\", \"black\", \"black\", \"black\", \"black\", \"rgb(77,172,38)\", \"rgb(77,172,38)\", \"rgb(77,172,38)\", \"rgb(77,172,38)\", \"rgb(77,172,38)\", \"rgb(77,172,38)\", \"rgb(77,172,38)\", \"rgb(77,172,38)\", \"rgb(77,172,38)\", \"rgb(77,172,38)\", \"rgb(77,172,38)\", \"rgb(77,172,38)\", \"rgb(208,28, 139)\", \"rgb(208,28, 139)\", \"rgb(208,28, 139)\", \"rgb(208,28, 139)\", \"rgb(208,28, 139)\", \"rgb(208,28, 139)\", \"rgb(208,28, 139)\", \"rgb(208,28, 139)\", \"rgb(208,28, 139)\", \"rgb(208,28, 139)\", \"rgb(208,28, 139)\", \"rgb(208,28, 139)\", \"rgb(208,28, 139)\", \"rgb(208,28, 139)\"], \"width\": [1.0, 1.0, 1.0, 1.0, 1.0, 1.0, 1.0, 1.0, 1.0, 1.0, 1.0, 1.0, 1.0, 1.0, 1.0, 1.0, 1.0, 1.0, 1.0, 1.0, 1.0, 1.0, 1.0, 1.0, 1.0, 2.5, 2.5, 2.5, 2.5, 2.5, 2.5, 2.5, 2.5, 2.5, 2.5, 2.5, 2.5, 2.5, 2.5, 2.5, 2.5, 2.5, 2.5, 2.5, 2.5, 2.5, 2.5, 2.5, 2.5, 2.5, 2.5]}}, \"z\": [1.3, 1.3, 2.9, 0.9, 8.3, 1.6, 2.4, 2.6, 4.5, 2.1, 4.3, 1.4, 1.8, 1.3, 1.5, 4.9, 3.1, 2.7, 6.4, 2.0, 2.2, 1.8, 6.6, 8.5, 3.1, 14.4, 4.8, 2.8, 8.7, 3.5, 5.4, 2.2, 3.9, 2.9, 9.8, 6.4, 3.2, 2.4, 0.8, 37.3, 2.7, 1.1, 3.6, 0.7, 4.0, 1.2, 1.7, 6.6, 4.0, 1.8, 0.8], \"zmax\": 17.299999999999997, \"zmin\": 0.7, \"type\": \"choropleth\", \"uid\": \"9297a7a2-2169-4cc0-b771-946eb91093ba\"}], {\"dragmode\": false, \"geo\": {\"lakecolor\": \"rgb(255, 255, 255)\", \"projection\": {\"type\": \"albers usa\"}, \"scope\": \"usa\", \"showlakes\": true}, \"height\": 600, \"legend\": {\"orientation\": \"h\", \"x\": 0.5, \"xanchor\": \"center\", \"y\": -0.01}, \"showlegend\": true, \"title\": {\"pad\": {\"b\": 20}, \"text\": \"Percent <b>Asian</b> Population By State\", \"y\": 1.0, \"yanchor\": \"bottom\", \"yref\": \"paper\"}, \"width\": 900}, {\"showLink\": false, \"linkText\": \"Export to plot.ly\", \"plotlyServerURL\": \"https://plot.ly\"}); \n",
       "}\n",
       "});</script>"
      ],
      "text/vnd.plotly.v1+html": [
       "<div id=\"4866f7d6-aa3f-46de-ace6-93a46a24ab8b\" style=\"height: 600px; width: 900px;\" class=\"plotly-graph-div\"></div><script type=\"text/javascript\">require([\"plotly\"], function(Plotly) { window.PLOTLYENV=window.PLOTLYENV || {};window.PLOTLYENV.BASE_URL=\"https://plot.ly\";\n",
       "if (document.getElementById(\"4866f7d6-aa3f-46de-ace6-93a46a24ab8b\")) {\n",
       "    Plotly.newPlot(\"4866f7d6-aa3f-46de-ace6-93a46a24ab8b\", [{\"locationmode\": \"USA-states\", \"locations\": [null], \"marker\": {\"color\": \"rgb(77,172,38)\", \"line\": {\"width\": 2.5}, \"size\": 12, \"symbol\": \"square-open\"}, \"mode\": \"markers\", \"name\": \"Below 0.95x Average Voting Power\", \"type\": \"scattergeo\", \"uid\": \"ca99ba09-7282-4726-9e49-ac0d25fa7b58\"}, {\"locationmode\": \"USA-states\", \"locations\": [null], \"marker\": {\"color\": \"rgb(208,28, 139)\", \"line\": {\"width\": 2.5}, \"size\": 12, \"symbol\": \"square-open\"}, \"mode\": \"markers\", \"name\": \"Above 1.5x Average Voting Power\", \"opacity\": 1.0, \"type\": \"scattergeo\", \"uid\": \"a8fc8d6d-fd79-4b17-9f25-da0d55876cc7\"}, {\"autocolorscale\": false, \"colorbar\": {\"ticksuffix\": \"%\", \"title\": {\"text\": \"\"}}, \"colorscale\": [[0.0, \"rgb(255,255,255)\"], [1.0, \"rgb(99,99,99)\"]], \"geo\": \"geo\", \"locationmode\": \"USA-states\", \"locations\": [\"ID\", \"NM\", \"KS\", \"MS\", \"NV\", \"AR\", \"UT\", \"IA\", \"CT\", \"OK\", \"OR\", \"KY\", \"LA\", \"AL\", \"SC\", \"MN\", \"CO\", \"WI\", \"MD\", \"MO\", \"IN\", \"TN\", \"MA\", \"WA\", \"MI\", \"CA\", \"TX\", \"FL\", \"NY\", \"PA\", \"IL\", \"OH\", \"GA\", \"NC\", \"NJ\", \"VA\", \"AZ\", \"NE\", \"WV\", \"HI\", \"NH\", \"ME\", \"RI\", \"MT\", \"DE\", \"SD\", \"ND\", \"AK\", \"DC\", \"VT\", \"WY\"], \"marker\": {\"line\": {\"color\": [\"black\", \"black\", \"black\", \"black\", \"black\", \"black\", \"black\", \"black\", \"black\", \"black\", \"black\", \"black\", \"black\", \"black\", \"black\", \"black\", \"black\", \"black\", \"black\", \"black\", \"black\", \"black\", \"black\", \"black\", \"black\", \"rgb(77,172,38)\", \"rgb(77,172,38)\", \"rgb(77,172,38)\", \"rgb(77,172,38)\", \"rgb(77,172,38)\", \"rgb(77,172,38)\", \"rgb(77,172,38)\", \"rgb(77,172,38)\", \"rgb(77,172,38)\", \"rgb(77,172,38)\", \"rgb(77,172,38)\", \"rgb(77,172,38)\", \"rgb(208,28, 139)\", \"rgb(208,28, 139)\", \"rgb(208,28, 139)\", \"rgb(208,28, 139)\", \"rgb(208,28, 139)\", \"rgb(208,28, 139)\", \"rgb(208,28, 139)\", \"rgb(208,28, 139)\", \"rgb(208,28, 139)\", \"rgb(208,28, 139)\", \"rgb(208,28, 139)\", \"rgb(208,28, 139)\", \"rgb(208,28, 139)\", \"rgb(208,28, 139)\"], \"width\": [1.0, 1.0, 1.0, 1.0, 1.0, 1.0, 1.0, 1.0, 1.0, 1.0, 1.0, 1.0, 1.0, 1.0, 1.0, 1.0, 1.0, 1.0, 1.0, 1.0, 1.0, 1.0, 1.0, 1.0, 1.0, 2.5, 2.5, 2.5, 2.5, 2.5, 2.5, 2.5, 2.5, 2.5, 2.5, 2.5, 2.5, 2.5, 2.5, 2.5, 2.5, 2.5, 2.5, 2.5, 2.5, 2.5, 2.5, 2.5, 2.5, 2.5, 2.5]}}, \"z\": [1.3, 1.3, 2.9, 0.9, 8.3, 1.6, 2.4, 2.6, 4.5, 2.1, 4.3, 1.4, 1.8, 1.3, 1.5, 4.9, 3.1, 2.7, 6.4, 2.0, 2.2, 1.8, 6.6, 8.5, 3.1, 14.4, 4.8, 2.8, 8.7, 3.5, 5.4, 2.2, 3.9, 2.9, 9.8, 6.4, 3.2, 2.4, 0.8, 37.3, 2.7, 1.1, 3.6, 0.7, 4.0, 1.2, 1.7, 6.6, 4.0, 1.8, 0.8], \"zmax\": 17.299999999999997, \"zmin\": 0.7, \"type\": \"choropleth\", \"uid\": \"9297a7a2-2169-4cc0-b771-946eb91093ba\"}], {\"dragmode\": false, \"geo\": {\"lakecolor\": \"rgb(255, 255, 255)\", \"projection\": {\"type\": \"albers usa\"}, \"scope\": \"usa\", \"showlakes\": true}, \"height\": 600, \"legend\": {\"orientation\": \"h\", \"x\": 0.5, \"xanchor\": \"center\", \"y\": -0.01}, \"showlegend\": true, \"title\": {\"pad\": {\"b\": 20}, \"text\": \"Percent <b>Asian</b> Population By State\", \"y\": 1.0, \"yanchor\": \"bottom\", \"yref\": \"paper\"}, \"width\": 900}, {\"showLink\": false, \"linkText\": \"Export to plot.ly\", \"plotlyServerURL\": \"https://plot.ly\"}); \n",
       "}\n",
       "});</script>"
      ]
     },
     "metadata": {},
     "output_type": "display_data"
    }
   ],
   "source": [
    "create_racial_plot(3, adj_max=20)"
   ]
  }
 ],
 "metadata": {
  "kernelspec": {
   "display_name": "Python 3",
   "language": "python",
   "name": "python3"
  },
  "language_info": {
   "codemirror_mode": {
    "name": "ipython",
    "version": 3
   },
   "file_extension": ".py",
   "mimetype": "text/x-python",
   "name": "python",
   "nbconvert_exporter": "python",
   "pygments_lexer": "ipython3",
   "version": "3.6.8"
  }
 },
 "nbformat": 4,
 "nbformat_minor": 2
}
