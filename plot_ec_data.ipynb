{
 "cells": [
  {
   "cell_type": "code",
   "execution_count": 1,
   "metadata": {},
   "outputs": [],
   "source": [
    "import numpy as np\n",
    "import pandas as pd\n",
    "from pandas import Series, DataFrame\n",
    "\n",
    "import plotly\n",
    "import plotly.graph_objs as go\n",
    "import plotly.io as pio"
   ]
  },
  {
   "cell_type": "code",
   "execution_count": 14,
   "metadata": {},
   "outputs": [],
   "source": [
    "# Load dataframes from csv files\n",
    "census_df = pd.read_csv('df_census.csv', index_col=0)\n",
    "ec_df = pd.read_csv('df_ec.csv', index_col=0)\n",
    "election_df = pd.read_csv('df_election.csv', index_col=0)\n",
    "abbrev_df = pd.read_csv('df_abbrev.csv', index_col=0)"
   ]
  },
  {
   "cell_type": "code",
   "execution_count": 39,
   "metadata": {},
   "outputs": [
    {
     "name": "stdout",
     "output_type": "stream",
     "text": [
      "325719178\n",
      "325719178\n",
      "<class 'pandas.core.series.Series'>\n"
     ]
    },
    {
     "data": {
      "text/plain": [
       "dtype('int64')"
      ]
     },
     "execution_count": 39,
     "metadata": {},
     "output_type": "execute_result"
    }
   ],
   "source": [
    "print(census_df.loc[\"United States\", census_df.columns[0]])\n",
    "print(sum(census_df.loc[\"Alabama\":\"Wyoming\", \"HC01_VC03\"]))\n",
    "print(type(census_df.loc[\"Alabama\":\"Wyoming\", \"HC01_VC03\"]))\n",
    "census_df.loc[:, \"HC01_VC03\"].dtype\n",
    "ec_df[\"Number of Electoral Votes\"].dtype"
   ]
  },
  {
   "cell_type": "code",
   "execution_count": 48,
   "metadata": {},
   "outputs": [
    {
     "name": "stdout",
     "output_type": "stream",
     "text": [
      "Average share of an electoral vote for an individual:\n",
      "1.65e-06\n",
      "\n",
      "Average amount of people per electoral vote:\n",
      "605425.98\n"
     ]
    }
   ],
   "source": [
    "# Calculate Average voting power (EV share PER person)\n",
    "avg_vp = ec_df[\"Number of Electoral Votes\"].sum() / float(census_df.loc[\"United States\", \"HC01_VC03\"])\n",
    "print('Average share of an electoral vote for an individual:\\n{:.2e}'\n",
    "      .format(avg_vp))\n",
    "\n",
    "# Store inverse\n",
    "people_per_ev = 1.0/avg_vp\n",
    "print('\\nAverage amount of people per electoral vote:\\n{:.2f}'.format(people_per_ev))"
   ]
  },
  {
   "cell_type": "markdown",
   "metadata": {},
   "source": [
    "### I. Electoral Vote Apportionment Bar Chart\n",
    "\n",
    "blahblah"
   ]
  },
  {
   "cell_type": "code",
   "execution_count": 64,
   "metadata": {},
   "outputs": [
    {
     "data": {
      "text/plain": [
       "9"
      ]
     },
     "execution_count": 64,
     "metadata": {},
     "output_type": "execute_result"
    }
   ],
   "source": [
    "ec_df.loc['Alabama']['Number of Electoral Votes']"
   ]
  },
  {
   "cell_type": "code",
   "execution_count": 199,
   "metadata": {},
   "outputs": [
    {
     "data": {
      "text/html": [
       "<script type=\"text/javascript\">window.PlotlyConfig = {MathJaxConfig: 'local'};</script><script type=\"text/javascript\">if (window.MathJax) {MathJax.Hub.Config({SVG: {font: \"STIX-Web\"}});}</script><script>requirejs.config({paths: { 'plotly': ['https://cdn.plot.ly/plotly-latest.min']},});if(!window._Plotly) {require(['plotly'],function(plotly) {window._Plotly=plotly;});}</script>"
      ],
      "text/vnd.plotly.v1+html": [
       "<script type=\"text/javascript\">window.PlotlyConfig = {MathJaxConfig: 'local'};</script><script type=\"text/javascript\">if (window.MathJax) {MathJax.Hub.Config({SVG: {font: \"STIX-Web\"}});}</script><script>requirejs.config({paths: { 'plotly': ['https://cdn.plot.ly/plotly-latest.min']},});if(!window._Plotly) {require(['plotly'],function(plotly) {window._Plotly=plotly;});}</script>"
      ]
     },
     "metadata": {},
     "output_type": "display_data"
    },
    {
     "data": {
      "application/vnd.plotly.v1+json": {
       "config": {
        "linkText": "Export to plot.ly",
        "plotlyServerURL": "https://plot.ly",
        "showLink": false
       },
       "data": [
        {
         "marker": {
          "color": "#C2EFEB"
         },
         "name": "Population",
         "type": "bar",
         "uid": "2134720d-4c8f-4850-ba47-c58ce8be04f0",
         "x": [
          0,
          1,
          2,
          3,
          4,
          5,
          6,
          7,
          8,
          9,
          10,
          11,
          12,
          13,
          14,
          15,
          16,
          17,
          18,
          19,
          20,
          21,
          22,
          23,
          24,
          25,
          26,
          27,
          28,
          29,
          30,
          31,
          32,
          33,
          34,
          35,
          36,
          37,
          38,
          39,
          40,
          41,
          42,
          43,
          44,
          45,
          46,
          47,
          48,
          49,
          50
         ],
         "y": [
          39536653,
          28304596,
          20984400,
          19849399,
          12805537,
          12802023,
          11658609,
          10429379,
          10273419,
          9962311,
          9005644,
          8470020,
          7405743,
          7016270,
          6859819,
          6715984,
          6666818,
          6113532,
          6052177,
          5795483,
          5607154,
          5576606,
          5024369,
          4874747,
          4684333,
          4454189,
          4142776,
          3930864,
          3588184,
          3145711,
          3101833,
          3004279,
          2998039,
          2984100,
          2913123,
          2088070,
          1920076,
          1815857,
          1716943,
          1427538,
          1342795,
          1335907,
          1059639,
          1050493,
          961939,
          869666,
          755393,
          739795,
          693972,
          623657,
          579315
         ]
        },
        {
         "marker": {
          "color": "#6EA4BF"
         },
         "name": "Electoral Votes",
         "type": "bar",
         "uid": "ac019bb1-ad60-48c9-88ee-34c48b870323",
         "width": 0.2,
         "x": [
          0,
          1,
          2,
          3,
          4,
          5,
          6,
          7,
          8,
          9,
          10,
          11,
          12,
          13,
          14,
          15,
          16,
          17,
          18,
          19,
          20,
          21,
          22,
          23,
          24,
          25,
          26,
          27,
          28,
          29,
          30,
          31,
          32,
          33,
          34,
          35,
          36,
          37,
          38,
          39,
          40,
          41,
          42,
          43,
          44,
          45,
          46,
          47,
          48,
          49,
          50
         ],
         "y": [
          55,
          38,
          29,
          29,
          20,
          20,
          18,
          16,
          15,
          16,
          14,
          13,
          12,
          11,
          11,
          11,
          11,
          10,
          10,
          10,
          9,
          10,
          9,
          9,
          8,
          8,
          7,
          7,
          7,
          6,
          6,
          6,
          6,
          6,
          6,
          5,
          5,
          5,
          4,
          4,
          4,
          4,
          4,
          3,
          3,
          3,
          3,
          3,
          3,
          3,
          3
         ],
         "yaxis": "y2"
        },
        {
         "line": {
          "color": "black",
          "width": 1
         },
         "mode": "lines",
         "type": "scatter",
         "uid": "7e09c5bd-daf8-4c79-adfa-d9190f22deac",
         "x": [
          1.2,
          2.2,
          2.2,
          1.2
         ],
         "y": [
          33300000,
          33300000,
          39536653,
          39536653
         ]
        }
       ],
       "layout": {
        "annotations": [
         {
          "align": "left",
          "arrowcolor": "black",
          "arrowhead": 0,
          "arrowsize": 1,
          "arrowwidth": 1.2,
          "ax": 6,
          "axref": "x",
          "ay": 36418326.5,
          "ayref": "y",
          "font": {
           "color": "black",
           "size": 12
          },
          "showarrow": true,
          "startstandoff": 3,
          "text": "<i>This gap represents population<br>not represented by electoral votes</i>",
          "x": 2.2,
          "xanchor": "left",
          "xref": "x",
          "xshift": 0,
          "y": 36418326.5,
          "yanchor": "middle",
          "yref": "y"
         }
        ],
        "height": 500,
        "showlegend": false,
        "title": {
         "font": {
          "family": "verdana",
          "size": 18
         },
         "pad": {
          "b": 20
         },
         "text": "State populations and electoral votes are NOT proportional",
         "y": 1,
         "yanchor": "bottom",
         "yref": "paper"
        },
        "width": 900,
        "xaxis": {
         "tickangle": -65,
         "tickfont": {
          "size": 10
         },
         "tickmode": "array",
         "ticktext": [
          "California",
          "Texas",
          "Florida",
          "New York",
          "Pennsylvania",
          "Illinois",
          "Ohio",
          "Georgia",
          "North Carolina",
          "Michigan",
          "New Jersey",
          "Virginia",
          "Washington",
          "Arizona",
          "Massachusetts",
          "Tennessee",
          "Indiana",
          "Missouri",
          "Maryland",
          "Wisconsin",
          "Colorado",
          "Minnesota",
          "South Carolina",
          "Alabama",
          "Louisiana",
          "Kentucky",
          "Oregon",
          "Oklahoma",
          "Connecticut",
          "Iowa",
          "Utah",
          "Arkansas",
          "Nevada",
          "Mississippi",
          "Kansas",
          "New Mexico",
          "Nebraska",
          "West Virginia",
          "Idaho",
          "Hawaii",
          "New Hampshire",
          "Maine",
          "Rhode Island",
          "Montana",
          "Delaware",
          "South Dakota",
          "North Dakota",
          "Alaska",
          "D.C.",
          "Vermont",
          "Wyoming"
         ],
         "tickvals": [
          0,
          1,
          2,
          3,
          4,
          5,
          6,
          7,
          8,
          9,
          10,
          11,
          12,
          13,
          14,
          15,
          16,
          17,
          18,
          19,
          20,
          21,
          22,
          23,
          24,
          25,
          26,
          27,
          28,
          29,
          30,
          31,
          32,
          33,
          34,
          35,
          36,
          37,
          38,
          39,
          40,
          41,
          42,
          43,
          44,
          45,
          46,
          47,
          48,
          49,
          50
         ]
        },
        "yaxis": {
         "range": [
          0,
          40000000
         ],
         "rangemode": "tozero",
         "tickfont": {
          "size": 12
         },
         "title": {
          "text": "Population"
         }
        },
        "yaxis2": {
         "color": "#6EA4BF",
         "overlaying": "y",
         "range": [
          0,
          66.06918306787573
         ],
         "rangemode": "tozero",
         "side": "right",
         "tickfont": {
          "size": 12
         },
         "title": {
          "text": "Electoral Votes"
         },
         "zeroline": false
        }
       }
      },
      "text/html": [
       "<div id=\"53c0c823-090b-4299-8ba1-89fdb0112add\" style=\"height: 500px; width: 900px;\" class=\"plotly-graph-div\"></div><script type=\"text/javascript\">require([\"plotly\"], function(Plotly) { window.PLOTLYENV=window.PLOTLYENV || {};window.PLOTLYENV.BASE_URL=\"https://plot.ly\";\n",
       "if (document.getElementById(\"53c0c823-090b-4299-8ba1-89fdb0112add\")) {\n",
       "    Plotly.newPlot(\"53c0c823-090b-4299-8ba1-89fdb0112add\", [{\"marker\": {\"color\": \"#C2EFEB\"}, \"name\": \"Population\", \"x\": [0, 1, 2, 3, 4, 5, 6, 7, 8, 9, 10, 11, 12, 13, 14, 15, 16, 17, 18, 19, 20, 21, 22, 23, 24, 25, 26, 27, 28, 29, 30, 31, 32, 33, 34, 35, 36, 37, 38, 39, 40, 41, 42, 43, 44, 45, 46, 47, 48, 49, 50], \"y\": [39536653, 28304596, 20984400, 19849399, 12805537, 12802023, 11658609, 10429379, 10273419, 9962311, 9005644, 8470020, 7405743, 7016270, 6859819, 6715984, 6666818, 6113532, 6052177, 5795483, 5607154, 5576606, 5024369, 4874747, 4684333, 4454189, 4142776, 3930864, 3588184, 3145711, 3101833, 3004279, 2998039, 2984100, 2913123, 2088070, 1920076, 1815857, 1716943, 1427538, 1342795, 1335907, 1059639, 1050493, 961939, 869666, 755393, 739795, 693972, 623657, 579315], \"type\": \"bar\", \"uid\": \"2134720d-4c8f-4850-ba47-c58ce8be04f0\"}, {\"marker\": {\"color\": \"#6EA4BF\"}, \"name\": \"Electoral Votes\", \"width\": 0.2, \"x\": [0, 1, 2, 3, 4, 5, 6, 7, 8, 9, 10, 11, 12, 13, 14, 15, 16, 17, 18, 19, 20, 21, 22, 23, 24, 25, 26, 27, 28, 29, 30, 31, 32, 33, 34, 35, 36, 37, 38, 39, 40, 41, 42, 43, 44, 45, 46, 47, 48, 49, 50], \"y\": [55, 38, 29, 29, 20, 20, 18, 16, 15, 16, 14, 13, 12, 11, 11, 11, 11, 10, 10, 10, 9, 10, 9, 9, 8, 8, 7, 7, 7, 6, 6, 6, 6, 6, 6, 5, 5, 5, 4, 4, 4, 4, 4, 3, 3, 3, 3, 3, 3, 3, 3], \"yaxis\": \"y2\", \"type\": \"bar\", \"uid\": \"ac019bb1-ad60-48c9-88ee-34c48b870323\"}, {\"line\": {\"color\": \"black\", \"width\": 1.0}, \"mode\": \"lines\", \"x\": [1.2, 2.2, 2.2, 1.2], \"y\": [33300000, 33300000, 39536653, 39536653], \"type\": \"scatter\", \"uid\": \"7e09c5bd-daf8-4c79-adfa-d9190f22deac\"}], {\"annotations\": [{\"align\": \"left\", \"arrowcolor\": \"black\", \"arrowhead\": 0, \"arrowsize\": 1, \"arrowwidth\": 1.2, \"ax\": 6, \"axref\": \"x\", \"ay\": 36418326.5, \"ayref\": \"y\", \"font\": {\"color\": \"black\", \"size\": 12}, \"showarrow\": true, \"startstandoff\": 3, \"text\": \"<i>This gap represents population<br>not represented by electoral votes</i>\", \"x\": 2.2, \"xanchor\": \"left\", \"xref\": \"x\", \"xshift\": 0, \"y\": 36418326.5, \"yanchor\": \"middle\", \"yref\": \"y\"}], \"height\": 500, \"showlegend\": false, \"title\": {\"font\": {\"family\": \"verdana\", \"size\": 18}, \"pad\": {\"b\": 20}, \"text\": \"State populations and electoral votes are NOT proportional\", \"y\": 1.0, \"yanchor\": \"bottom\", \"yref\": \"paper\"}, \"width\": 900, \"xaxis\": {\"tickangle\": -65, \"tickfont\": {\"size\": 10}, \"tickmode\": \"array\", \"ticktext\": [\"California\", \"Texas\", \"Florida\", \"New York\", \"Pennsylvania\", \"Illinois\", \"Ohio\", \"Georgia\", \"North Carolina\", \"Michigan\", \"New Jersey\", \"Virginia\", \"Washington\", \"Arizona\", \"Massachusetts\", \"Tennessee\", \"Indiana\", \"Missouri\", \"Maryland\", \"Wisconsin\", \"Colorado\", \"Minnesota\", \"South Carolina\", \"Alabama\", \"Louisiana\", \"Kentucky\", \"Oregon\", \"Oklahoma\", \"Connecticut\", \"Iowa\", \"Utah\", \"Arkansas\", \"Nevada\", \"Mississippi\", \"Kansas\", \"New Mexico\", \"Nebraska\", \"West Virginia\", \"Idaho\", \"Hawaii\", \"New Hampshire\", \"Maine\", \"Rhode Island\", \"Montana\", \"Delaware\", \"South Dakota\", \"North Dakota\", \"Alaska\", \"D.C.\", \"Vermont\", \"Wyoming\"], \"tickvals\": [0, 1, 2, 3, 4, 5, 6, 7, 8, 9, 10, 11, 12, 13, 14, 15, 16, 17, 18, 19, 20, 21, 22, 23, 24, 25, 26, 27, 28, 29, 30, 31, 32, 33, 34, 35, 36, 37, 38, 39, 40, 41, 42, 43, 44, 45, 46, 47, 48, 49, 50]}, \"yaxis\": {\"range\": [0, 40000000], \"rangemode\": \"tozero\", \"tickfont\": {\"size\": 12}, \"title\": {\"text\": \"Population\"}}, \"yaxis2\": {\"color\": \"#6EA4BF\", \"overlaying\": \"y\", \"range\": [0, 66.06918306787573], \"rangemode\": \"tozero\", \"side\": \"right\", \"tickfont\": {\"size\": 12}, \"title\": {\"text\": \"Electoral Votes\"}, \"zeroline\": false}}, {\"showLink\": false, \"linkText\": \"Export to plot.ly\", \"plotlyServerURL\": \"https://plot.ly\"}); \n",
       "}\n",
       "});</script>"
      ],
      "text/vnd.plotly.v1+html": [
       "<div id=\"53c0c823-090b-4299-8ba1-89fdb0112add\" style=\"height: 500px; width: 900px;\" class=\"plotly-graph-div\"></div><script type=\"text/javascript\">require([\"plotly\"], function(Plotly) { window.PLOTLYENV=window.PLOTLYENV || {};window.PLOTLYENV.BASE_URL=\"https://plot.ly\";\n",
       "if (document.getElementById(\"53c0c823-090b-4299-8ba1-89fdb0112add\")) {\n",
       "    Plotly.newPlot(\"53c0c823-090b-4299-8ba1-89fdb0112add\", [{\"marker\": {\"color\": \"#C2EFEB\"}, \"name\": \"Population\", \"x\": [0, 1, 2, 3, 4, 5, 6, 7, 8, 9, 10, 11, 12, 13, 14, 15, 16, 17, 18, 19, 20, 21, 22, 23, 24, 25, 26, 27, 28, 29, 30, 31, 32, 33, 34, 35, 36, 37, 38, 39, 40, 41, 42, 43, 44, 45, 46, 47, 48, 49, 50], \"y\": [39536653, 28304596, 20984400, 19849399, 12805537, 12802023, 11658609, 10429379, 10273419, 9962311, 9005644, 8470020, 7405743, 7016270, 6859819, 6715984, 6666818, 6113532, 6052177, 5795483, 5607154, 5576606, 5024369, 4874747, 4684333, 4454189, 4142776, 3930864, 3588184, 3145711, 3101833, 3004279, 2998039, 2984100, 2913123, 2088070, 1920076, 1815857, 1716943, 1427538, 1342795, 1335907, 1059639, 1050493, 961939, 869666, 755393, 739795, 693972, 623657, 579315], \"type\": \"bar\", \"uid\": \"2134720d-4c8f-4850-ba47-c58ce8be04f0\"}, {\"marker\": {\"color\": \"#6EA4BF\"}, \"name\": \"Electoral Votes\", \"width\": 0.2, \"x\": [0, 1, 2, 3, 4, 5, 6, 7, 8, 9, 10, 11, 12, 13, 14, 15, 16, 17, 18, 19, 20, 21, 22, 23, 24, 25, 26, 27, 28, 29, 30, 31, 32, 33, 34, 35, 36, 37, 38, 39, 40, 41, 42, 43, 44, 45, 46, 47, 48, 49, 50], \"y\": [55, 38, 29, 29, 20, 20, 18, 16, 15, 16, 14, 13, 12, 11, 11, 11, 11, 10, 10, 10, 9, 10, 9, 9, 8, 8, 7, 7, 7, 6, 6, 6, 6, 6, 6, 5, 5, 5, 4, 4, 4, 4, 4, 3, 3, 3, 3, 3, 3, 3, 3], \"yaxis\": \"y2\", \"type\": \"bar\", \"uid\": \"ac019bb1-ad60-48c9-88ee-34c48b870323\"}, {\"line\": {\"color\": \"black\", \"width\": 1.0}, \"mode\": \"lines\", \"x\": [1.2, 2.2, 2.2, 1.2], \"y\": [33300000, 33300000, 39536653, 39536653], \"type\": \"scatter\", \"uid\": \"7e09c5bd-daf8-4c79-adfa-d9190f22deac\"}], {\"annotations\": [{\"align\": \"left\", \"arrowcolor\": \"black\", \"arrowhead\": 0, \"arrowsize\": 1, \"arrowwidth\": 1.2, \"ax\": 6, \"axref\": \"x\", \"ay\": 36418326.5, \"ayref\": \"y\", \"font\": {\"color\": \"black\", \"size\": 12}, \"showarrow\": true, \"startstandoff\": 3, \"text\": \"<i>This gap represents population<br>not represented by electoral votes</i>\", \"x\": 2.2, \"xanchor\": \"left\", \"xref\": \"x\", \"xshift\": 0, \"y\": 36418326.5, \"yanchor\": \"middle\", \"yref\": \"y\"}], \"height\": 500, \"showlegend\": false, \"title\": {\"font\": {\"family\": \"verdana\", \"size\": 18}, \"pad\": {\"b\": 20}, \"text\": \"State populations and electoral votes are NOT proportional\", \"y\": 1.0, \"yanchor\": \"bottom\", \"yref\": \"paper\"}, \"width\": 900, \"xaxis\": {\"tickangle\": -65, \"tickfont\": {\"size\": 10}, \"tickmode\": \"array\", \"ticktext\": [\"California\", \"Texas\", \"Florida\", \"New York\", \"Pennsylvania\", \"Illinois\", \"Ohio\", \"Georgia\", \"North Carolina\", \"Michigan\", \"New Jersey\", \"Virginia\", \"Washington\", \"Arizona\", \"Massachusetts\", \"Tennessee\", \"Indiana\", \"Missouri\", \"Maryland\", \"Wisconsin\", \"Colorado\", \"Minnesota\", \"South Carolina\", \"Alabama\", \"Louisiana\", \"Kentucky\", \"Oregon\", \"Oklahoma\", \"Connecticut\", \"Iowa\", \"Utah\", \"Arkansas\", \"Nevada\", \"Mississippi\", \"Kansas\", \"New Mexico\", \"Nebraska\", \"West Virginia\", \"Idaho\", \"Hawaii\", \"New Hampshire\", \"Maine\", \"Rhode Island\", \"Montana\", \"Delaware\", \"South Dakota\", \"North Dakota\", \"Alaska\", \"D.C.\", \"Vermont\", \"Wyoming\"], \"tickvals\": [0, 1, 2, 3, 4, 5, 6, 7, 8, 9, 10, 11, 12, 13, 14, 15, 16, 17, 18, 19, 20, 21, 22, 23, 24, 25, 26, 27, 28, 29, 30, 31, 32, 33, 34, 35, 36, 37, 38, 39, 40, 41, 42, 43, 44, 45, 46, 47, 48, 49, 50]}, \"yaxis\": {\"range\": [0, 40000000], \"rangemode\": \"tozero\", \"tickfont\": {\"size\": 12}, \"title\": {\"text\": \"Population\"}}, \"yaxis2\": {\"color\": \"#6EA4BF\", \"overlaying\": \"y\", \"range\": [0, 66.06918306787573], \"rangemode\": \"tozero\", \"side\": \"right\", \"tickfont\": {\"size\": 12}, \"title\": {\"text\": \"Electoral Votes\"}, \"zeroline\": false}}, {\"showLink\": false, \"linkText\": \"Export to plot.ly\", \"plotlyServerURL\": \"https://plot.ly\"}); \n",
       "}\n",
       "});</script>"
      ]
     },
     "metadata": {},
     "output_type": "display_data"
    }
   ],
   "source": [
    "# Get list of states in decreasing order of population\n",
    "states = sorted(list(census_df.index[1:]), \n",
    "                key=lambda state: census_df.loc[state, 'HC01_VC03'],\n",
    "                reverse=True)\n",
    "\n",
    "state_pop = go.Bar(\n",
    "    x=list(range(51)),#states,\n",
    "    y=[census_df.loc[state, 'HC01_VC03'] for state in states],\n",
    "    name='Population',\n",
    "    marker=dict(\n",
    "        color='#C2EFEB',\n",
    "        #opacity=,\n",
    "    )\n",
    ")\n",
    "\n",
    "ev_color = '#6EA4BF'\n",
    "state_ev = go.Bar(\n",
    "    x=list(range(51)),#states,\n",
    "    y=[ec_df.loc[state, 'Number of Electoral Votes'] for state in states],\n",
    "    name='Electoral Votes',\n",
    "    yaxis='y2',\n",
    "    #offset=4,\n",
    "    marker=dict(\n",
    "        color=ev_color,\n",
    "        #opacity=,\n",
    "    ),\n",
    "    width=0.2,\n",
    ")\n",
    "\n",
    "# Hacky way to get grouped bars on multiple y-axes. Not working.\n",
    "dummies = [\n",
    "    go.Bar(\n",
    "        x=['Alabama'], \n",
    "        y=[0],\n",
    "        yaxis='y',\n",
    "        name='y dummy', \n",
    "        hoverinfo='none', \n",
    "        showlegend=False\n",
    "    ), \n",
    "    go.Bar(\n",
    "        x=['Alabama'],\n",
    "        y=[0],\n",
    "        yaxis='y2', \n",
    "        name='y2 dummy', \n",
    "        hoverinfo='none', \n",
    "        showlegend=False\n",
    "    ),\n",
    "]\n",
    "\n",
    "b_top = census_df.loc['California', 'HC01_VC03']\n",
    "b_bot = 33300000\n",
    "b_x = 1.2\n",
    "b_size = 1.0\n",
    "bracket = go.Scatter(\n",
    "    x=[b_x, b_x+b_size, b_x+b_size, b_x],\n",
    "    y=[b_bot, b_bot, b_top, b_top],\n",
    "    fill=None,\n",
    "    mode='lines',\n",
    "    line=dict(\n",
    "        width=1.0,\n",
    "        color='black',\n",
    "    ),\n",
    ")\n",
    "\n",
    "data = [state_pop, state_ev] + [bracket] #+ dummies\n",
    "\n",
    "layout = go.Layout(\n",
    "    title=dict(   \n",
    "        text='State populations and electoral votes are NOT proportional',\n",
    "        font=dict(\n",
    "            family='verdana',\n",
    "            size=18,\n",
    "            color=None,\n",
    "        ),\n",
    "        #xref='paper',\n",
    "        yref='paper',\n",
    "        y=1.0,\n",
    "        yanchor='bottom',\n",
    "        #xanchor='right',\n",
    "        pad=dict( # unit: pixels\n",
    "            b=20,\n",
    "        ),\n",
    "    ),\n",
    "    width=900,\n",
    "    height=500,\n",
    "    #barmode='group',\n",
    "    showlegend=False,\n",
    "    xaxis=dict(\n",
    "        tickfont=dict(\n",
    "            size=10,\n",
    "        ),\n",
    "        tickangle=-65,\n",
    "        #automargin=True,\n",
    "        tickmode='array',\n",
    "        tickvals=list(range(51)),\n",
    "        ticktext=states[:states.index('District of Columbia')] \\\n",
    "                 + ['D.C.'] + states[states.index('District of Columbia')+1:] \n",
    "    ),\n",
    "    yaxis=dict(\n",
    "        title='Population',\n",
    "        range=[0,40000000],\n",
    "        tickfont=dict(\n",
    "            size=12,\n",
    "        ),\n",
    "        rangemode='tozero',\n",
    "    ),\n",
    "    yaxis2=dict(\n",
    "        title='Electoral Votes',\n",
    "        range=[0,40000000/float(people_per_ev)],\n",
    "        color=ev_color,\n",
    "#         titlefont=dict(\n",
    "#             color=ev_color,\n",
    "#         ),\n",
    "        tickfont=dict(\n",
    "            size=12,\n",
    "        ),\n",
    "        overlaying='y',\n",
    "        side='right',\n",
    "        rangemode='tozero',\n",
    "        zeroline=False,\n",
    "    )\n",
    ")\n",
    "\n",
    "notes = [dict(\n",
    "    text='<i>This gap represents population<br>' +\\\n",
    "         'not represented by electoral votes</i>',\n",
    "    font=dict(\n",
    "        family=None,\n",
    "        size=12,\n",
    "        color='black',\n",
    "    ),\n",
    "    x=b_x + b_size,\n",
    "    y=(b_top + b_bot)/2.0,\n",
    "    xref='x',\n",
    "    yref='y',\n",
    "    align='left',\n",
    "    xanchor='left',\n",
    "    yanchor='middle',\n",
    "    showarrow=True,\n",
    "    arrowcolor='black',\n",
    "    arrowwidth=1.2,\n",
    "    arrowhead=0,\n",
    "    arrowsize=1,\n",
    "    startstandoff=3,\n",
    "    axref='x',\n",
    "    ayref='y',\n",
    "    ax=6,\n",
    "    ay=(b_top + b_bot)/2.0,\n",
    "    xshift=0,\n",
    ")]\n",
    "\n",
    "layout.update(annotations=notes)\n",
    "\n",
    "fig = go.Figure(data=data, layout=layout)\n",
    "plotly.offline.init_notebook_mode(connected=True)\n",
    "plotly.offline.iplot(fig)"
   ]
  },
  {
   "cell_type": "code",
   "execution_count": 201,
   "metadata": {},
   "outputs": [],
   "source": [
    "pio.write_image(fig, 'images/ec_bars01.png', format='png', scale=3.0)"
   ]
  },
  {
   "cell_type": "code",
   "execution_count": 202,
   "metadata": {},
   "outputs": [
    {
     "data": {
      "text/html": [
       "<script type=\"text/javascript\">window.PlotlyConfig = {MathJaxConfig: 'local'};</script><script type=\"text/javascript\">if (window.MathJax) {MathJax.Hub.Config({SVG: {font: \"STIX-Web\"}});}</script><script>requirejs.config({paths: { 'plotly': ['https://cdn.plot.ly/plotly-latest.min']},});if(!window._Plotly) {require(['plotly'],function(plotly) {window._Plotly=plotly;});}</script>"
      ],
      "text/vnd.plotly.v1+html": [
       "<script type=\"text/javascript\">window.PlotlyConfig = {MathJaxConfig: 'local'};</script><script type=\"text/javascript\">if (window.MathJax) {MathJax.Hub.Config({SVG: {font: \"STIX-Web\"}});}</script><script>requirejs.config({paths: { 'plotly': ['https://cdn.plot.ly/plotly-latest.min']},});if(!window._Plotly) {require(['plotly'],function(plotly) {window._Plotly=plotly;});}</script>"
      ]
     },
     "metadata": {},
     "output_type": "display_data"
    },
    {
     "data": {
      "application/vnd.plotly.v1+json": {
       "config": {
        "linkText": "Export to plot.ly",
        "plotlyServerURL": "https://plot.ly",
        "showLink": false
       },
       "data": [
        {
         "marker": {
          "color": "#C2EFEB"
         },
         "name": "Population",
         "type": "bar",
         "uid": "706e3ddb-eb87-411d-9076-febd01f35cc2",
         "width": 0.36,
         "x": [
          0,
          1,
          2,
          3,
          4,
          5,
          6,
          7,
          8,
          9,
          10,
          11,
          12,
          13,
          14,
          15,
          16,
          17,
          18,
          19,
          20,
          21,
          22,
          23,
          24,
          25,
          26,
          27,
          28,
          29,
          30,
          31,
          32,
          33,
          34,
          35,
          36,
          37,
          38,
          39,
          40,
          41,
          42,
          43,
          44,
          45,
          46,
          47,
          48,
          49,
          50
         ],
         "y": [
          39536653,
          28304596,
          20984400,
          19849399,
          12805537,
          12802023,
          11658609,
          10429379,
          10273419,
          9962311,
          9005644,
          8470020,
          7405743,
          7016270,
          6859819,
          6715984,
          6666818,
          6113532,
          6052177,
          5795483,
          5607154,
          5576606,
          5024369,
          4874747,
          4684333,
          4454189,
          4142776,
          3930864,
          3588184,
          3145711,
          3101833,
          3004279,
          2998039,
          2984100,
          2913123,
          2088070,
          1920076,
          1815857,
          1716943,
          1427538,
          1342795,
          1335907,
          1059639,
          1050493,
          961939,
          869666,
          755393,
          739795,
          693972,
          623657,
          579315
         ]
        },
        {
         "marker": {
          "color": "#6EA4BF"
         },
         "name": "Electoral Votes",
         "offset": 0.18,
         "type": "bar",
         "uid": "40206261-5e45-4c25-bafc-7e658cd1cb91",
         "width": 0.36,
         "x": [
          0,
          1,
          2,
          3,
          4,
          5,
          6,
          7,
          8,
          9,
          10,
          11,
          12,
          13,
          14,
          15,
          16,
          17,
          18,
          19,
          20,
          21,
          22,
          23,
          24,
          25,
          26,
          27,
          28,
          29,
          30,
          31,
          32,
          33,
          34,
          35,
          36,
          37,
          38,
          39,
          40,
          41,
          42,
          43,
          44,
          45,
          46,
          47,
          48,
          49,
          50
         ],
         "y": [
          55,
          38,
          29,
          29,
          20,
          20,
          18,
          16,
          15,
          16,
          14,
          13,
          12,
          11,
          11,
          11,
          11,
          10,
          10,
          10,
          9,
          10,
          9,
          9,
          8,
          8,
          7,
          7,
          7,
          6,
          6,
          6,
          6,
          6,
          6,
          5,
          5,
          5,
          4,
          4,
          4,
          4,
          4,
          3,
          3,
          3,
          3,
          3,
          3,
          3,
          3
         ],
         "yaxis": "y2"
        },
        {
         "line": {
          "color": "black",
          "width": 1
         },
         "mode": "lines",
         "type": "scatter",
         "uid": "2ae93a59-6fd1-42d3-8b82-79f34f531c35",
         "x": [
          1.2,
          2.2,
          2.2,
          1.2
         ],
         "y": [
          33300000,
          33300000,
          39536653,
          39536653
         ]
        }
       ],
       "layout": {
        "annotations": [
         {
          "align": "left",
          "arrowcolor": "black",
          "arrowhead": 0,
          "arrowsize": 1,
          "arrowwidth": 1.2,
          "ax": 6,
          "axref": "x",
          "ay": 36418326.5,
          "ayref": "y",
          "font": {
           "color": "black",
           "size": 12
          },
          "showarrow": true,
          "startstandoff": 3,
          "text": "<i>This gap represents population<br>not represented by electoral votes</i>",
          "x": 2.2,
          "xanchor": "left",
          "xref": "x",
          "xshift": 0,
          "y": 36418326.5,
          "yanchor": "middle",
          "yref": "y"
         }
        ],
        "barmode": "group",
        "height": 500,
        "showlegend": false,
        "title": {
         "font": {
          "family": "verdana",
          "size": 18
         },
         "pad": {
          "b": 20
         },
         "text": "State populations and electoral votes are NOT proportional",
         "y": 1,
         "yanchor": "bottom",
         "yref": "paper"
        },
        "width": 900,
        "xaxis": {
         "tickangle": -65,
         "tickfont": {
          "size": 10
         },
         "tickmode": "array",
         "ticktext": [
          "California",
          "Texas",
          "Florida",
          "New York",
          "Pennsylvania",
          "Illinois",
          "Ohio",
          "Georgia",
          "North Carolina",
          "Michigan",
          "New Jersey",
          "Virginia",
          "Washington",
          "Arizona",
          "Massachusetts",
          "Tennessee",
          "Indiana",
          "Missouri",
          "Maryland",
          "Wisconsin",
          "Colorado",
          "Minnesota",
          "South Carolina",
          "Alabama",
          "Louisiana",
          "Kentucky",
          "Oregon",
          "Oklahoma",
          "Connecticut",
          "Iowa",
          "Utah",
          "Arkansas",
          "Nevada",
          "Mississippi",
          "Kansas",
          "New Mexico",
          "Nebraska",
          "West Virginia",
          "Idaho",
          "Hawaii",
          "New Hampshire",
          "Maine",
          "Rhode Island",
          "Montana",
          "Delaware",
          "South Dakota",
          "North Dakota",
          "Alaska",
          "D.C.",
          "Vermont",
          "Wyoming"
         ],
         "tickvals": [
          0,
          1,
          2,
          3,
          4,
          5,
          6,
          7,
          8,
          9,
          10,
          11,
          12,
          13,
          14,
          15,
          16,
          17,
          18,
          19,
          20,
          21,
          22,
          23,
          24,
          25,
          26,
          27,
          28,
          29,
          30,
          31,
          32,
          33,
          34,
          35,
          36,
          37,
          38,
          39,
          40,
          41,
          42,
          43,
          44,
          45,
          46,
          47,
          48,
          49,
          50
         ]
        },
        "yaxis": {
         "range": [
          0,
          40000000
         ],
         "rangemode": "tozero",
         "tickfont": {
          "size": 12
         },
         "title": {
          "text": "Population"
         }
        },
        "yaxis2": {
         "color": "#6EA4BF",
         "overlaying": "y",
         "range": [
          0,
          66.06918306787573
         ],
         "rangemode": "tozero",
         "side": "right",
         "tickfont": {
          "size": 12
         },
         "title": {
          "text": "Electoral Votes"
         },
         "zeroline": false
        }
       }
      },
      "text/html": [
       "<div id=\"6341fd06-2092-410c-8a8a-6436b57de4f5\" style=\"height: 500px; width: 900px;\" class=\"plotly-graph-div\"></div><script type=\"text/javascript\">require([\"plotly\"], function(Plotly) { window.PLOTLYENV=window.PLOTLYENV || {};window.PLOTLYENV.BASE_URL=\"https://plot.ly\";\n",
       "if (document.getElementById(\"6341fd06-2092-410c-8a8a-6436b57de4f5\")) {\n",
       "    Plotly.newPlot(\"6341fd06-2092-410c-8a8a-6436b57de4f5\", [{\"marker\": {\"color\": \"#C2EFEB\"}, \"name\": \"Population\", \"width\": 0.36, \"x\": [0, 1, 2, 3, 4, 5, 6, 7, 8, 9, 10, 11, 12, 13, 14, 15, 16, 17, 18, 19, 20, 21, 22, 23, 24, 25, 26, 27, 28, 29, 30, 31, 32, 33, 34, 35, 36, 37, 38, 39, 40, 41, 42, 43, 44, 45, 46, 47, 48, 49, 50], \"y\": [39536653, 28304596, 20984400, 19849399, 12805537, 12802023, 11658609, 10429379, 10273419, 9962311, 9005644, 8470020, 7405743, 7016270, 6859819, 6715984, 6666818, 6113532, 6052177, 5795483, 5607154, 5576606, 5024369, 4874747, 4684333, 4454189, 4142776, 3930864, 3588184, 3145711, 3101833, 3004279, 2998039, 2984100, 2913123, 2088070, 1920076, 1815857, 1716943, 1427538, 1342795, 1335907, 1059639, 1050493, 961939, 869666, 755393, 739795, 693972, 623657, 579315], \"type\": \"bar\", \"uid\": \"706e3ddb-eb87-411d-9076-febd01f35cc2\"}, {\"marker\": {\"color\": \"#6EA4BF\"}, \"name\": \"Electoral Votes\", \"offset\": 0.18, \"width\": 0.36, \"x\": [0, 1, 2, 3, 4, 5, 6, 7, 8, 9, 10, 11, 12, 13, 14, 15, 16, 17, 18, 19, 20, 21, 22, 23, 24, 25, 26, 27, 28, 29, 30, 31, 32, 33, 34, 35, 36, 37, 38, 39, 40, 41, 42, 43, 44, 45, 46, 47, 48, 49, 50], \"y\": [55, 38, 29, 29, 20, 20, 18, 16, 15, 16, 14, 13, 12, 11, 11, 11, 11, 10, 10, 10, 9, 10, 9, 9, 8, 8, 7, 7, 7, 6, 6, 6, 6, 6, 6, 5, 5, 5, 4, 4, 4, 4, 4, 3, 3, 3, 3, 3, 3, 3, 3], \"yaxis\": \"y2\", \"type\": \"bar\", \"uid\": \"40206261-5e45-4c25-bafc-7e658cd1cb91\"}, {\"line\": {\"color\": \"black\", \"width\": 1.0}, \"mode\": \"lines\", \"x\": [1.2, 2.2, 2.2, 1.2], \"y\": [33300000, 33300000, 39536653, 39536653], \"type\": \"scatter\", \"uid\": \"2ae93a59-6fd1-42d3-8b82-79f34f531c35\"}], {\"annotations\": [{\"align\": \"left\", \"arrowcolor\": \"black\", \"arrowhead\": 0, \"arrowsize\": 1, \"arrowwidth\": 1.2, \"ax\": 6, \"axref\": \"x\", \"ay\": 36418326.5, \"ayref\": \"y\", \"font\": {\"color\": \"black\", \"size\": 12}, \"showarrow\": true, \"startstandoff\": 3, \"text\": \"<i>This gap represents population<br>not represented by electoral votes</i>\", \"x\": 2.2, \"xanchor\": \"left\", \"xref\": \"x\", \"xshift\": 0, \"y\": 36418326.5, \"yanchor\": \"middle\", \"yref\": \"y\"}], \"barmode\": \"group\", \"height\": 500, \"showlegend\": false, \"title\": {\"font\": {\"family\": \"verdana\", \"size\": 18}, \"pad\": {\"b\": 20}, \"text\": \"State populations and electoral votes are NOT proportional\", \"y\": 1.0, \"yanchor\": \"bottom\", \"yref\": \"paper\"}, \"width\": 900, \"xaxis\": {\"tickangle\": -65, \"tickfont\": {\"size\": 10}, \"tickmode\": \"array\", \"ticktext\": [\"California\", \"Texas\", \"Florida\", \"New York\", \"Pennsylvania\", \"Illinois\", \"Ohio\", \"Georgia\", \"North Carolina\", \"Michigan\", \"New Jersey\", \"Virginia\", \"Washington\", \"Arizona\", \"Massachusetts\", \"Tennessee\", \"Indiana\", \"Missouri\", \"Maryland\", \"Wisconsin\", \"Colorado\", \"Minnesota\", \"South Carolina\", \"Alabama\", \"Louisiana\", \"Kentucky\", \"Oregon\", \"Oklahoma\", \"Connecticut\", \"Iowa\", \"Utah\", \"Arkansas\", \"Nevada\", \"Mississippi\", \"Kansas\", \"New Mexico\", \"Nebraska\", \"West Virginia\", \"Idaho\", \"Hawaii\", \"New Hampshire\", \"Maine\", \"Rhode Island\", \"Montana\", \"Delaware\", \"South Dakota\", \"North Dakota\", \"Alaska\", \"D.C.\", \"Vermont\", \"Wyoming\"], \"tickvals\": [0, 1, 2, 3, 4, 5, 6, 7, 8, 9, 10, 11, 12, 13, 14, 15, 16, 17, 18, 19, 20, 21, 22, 23, 24, 25, 26, 27, 28, 29, 30, 31, 32, 33, 34, 35, 36, 37, 38, 39, 40, 41, 42, 43, 44, 45, 46, 47, 48, 49, 50]}, \"yaxis\": {\"range\": [0, 40000000], \"rangemode\": \"tozero\", \"tickfont\": {\"size\": 12}, \"title\": {\"text\": \"Population\"}}, \"yaxis2\": {\"color\": \"#6EA4BF\", \"overlaying\": \"y\", \"range\": [0, 66.06918306787573], \"rangemode\": \"tozero\", \"side\": \"right\", \"tickfont\": {\"size\": 12}, \"title\": {\"text\": \"Electoral Votes\"}, \"zeroline\": false}}, {\"showLink\": false, \"linkText\": \"Export to plot.ly\", \"plotlyServerURL\": \"https://plot.ly\"}); \n",
       "}\n",
       "});</script>"
      ],
      "text/vnd.plotly.v1+html": [
       "<div id=\"6341fd06-2092-410c-8a8a-6436b57de4f5\" style=\"height: 500px; width: 900px;\" class=\"plotly-graph-div\"></div><script type=\"text/javascript\">require([\"plotly\"], function(Plotly) { window.PLOTLYENV=window.PLOTLYENV || {};window.PLOTLYENV.BASE_URL=\"https://plot.ly\";\n",
       "if (document.getElementById(\"6341fd06-2092-410c-8a8a-6436b57de4f5\")) {\n",
       "    Plotly.newPlot(\"6341fd06-2092-410c-8a8a-6436b57de4f5\", [{\"marker\": {\"color\": \"#C2EFEB\"}, \"name\": \"Population\", \"width\": 0.36, \"x\": [0, 1, 2, 3, 4, 5, 6, 7, 8, 9, 10, 11, 12, 13, 14, 15, 16, 17, 18, 19, 20, 21, 22, 23, 24, 25, 26, 27, 28, 29, 30, 31, 32, 33, 34, 35, 36, 37, 38, 39, 40, 41, 42, 43, 44, 45, 46, 47, 48, 49, 50], \"y\": [39536653, 28304596, 20984400, 19849399, 12805537, 12802023, 11658609, 10429379, 10273419, 9962311, 9005644, 8470020, 7405743, 7016270, 6859819, 6715984, 6666818, 6113532, 6052177, 5795483, 5607154, 5576606, 5024369, 4874747, 4684333, 4454189, 4142776, 3930864, 3588184, 3145711, 3101833, 3004279, 2998039, 2984100, 2913123, 2088070, 1920076, 1815857, 1716943, 1427538, 1342795, 1335907, 1059639, 1050493, 961939, 869666, 755393, 739795, 693972, 623657, 579315], \"type\": \"bar\", \"uid\": \"706e3ddb-eb87-411d-9076-febd01f35cc2\"}, {\"marker\": {\"color\": \"#6EA4BF\"}, \"name\": \"Electoral Votes\", \"offset\": 0.18, \"width\": 0.36, \"x\": [0, 1, 2, 3, 4, 5, 6, 7, 8, 9, 10, 11, 12, 13, 14, 15, 16, 17, 18, 19, 20, 21, 22, 23, 24, 25, 26, 27, 28, 29, 30, 31, 32, 33, 34, 35, 36, 37, 38, 39, 40, 41, 42, 43, 44, 45, 46, 47, 48, 49, 50], \"y\": [55, 38, 29, 29, 20, 20, 18, 16, 15, 16, 14, 13, 12, 11, 11, 11, 11, 10, 10, 10, 9, 10, 9, 9, 8, 8, 7, 7, 7, 6, 6, 6, 6, 6, 6, 5, 5, 5, 4, 4, 4, 4, 4, 3, 3, 3, 3, 3, 3, 3, 3], \"yaxis\": \"y2\", \"type\": \"bar\", \"uid\": \"40206261-5e45-4c25-bafc-7e658cd1cb91\"}, {\"line\": {\"color\": \"black\", \"width\": 1.0}, \"mode\": \"lines\", \"x\": [1.2, 2.2, 2.2, 1.2], \"y\": [33300000, 33300000, 39536653, 39536653], \"type\": \"scatter\", \"uid\": \"2ae93a59-6fd1-42d3-8b82-79f34f531c35\"}], {\"annotations\": [{\"align\": \"left\", \"arrowcolor\": \"black\", \"arrowhead\": 0, \"arrowsize\": 1, \"arrowwidth\": 1.2, \"ax\": 6, \"axref\": \"x\", \"ay\": 36418326.5, \"ayref\": \"y\", \"font\": {\"color\": \"black\", \"size\": 12}, \"showarrow\": true, \"startstandoff\": 3, \"text\": \"<i>This gap represents population<br>not represented by electoral votes</i>\", \"x\": 2.2, \"xanchor\": \"left\", \"xref\": \"x\", \"xshift\": 0, \"y\": 36418326.5, \"yanchor\": \"middle\", \"yref\": \"y\"}], \"barmode\": \"group\", \"height\": 500, \"showlegend\": false, \"title\": {\"font\": {\"family\": \"verdana\", \"size\": 18}, \"pad\": {\"b\": 20}, \"text\": \"State populations and electoral votes are NOT proportional\", \"y\": 1.0, \"yanchor\": \"bottom\", \"yref\": \"paper\"}, \"width\": 900, \"xaxis\": {\"tickangle\": -65, \"tickfont\": {\"size\": 10}, \"tickmode\": \"array\", \"ticktext\": [\"California\", \"Texas\", \"Florida\", \"New York\", \"Pennsylvania\", \"Illinois\", \"Ohio\", \"Georgia\", \"North Carolina\", \"Michigan\", \"New Jersey\", \"Virginia\", \"Washington\", \"Arizona\", \"Massachusetts\", \"Tennessee\", \"Indiana\", \"Missouri\", \"Maryland\", \"Wisconsin\", \"Colorado\", \"Minnesota\", \"South Carolina\", \"Alabama\", \"Louisiana\", \"Kentucky\", \"Oregon\", \"Oklahoma\", \"Connecticut\", \"Iowa\", \"Utah\", \"Arkansas\", \"Nevada\", \"Mississippi\", \"Kansas\", \"New Mexico\", \"Nebraska\", \"West Virginia\", \"Idaho\", \"Hawaii\", \"New Hampshire\", \"Maine\", \"Rhode Island\", \"Montana\", \"Delaware\", \"South Dakota\", \"North Dakota\", \"Alaska\", \"D.C.\", \"Vermont\", \"Wyoming\"], \"tickvals\": [0, 1, 2, 3, 4, 5, 6, 7, 8, 9, 10, 11, 12, 13, 14, 15, 16, 17, 18, 19, 20, 21, 22, 23, 24, 25, 26, 27, 28, 29, 30, 31, 32, 33, 34, 35, 36, 37, 38, 39, 40, 41, 42, 43, 44, 45, 46, 47, 48, 49, 50]}, \"yaxis\": {\"range\": [0, 40000000], \"rangemode\": \"tozero\", \"tickfont\": {\"size\": 12}, \"title\": {\"text\": \"Population\"}}, \"yaxis2\": {\"color\": \"#6EA4BF\", \"overlaying\": \"y\", \"range\": [0, 66.06918306787573], \"rangemode\": \"tozero\", \"side\": \"right\", \"tickfont\": {\"size\": 12}, \"title\": {\"text\": \"Electoral Votes\"}, \"zeroline\": false}}, {\"showLink\": false, \"linkText\": \"Export to plot.ly\", \"plotlyServerURL\": \"https://plot.ly\"}); \n",
       "}\n",
       "});</script>"
      ]
     },
     "metadata": {},
     "output_type": "display_data"
    }
   ],
   "source": [
    "# Get list of states in decreasing order of population\n",
    "states = sorted(list(census_df.index[1:]), \n",
    "                key=lambda state: census_df.loc[state, 'HC01_VC03'],\n",
    "                reverse=True)\n",
    "\n",
    "bar_width = 0.36\n",
    "state_pop = go.Bar(\n",
    "    x=list(range(51)),#states,\n",
    "    y=[census_df.loc[state, 'HC01_VC03'] for state in states],\n",
    "    name='Population',\n",
    "    marker=dict(\n",
    "        color='#C2EFEB',\n",
    "        #opacity=,\n",
    "    ),\n",
    "    width=bar_width\n",
    ")\n",
    "\n",
    "ev_color = '#6EA4BF'\n",
    "state_ev = go.Bar(\n",
    "    x=list(range(51)),#states,\n",
    "    y=[ec_df.loc[state, 'Number of Electoral Votes'] for state in states],\n",
    "    name='Electoral Votes',\n",
    "    yaxis='y2',\n",
    "    marker=dict(\n",
    "        color=ev_color,\n",
    "        #opacity=,\n",
    "    ),\n",
    "    width=bar_width,\n",
    "    offset=bar_width/2.0,\n",
    ")\n",
    "\n",
    "b_top = census_df.loc['California', 'HC01_VC03']\n",
    "b_bot = 33300000\n",
    "b_x = 1.2\n",
    "b_size = 1.0\n",
    "bracket = go.Scatter(\n",
    "    x=[b_x, b_x+b_size, b_x+b_size, b_x],\n",
    "    y=[b_bot, b_bot, b_top, b_top],\n",
    "    fill=None,\n",
    "    mode='lines',\n",
    "    line=dict(\n",
    "        width=1.0,\n",
    "        color='black',\n",
    "    ),\n",
    ")\n",
    "\n",
    "data = [state_pop, state_ev] + [bracket]\n",
    "\n",
    "layout = go.Layout(\n",
    "    title=dict(   \n",
    "        text='State populations and electoral votes are NOT proportional',\n",
    "        font=dict(\n",
    "            family='verdana',\n",
    "            size=18,\n",
    "            color=None,\n",
    "        ),\n",
    "        #xref='paper',\n",
    "        yref='paper',\n",
    "        y=1.0,\n",
    "        yanchor='bottom',\n",
    "        #xanchor='right',\n",
    "        pad=dict( # unit: pixels\n",
    "            b=20,\n",
    "        ),\n",
    "    ),\n",
    "    width=900,\n",
    "    height=500,\n",
    "    barmode='group',\n",
    "    showlegend=False,\n",
    "    xaxis=dict(\n",
    "        tickfont=dict(\n",
    "            size=10,\n",
    "        ),\n",
    "        tickangle=-65,\n",
    "        #automargin=True,\n",
    "        tickmode='array',\n",
    "        tickvals=list(range(51)),\n",
    "        ticktext=states[:states.index('District of Columbia')] \\\n",
    "                 + ['D.C.'] + states[states.index('District of Columbia')+1:] \n",
    "    ),\n",
    "    yaxis=dict(\n",
    "        title='Population',\n",
    "        range=[0,40000000],\n",
    "        tickfont=dict(\n",
    "            size=12,\n",
    "        ),\n",
    "        rangemode='tozero',\n",
    "    ),\n",
    "    yaxis2=dict(\n",
    "        title='Electoral Votes',\n",
    "        range=[0,40000000/float(people_per_ev)],\n",
    "        color=ev_color,\n",
    "#         titlefont=dict(\n",
    "#             color=ev_color,\n",
    "#         ),\n",
    "        tickfont=dict(\n",
    "            size=12,\n",
    "        ),\n",
    "        overlaying='y',\n",
    "        side='right',\n",
    "        rangemode='tozero',\n",
    "        zeroline=False,\n",
    "    )\n",
    ")\n",
    "\n",
    "notes = [dict(\n",
    "    text='<i>This gap represents population<br>' +\\\n",
    "         'not represented by electoral votes</i>',\n",
    "    font=dict(\n",
    "        family=None,\n",
    "        size=12,\n",
    "        color='black',\n",
    "    ),\n",
    "    x=b_x + b_size,\n",
    "    y=(b_top + b_bot)/2.0,\n",
    "    xref='x',\n",
    "    yref='y',\n",
    "    align='left',\n",
    "    xanchor='left',\n",
    "    yanchor='middle',\n",
    "    showarrow=True,\n",
    "    arrowcolor='black',\n",
    "    arrowwidth=1.2,\n",
    "    arrowhead=0,\n",
    "    arrowsize=1,\n",
    "    startstandoff=3,\n",
    "    axref='x',\n",
    "    ayref='y',\n",
    "    ax=6,\n",
    "    ay=(b_top + b_bot)/2.0,\n",
    "    xshift=0,\n",
    ")]\n",
    "\n",
    "layout.update(annotations=notes)\n",
    "\n",
    "fig = go.Figure(data=data, layout=layout)\n",
    "plotly.offline.init_notebook_mode(connected=True)\n",
    "plotly.offline.iplot(fig)"
   ]
  },
  {
   "cell_type": "code",
   "execution_count": 203,
   "metadata": {},
   "outputs": [],
   "source": [
    "pio.write_image(fig, 'images/ec_bars02.png', format='png', scale=3.0)"
   ]
  },
  {
   "cell_type": "markdown",
   "metadata": {},
   "source": [
    "### II. US Map by Voting Power\n",
    "\n",
    "blahblah"
   ]
  },
  {
   "cell_type": "code",
   "execution_count": 316,
   "metadata": {},
   "outputs": [
    {
     "data": {
      "text/plain": [
       "[[0.47244094488188976, 'rgb(242, 246, 235)'],\n",
       " [0.4763779527559055, 'rgb(242, 246, 237)'],\n",
       " [0.48031496062992124, 'rgb(243, 246, 238)'],\n",
       " [0.49, 'rgb(255, 255, 255)'],\n",
       " [0.51, 'rgb(255, 255, 255)'],\n",
       " [0.5196850393700787, 'rgb(248, 242, 245)']]"
      ]
     },
     "execution_count": 316,
     "metadata": {},
     "output_type": "execute_result"
    }
   ],
   "source": [
    "# Try out function to convert matplotlib colormaps to Plotly format\n",
    "import matplotlib\n",
    "from matplotlib import cm\n",
    "import numpy as np\n",
    "\n",
    "magma_cmap = matplotlib.cm.get_cmap('PiYG_r')\n",
    "\n",
    "def matplotlib_to_plotly(cmap, pl_entries):\n",
    "    h = 1.0/(pl_entries-1)\n",
    "    pl_colorscale = []\n",
    "\n",
    "    for k in range(pl_entries):\n",
    "        C = list(map(np.uint8, np.array(cmap(k*h)[:3])*255))\n",
    "        pl_colorscale.append([k*h, 'rgb'+str((C[0], C[1], C[2]))])\n",
    "\n",
    "    return pl_colorscale\n",
    "\n",
    "magma = matplotlib_to_plotly(magma_cmap, 255)\n",
    "#magma[123:132]\n",
    "modm = magma[:123] + [[0.49, 'rgb(255, 255, 255)'],[0.51, 'rgb(255, 255, 255)']] + magma[132:]\n",
    "modm[120:126]"
   ]
  },
  {
   "cell_type": "code",
   "execution_count": 422,
   "metadata": {
    "scrolled": false
   },
   "outputs": [
    {
     "data": {
      "text/html": [
       "<script type=\"text/javascript\">window.PlotlyConfig = {MathJaxConfig: 'local'};</script><script type=\"text/javascript\">if (window.MathJax) {MathJax.Hub.Config({SVG: {font: \"STIX-Web\"}});}</script><script>requirejs.config({paths: { 'plotly': ['https://cdn.plot.ly/plotly-latest.min']},});if(!window._Plotly) {require(['plotly'],function(plotly) {window._Plotly=plotly;});}</script>"
      ],
      "text/vnd.plotly.v1+html": [
       "<script type=\"text/javascript\">window.PlotlyConfig = {MathJaxConfig: 'local'};</script><script type=\"text/javascript\">if (window.MathJax) {MathJax.Hub.Config({SVG: {font: \"STIX-Web\"}});}</script><script>requirejs.config({paths: { 'plotly': ['https://cdn.plot.ly/plotly-latest.min']},});if(!window._Plotly) {require(['plotly'],function(plotly) {window._Plotly=plotly;});}</script>"
      ]
     },
     "metadata": {},
     "output_type": "display_data"
    },
    {
     "data": {
      "application/vnd.plotly.v1+json": {
       "config": {
        "linkText": "Export to plot.ly",
        "plotlyServerURL": "https://plot.ly",
        "showLink": false
       },
       "data": [
        {
         "autocolorscale": false,
         "colorbar": {
          "title": {
           "text": "Voting Power"
          }
         },
         "colorscale": [
          [
           0,
           "rgb(144,11,85)"
          ],
          [
           0.495,
           "white"
          ],
          [
           0.505,
           "white"
          ],
          [
           0.7,
           "rgb(43,102,30)"
          ],
          [
           1,
           "rgb(43,102,30)"
          ]
         ],
         "locationmode": "USA-states",
         "locations": [
          "CA",
          "TX",
          "FL",
          "NY",
          "PA",
          "IL",
          "OH",
          "GA",
          "NC",
          "MI",
          "NJ",
          "VA",
          "WA",
          "AZ",
          "MA",
          "TN",
          "IN",
          "MO",
          "MD",
          "WI",
          "CO",
          "MN",
          "SC",
          "AL",
          "LA",
          "KY",
          "OR",
          "OK",
          "CT",
          "IA",
          "UT",
          "AR",
          "NV",
          "MS",
          "KS",
          "NM",
          "NE",
          "WV",
          "ID",
          "HI",
          "NH",
          "ME",
          "RI",
          "MT",
          "DE",
          "SD",
          "ND",
          "AK",
          "DC",
          "VT",
          "WY"
         ],
         "marker": {
          "line": {
           "color": "black",
           "width": 1
          }
         },
         "reversescale": true,
         "type": "choropleth",
         "uid": "076db5e8-6cec-4493-a366-8be6485f3fd7",
         "z": [
          0.8422166888455421,
          0.8128074781099259,
          0.8366859886852397,
          0.8845282147316674,
          0.9455690634647175,
          0.9458286107010422,
          0.9347313787972055,
          0.9288008137974688,
          0.8839695646784766,
          0.9723462460268737,
          0.9411835222197271,
          0.929223042963808,
          0.9810105180468284,
          0.949177525314595,
          0.9708252937197079,
          0.9916172813304847,
          0.99893019361546,
          0.9903047557657986,
          1.0003441429631676,
          1.0446514663448059,
          0.9717646122638606,
          1.0856531399432547,
          1.084481221963147,
          1.117767513414287,
          1.0339589118239705,
          1.0873826528917196,
          1.0229811773285535,
          1.0781298640422248,
          1.1810937983917424,
          1.1547646584431426,
          1.1710997621328538,
          1.2091273441900159,
          1.2116439741030174,
          1.2173036722884074,
          1.2469627573143451,
          1.4497262577706673,
          1.5765677541218146,
          1.6670530262367562,
          1.4104742706371487,
          1.69641993813864,
          1.8034799992929358,
          1.812778827905354,
          2.2854046761685423,
          1.7289767225844612,
          1.8881425373520757,
          2.0884775813219307,
          2.404414581863902,
          2.455109786140645,
          2.6172207873486513,
          2.9123026667509837,
          3.1352164957543276
         ],
         "zauto": true,
         "zmax": 3.1352164957543276,
         "zmid": 1,
         "zmin": 0.8128074781099259
        }
       ],
       "layout": {
        "geo": {
         "lakecolor": "rgb(255, 255, 255)",
         "projection": {
          "type": "albers usa"
         },
         "scope": "usa",
         "showlakes": true
        },
        "height": 600,
        "title": {
         "text": "Wooooooooooo"
        },
        "width": 900
       }
      },
      "text/html": [
       "<div id=\"a9a45c83-9976-46e3-ad86-7444218da7e1\" style=\"height: 600px; width: 900px;\" class=\"plotly-graph-div\"></div><script type=\"text/javascript\">require([\"plotly\"], function(Plotly) { window.PLOTLYENV=window.PLOTLYENV || {};window.PLOTLYENV.BASE_URL=\"https://plot.ly\";\n",
       "if (document.getElementById(\"a9a45c83-9976-46e3-ad86-7444218da7e1\")) {\n",
       "    Plotly.newPlot(\"a9a45c83-9976-46e3-ad86-7444218da7e1\", [{\"autocolorscale\": false, \"colorbar\": {\"title\": {\"text\": \"Voting Power\"}}, \"colorscale\": [[0.0, \"rgb(144,11,85)\"], [0.495, \"white\"], [0.505, \"white\"], [0.7, \"rgb(43,102,30)\"], [1.0, \"rgb(43,102,30)\"]], \"locationmode\": \"USA-states\", \"locations\": [\"CA\", \"TX\", \"FL\", \"NY\", \"PA\", \"IL\", \"OH\", \"GA\", \"NC\", \"MI\", \"NJ\", \"VA\", \"WA\", \"AZ\", \"MA\", \"TN\", \"IN\", \"MO\", \"MD\", \"WI\", \"CO\", \"MN\", \"SC\", \"AL\", \"LA\", \"KY\", \"OR\", \"OK\", \"CT\", \"IA\", \"UT\", \"AR\", \"NV\", \"MS\", \"KS\", \"NM\", \"NE\", \"WV\", \"ID\", \"HI\", \"NH\", \"ME\", \"RI\", \"MT\", \"DE\", \"SD\", \"ND\", \"AK\", \"DC\", \"VT\", \"WY\"], \"marker\": {\"line\": {\"color\": \"black\", \"width\": 1.0}}, \"reversescale\": true, \"z\": [0.8422166888455421, 0.8128074781099259, 0.8366859886852397, 0.8845282147316674, 0.9455690634647175, 0.9458286107010422, 0.9347313787972055, 0.9288008137974688, 0.8839695646784766, 0.9723462460268737, 0.9411835222197271, 0.929223042963808, 0.9810105180468284, 0.949177525314595, 0.9708252937197079, 0.9916172813304847, 0.99893019361546, 0.9903047557657986, 1.0003441429631676, 1.0446514663448059, 0.9717646122638606, 1.0856531399432547, 1.084481221963147, 1.117767513414287, 1.0339589118239705, 1.0873826528917196, 1.0229811773285535, 1.0781298640422248, 1.1810937983917424, 1.1547646584431426, 1.1710997621328538, 1.2091273441900159, 1.2116439741030174, 1.2173036722884074, 1.2469627573143451, 1.4497262577706673, 1.5765677541218146, 1.6670530262367562, 1.4104742706371487, 1.69641993813864, 1.8034799992929358, 1.812778827905354, 2.2854046761685423, 1.7289767225844612, 1.8881425373520757, 2.0884775813219307, 2.404414581863902, 2.455109786140645, 2.6172207873486513, 2.9123026667509837, 3.1352164957543276], \"zauto\": true, \"zmax\": 3.1352164957543276, \"zmid\": 1.0, \"zmin\": 0.8128074781099259, \"type\": \"choropleth\", \"uid\": \"076db5e8-6cec-4493-a366-8be6485f3fd7\"}], {\"geo\": {\"lakecolor\": \"rgb(255, 255, 255)\", \"projection\": {\"type\": \"albers usa\"}, \"scope\": \"usa\", \"showlakes\": true}, \"height\": 600, \"title\": {\"text\": \"Wooooooooooo\"}, \"width\": 900}, {\"showLink\": false, \"linkText\": \"Export to plot.ly\", \"plotlyServerURL\": \"https://plot.ly\"}); \n",
       "}\n",
       "});</script>"
      ],
      "text/vnd.plotly.v1+html": [
       "<div id=\"a9a45c83-9976-46e3-ad86-7444218da7e1\" style=\"height: 600px; width: 900px;\" class=\"plotly-graph-div\"></div><script type=\"text/javascript\">require([\"plotly\"], function(Plotly) { window.PLOTLYENV=window.PLOTLYENV || {};window.PLOTLYENV.BASE_URL=\"https://plot.ly\";\n",
       "if (document.getElementById(\"a9a45c83-9976-46e3-ad86-7444218da7e1\")) {\n",
       "    Plotly.newPlot(\"a9a45c83-9976-46e3-ad86-7444218da7e1\", [{\"autocolorscale\": false, \"colorbar\": {\"title\": {\"text\": \"Voting Power\"}}, \"colorscale\": [[0.0, \"rgb(144,11,85)\"], [0.495, \"white\"], [0.505, \"white\"], [0.7, \"rgb(43,102,30)\"], [1.0, \"rgb(43,102,30)\"]], \"locationmode\": \"USA-states\", \"locations\": [\"CA\", \"TX\", \"FL\", \"NY\", \"PA\", \"IL\", \"OH\", \"GA\", \"NC\", \"MI\", \"NJ\", \"VA\", \"WA\", \"AZ\", \"MA\", \"TN\", \"IN\", \"MO\", \"MD\", \"WI\", \"CO\", \"MN\", \"SC\", \"AL\", \"LA\", \"KY\", \"OR\", \"OK\", \"CT\", \"IA\", \"UT\", \"AR\", \"NV\", \"MS\", \"KS\", \"NM\", \"NE\", \"WV\", \"ID\", \"HI\", \"NH\", \"ME\", \"RI\", \"MT\", \"DE\", \"SD\", \"ND\", \"AK\", \"DC\", \"VT\", \"WY\"], \"marker\": {\"line\": {\"color\": \"black\", \"width\": 1.0}}, \"reversescale\": true, \"z\": [0.8422166888455421, 0.8128074781099259, 0.8366859886852397, 0.8845282147316674, 0.9455690634647175, 0.9458286107010422, 0.9347313787972055, 0.9288008137974688, 0.8839695646784766, 0.9723462460268737, 0.9411835222197271, 0.929223042963808, 0.9810105180468284, 0.949177525314595, 0.9708252937197079, 0.9916172813304847, 0.99893019361546, 0.9903047557657986, 1.0003441429631676, 1.0446514663448059, 0.9717646122638606, 1.0856531399432547, 1.084481221963147, 1.117767513414287, 1.0339589118239705, 1.0873826528917196, 1.0229811773285535, 1.0781298640422248, 1.1810937983917424, 1.1547646584431426, 1.1710997621328538, 1.2091273441900159, 1.2116439741030174, 1.2173036722884074, 1.2469627573143451, 1.4497262577706673, 1.5765677541218146, 1.6670530262367562, 1.4104742706371487, 1.69641993813864, 1.8034799992929358, 1.812778827905354, 2.2854046761685423, 1.7289767225844612, 1.8881425373520757, 2.0884775813219307, 2.404414581863902, 2.455109786140645, 2.6172207873486513, 2.9123026667509837, 3.1352164957543276], \"zauto\": true, \"zmax\": 3.1352164957543276, \"zmid\": 1.0, \"zmin\": 0.8128074781099259, \"type\": \"choropleth\", \"uid\": \"076db5e8-6cec-4493-a366-8be6485f3fd7\"}], {\"geo\": {\"lakecolor\": \"rgb(255, 255, 255)\", \"projection\": {\"type\": \"albers usa\"}, \"scope\": \"usa\", \"showlakes\": true}, \"height\": 600, \"title\": {\"text\": \"Wooooooooooo\"}, \"width\": 900}, {\"showLink\": false, \"linkText\": \"Export to plot.ly\", \"plotlyServerURL\": \"https://plot.ly\"}); \n",
       "}\n",
       "});</script>"
      ]
     },
     "metadata": {},
     "output_type": "display_data"
    }
   ],
   "source": [
    "# Calculate State Voting Power (SVP) and normalize by average voting power\n",
    "states_vp = [ec_df.loc[state, \"Number of Electoral Votes\"] / \\\n",
    "             float(census_df.loc[state, \"HC01_VC03\"]) for state in states]\n",
    "norm_states_vp = [vp/avg_vp for vp in states_vp]\n",
    "\n",
    "rasp_green = [\n",
    "    [0.0, 'rgb(144,11,85)'],\n",
    "    #[0.4, 'blue'],\n",
    "    [0.495, 'white'],\n",
    "    [0.505, 'white'],\n",
    "    [0.7, 'rgb(43,102,30)'],\n",
    "    [1.0, 'rgb(43,102,30)']\n",
    "]\n",
    "\n",
    "orange_green = [\n",
    "    [0.0, 'rgb(130,61,17)'],\n",
    "    [0.25, 'rgb(218,126,38)'],\n",
    "    [0.495, 'white'],\n",
    "    [0.505, 'white'],\n",
    "    [0.7, 'rgb(4,62,50)'],\n",
    "    [1.0, 'rgb(4,62,50)']\n",
    "]\n",
    "# Plot\n",
    "vp_map = go.Choropleth(\n",
    "    colorscale=rasp_green,#'RdBu',\n",
    "    autocolorscale=False,\n",
    "    reversescale=True,\n",
    "    locations=[abbrev_df.loc[state, 'Postal Code'] for state in states], # Needs abbreviations\n",
    "    z=norm_states_vp,\n",
    "    locationmode='USA-states',\n",
    "    marker=dict(\n",
    "        line=dict(\n",
    "            color='black',\n",
    "            width=1.0,\n",
    "        )\n",
    "    ),\n",
    "    zauto=True,\n",
    "    zmid=1.0,\n",
    "    zmin=min(norm_states_vp),\n",
    "    zmax=max(norm_states_vp),\n",
    "    colorbar = dict(\n",
    "        title = \"Voting Power\"\n",
    "    )\n",
    ")\n",
    "\n",
    "data = [vp_map]\n",
    "\n",
    "layout = go.Layout(\n",
    "    title=go.layout.Title(\n",
    "        text='Wooooooooooo'\n",
    "    ),\n",
    "    width=900,\n",
    "    height=600,\n",
    "    geo=go.layout.Geo(\n",
    "        scope='usa',\n",
    "        projection=go.layout.geo.Projection(type = 'albers usa'),\n",
    "        showlakes=True,\n",
    "        lakecolor='rgb(255, 255, 255)'),\n",
    ")\n",
    "\n",
    "fig = go.Figure(data=data, layout=layout)\n",
    "plotly.offline.init_notebook_mode(connected=True)\n",
    "plotly.offline.iplot(fig)"
   ]
  },
  {
   "cell_type": "code",
   "execution_count": 423,
   "metadata": {},
   "outputs": [],
   "source": [
    "pio.write_image(fig, 'images/ec_vp_map01.png', format='png', scale=3.0)"
   ]
  },
  {
   "cell_type": "code",
   "execution_count": 310,
   "metadata": {},
   "outputs": [
    {
     "data": {
      "text/plain": [
       "[[0.0, 'rgb(144,11,85)'],\n",
       " [0.495, 'white'],\n",
       " [0.4, 'rgb(12,12,2)'],\n",
       " [0.7, 'rgb(43,102,30)'],\n",
       " [1.0, 'rgb(43,102,30)']]"
      ]
     },
     "execution_count": 310,
     "metadata": {},
     "output_type": "execute_result"
    }
   ],
   "source": [
    "rasp_green[:2] + [[0.4, 'rgb(12,12,2)']] + rasp_green[3:]"
   ]
  },
  {
   "cell_type": "code",
   "execution_count": 435,
   "metadata": {},
   "outputs": [
    {
     "data": {
      "text/html": [
       "<script type=\"text/javascript\">window.PlotlyConfig = {MathJaxConfig: 'local'};</script><script type=\"text/javascript\">if (window.MathJax) {MathJax.Hub.Config({SVG: {font: \"STIX-Web\"}});}</script><script>requirejs.config({paths: { 'plotly': ['https://cdn.plot.ly/plotly-latest.min']},});if(!window._Plotly) {require(['plotly'],function(plotly) {window._Plotly=plotly;});}</script>"
      ],
      "text/vnd.plotly.v1+html": [
       "<script type=\"text/javascript\">window.PlotlyConfig = {MathJaxConfig: 'local'};</script><script type=\"text/javascript\">if (window.MathJax) {MathJax.Hub.Config({SVG: {font: \"STIX-Web\"}});}</script><script>requirejs.config({paths: { 'plotly': ['https://cdn.plot.ly/plotly-latest.min']},});if(!window._Plotly) {require(['plotly'],function(plotly) {window._Plotly=plotly;});}</script>"
      ]
     },
     "metadata": {},
     "output_type": "display_data"
    },
    {
     "data": {
      "application/vnd.plotly.v1+json": {
       "config": {
        "linkText": "Export to plot.ly",
        "plotlyServerURL": "https://plot.ly",
        "showLink": false
       },
       "data": [
        {
         "autocolorscale": false,
         "colorbar": {
          "title": {
           "text": "Voting Power"
          }
         },
         "colorscale": [
          [
           0,
           "rgb(255, 247, 243)"
          ],
          [
           0.003937007874015748,
           "rgb(254, 246, 242)"
          ],
          [
           0.007874015748031496,
           "rgb(254, 245, 241)"
          ],
          [
           0.011811023622047244,
           "rgb(254, 244, 240)"
          ],
          [
           0.015748031496062992,
           "rgb(254, 244, 240)"
          ],
          [
           0.01968503937007874,
           "rgb(254, 243, 239)"
          ],
          [
           0.023622047244094488,
           "rgb(254, 242, 238)"
          ],
          [
           0.027559055118110236,
           "rgb(254, 241, 238)"
          ],
          [
           0.031496062992125984,
           "rgb(254, 241, 237)"
          ],
          [
           0.03543307086614173,
           "rgb(254, 240, 236)"
          ],
          [
           0.03937007874015748,
           "rgb(254, 239, 236)"
          ],
          [
           0.04330708661417323,
           "rgb(254, 239, 235)"
          ],
          [
           0.047244094488188976,
           "rgb(254, 238, 234)"
          ],
          [
           0.051181102362204724,
           "rgb(254, 237, 234)"
          ],
          [
           0.05511811023622047,
           "rgb(254, 236, 233)"
          ],
          [
           0.05905511811023622,
           "rgb(254, 236, 232)"
          ],
          [
           0.06299212598425197,
           "rgb(253, 235, 231)"
          ],
          [
           0.06692913385826771,
           "rgb(253, 234, 231)"
          ],
          [
           0.07086614173228346,
           "rgb(253, 234, 230)"
          ],
          [
           0.07480314960629922,
           "rgb(253, 233, 229)"
          ],
          [
           0.07874015748031496,
           "rgb(253, 232, 229)"
          ],
          [
           0.0826771653543307,
           "rgb(253, 231, 228)"
          ],
          [
           0.08661417322834646,
           "rgb(253, 231, 227)"
          ],
          [
           0.09055118110236221,
           "rgb(253, 230, 227)"
          ],
          [
           0.09448818897637795,
           "rgb(253, 229, 226)"
          ],
          [
           0.09842519685039369,
           "rgb(253, 228, 225)"
          ],
          [
           0.10236220472440945,
           "rgb(253, 228, 225)"
          ],
          [
           0.1062992125984252,
           "rgb(253, 227, 224)"
          ],
          [
           0.11023622047244094,
           "rgb(253, 226, 223)"
          ],
          [
           0.11417322834645668,
           "rgb(253, 226, 222)"
          ],
          [
           0.11811023622047244,
           "rgb(253, 225, 222)"
          ],
          [
           0.1220472440944882,
           "rgb(253, 224, 221)"
          ],
          [
           0.12598425196850394,
           "rgb(252, 223, 220)"
          ],
          [
           0.12992125984251968,
           "rgb(252, 223, 219)"
          ],
          [
           0.13385826771653542,
           "rgb(252, 222, 219)"
          ],
          [
           0.1377952755905512,
           "rgb(252, 221, 218)"
          ],
          [
           0.14173228346456693,
           "rgb(252, 220, 217)"
          ],
          [
           0.14566929133858267,
           "rgb(252, 219, 216)"
          ],
          [
           0.14960629921259844,
           "rgb(252, 218, 215)"
          ],
          [
           0.15354330708661418,
           "rgb(252, 217, 214)"
          ],
          [
           0.15748031496062992,
           "rgb(252, 217, 213)"
          ],
          [
           0.16141732283464566,
           "rgb(252, 216, 212)"
          ],
          [
           0.1653543307086614,
           "rgb(252, 215, 211)"
          ],
          [
           0.16929133858267717,
           "rgb(252, 214, 210)"
          ],
          [
           0.1732283464566929,
           "rgb(252, 213, 209)"
          ],
          [
           0.17716535433070865,
           "rgb(252, 212, 209)"
          ],
          [
           0.18110236220472442,
           "rgb(252, 212, 208)"
          ],
          [
           0.18503937007874016,
           "rgb(252, 211, 207)"
          ],
          [
           0.1889763779527559,
           "rgb(252, 210, 206)"
          ],
          [
           0.19291338582677164,
           "rgb(252, 209, 205)"
          ],
          [
           0.19685039370078738,
           "rgb(252, 208, 204)"
          ],
          [
           0.20078740157480315,
           "rgb(252, 207, 203)"
          ],
          [
           0.2047244094488189,
           "rgb(252, 206, 202)"
          ],
          [
           0.20866141732283464,
           "rgb(252, 206, 201)"
          ],
          [
           0.2125984251968504,
           "rgb(252, 205, 200)"
          ],
          [
           0.21653543307086615,
           "rgb(252, 204, 199)"
          ],
          [
           0.2204724409448819,
           "rgb(252, 203, 199)"
          ],
          [
           0.22440944881889763,
           "rgb(252, 202, 198)"
          ],
          [
           0.22834645669291337,
           "rgb(252, 201, 197)"
          ],
          [
           0.23228346456692914,
           "rgb(252, 201, 196)"
          ],
          [
           0.23622047244094488,
           "rgb(252, 200, 195)"
          ],
          [
           0.24015748031496062,
           "rgb(252, 199, 194)"
          ],
          [
           0.2440944881889764,
           "rgb(252, 198, 193)"
          ],
          [
           0.24803149606299213,
           "rgb(252, 197, 192)"
          ],
          [
           0.25196850393700787,
           "rgb(251, 196, 191)"
          ],
          [
           0.2559055118110236,
           "rgb(251, 195, 191)"
          ],
          [
           0.25984251968503935,
           "rgb(251, 194, 191)"
          ],
          [
           0.2637795275590551,
           "rgb(251, 193, 190)"
          ],
          [
           0.26771653543307083,
           "rgb(251, 191, 190)"
          ],
          [
           0.27165354330708663,
           "rgb(251, 190, 190)"
          ],
          [
           0.2755905511811024,
           "rgb(251, 189, 189)"
          ],
          [
           0.2795275590551181,
           "rgb(251, 188, 189)"
          ],
          [
           0.28346456692913385,
           "rgb(251, 187, 189)"
          ],
          [
           0.2874015748031496,
           "rgb(251, 185, 188)"
          ],
          [
           0.29133858267716534,
           "rgb(251, 184, 188)"
          ],
          [
           0.2952755905511811,
           "rgb(251, 183, 188)"
          ],
          [
           0.2992125984251969,
           "rgb(251, 182, 187)"
          ],
          [
           0.3031496062992126,
           "rgb(251, 181, 187)"
          ],
          [
           0.30708661417322836,
           "rgb(251, 180, 187)"
          ],
          [
           0.3110236220472441,
           "rgb(251, 178, 186)"
          ],
          [
           0.31496062992125984,
           "rgb(250, 177, 186)"
          ],
          [
           0.3188976377952756,
           "rgb(250, 176, 186)"
          ],
          [
           0.3228346456692913,
           "rgb(250, 175, 185)"
          ],
          [
           0.32677165354330706,
           "rgb(250, 174, 185)"
          ],
          [
           0.3307086614173228,
           "rgb(250, 172, 185)"
          ],
          [
           0.3346456692913386,
           "rgb(250, 171, 184)"
          ],
          [
           0.33858267716535434,
           "rgb(250, 170, 184)"
          ],
          [
           0.3425196850393701,
           "rgb(250, 169, 183)"
          ],
          [
           0.3464566929133858,
           "rgb(250, 168, 183)"
          ],
          [
           0.35039370078740156,
           "rgb(250, 166, 183)"
          ],
          [
           0.3543307086614173,
           "rgb(250, 165, 182)"
          ],
          [
           0.35826771653543305,
           "rgb(250, 164, 182)"
          ],
          [
           0.36220472440944884,
           "rgb(250, 163, 182)"
          ],
          [
           0.3661417322834646,
           "rgb(250, 162, 181)"
          ],
          [
           0.3700787401574803,
           "rgb(250, 160, 181)"
          ],
          [
           0.37401574803149606,
           "rgb(250, 159, 181)"
          ],
          [
           0.3779527559055118,
           "rgb(249, 158, 180)"
          ],
          [
           0.38188976377952755,
           "rgb(249, 156, 180)"
          ],
          [
           0.3858267716535433,
           "rgb(249, 154, 179)"
          ],
          [
           0.38976377952755903,
           "rgb(249, 153, 178)"
          ],
          [
           0.39370078740157477,
           "rgb(249, 151, 178)"
          ],
          [
           0.39763779527559057,
           "rgb(249, 149, 177)"
          ],
          [
           0.4015748031496063,
           "rgb(249, 148, 177)"
          ],
          [
           0.40551181102362205,
           "rgb(249, 146, 176)"
          ],
          [
           0.4094488188976378,
           "rgb(249, 144, 175)"
          ],
          [
           0.41338582677165353,
           "rgb(249, 142, 175)"
          ],
          [
           0.41732283464566927,
           "rgb(249, 141, 174)"
          ],
          [
           0.421259842519685,
           "rgb(248, 139, 173)"
          ],
          [
           0.4251968503937008,
           "rgb(248, 137, 173)"
          ],
          [
           0.42913385826771655,
           "rgb(248, 135, 172)"
          ],
          [
           0.4330708661417323,
           "rgb(248, 134, 171)"
          ],
          [
           0.43700787401574803,
           "rgb(248, 132, 171)"
          ],
          [
           0.4409448818897638,
           "rgb(248, 130, 170)"
          ],
          [
           0.4448818897637795,
           "rgb(248, 129, 170)"
          ],
          [
           0.44881889763779526,
           "rgb(248, 127, 169)"
          ],
          [
           0.452755905511811,
           "rgb(248, 125, 168)"
          ],
          [
           0.45669291338582674,
           "rgb(248, 123, 168)"
          ],
          [
           0.46062992125984253,
           "rgb(247, 122, 167)"
          ],
          [
           0.4645669291338583,
           "rgb(247, 120, 166)"
          ],
          [
           0.468503937007874,
           "rgb(247, 118, 166)"
          ],
          [
           0.47244094488188976,
           "rgb(247, 116, 165)"
          ],
          [
           0.4763779527559055,
           "rgb(247, 115, 165)"
          ],
          [
           0.48031496062992124,
           "rgb(247, 113, 164)"
          ],
          [
           0.484251968503937,
           "rgb(247, 111, 163)"
          ],
          [
           0.4881889763779528,
           "rgb(247, 110, 163)"
          ],
          [
           0.4921259842519685,
           "rgb(247, 108, 162)"
          ],
          [
           0.49606299212598426,
           "rgb(247, 106, 161)"
          ],
          [
           0.5,
           "rgb(246, 103, 160)"
          ],
          [
           0.5039370078740157,
           "rgb(245, 101, 160)"
          ],
          [
           0.5078740157480315,
           "rgb(244, 99, 160)"
          ],
          [
           0.5118110236220472,
           "rgb(244, 98, 159)"
          ],
          [
           0.515748031496063,
           "rgb(243, 96, 159)"
          ],
          [
           0.5196850393700787,
           "rgb(242, 95, 159)"
          ],
          [
           0.5236220472440944,
           "rgb(241, 93, 158)"
          ],
          [
           0.5275590551181102,
           "rgb(240, 91, 158)"
          ],
          [
           0.5314960629921259,
           "rgb(240, 90, 158)"
          ],
          [
           0.5354330708661417,
           "rgb(239, 88, 158)"
          ],
          [
           0.5393700787401575,
           "rgb(238, 86, 157)"
          ],
          [
           0.5433070866141733,
           "rgb(237, 85, 157)"
          ],
          [
           0.547244094488189,
           "rgb(236, 83, 157)"
          ],
          [
           0.5511811023622047,
           "rgb(235, 81, 156)"
          ],
          [
           0.5551181102362205,
           "rgb(235, 80, 156)"
          ],
          [
           0.5590551181102362,
           "rgb(234, 78, 156)"
          ],
          [
           0.562992125984252,
           "rgb(233, 77, 155)"
          ],
          [
           0.5669291338582677,
           "rgb(232, 75, 155)"
          ],
          [
           0.5708661417322834,
           "rgb(231, 73, 155)"
          ],
          [
           0.5748031496062992,
           "rgb(231, 72, 154)"
          ],
          [
           0.5787401574803149,
           "rgb(230, 70, 154)"
          ],
          [
           0.5826771653543307,
           "rgb(229, 68, 154)"
          ],
          [
           0.5866141732283464,
           "rgb(228, 67, 153)"
          ],
          [
           0.5905511811023622,
           "rgb(227, 65, 153)"
          ],
          [
           0.5944881889763779,
           "rgb(227, 64, 153)"
          ],
          [
           0.5984251968503937,
           "rgb(226, 62, 153)"
          ],
          [
           0.6023622047244095,
           "rgb(225, 60, 152)"
          ],
          [
           0.6062992125984252,
           "rgb(224, 59, 152)"
          ],
          [
           0.610236220472441,
           "rgb(223, 57, 152)"
          ],
          [
           0.6141732283464567,
           "rgb(222, 55, 151)"
          ],
          [
           0.6181102362204725,
           "rgb(222, 54, 151)"
          ],
          [
           0.6220472440944882,
           "rgb(221, 52, 151)"
          ],
          [
           0.6259842519685039,
           "rgb(220, 51, 150)"
          ],
          [
           0.6299212598425197,
           "rgb(218, 49, 149)"
          ],
          [
           0.6338582677165354,
           "rgb(217, 47, 148)"
          ],
          [
           0.6377952755905512,
           "rgb(215, 46, 148)"
          ],
          [
           0.6417322834645669,
           "rgb(214, 44, 147)"
          ],
          [
           0.6456692913385826,
           "rgb(212, 42, 146)"
          ],
          [
           0.6496062992125984,
           "rgb(211, 41, 145)"
          ],
          [
           0.6535433070866141,
           "rgb(209, 39, 145)"
          ],
          [
           0.6574803149606299,
           "rgb(208, 38, 144)"
          ],
          [
           0.6614173228346456,
           "rgb(206, 36, 143)"
          ],
          [
           0.6653543307086615,
           "rgb(205, 35, 142)"
          ],
          [
           0.6692913385826772,
           "rgb(203, 33, 141)"
          ],
          [
           0.6732283464566929,
           "rgb(202, 31, 141)"
          ],
          [
           0.6771653543307087,
           "rgb(200, 30, 140)"
          ],
          [
           0.6811023622047244,
           "rgb(199, 28, 139)"
          ],
          [
           0.6850393700787402,
           "rgb(197, 27, 138)"
          ],
          [
           0.6889763779527559,
           "rgb(196, 25, 137)"
          ],
          [
           0.6929133858267716,
           "rgb(195, 23, 137)"
          ],
          [
           0.6968503937007874,
           "rgb(193, 22, 136)"
          ],
          [
           0.7007874015748031,
           "rgb(192, 20, 135)"
          ],
          [
           0.7047244094488189,
           "rgb(190, 19, 134)"
          ],
          [
           0.7086614173228346,
           "rgb(189, 17, 134)"
          ],
          [
           0.7125984251968503,
           "rgb(187, 15, 133)"
          ],
          [
           0.7165354330708661,
           "rgb(186, 14, 132)"
          ],
          [
           0.7204724409448818,
           "rgb(184, 12, 131)"
          ],
          [
           0.7244094488188977,
           "rgb(183, 10, 130)"
          ],
          [
           0.7283464566929134,
           "rgb(181, 9, 130)"
          ],
          [
           0.7322834645669292,
           "rgb(180, 7, 129)"
          ],
          [
           0.7362204724409449,
           "rgb(178, 6, 128)"
          ],
          [
           0.7401574803149606,
           "rgb(177, 4, 127)"
          ],
          [
           0.7440944881889764,
           "rgb(175, 2, 126)"
          ],
          [
           0.7480314960629921,
           "rgb(174, 1, 126)"
          ],
          [
           0.7519685039370079,
           "rgb(172, 1, 125)"
          ],
          [
           0.7559055118110236,
           "rgb(171, 1, 125)"
          ],
          [
           0.7598425196850394,
           "rgb(169, 1, 125)"
          ],
          [
           0.7637795275590551,
           "rgb(167, 1, 125)"
          ],
          [
           0.7677165354330708,
           "rgb(166, 1, 124)"
          ],
          [
           0.7716535433070866,
           "rgb(164, 1, 124)"
          ],
          [
           0.7755905511811023,
           "rgb(162, 1, 124)"
          ],
          [
           0.7795275590551181,
           "rgb(161, 1, 124)"
          ],
          [
           0.7834645669291338,
           "rgb(159, 1, 124)"
          ],
          [
           0.7874015748031495,
           "rgb(158, 1, 123)"
          ],
          [
           0.7913385826771654,
           "rgb(156, 1, 123)"
          ],
          [
           0.7952755905511811,
           "rgb(154, 1, 123)"
          ],
          [
           0.7992125984251969,
           "rgb(153, 1, 123)"
          ],
          [
           0.8031496062992126,
           "rgb(151, 1, 122)"
          ],
          [
           0.8070866141732284,
           "rgb(149, 1, 122)"
          ],
          [
           0.8110236220472441,
           "rgb(148, 1, 122)"
          ],
          [
           0.8149606299212598,
           "rgb(146, 1, 122)"
          ],
          [
           0.8188976377952756,
           "rgb(145, 1, 122)"
          ],
          [
           0.8228346456692913,
           "rgb(143, 1, 121)"
          ],
          [
           0.8267716535433071,
           "rgb(141, 1, 121)"
          ],
          [
           0.8307086614173228,
           "rgb(140, 1, 121)"
          ],
          [
           0.8346456692913385,
           "rgb(138, 1, 121)"
          ],
          [
           0.8385826771653543,
           "rgb(136, 1, 121)"
          ],
          [
           0.84251968503937,
           "rgb(135, 1, 120)"
          ],
          [
           0.8464566929133858,
           "rgb(133, 1, 120)"
          ],
          [
           0.8503937007874016,
           "rgb(131, 1, 120)"
          ],
          [
           0.8543307086614174,
           "rgb(130, 1, 120)"
          ],
          [
           0.8582677165354331,
           "rgb(128, 1, 119)"
          ],
          [
           0.8622047244094488,
           "rgb(127, 1, 119)"
          ],
          [
           0.8661417322834646,
           "rgb(125, 1, 119)"
          ],
          [
           0.8700787401574803,
           "rgb(123, 1, 119)"
          ],
          [
           0.8740157480314961,
           "rgb(122, 1, 119)"
          ],
          [
           0.8779527559055118,
           "rgb(120, 0, 118)"
          ],
          [
           0.8818897637795275,
           "rgb(119, 0, 118)"
          ],
          [
           0.8858267716535433,
           "rgb(117, 0, 117)"
          ],
          [
           0.889763779527559,
           "rgb(116, 0, 117)"
          ],
          [
           0.8937007874015748,
           "rgb(114, 0, 117)"
          ],
          [
           0.8976377952755905,
           "rgb(112, 0, 116)"
          ],
          [
           0.9015748031496063,
           "rgb(111, 0, 116)"
          ],
          [
           0.905511811023622,
           "rgb(109, 0, 115)"
          ],
          [
           0.9094488188976377,
           "rgb(108, 0, 115)"
          ],
          [
           0.9133858267716535,
           "rgb(106, 0, 114)"
          ],
          [
           0.9173228346456693,
           "rgb(105, 0, 114)"
          ],
          [
           0.9212598425196851,
           "rgb(103, 0, 114)"
          ],
          [
           0.9251968503937008,
           "rgb(102, 0, 113)"
          ],
          [
           0.9291338582677166,
           "rgb(100, 0, 113)"
          ],
          [
           0.9330708661417323,
           "rgb(99, 0, 112)"
          ],
          [
           0.937007874015748,
           "rgb(97, 0, 112)"
          ],
          [
           0.9409448818897638,
           "rgb(96, 0, 112)"
          ],
          [
           0.9448818897637795,
           "rgb(94, 0, 111)"
          ],
          [
           0.9488188976377953,
           "rgb(92, 0, 111)"
          ],
          [
           0.952755905511811,
           "rgb(91, 0, 110)"
          ],
          [
           0.9566929133858267,
           "rgb(89, 0, 110)"
          ],
          [
           0.9606299212598425,
           "rgb(88, 0, 110)"
          ],
          [
           0.9645669291338582,
           "rgb(86, 0, 109)"
          ],
          [
           0.968503937007874,
           "rgb(85, 0, 109)"
          ],
          [
           0.9724409448818897,
           "rgb(83, 0, 108)"
          ],
          [
           0.9763779527559056,
           "rgb(82, 0, 108)"
          ],
          [
           0.9803149606299213,
           "rgb(80, 0, 108)"
          ],
          [
           0.984251968503937,
           "rgb(79, 0, 107)"
          ],
          [
           0.9881889763779528,
           "rgb(77, 0, 107)"
          ],
          [
           0.9921259842519685,
           "rgb(76, 0, 106)"
          ],
          [
           0.9960629921259843,
           "rgb(74, 0, 106)"
          ],
          [
           1,
           "rgb(73, 0, 106)"
          ]
         ],
         "geo": "geo2",
         "locationmode": "USA-states",
         "locations": [
          "CA",
          "TX",
          "FL",
          "NY",
          "PA",
          "IL",
          "OH",
          "GA",
          "NC",
          "MI",
          "NJ",
          "VA",
          "WA",
          "AZ",
          "MA",
          "TN",
          "IN",
          "MO",
          "MD",
          "WI",
          "CO",
          "MN",
          "SC",
          "AL",
          "LA",
          "KY",
          "OR",
          "OK",
          "CT",
          "IA",
          "UT",
          "AR",
          "NV",
          "MS",
          "KS",
          "NM",
          "NE",
          "WV",
          "ID",
          "HI",
          "NH",
          "ME",
          "RI",
          "MT",
          "DE",
          "SD",
          "ND",
          "AK",
          "DC",
          "VT",
          "WY"
         ],
         "marker": {
          "line": {
           "color": "black",
           "width": 1
          }
         },
         "reversescale": false,
         "type": "choropleth",
         "uid": "e89f6d21-f595-4cce-8178-b875c887d710",
         "z": [
          0.8422166888455421,
          0.8128074781099259,
          0.8366859886852397,
          0.8845282147316674,
          0.9455690634647175,
          0.9458286107010422,
          0.9347313787972055,
          0.9288008137974688,
          0.8839695646784766,
          0.9723462460268737,
          0.9411835222197271,
          0.929223042963808,
          0.9810105180468284,
          0.949177525314595,
          0.9708252937197079,
          0.9916172813304847,
          0.99893019361546,
          0.9903047557657986,
          1.0003441429631676,
          1.0446514663448059,
          0.9717646122638606,
          1.0856531399432547,
          1.084481221963147,
          1.117767513414287,
          1.0339589118239705,
          1.0873826528917196,
          1.0229811773285535,
          1.0781298640422248,
          1.1810937983917424,
          1.1547646584431426,
          1.1710997621328538,
          1.2091273441900159,
          1.2116439741030174,
          1.2173036722884074,
          1.2469627573143451,
          1.4497262577706673,
          1.5765677541218146,
          1.6670530262367562,
          1.4104742706371487,
          1.69641993813864,
          1.8034799992929358,
          1.812778827905354,
          2.2854046761685423,
          1.7289767225844612,
          1.8881425373520757,
          2.0884775813219307,
          2.404414581863902,
          2.455109786140645,
          2.6172207873486513,
          2.9123026667509837,
          3.1352164957543276
         ],
         "zauto": false,
         "zmax": 3.1352164957543276,
         "zmin": 0.8128074781099259
        },
        {
         "autocolorscale": false,
         "colorbar": {
          "title": {
           "text": "Whiteness"
          }
         },
         "colorscale": [
          [
           0,
           "rgb(255, 247, 243)"
          ],
          [
           0.003937007874015748,
           "rgb(254, 246, 242)"
          ],
          [
           0.007874015748031496,
           "rgb(254, 245, 241)"
          ],
          [
           0.011811023622047244,
           "rgb(254, 244, 240)"
          ],
          [
           0.015748031496062992,
           "rgb(254, 244, 240)"
          ],
          [
           0.01968503937007874,
           "rgb(254, 243, 239)"
          ],
          [
           0.023622047244094488,
           "rgb(254, 242, 238)"
          ],
          [
           0.027559055118110236,
           "rgb(254, 241, 238)"
          ],
          [
           0.031496062992125984,
           "rgb(254, 241, 237)"
          ],
          [
           0.03543307086614173,
           "rgb(254, 240, 236)"
          ],
          [
           0.03937007874015748,
           "rgb(254, 239, 236)"
          ],
          [
           0.04330708661417323,
           "rgb(254, 239, 235)"
          ],
          [
           0.047244094488188976,
           "rgb(254, 238, 234)"
          ],
          [
           0.051181102362204724,
           "rgb(254, 237, 234)"
          ],
          [
           0.05511811023622047,
           "rgb(254, 236, 233)"
          ],
          [
           0.05905511811023622,
           "rgb(254, 236, 232)"
          ],
          [
           0.06299212598425197,
           "rgb(253, 235, 231)"
          ],
          [
           0.06692913385826771,
           "rgb(253, 234, 231)"
          ],
          [
           0.07086614173228346,
           "rgb(253, 234, 230)"
          ],
          [
           0.07480314960629922,
           "rgb(253, 233, 229)"
          ],
          [
           0.07874015748031496,
           "rgb(253, 232, 229)"
          ],
          [
           0.0826771653543307,
           "rgb(253, 231, 228)"
          ],
          [
           0.08661417322834646,
           "rgb(253, 231, 227)"
          ],
          [
           0.09055118110236221,
           "rgb(253, 230, 227)"
          ],
          [
           0.09448818897637795,
           "rgb(253, 229, 226)"
          ],
          [
           0.09842519685039369,
           "rgb(253, 228, 225)"
          ],
          [
           0.10236220472440945,
           "rgb(253, 228, 225)"
          ],
          [
           0.1062992125984252,
           "rgb(253, 227, 224)"
          ],
          [
           0.11023622047244094,
           "rgb(253, 226, 223)"
          ],
          [
           0.11417322834645668,
           "rgb(253, 226, 222)"
          ],
          [
           0.11811023622047244,
           "rgb(253, 225, 222)"
          ],
          [
           0.1220472440944882,
           "rgb(253, 224, 221)"
          ],
          [
           0.12598425196850394,
           "rgb(252, 223, 220)"
          ],
          [
           0.12992125984251968,
           "rgb(252, 223, 219)"
          ],
          [
           0.13385826771653542,
           "rgb(252, 222, 219)"
          ],
          [
           0.1377952755905512,
           "rgb(252, 221, 218)"
          ],
          [
           0.14173228346456693,
           "rgb(252, 220, 217)"
          ],
          [
           0.14566929133858267,
           "rgb(252, 219, 216)"
          ],
          [
           0.14960629921259844,
           "rgb(252, 218, 215)"
          ],
          [
           0.15354330708661418,
           "rgb(252, 217, 214)"
          ],
          [
           0.15748031496062992,
           "rgb(252, 217, 213)"
          ],
          [
           0.16141732283464566,
           "rgb(252, 216, 212)"
          ],
          [
           0.1653543307086614,
           "rgb(252, 215, 211)"
          ],
          [
           0.16929133858267717,
           "rgb(252, 214, 210)"
          ],
          [
           0.1732283464566929,
           "rgb(252, 213, 209)"
          ],
          [
           0.17716535433070865,
           "rgb(252, 212, 209)"
          ],
          [
           0.18110236220472442,
           "rgb(252, 212, 208)"
          ],
          [
           0.18503937007874016,
           "rgb(252, 211, 207)"
          ],
          [
           0.1889763779527559,
           "rgb(252, 210, 206)"
          ],
          [
           0.19291338582677164,
           "rgb(252, 209, 205)"
          ],
          [
           0.19685039370078738,
           "rgb(252, 208, 204)"
          ],
          [
           0.20078740157480315,
           "rgb(252, 207, 203)"
          ],
          [
           0.2047244094488189,
           "rgb(252, 206, 202)"
          ],
          [
           0.20866141732283464,
           "rgb(252, 206, 201)"
          ],
          [
           0.2125984251968504,
           "rgb(252, 205, 200)"
          ],
          [
           0.21653543307086615,
           "rgb(252, 204, 199)"
          ],
          [
           0.2204724409448819,
           "rgb(252, 203, 199)"
          ],
          [
           0.22440944881889763,
           "rgb(252, 202, 198)"
          ],
          [
           0.22834645669291337,
           "rgb(252, 201, 197)"
          ],
          [
           0.23228346456692914,
           "rgb(252, 201, 196)"
          ],
          [
           0.23622047244094488,
           "rgb(252, 200, 195)"
          ],
          [
           0.24015748031496062,
           "rgb(252, 199, 194)"
          ],
          [
           0.2440944881889764,
           "rgb(252, 198, 193)"
          ],
          [
           0.24803149606299213,
           "rgb(252, 197, 192)"
          ],
          [
           0.25196850393700787,
           "rgb(251, 196, 191)"
          ],
          [
           0.2559055118110236,
           "rgb(251, 195, 191)"
          ],
          [
           0.25984251968503935,
           "rgb(251, 194, 191)"
          ],
          [
           0.2637795275590551,
           "rgb(251, 193, 190)"
          ],
          [
           0.26771653543307083,
           "rgb(251, 191, 190)"
          ],
          [
           0.27165354330708663,
           "rgb(251, 190, 190)"
          ],
          [
           0.2755905511811024,
           "rgb(251, 189, 189)"
          ],
          [
           0.2795275590551181,
           "rgb(251, 188, 189)"
          ],
          [
           0.28346456692913385,
           "rgb(251, 187, 189)"
          ],
          [
           0.2874015748031496,
           "rgb(251, 185, 188)"
          ],
          [
           0.29133858267716534,
           "rgb(251, 184, 188)"
          ],
          [
           0.2952755905511811,
           "rgb(251, 183, 188)"
          ],
          [
           0.2992125984251969,
           "rgb(251, 182, 187)"
          ],
          [
           0.3031496062992126,
           "rgb(251, 181, 187)"
          ],
          [
           0.30708661417322836,
           "rgb(251, 180, 187)"
          ],
          [
           0.3110236220472441,
           "rgb(251, 178, 186)"
          ],
          [
           0.31496062992125984,
           "rgb(250, 177, 186)"
          ],
          [
           0.3188976377952756,
           "rgb(250, 176, 186)"
          ],
          [
           0.3228346456692913,
           "rgb(250, 175, 185)"
          ],
          [
           0.32677165354330706,
           "rgb(250, 174, 185)"
          ],
          [
           0.3307086614173228,
           "rgb(250, 172, 185)"
          ],
          [
           0.3346456692913386,
           "rgb(250, 171, 184)"
          ],
          [
           0.33858267716535434,
           "rgb(250, 170, 184)"
          ],
          [
           0.3425196850393701,
           "rgb(250, 169, 183)"
          ],
          [
           0.3464566929133858,
           "rgb(250, 168, 183)"
          ],
          [
           0.35039370078740156,
           "rgb(250, 166, 183)"
          ],
          [
           0.3543307086614173,
           "rgb(250, 165, 182)"
          ],
          [
           0.35826771653543305,
           "rgb(250, 164, 182)"
          ],
          [
           0.36220472440944884,
           "rgb(250, 163, 182)"
          ],
          [
           0.3661417322834646,
           "rgb(250, 162, 181)"
          ],
          [
           0.3700787401574803,
           "rgb(250, 160, 181)"
          ],
          [
           0.37401574803149606,
           "rgb(250, 159, 181)"
          ],
          [
           0.3779527559055118,
           "rgb(249, 158, 180)"
          ],
          [
           0.38188976377952755,
           "rgb(249, 156, 180)"
          ],
          [
           0.3858267716535433,
           "rgb(249, 154, 179)"
          ],
          [
           0.38976377952755903,
           "rgb(249, 153, 178)"
          ],
          [
           0.39370078740157477,
           "rgb(249, 151, 178)"
          ],
          [
           0.39763779527559057,
           "rgb(249, 149, 177)"
          ],
          [
           0.4015748031496063,
           "rgb(249, 148, 177)"
          ],
          [
           0.40551181102362205,
           "rgb(249, 146, 176)"
          ],
          [
           0.4094488188976378,
           "rgb(249, 144, 175)"
          ],
          [
           0.41338582677165353,
           "rgb(249, 142, 175)"
          ],
          [
           0.41732283464566927,
           "rgb(249, 141, 174)"
          ],
          [
           0.421259842519685,
           "rgb(248, 139, 173)"
          ],
          [
           0.4251968503937008,
           "rgb(248, 137, 173)"
          ],
          [
           0.42913385826771655,
           "rgb(248, 135, 172)"
          ],
          [
           0.4330708661417323,
           "rgb(248, 134, 171)"
          ],
          [
           0.43700787401574803,
           "rgb(248, 132, 171)"
          ],
          [
           0.4409448818897638,
           "rgb(248, 130, 170)"
          ],
          [
           0.4448818897637795,
           "rgb(248, 129, 170)"
          ],
          [
           0.44881889763779526,
           "rgb(248, 127, 169)"
          ],
          [
           0.452755905511811,
           "rgb(248, 125, 168)"
          ],
          [
           0.45669291338582674,
           "rgb(248, 123, 168)"
          ],
          [
           0.46062992125984253,
           "rgb(247, 122, 167)"
          ],
          [
           0.4645669291338583,
           "rgb(247, 120, 166)"
          ],
          [
           0.468503937007874,
           "rgb(247, 118, 166)"
          ],
          [
           0.47244094488188976,
           "rgb(247, 116, 165)"
          ],
          [
           0.4763779527559055,
           "rgb(247, 115, 165)"
          ],
          [
           0.48031496062992124,
           "rgb(247, 113, 164)"
          ],
          [
           0.484251968503937,
           "rgb(247, 111, 163)"
          ],
          [
           0.4881889763779528,
           "rgb(247, 110, 163)"
          ],
          [
           0.4921259842519685,
           "rgb(247, 108, 162)"
          ],
          [
           0.49606299212598426,
           "rgb(247, 106, 161)"
          ],
          [
           0.5,
           "rgb(246, 103, 160)"
          ],
          [
           0.5039370078740157,
           "rgb(245, 101, 160)"
          ],
          [
           0.5078740157480315,
           "rgb(244, 99, 160)"
          ],
          [
           0.5118110236220472,
           "rgb(244, 98, 159)"
          ],
          [
           0.515748031496063,
           "rgb(243, 96, 159)"
          ],
          [
           0.5196850393700787,
           "rgb(242, 95, 159)"
          ],
          [
           0.5236220472440944,
           "rgb(241, 93, 158)"
          ],
          [
           0.5275590551181102,
           "rgb(240, 91, 158)"
          ],
          [
           0.5314960629921259,
           "rgb(240, 90, 158)"
          ],
          [
           0.5354330708661417,
           "rgb(239, 88, 158)"
          ],
          [
           0.5393700787401575,
           "rgb(238, 86, 157)"
          ],
          [
           0.5433070866141733,
           "rgb(237, 85, 157)"
          ],
          [
           0.547244094488189,
           "rgb(236, 83, 157)"
          ],
          [
           0.5511811023622047,
           "rgb(235, 81, 156)"
          ],
          [
           0.5551181102362205,
           "rgb(235, 80, 156)"
          ],
          [
           0.5590551181102362,
           "rgb(234, 78, 156)"
          ],
          [
           0.562992125984252,
           "rgb(233, 77, 155)"
          ],
          [
           0.5669291338582677,
           "rgb(232, 75, 155)"
          ],
          [
           0.5708661417322834,
           "rgb(231, 73, 155)"
          ],
          [
           0.5748031496062992,
           "rgb(231, 72, 154)"
          ],
          [
           0.5787401574803149,
           "rgb(230, 70, 154)"
          ],
          [
           0.5826771653543307,
           "rgb(229, 68, 154)"
          ],
          [
           0.5866141732283464,
           "rgb(228, 67, 153)"
          ],
          [
           0.5905511811023622,
           "rgb(227, 65, 153)"
          ],
          [
           0.5944881889763779,
           "rgb(227, 64, 153)"
          ],
          [
           0.5984251968503937,
           "rgb(226, 62, 153)"
          ],
          [
           0.6023622047244095,
           "rgb(225, 60, 152)"
          ],
          [
           0.6062992125984252,
           "rgb(224, 59, 152)"
          ],
          [
           0.610236220472441,
           "rgb(223, 57, 152)"
          ],
          [
           0.6141732283464567,
           "rgb(222, 55, 151)"
          ],
          [
           0.6181102362204725,
           "rgb(222, 54, 151)"
          ],
          [
           0.6220472440944882,
           "rgb(221, 52, 151)"
          ],
          [
           0.6259842519685039,
           "rgb(220, 51, 150)"
          ],
          [
           0.6299212598425197,
           "rgb(218, 49, 149)"
          ],
          [
           0.6338582677165354,
           "rgb(217, 47, 148)"
          ],
          [
           0.6377952755905512,
           "rgb(215, 46, 148)"
          ],
          [
           0.6417322834645669,
           "rgb(214, 44, 147)"
          ],
          [
           0.6456692913385826,
           "rgb(212, 42, 146)"
          ],
          [
           0.6496062992125984,
           "rgb(211, 41, 145)"
          ],
          [
           0.6535433070866141,
           "rgb(209, 39, 145)"
          ],
          [
           0.6574803149606299,
           "rgb(208, 38, 144)"
          ],
          [
           0.6614173228346456,
           "rgb(206, 36, 143)"
          ],
          [
           0.6653543307086615,
           "rgb(205, 35, 142)"
          ],
          [
           0.6692913385826772,
           "rgb(203, 33, 141)"
          ],
          [
           0.6732283464566929,
           "rgb(202, 31, 141)"
          ],
          [
           0.6771653543307087,
           "rgb(200, 30, 140)"
          ],
          [
           0.6811023622047244,
           "rgb(199, 28, 139)"
          ],
          [
           0.6850393700787402,
           "rgb(197, 27, 138)"
          ],
          [
           0.6889763779527559,
           "rgb(196, 25, 137)"
          ],
          [
           0.6929133858267716,
           "rgb(195, 23, 137)"
          ],
          [
           0.6968503937007874,
           "rgb(193, 22, 136)"
          ],
          [
           0.7007874015748031,
           "rgb(192, 20, 135)"
          ],
          [
           0.7047244094488189,
           "rgb(190, 19, 134)"
          ],
          [
           0.7086614173228346,
           "rgb(189, 17, 134)"
          ],
          [
           0.7125984251968503,
           "rgb(187, 15, 133)"
          ],
          [
           0.7165354330708661,
           "rgb(186, 14, 132)"
          ],
          [
           0.7204724409448818,
           "rgb(184, 12, 131)"
          ],
          [
           0.7244094488188977,
           "rgb(183, 10, 130)"
          ],
          [
           0.7283464566929134,
           "rgb(181, 9, 130)"
          ],
          [
           0.7322834645669292,
           "rgb(180, 7, 129)"
          ],
          [
           0.7362204724409449,
           "rgb(178, 6, 128)"
          ],
          [
           0.7401574803149606,
           "rgb(177, 4, 127)"
          ],
          [
           0.7440944881889764,
           "rgb(175, 2, 126)"
          ],
          [
           0.7480314960629921,
           "rgb(174, 1, 126)"
          ],
          [
           0.7519685039370079,
           "rgb(172, 1, 125)"
          ],
          [
           0.7559055118110236,
           "rgb(171, 1, 125)"
          ],
          [
           0.7598425196850394,
           "rgb(169, 1, 125)"
          ],
          [
           0.7637795275590551,
           "rgb(167, 1, 125)"
          ],
          [
           0.7677165354330708,
           "rgb(166, 1, 124)"
          ],
          [
           0.7716535433070866,
           "rgb(164, 1, 124)"
          ],
          [
           0.7755905511811023,
           "rgb(162, 1, 124)"
          ],
          [
           0.7795275590551181,
           "rgb(161, 1, 124)"
          ],
          [
           0.7834645669291338,
           "rgb(159, 1, 124)"
          ],
          [
           0.7874015748031495,
           "rgb(158, 1, 123)"
          ],
          [
           0.7913385826771654,
           "rgb(156, 1, 123)"
          ],
          [
           0.7952755905511811,
           "rgb(154, 1, 123)"
          ],
          [
           0.7992125984251969,
           "rgb(153, 1, 123)"
          ],
          [
           0.8031496062992126,
           "rgb(151, 1, 122)"
          ],
          [
           0.8070866141732284,
           "rgb(149, 1, 122)"
          ],
          [
           0.8110236220472441,
           "rgb(148, 1, 122)"
          ],
          [
           0.8149606299212598,
           "rgb(146, 1, 122)"
          ],
          [
           0.8188976377952756,
           "rgb(145, 1, 122)"
          ],
          [
           0.8228346456692913,
           "rgb(143, 1, 121)"
          ],
          [
           0.8267716535433071,
           "rgb(141, 1, 121)"
          ],
          [
           0.8307086614173228,
           "rgb(140, 1, 121)"
          ],
          [
           0.8346456692913385,
           "rgb(138, 1, 121)"
          ],
          [
           0.8385826771653543,
           "rgb(136, 1, 121)"
          ],
          [
           0.84251968503937,
           "rgb(135, 1, 120)"
          ],
          [
           0.8464566929133858,
           "rgb(133, 1, 120)"
          ],
          [
           0.8503937007874016,
           "rgb(131, 1, 120)"
          ],
          [
           0.8543307086614174,
           "rgb(130, 1, 120)"
          ],
          [
           0.8582677165354331,
           "rgb(128, 1, 119)"
          ],
          [
           0.8622047244094488,
           "rgb(127, 1, 119)"
          ],
          [
           0.8661417322834646,
           "rgb(125, 1, 119)"
          ],
          [
           0.8700787401574803,
           "rgb(123, 1, 119)"
          ],
          [
           0.8740157480314961,
           "rgb(122, 1, 119)"
          ],
          [
           0.8779527559055118,
           "rgb(120, 0, 118)"
          ],
          [
           0.8818897637795275,
           "rgb(119, 0, 118)"
          ],
          [
           0.8858267716535433,
           "rgb(117, 0, 117)"
          ],
          [
           0.889763779527559,
           "rgb(116, 0, 117)"
          ],
          [
           0.8937007874015748,
           "rgb(114, 0, 117)"
          ],
          [
           0.8976377952755905,
           "rgb(112, 0, 116)"
          ],
          [
           0.9015748031496063,
           "rgb(111, 0, 116)"
          ],
          [
           0.905511811023622,
           "rgb(109, 0, 115)"
          ],
          [
           0.9094488188976377,
           "rgb(108, 0, 115)"
          ],
          [
           0.9133858267716535,
           "rgb(106, 0, 114)"
          ],
          [
           0.9173228346456693,
           "rgb(105, 0, 114)"
          ],
          [
           0.9212598425196851,
           "rgb(103, 0, 114)"
          ],
          [
           0.9251968503937008,
           "rgb(102, 0, 113)"
          ],
          [
           0.9291338582677166,
           "rgb(100, 0, 113)"
          ],
          [
           0.9330708661417323,
           "rgb(99, 0, 112)"
          ],
          [
           0.937007874015748,
           "rgb(97, 0, 112)"
          ],
          [
           0.9409448818897638,
           "rgb(96, 0, 112)"
          ],
          [
           0.9448818897637795,
           "rgb(94, 0, 111)"
          ],
          [
           0.9488188976377953,
           "rgb(92, 0, 111)"
          ],
          [
           0.952755905511811,
           "rgb(91, 0, 110)"
          ],
          [
           0.9566929133858267,
           "rgb(89, 0, 110)"
          ],
          [
           0.9606299212598425,
           "rgb(88, 0, 110)"
          ],
          [
           0.9645669291338582,
           "rgb(86, 0, 109)"
          ],
          [
           0.968503937007874,
           "rgb(85, 0, 109)"
          ],
          [
           0.9724409448818897,
           "rgb(83, 0, 108)"
          ],
          [
           0.9763779527559056,
           "rgb(82, 0, 108)"
          ],
          [
           0.9803149606299213,
           "rgb(80, 0, 108)"
          ],
          [
           0.984251968503937,
           "rgb(79, 0, 107)"
          ],
          [
           0.9881889763779528,
           "rgb(77, 0, 107)"
          ],
          [
           0.9921259842519685,
           "rgb(76, 0, 106)"
          ],
          [
           0.9960629921259843,
           "rgb(74, 0, 106)"
          ],
          [
           1,
           "rgb(73, 0, 106)"
          ]
         ],
         "geo": "geo",
         "locationmode": "USA-states",
         "locations": [
          "CA",
          "TX",
          "FL",
          "NY",
          "PA",
          "IL",
          "OH",
          "GA",
          "NC",
          "MI",
          "NJ",
          "VA",
          "WA",
          "AZ",
          "MA",
          "TN",
          "IN",
          "MO",
          "MD",
          "WI",
          "CO",
          "MN",
          "SC",
          "AL",
          "LA",
          "KY",
          "OR",
          "OK",
          "CT",
          "IA",
          "UT",
          "AR",
          "NV",
          "MS",
          "KS",
          "NM",
          "NE",
          "WV",
          "ID",
          "HI",
          "NH",
          "ME",
          "RI",
          "MT",
          "DE",
          "SD",
          "ND",
          "AK",
          "DC",
          "VT",
          "WY"
         ],
         "marker": {
          "line": {
           "color": [
            "black",
            "black",
            "black",
            "black",
            "black",
            "black",
            "black",
            "black",
            "black",
            "black",
            "black",
            "black",
            "black",
            "black",
            "black",
            "black",
            "black",
            "black",
            "black",
            "black",
            "black",
            "black",
            "black",
            "black",
            "black",
            "black",
            "black",
            "black",
            "black",
            "black",
            "black",
            "black",
            "black",
            "black",
            "black",
            "black",
            "yellow",
            "yellow",
            "black",
            "yellow",
            "yellow",
            "yellow",
            "yellow",
            "yellow",
            "yellow",
            "yellow",
            "yellow",
            "yellow",
            "yellow",
            "yellow",
            "yellow"
           ],
           "width": [
            1,
            1,
            1,
            1,
            1,
            1,
            1,
            1,
            1,
            1,
            1,
            1,
            1,
            1,
            1,
            1,
            1,
            1,
            1,
            1,
            1,
            1,
            1,
            1,
            1,
            1,
            1,
            1,
            1,
            1,
            1,
            1,
            1,
            1,
            1,
            1,
            2,
            2,
            1,
            2,
            2,
            2,
            2,
            2,
            2,
            2,
            2,
            2,
            2,
            2,
            2
           ]
          }
         },
         "reversescale": false,
         "type": "choropleth",
         "uid": "31dfe56f-f0f6-421a-8a07-90d8ef728346",
         "z": [
          37,
          41.9,
          53.8,
          55.1,
          76.4,
          61.2,
          78.9,
          52.6,
          63,
          75,
          54.8,
          61.7,
          68.6,
          54.7,
          71.5,
          73.9,
          79.2,
          79.4,
          50.7,
          81.2,
          68.2,
          79.9,
          63.6,
          65.5,
          58.5,
          84.6,
          75.6,
          65.6,
          66.7,
          85.9,
          78.3,
          72.3,
          48.8,
          56.6,
          75.9,
          37.4,
          79,
          92,
          82,
          21.8,
          90.3,
          93.4,
          72.1,
          86.3,
          62.2,
          82.3,
          84.4,
          60.6,
          36.5,
          92.8,
          84
         ],
         "zauto": false,
         "zmax": 93.4,
         "zmin": 41.8
        }
       ],
       "layout": {
        "geo": {
         "domain": {
          "column": 0,
          "row": 0
         },
         "lakecolor": "rgb(255, 255, 255)",
         "projection": {
          "type": "albers usa"
         },
         "scope": "usa",
         "showlakes": true
        },
        "geo2": {
         "domain": {
          "column": 0,
          "row": 1
         },
         "lakecolor": "rgb(255, 255, 255)",
         "projection": {
          "type": "albers usa"
         },
         "scope": "usa",
         "showlakes": true
        },
        "grid": {
         "columns": 1,
         "rows": 2
        },
        "height": 900,
        "title": {
         "text": "Wooooooooooo"
        },
        "width": 900
       }
      },
      "text/html": [
       "<div id=\"5883f9f0-02b5-4f1b-930a-9183114bfd06\" style=\"height: 900px; width: 900px;\" class=\"plotly-graph-div\"></div><script type=\"text/javascript\">require([\"plotly\"], function(Plotly) { window.PLOTLYENV=window.PLOTLYENV || {};window.PLOTLYENV.BASE_URL=\"https://plot.ly\";\n",
       "if (document.getElementById(\"5883f9f0-02b5-4f1b-930a-9183114bfd06\")) {\n",
       "    Plotly.newPlot(\"5883f9f0-02b5-4f1b-930a-9183114bfd06\", [{\"autocolorscale\": false, \"colorbar\": {\"title\": {\"text\": \"Voting Power\"}}, \"colorscale\": [[0.0, \"rgb(255, 247, 243)\"], [0.003937007874015748, \"rgb(254, 246, 242)\"], [0.007874015748031496, \"rgb(254, 245, 241)\"], [0.011811023622047244, \"rgb(254, 244, 240)\"], [0.015748031496062992, \"rgb(254, 244, 240)\"], [0.01968503937007874, \"rgb(254, 243, 239)\"], [0.023622047244094488, \"rgb(254, 242, 238)\"], [0.027559055118110236, \"rgb(254, 241, 238)\"], [0.031496062992125984, \"rgb(254, 241, 237)\"], [0.03543307086614173, \"rgb(254, 240, 236)\"], [0.03937007874015748, \"rgb(254, 239, 236)\"], [0.04330708661417323, \"rgb(254, 239, 235)\"], [0.047244094488188976, \"rgb(254, 238, 234)\"], [0.051181102362204724, \"rgb(254, 237, 234)\"], [0.05511811023622047, \"rgb(254, 236, 233)\"], [0.05905511811023622, \"rgb(254, 236, 232)\"], [0.06299212598425197, \"rgb(253, 235, 231)\"], [0.06692913385826771, \"rgb(253, 234, 231)\"], [0.07086614173228346, \"rgb(253, 234, 230)\"], [0.07480314960629922, \"rgb(253, 233, 229)\"], [0.07874015748031496, \"rgb(253, 232, 229)\"], [0.0826771653543307, \"rgb(253, 231, 228)\"], [0.08661417322834646, \"rgb(253, 231, 227)\"], [0.09055118110236221, \"rgb(253, 230, 227)\"], [0.09448818897637795, \"rgb(253, 229, 226)\"], [0.09842519685039369, \"rgb(253, 228, 225)\"], [0.10236220472440945, \"rgb(253, 228, 225)\"], [0.1062992125984252, \"rgb(253, 227, 224)\"], [0.11023622047244094, \"rgb(253, 226, 223)\"], [0.11417322834645668, \"rgb(253, 226, 222)\"], [0.11811023622047244, \"rgb(253, 225, 222)\"], [0.1220472440944882, \"rgb(253, 224, 221)\"], [0.12598425196850394, \"rgb(252, 223, 220)\"], [0.12992125984251968, \"rgb(252, 223, 219)\"], [0.13385826771653542, \"rgb(252, 222, 219)\"], [0.1377952755905512, \"rgb(252, 221, 218)\"], [0.14173228346456693, \"rgb(252, 220, 217)\"], [0.14566929133858267, \"rgb(252, 219, 216)\"], [0.14960629921259844, \"rgb(252, 218, 215)\"], [0.15354330708661418, \"rgb(252, 217, 214)\"], [0.15748031496062992, \"rgb(252, 217, 213)\"], [0.16141732283464566, \"rgb(252, 216, 212)\"], [0.1653543307086614, \"rgb(252, 215, 211)\"], [0.16929133858267717, \"rgb(252, 214, 210)\"], [0.1732283464566929, \"rgb(252, 213, 209)\"], [0.17716535433070865, \"rgb(252, 212, 209)\"], [0.18110236220472442, \"rgb(252, 212, 208)\"], [0.18503937007874016, \"rgb(252, 211, 207)\"], [0.1889763779527559, \"rgb(252, 210, 206)\"], [0.19291338582677164, \"rgb(252, 209, 205)\"], [0.19685039370078738, \"rgb(252, 208, 204)\"], [0.20078740157480315, \"rgb(252, 207, 203)\"], [0.2047244094488189, \"rgb(252, 206, 202)\"], [0.20866141732283464, \"rgb(252, 206, 201)\"], [0.2125984251968504, \"rgb(252, 205, 200)\"], [0.21653543307086615, \"rgb(252, 204, 199)\"], [0.2204724409448819, \"rgb(252, 203, 199)\"], [0.22440944881889763, \"rgb(252, 202, 198)\"], [0.22834645669291337, \"rgb(252, 201, 197)\"], [0.23228346456692914, \"rgb(252, 201, 196)\"], [0.23622047244094488, \"rgb(252, 200, 195)\"], [0.24015748031496062, \"rgb(252, 199, 194)\"], [0.2440944881889764, \"rgb(252, 198, 193)\"], [0.24803149606299213, \"rgb(252, 197, 192)\"], [0.25196850393700787, \"rgb(251, 196, 191)\"], [0.2559055118110236, \"rgb(251, 195, 191)\"], [0.25984251968503935, \"rgb(251, 194, 191)\"], [0.2637795275590551, \"rgb(251, 193, 190)\"], [0.26771653543307083, \"rgb(251, 191, 190)\"], [0.27165354330708663, \"rgb(251, 190, 190)\"], [0.2755905511811024, \"rgb(251, 189, 189)\"], [0.2795275590551181, \"rgb(251, 188, 189)\"], [0.28346456692913385, \"rgb(251, 187, 189)\"], [0.2874015748031496, \"rgb(251, 185, 188)\"], [0.29133858267716534, \"rgb(251, 184, 188)\"], [0.2952755905511811, \"rgb(251, 183, 188)\"], [0.2992125984251969, \"rgb(251, 182, 187)\"], [0.3031496062992126, \"rgb(251, 181, 187)\"], [0.30708661417322836, \"rgb(251, 180, 187)\"], [0.3110236220472441, \"rgb(251, 178, 186)\"], [0.31496062992125984, \"rgb(250, 177, 186)\"], [0.3188976377952756, \"rgb(250, 176, 186)\"], [0.3228346456692913, \"rgb(250, 175, 185)\"], [0.32677165354330706, \"rgb(250, 174, 185)\"], [0.3307086614173228, \"rgb(250, 172, 185)\"], [0.3346456692913386, \"rgb(250, 171, 184)\"], [0.33858267716535434, \"rgb(250, 170, 184)\"], [0.3425196850393701, \"rgb(250, 169, 183)\"], [0.3464566929133858, \"rgb(250, 168, 183)\"], [0.35039370078740156, \"rgb(250, 166, 183)\"], [0.3543307086614173, \"rgb(250, 165, 182)\"], [0.35826771653543305, \"rgb(250, 164, 182)\"], [0.36220472440944884, \"rgb(250, 163, 182)\"], [0.3661417322834646, \"rgb(250, 162, 181)\"], [0.3700787401574803, \"rgb(250, 160, 181)\"], [0.37401574803149606, \"rgb(250, 159, 181)\"], [0.3779527559055118, \"rgb(249, 158, 180)\"], [0.38188976377952755, \"rgb(249, 156, 180)\"], [0.3858267716535433, \"rgb(249, 154, 179)\"], [0.38976377952755903, \"rgb(249, 153, 178)\"], [0.39370078740157477, \"rgb(249, 151, 178)\"], [0.39763779527559057, \"rgb(249, 149, 177)\"], [0.4015748031496063, \"rgb(249, 148, 177)\"], [0.40551181102362205, \"rgb(249, 146, 176)\"], [0.4094488188976378, \"rgb(249, 144, 175)\"], [0.41338582677165353, \"rgb(249, 142, 175)\"], [0.41732283464566927, \"rgb(249, 141, 174)\"], [0.421259842519685, \"rgb(248, 139, 173)\"], [0.4251968503937008, \"rgb(248, 137, 173)\"], [0.42913385826771655, \"rgb(248, 135, 172)\"], [0.4330708661417323, \"rgb(248, 134, 171)\"], [0.43700787401574803, \"rgb(248, 132, 171)\"], [0.4409448818897638, \"rgb(248, 130, 170)\"], [0.4448818897637795, \"rgb(248, 129, 170)\"], [0.44881889763779526, \"rgb(248, 127, 169)\"], [0.452755905511811, \"rgb(248, 125, 168)\"], [0.45669291338582674, \"rgb(248, 123, 168)\"], [0.46062992125984253, \"rgb(247, 122, 167)\"], [0.4645669291338583, \"rgb(247, 120, 166)\"], [0.468503937007874, \"rgb(247, 118, 166)\"], [0.47244094488188976, \"rgb(247, 116, 165)\"], [0.4763779527559055, \"rgb(247, 115, 165)\"], [0.48031496062992124, \"rgb(247, 113, 164)\"], [0.484251968503937, \"rgb(247, 111, 163)\"], [0.4881889763779528, \"rgb(247, 110, 163)\"], [0.4921259842519685, \"rgb(247, 108, 162)\"], [0.49606299212598426, \"rgb(247, 106, 161)\"], [0.5, \"rgb(246, 103, 160)\"], [0.5039370078740157, \"rgb(245, 101, 160)\"], [0.5078740157480315, \"rgb(244, 99, 160)\"], [0.5118110236220472, \"rgb(244, 98, 159)\"], [0.515748031496063, \"rgb(243, 96, 159)\"], [0.5196850393700787, \"rgb(242, 95, 159)\"], [0.5236220472440944, \"rgb(241, 93, 158)\"], [0.5275590551181102, \"rgb(240, 91, 158)\"], [0.5314960629921259, \"rgb(240, 90, 158)\"], [0.5354330708661417, \"rgb(239, 88, 158)\"], [0.5393700787401575, \"rgb(238, 86, 157)\"], [0.5433070866141733, \"rgb(237, 85, 157)\"], [0.547244094488189, \"rgb(236, 83, 157)\"], [0.5511811023622047, \"rgb(235, 81, 156)\"], [0.5551181102362205, \"rgb(235, 80, 156)\"], [0.5590551181102362, \"rgb(234, 78, 156)\"], [0.562992125984252, \"rgb(233, 77, 155)\"], [0.5669291338582677, \"rgb(232, 75, 155)\"], [0.5708661417322834, \"rgb(231, 73, 155)\"], [0.5748031496062992, \"rgb(231, 72, 154)\"], [0.5787401574803149, \"rgb(230, 70, 154)\"], [0.5826771653543307, \"rgb(229, 68, 154)\"], [0.5866141732283464, \"rgb(228, 67, 153)\"], [0.5905511811023622, \"rgb(227, 65, 153)\"], [0.5944881889763779, \"rgb(227, 64, 153)\"], [0.5984251968503937, \"rgb(226, 62, 153)\"], [0.6023622047244095, \"rgb(225, 60, 152)\"], [0.6062992125984252, \"rgb(224, 59, 152)\"], [0.610236220472441, \"rgb(223, 57, 152)\"], [0.6141732283464567, \"rgb(222, 55, 151)\"], [0.6181102362204725, \"rgb(222, 54, 151)\"], [0.6220472440944882, \"rgb(221, 52, 151)\"], [0.6259842519685039, \"rgb(220, 51, 150)\"], [0.6299212598425197, \"rgb(218, 49, 149)\"], [0.6338582677165354, \"rgb(217, 47, 148)\"], [0.6377952755905512, \"rgb(215, 46, 148)\"], [0.6417322834645669, \"rgb(214, 44, 147)\"], [0.6456692913385826, \"rgb(212, 42, 146)\"], [0.6496062992125984, \"rgb(211, 41, 145)\"], [0.6535433070866141, \"rgb(209, 39, 145)\"], [0.6574803149606299, \"rgb(208, 38, 144)\"], [0.6614173228346456, \"rgb(206, 36, 143)\"], [0.6653543307086615, \"rgb(205, 35, 142)\"], [0.6692913385826772, \"rgb(203, 33, 141)\"], [0.6732283464566929, \"rgb(202, 31, 141)\"], [0.6771653543307087, \"rgb(200, 30, 140)\"], [0.6811023622047244, \"rgb(199, 28, 139)\"], [0.6850393700787402, \"rgb(197, 27, 138)\"], [0.6889763779527559, \"rgb(196, 25, 137)\"], [0.6929133858267716, \"rgb(195, 23, 137)\"], [0.6968503937007874, \"rgb(193, 22, 136)\"], [0.7007874015748031, \"rgb(192, 20, 135)\"], [0.7047244094488189, \"rgb(190, 19, 134)\"], [0.7086614173228346, \"rgb(189, 17, 134)\"], [0.7125984251968503, \"rgb(187, 15, 133)\"], [0.7165354330708661, \"rgb(186, 14, 132)\"], [0.7204724409448818, \"rgb(184, 12, 131)\"], [0.7244094488188977, \"rgb(183, 10, 130)\"], [0.7283464566929134, \"rgb(181, 9, 130)\"], [0.7322834645669292, \"rgb(180, 7, 129)\"], [0.7362204724409449, \"rgb(178, 6, 128)\"], [0.7401574803149606, \"rgb(177, 4, 127)\"], [0.7440944881889764, \"rgb(175, 2, 126)\"], [0.7480314960629921, \"rgb(174, 1, 126)\"], [0.7519685039370079, \"rgb(172, 1, 125)\"], [0.7559055118110236, \"rgb(171, 1, 125)\"], [0.7598425196850394, \"rgb(169, 1, 125)\"], [0.7637795275590551, \"rgb(167, 1, 125)\"], [0.7677165354330708, \"rgb(166, 1, 124)\"], [0.7716535433070866, \"rgb(164, 1, 124)\"], [0.7755905511811023, \"rgb(162, 1, 124)\"], [0.7795275590551181, \"rgb(161, 1, 124)\"], [0.7834645669291338, \"rgb(159, 1, 124)\"], [0.7874015748031495, \"rgb(158, 1, 123)\"], [0.7913385826771654, \"rgb(156, 1, 123)\"], [0.7952755905511811, \"rgb(154, 1, 123)\"], [0.7992125984251969, \"rgb(153, 1, 123)\"], [0.8031496062992126, \"rgb(151, 1, 122)\"], [0.8070866141732284, \"rgb(149, 1, 122)\"], [0.8110236220472441, \"rgb(148, 1, 122)\"], [0.8149606299212598, \"rgb(146, 1, 122)\"], [0.8188976377952756, \"rgb(145, 1, 122)\"], [0.8228346456692913, \"rgb(143, 1, 121)\"], [0.8267716535433071, \"rgb(141, 1, 121)\"], [0.8307086614173228, \"rgb(140, 1, 121)\"], [0.8346456692913385, \"rgb(138, 1, 121)\"], [0.8385826771653543, \"rgb(136, 1, 121)\"], [0.84251968503937, \"rgb(135, 1, 120)\"], [0.8464566929133858, \"rgb(133, 1, 120)\"], [0.8503937007874016, \"rgb(131, 1, 120)\"], [0.8543307086614174, \"rgb(130, 1, 120)\"], [0.8582677165354331, \"rgb(128, 1, 119)\"], [0.8622047244094488, \"rgb(127, 1, 119)\"], [0.8661417322834646, \"rgb(125, 1, 119)\"], [0.8700787401574803, \"rgb(123, 1, 119)\"], [0.8740157480314961, \"rgb(122, 1, 119)\"], [0.8779527559055118, \"rgb(120, 0, 118)\"], [0.8818897637795275, \"rgb(119, 0, 118)\"], [0.8858267716535433, \"rgb(117, 0, 117)\"], [0.889763779527559, \"rgb(116, 0, 117)\"], [0.8937007874015748, \"rgb(114, 0, 117)\"], [0.8976377952755905, \"rgb(112, 0, 116)\"], [0.9015748031496063, \"rgb(111, 0, 116)\"], [0.905511811023622, \"rgb(109, 0, 115)\"], [0.9094488188976377, \"rgb(108, 0, 115)\"], [0.9133858267716535, \"rgb(106, 0, 114)\"], [0.9173228346456693, \"rgb(105, 0, 114)\"], [0.9212598425196851, \"rgb(103, 0, 114)\"], [0.9251968503937008, \"rgb(102, 0, 113)\"], [0.9291338582677166, \"rgb(100, 0, 113)\"], [0.9330708661417323, \"rgb(99, 0, 112)\"], [0.937007874015748, \"rgb(97, 0, 112)\"], [0.9409448818897638, \"rgb(96, 0, 112)\"], [0.9448818897637795, \"rgb(94, 0, 111)\"], [0.9488188976377953, \"rgb(92, 0, 111)\"], [0.952755905511811, \"rgb(91, 0, 110)\"], [0.9566929133858267, \"rgb(89, 0, 110)\"], [0.9606299212598425, \"rgb(88, 0, 110)\"], [0.9645669291338582, \"rgb(86, 0, 109)\"], [0.968503937007874, \"rgb(85, 0, 109)\"], [0.9724409448818897, \"rgb(83, 0, 108)\"], [0.9763779527559056, \"rgb(82, 0, 108)\"], [0.9803149606299213, \"rgb(80, 0, 108)\"], [0.984251968503937, \"rgb(79, 0, 107)\"], [0.9881889763779528, \"rgb(77, 0, 107)\"], [0.9921259842519685, \"rgb(76, 0, 106)\"], [0.9960629921259843, \"rgb(74, 0, 106)\"], [1.0, \"rgb(73, 0, 106)\"]], \"geo\": \"geo2\", \"locationmode\": \"USA-states\", \"locations\": [\"CA\", \"TX\", \"FL\", \"NY\", \"PA\", \"IL\", \"OH\", \"GA\", \"NC\", \"MI\", \"NJ\", \"VA\", \"WA\", \"AZ\", \"MA\", \"TN\", \"IN\", \"MO\", \"MD\", \"WI\", \"CO\", \"MN\", \"SC\", \"AL\", \"LA\", \"KY\", \"OR\", \"OK\", \"CT\", \"IA\", \"UT\", \"AR\", \"NV\", \"MS\", \"KS\", \"NM\", \"NE\", \"WV\", \"ID\", \"HI\", \"NH\", \"ME\", \"RI\", \"MT\", \"DE\", \"SD\", \"ND\", \"AK\", \"DC\", \"VT\", \"WY\"], \"marker\": {\"line\": {\"color\": \"black\", \"width\": 1.0}}, \"reversescale\": false, \"z\": [0.8422166888455421, 0.8128074781099259, 0.8366859886852397, 0.8845282147316674, 0.9455690634647175, 0.9458286107010422, 0.9347313787972055, 0.9288008137974688, 0.8839695646784766, 0.9723462460268737, 0.9411835222197271, 0.929223042963808, 0.9810105180468284, 0.949177525314595, 0.9708252937197079, 0.9916172813304847, 0.99893019361546, 0.9903047557657986, 1.0003441429631676, 1.0446514663448059, 0.9717646122638606, 1.0856531399432547, 1.084481221963147, 1.117767513414287, 1.0339589118239705, 1.0873826528917196, 1.0229811773285535, 1.0781298640422248, 1.1810937983917424, 1.1547646584431426, 1.1710997621328538, 1.2091273441900159, 1.2116439741030174, 1.2173036722884074, 1.2469627573143451, 1.4497262577706673, 1.5765677541218146, 1.6670530262367562, 1.4104742706371487, 1.69641993813864, 1.8034799992929358, 1.812778827905354, 2.2854046761685423, 1.7289767225844612, 1.8881425373520757, 2.0884775813219307, 2.404414581863902, 2.455109786140645, 2.6172207873486513, 2.9123026667509837, 3.1352164957543276], \"zauto\": false, \"zmax\": 3.1352164957543276, \"zmin\": 0.8128074781099259, \"type\": \"choropleth\", \"uid\": \"e89f6d21-f595-4cce-8178-b875c887d710\"}, {\"autocolorscale\": false, \"colorbar\": {\"title\": {\"text\": \"Whiteness\"}}, \"colorscale\": [[0.0, \"rgb(255, 247, 243)\"], [0.003937007874015748, \"rgb(254, 246, 242)\"], [0.007874015748031496, \"rgb(254, 245, 241)\"], [0.011811023622047244, \"rgb(254, 244, 240)\"], [0.015748031496062992, \"rgb(254, 244, 240)\"], [0.01968503937007874, \"rgb(254, 243, 239)\"], [0.023622047244094488, \"rgb(254, 242, 238)\"], [0.027559055118110236, \"rgb(254, 241, 238)\"], [0.031496062992125984, \"rgb(254, 241, 237)\"], [0.03543307086614173, \"rgb(254, 240, 236)\"], [0.03937007874015748, \"rgb(254, 239, 236)\"], [0.04330708661417323, \"rgb(254, 239, 235)\"], [0.047244094488188976, \"rgb(254, 238, 234)\"], [0.051181102362204724, \"rgb(254, 237, 234)\"], [0.05511811023622047, \"rgb(254, 236, 233)\"], [0.05905511811023622, \"rgb(254, 236, 232)\"], [0.06299212598425197, \"rgb(253, 235, 231)\"], [0.06692913385826771, \"rgb(253, 234, 231)\"], [0.07086614173228346, \"rgb(253, 234, 230)\"], [0.07480314960629922, \"rgb(253, 233, 229)\"], [0.07874015748031496, \"rgb(253, 232, 229)\"], [0.0826771653543307, \"rgb(253, 231, 228)\"], [0.08661417322834646, \"rgb(253, 231, 227)\"], [0.09055118110236221, \"rgb(253, 230, 227)\"], [0.09448818897637795, \"rgb(253, 229, 226)\"], [0.09842519685039369, \"rgb(253, 228, 225)\"], [0.10236220472440945, \"rgb(253, 228, 225)\"], [0.1062992125984252, \"rgb(253, 227, 224)\"], [0.11023622047244094, \"rgb(253, 226, 223)\"], [0.11417322834645668, \"rgb(253, 226, 222)\"], [0.11811023622047244, \"rgb(253, 225, 222)\"], [0.1220472440944882, \"rgb(253, 224, 221)\"], [0.12598425196850394, \"rgb(252, 223, 220)\"], [0.12992125984251968, \"rgb(252, 223, 219)\"], [0.13385826771653542, \"rgb(252, 222, 219)\"], [0.1377952755905512, \"rgb(252, 221, 218)\"], [0.14173228346456693, \"rgb(252, 220, 217)\"], [0.14566929133858267, \"rgb(252, 219, 216)\"], [0.14960629921259844, \"rgb(252, 218, 215)\"], [0.15354330708661418, \"rgb(252, 217, 214)\"], [0.15748031496062992, \"rgb(252, 217, 213)\"], [0.16141732283464566, \"rgb(252, 216, 212)\"], [0.1653543307086614, \"rgb(252, 215, 211)\"], [0.16929133858267717, \"rgb(252, 214, 210)\"], [0.1732283464566929, \"rgb(252, 213, 209)\"], [0.17716535433070865, \"rgb(252, 212, 209)\"], [0.18110236220472442, \"rgb(252, 212, 208)\"], [0.18503937007874016, \"rgb(252, 211, 207)\"], [0.1889763779527559, \"rgb(252, 210, 206)\"], [0.19291338582677164, \"rgb(252, 209, 205)\"], [0.19685039370078738, \"rgb(252, 208, 204)\"], [0.20078740157480315, \"rgb(252, 207, 203)\"], [0.2047244094488189, \"rgb(252, 206, 202)\"], [0.20866141732283464, \"rgb(252, 206, 201)\"], [0.2125984251968504, \"rgb(252, 205, 200)\"], [0.21653543307086615, \"rgb(252, 204, 199)\"], [0.2204724409448819, \"rgb(252, 203, 199)\"], [0.22440944881889763, \"rgb(252, 202, 198)\"], [0.22834645669291337, \"rgb(252, 201, 197)\"], [0.23228346456692914, \"rgb(252, 201, 196)\"], [0.23622047244094488, \"rgb(252, 200, 195)\"], [0.24015748031496062, \"rgb(252, 199, 194)\"], [0.2440944881889764, \"rgb(252, 198, 193)\"], [0.24803149606299213, \"rgb(252, 197, 192)\"], [0.25196850393700787, \"rgb(251, 196, 191)\"], [0.2559055118110236, \"rgb(251, 195, 191)\"], [0.25984251968503935, \"rgb(251, 194, 191)\"], [0.2637795275590551, \"rgb(251, 193, 190)\"], [0.26771653543307083, \"rgb(251, 191, 190)\"], [0.27165354330708663, \"rgb(251, 190, 190)\"], [0.2755905511811024, \"rgb(251, 189, 189)\"], [0.2795275590551181, \"rgb(251, 188, 189)\"], [0.28346456692913385, \"rgb(251, 187, 189)\"], [0.2874015748031496, \"rgb(251, 185, 188)\"], [0.29133858267716534, \"rgb(251, 184, 188)\"], [0.2952755905511811, \"rgb(251, 183, 188)\"], [0.2992125984251969, \"rgb(251, 182, 187)\"], [0.3031496062992126, \"rgb(251, 181, 187)\"], [0.30708661417322836, \"rgb(251, 180, 187)\"], [0.3110236220472441, \"rgb(251, 178, 186)\"], [0.31496062992125984, \"rgb(250, 177, 186)\"], [0.3188976377952756, \"rgb(250, 176, 186)\"], [0.3228346456692913, \"rgb(250, 175, 185)\"], [0.32677165354330706, \"rgb(250, 174, 185)\"], [0.3307086614173228, \"rgb(250, 172, 185)\"], [0.3346456692913386, \"rgb(250, 171, 184)\"], [0.33858267716535434, \"rgb(250, 170, 184)\"], [0.3425196850393701, \"rgb(250, 169, 183)\"], [0.3464566929133858, \"rgb(250, 168, 183)\"], [0.35039370078740156, \"rgb(250, 166, 183)\"], [0.3543307086614173, \"rgb(250, 165, 182)\"], [0.35826771653543305, \"rgb(250, 164, 182)\"], [0.36220472440944884, \"rgb(250, 163, 182)\"], [0.3661417322834646, \"rgb(250, 162, 181)\"], [0.3700787401574803, \"rgb(250, 160, 181)\"], [0.37401574803149606, \"rgb(250, 159, 181)\"], [0.3779527559055118, \"rgb(249, 158, 180)\"], [0.38188976377952755, \"rgb(249, 156, 180)\"], [0.3858267716535433, \"rgb(249, 154, 179)\"], [0.38976377952755903, \"rgb(249, 153, 178)\"], [0.39370078740157477, \"rgb(249, 151, 178)\"], [0.39763779527559057, \"rgb(249, 149, 177)\"], [0.4015748031496063, \"rgb(249, 148, 177)\"], [0.40551181102362205, \"rgb(249, 146, 176)\"], [0.4094488188976378, \"rgb(249, 144, 175)\"], [0.41338582677165353, \"rgb(249, 142, 175)\"], [0.41732283464566927, \"rgb(249, 141, 174)\"], [0.421259842519685, \"rgb(248, 139, 173)\"], [0.4251968503937008, \"rgb(248, 137, 173)\"], [0.42913385826771655, \"rgb(248, 135, 172)\"], [0.4330708661417323, \"rgb(248, 134, 171)\"], [0.43700787401574803, \"rgb(248, 132, 171)\"], [0.4409448818897638, \"rgb(248, 130, 170)\"], [0.4448818897637795, \"rgb(248, 129, 170)\"], [0.44881889763779526, \"rgb(248, 127, 169)\"], [0.452755905511811, \"rgb(248, 125, 168)\"], [0.45669291338582674, \"rgb(248, 123, 168)\"], [0.46062992125984253, \"rgb(247, 122, 167)\"], [0.4645669291338583, \"rgb(247, 120, 166)\"], [0.468503937007874, \"rgb(247, 118, 166)\"], [0.47244094488188976, \"rgb(247, 116, 165)\"], [0.4763779527559055, \"rgb(247, 115, 165)\"], [0.48031496062992124, \"rgb(247, 113, 164)\"], [0.484251968503937, \"rgb(247, 111, 163)\"], [0.4881889763779528, \"rgb(247, 110, 163)\"], [0.4921259842519685, \"rgb(247, 108, 162)\"], [0.49606299212598426, \"rgb(247, 106, 161)\"], [0.5, \"rgb(246, 103, 160)\"], [0.5039370078740157, \"rgb(245, 101, 160)\"], [0.5078740157480315, \"rgb(244, 99, 160)\"], [0.5118110236220472, \"rgb(244, 98, 159)\"], [0.515748031496063, \"rgb(243, 96, 159)\"], [0.5196850393700787, \"rgb(242, 95, 159)\"], [0.5236220472440944, \"rgb(241, 93, 158)\"], [0.5275590551181102, \"rgb(240, 91, 158)\"], [0.5314960629921259, \"rgb(240, 90, 158)\"], [0.5354330708661417, \"rgb(239, 88, 158)\"], [0.5393700787401575, \"rgb(238, 86, 157)\"], [0.5433070866141733, \"rgb(237, 85, 157)\"], [0.547244094488189, \"rgb(236, 83, 157)\"], [0.5511811023622047, \"rgb(235, 81, 156)\"], [0.5551181102362205, \"rgb(235, 80, 156)\"], [0.5590551181102362, \"rgb(234, 78, 156)\"], [0.562992125984252, \"rgb(233, 77, 155)\"], [0.5669291338582677, \"rgb(232, 75, 155)\"], [0.5708661417322834, \"rgb(231, 73, 155)\"], [0.5748031496062992, \"rgb(231, 72, 154)\"], [0.5787401574803149, \"rgb(230, 70, 154)\"], [0.5826771653543307, \"rgb(229, 68, 154)\"], [0.5866141732283464, \"rgb(228, 67, 153)\"], [0.5905511811023622, \"rgb(227, 65, 153)\"], [0.5944881889763779, \"rgb(227, 64, 153)\"], [0.5984251968503937, \"rgb(226, 62, 153)\"], [0.6023622047244095, \"rgb(225, 60, 152)\"], [0.6062992125984252, \"rgb(224, 59, 152)\"], [0.610236220472441, \"rgb(223, 57, 152)\"], [0.6141732283464567, \"rgb(222, 55, 151)\"], [0.6181102362204725, \"rgb(222, 54, 151)\"], [0.6220472440944882, \"rgb(221, 52, 151)\"], [0.6259842519685039, \"rgb(220, 51, 150)\"], [0.6299212598425197, \"rgb(218, 49, 149)\"], [0.6338582677165354, \"rgb(217, 47, 148)\"], [0.6377952755905512, \"rgb(215, 46, 148)\"], [0.6417322834645669, \"rgb(214, 44, 147)\"], [0.6456692913385826, \"rgb(212, 42, 146)\"], [0.6496062992125984, \"rgb(211, 41, 145)\"], [0.6535433070866141, \"rgb(209, 39, 145)\"], [0.6574803149606299, \"rgb(208, 38, 144)\"], [0.6614173228346456, \"rgb(206, 36, 143)\"], [0.6653543307086615, \"rgb(205, 35, 142)\"], [0.6692913385826772, \"rgb(203, 33, 141)\"], [0.6732283464566929, \"rgb(202, 31, 141)\"], [0.6771653543307087, \"rgb(200, 30, 140)\"], [0.6811023622047244, \"rgb(199, 28, 139)\"], [0.6850393700787402, \"rgb(197, 27, 138)\"], [0.6889763779527559, \"rgb(196, 25, 137)\"], [0.6929133858267716, \"rgb(195, 23, 137)\"], [0.6968503937007874, \"rgb(193, 22, 136)\"], [0.7007874015748031, \"rgb(192, 20, 135)\"], [0.7047244094488189, \"rgb(190, 19, 134)\"], [0.7086614173228346, \"rgb(189, 17, 134)\"], [0.7125984251968503, \"rgb(187, 15, 133)\"], [0.7165354330708661, \"rgb(186, 14, 132)\"], [0.7204724409448818, \"rgb(184, 12, 131)\"], [0.7244094488188977, \"rgb(183, 10, 130)\"], [0.7283464566929134, \"rgb(181, 9, 130)\"], [0.7322834645669292, \"rgb(180, 7, 129)\"], [0.7362204724409449, \"rgb(178, 6, 128)\"], [0.7401574803149606, \"rgb(177, 4, 127)\"], [0.7440944881889764, \"rgb(175, 2, 126)\"], [0.7480314960629921, \"rgb(174, 1, 126)\"], [0.7519685039370079, \"rgb(172, 1, 125)\"], [0.7559055118110236, \"rgb(171, 1, 125)\"], [0.7598425196850394, \"rgb(169, 1, 125)\"], [0.7637795275590551, \"rgb(167, 1, 125)\"], [0.7677165354330708, \"rgb(166, 1, 124)\"], [0.7716535433070866, \"rgb(164, 1, 124)\"], [0.7755905511811023, \"rgb(162, 1, 124)\"], [0.7795275590551181, \"rgb(161, 1, 124)\"], [0.7834645669291338, \"rgb(159, 1, 124)\"], [0.7874015748031495, \"rgb(158, 1, 123)\"], [0.7913385826771654, \"rgb(156, 1, 123)\"], [0.7952755905511811, \"rgb(154, 1, 123)\"], [0.7992125984251969, \"rgb(153, 1, 123)\"], [0.8031496062992126, \"rgb(151, 1, 122)\"], [0.8070866141732284, \"rgb(149, 1, 122)\"], [0.8110236220472441, \"rgb(148, 1, 122)\"], [0.8149606299212598, \"rgb(146, 1, 122)\"], [0.8188976377952756, \"rgb(145, 1, 122)\"], [0.8228346456692913, \"rgb(143, 1, 121)\"], [0.8267716535433071, \"rgb(141, 1, 121)\"], [0.8307086614173228, \"rgb(140, 1, 121)\"], [0.8346456692913385, \"rgb(138, 1, 121)\"], [0.8385826771653543, \"rgb(136, 1, 121)\"], [0.84251968503937, \"rgb(135, 1, 120)\"], [0.8464566929133858, \"rgb(133, 1, 120)\"], [0.8503937007874016, \"rgb(131, 1, 120)\"], [0.8543307086614174, \"rgb(130, 1, 120)\"], [0.8582677165354331, \"rgb(128, 1, 119)\"], [0.8622047244094488, \"rgb(127, 1, 119)\"], [0.8661417322834646, \"rgb(125, 1, 119)\"], [0.8700787401574803, \"rgb(123, 1, 119)\"], [0.8740157480314961, \"rgb(122, 1, 119)\"], [0.8779527559055118, \"rgb(120, 0, 118)\"], [0.8818897637795275, \"rgb(119, 0, 118)\"], [0.8858267716535433, \"rgb(117, 0, 117)\"], [0.889763779527559, \"rgb(116, 0, 117)\"], [0.8937007874015748, \"rgb(114, 0, 117)\"], [0.8976377952755905, \"rgb(112, 0, 116)\"], [0.9015748031496063, \"rgb(111, 0, 116)\"], [0.905511811023622, \"rgb(109, 0, 115)\"], [0.9094488188976377, \"rgb(108, 0, 115)\"], [0.9133858267716535, \"rgb(106, 0, 114)\"], [0.9173228346456693, \"rgb(105, 0, 114)\"], [0.9212598425196851, \"rgb(103, 0, 114)\"], [0.9251968503937008, \"rgb(102, 0, 113)\"], [0.9291338582677166, \"rgb(100, 0, 113)\"], [0.9330708661417323, \"rgb(99, 0, 112)\"], [0.937007874015748, \"rgb(97, 0, 112)\"], [0.9409448818897638, \"rgb(96, 0, 112)\"], [0.9448818897637795, \"rgb(94, 0, 111)\"], [0.9488188976377953, \"rgb(92, 0, 111)\"], [0.952755905511811, \"rgb(91, 0, 110)\"], [0.9566929133858267, \"rgb(89, 0, 110)\"], [0.9606299212598425, \"rgb(88, 0, 110)\"], [0.9645669291338582, \"rgb(86, 0, 109)\"], [0.968503937007874, \"rgb(85, 0, 109)\"], [0.9724409448818897, \"rgb(83, 0, 108)\"], [0.9763779527559056, \"rgb(82, 0, 108)\"], [0.9803149606299213, \"rgb(80, 0, 108)\"], [0.984251968503937, \"rgb(79, 0, 107)\"], [0.9881889763779528, \"rgb(77, 0, 107)\"], [0.9921259842519685, \"rgb(76, 0, 106)\"], [0.9960629921259843, \"rgb(74, 0, 106)\"], [1.0, \"rgb(73, 0, 106)\"]], \"geo\": \"geo\", \"locationmode\": \"USA-states\", \"locations\": [\"CA\", \"TX\", \"FL\", \"NY\", \"PA\", \"IL\", \"OH\", \"GA\", \"NC\", \"MI\", \"NJ\", \"VA\", \"WA\", \"AZ\", \"MA\", \"TN\", \"IN\", \"MO\", \"MD\", \"WI\", \"CO\", \"MN\", \"SC\", \"AL\", \"LA\", \"KY\", \"OR\", \"OK\", \"CT\", \"IA\", \"UT\", \"AR\", \"NV\", \"MS\", \"KS\", \"NM\", \"NE\", \"WV\", \"ID\", \"HI\", \"NH\", \"ME\", \"RI\", \"MT\", \"DE\", \"SD\", \"ND\", \"AK\", \"DC\", \"VT\", \"WY\"], \"marker\": {\"line\": {\"color\": [\"black\", \"black\", \"black\", \"black\", \"black\", \"black\", \"black\", \"black\", \"black\", \"black\", \"black\", \"black\", \"black\", \"black\", \"black\", \"black\", \"black\", \"black\", \"black\", \"black\", \"black\", \"black\", \"black\", \"black\", \"black\", \"black\", \"black\", \"black\", \"black\", \"black\", \"black\", \"black\", \"black\", \"black\", \"black\", \"black\", \"yellow\", \"yellow\", \"black\", \"yellow\", \"yellow\", \"yellow\", \"yellow\", \"yellow\", \"yellow\", \"yellow\", \"yellow\", \"yellow\", \"yellow\", \"yellow\", \"yellow\"], \"width\": [1.0, 1.0, 1.0, 1.0, 1.0, 1.0, 1.0, 1.0, 1.0, 1.0, 1.0, 1.0, 1.0, 1.0, 1.0, 1.0, 1.0, 1.0, 1.0, 1.0, 1.0, 1.0, 1.0, 1.0, 1.0, 1.0, 1.0, 1.0, 1.0, 1.0, 1.0, 1.0, 1.0, 1.0, 1.0, 1.0, 2.0, 2.0, 1.0, 2.0, 2.0, 2.0, 2.0, 2.0, 2.0, 2.0, 2.0, 2.0, 2.0, 2.0, 2.0]}}, \"reversescale\": false, \"z\": [37.0, 41.9, 53.8, 55.1, 76.4, 61.2, 78.9, 52.6, 63.0, 75.0, 54.8, 61.7, 68.6, 54.7, 71.5, 73.9, 79.2, 79.4, 50.7, 81.2, 68.2, 79.9, 63.6, 65.5, 58.5, 84.6, 75.6, 65.6, 66.7, 85.9, 78.3, 72.3, 48.8, 56.6, 75.9, 37.4, 79.0, 92.0, 82.0, 21.8, 90.3, 93.4, 72.1, 86.3, 62.2, 82.3, 84.4, 60.6, 36.5, 92.8, 84.0], \"zauto\": false, \"zmax\": 93.4, \"zmin\": 41.8, \"type\": \"choropleth\", \"uid\": \"31dfe56f-f0f6-421a-8a07-90d8ef728346\"}], {\"geo\": {\"domain\": {\"column\": 0, \"row\": 0}, \"lakecolor\": \"rgb(255, 255, 255)\", \"projection\": {\"type\": \"albers usa\"}, \"scope\": \"usa\", \"showlakes\": true}, \"grid\": {\"columns\": 1, \"rows\": 2}, \"height\": 900, \"title\": {\"text\": \"Wooooooooooo\"}, \"width\": 900, \"geo2\": {\"domain\": {\"column\": 0, \"row\": 1}, \"lakecolor\": \"rgb(255, 255, 255)\", \"projection\": {\"type\": \"albers usa\"}, \"scope\": \"usa\", \"showlakes\": true}}, {\"showLink\": false, \"linkText\": \"Export to plot.ly\", \"plotlyServerURL\": \"https://plot.ly\"}); \n",
       "}\n",
       "});</script>"
      ],
      "text/vnd.plotly.v1+html": [
       "<div id=\"5883f9f0-02b5-4f1b-930a-9183114bfd06\" style=\"height: 900px; width: 900px;\" class=\"plotly-graph-div\"></div><script type=\"text/javascript\">require([\"plotly\"], function(Plotly) { window.PLOTLYENV=window.PLOTLYENV || {};window.PLOTLYENV.BASE_URL=\"https://plot.ly\";\n",
       "if (document.getElementById(\"5883f9f0-02b5-4f1b-930a-9183114bfd06\")) {\n",
       "    Plotly.newPlot(\"5883f9f0-02b5-4f1b-930a-9183114bfd06\", [{\"autocolorscale\": false, \"colorbar\": {\"title\": {\"text\": \"Voting Power\"}}, \"colorscale\": [[0.0, \"rgb(255, 247, 243)\"], [0.003937007874015748, \"rgb(254, 246, 242)\"], [0.007874015748031496, \"rgb(254, 245, 241)\"], [0.011811023622047244, \"rgb(254, 244, 240)\"], [0.015748031496062992, \"rgb(254, 244, 240)\"], [0.01968503937007874, \"rgb(254, 243, 239)\"], [0.023622047244094488, \"rgb(254, 242, 238)\"], [0.027559055118110236, \"rgb(254, 241, 238)\"], [0.031496062992125984, \"rgb(254, 241, 237)\"], [0.03543307086614173, \"rgb(254, 240, 236)\"], [0.03937007874015748, \"rgb(254, 239, 236)\"], [0.04330708661417323, \"rgb(254, 239, 235)\"], [0.047244094488188976, \"rgb(254, 238, 234)\"], [0.051181102362204724, \"rgb(254, 237, 234)\"], [0.05511811023622047, \"rgb(254, 236, 233)\"], [0.05905511811023622, \"rgb(254, 236, 232)\"], [0.06299212598425197, \"rgb(253, 235, 231)\"], [0.06692913385826771, \"rgb(253, 234, 231)\"], [0.07086614173228346, \"rgb(253, 234, 230)\"], [0.07480314960629922, \"rgb(253, 233, 229)\"], [0.07874015748031496, \"rgb(253, 232, 229)\"], [0.0826771653543307, \"rgb(253, 231, 228)\"], [0.08661417322834646, \"rgb(253, 231, 227)\"], [0.09055118110236221, \"rgb(253, 230, 227)\"], [0.09448818897637795, \"rgb(253, 229, 226)\"], [0.09842519685039369, \"rgb(253, 228, 225)\"], [0.10236220472440945, \"rgb(253, 228, 225)\"], [0.1062992125984252, \"rgb(253, 227, 224)\"], [0.11023622047244094, \"rgb(253, 226, 223)\"], [0.11417322834645668, \"rgb(253, 226, 222)\"], [0.11811023622047244, \"rgb(253, 225, 222)\"], [0.1220472440944882, \"rgb(253, 224, 221)\"], [0.12598425196850394, \"rgb(252, 223, 220)\"], [0.12992125984251968, \"rgb(252, 223, 219)\"], [0.13385826771653542, \"rgb(252, 222, 219)\"], [0.1377952755905512, \"rgb(252, 221, 218)\"], [0.14173228346456693, \"rgb(252, 220, 217)\"], [0.14566929133858267, \"rgb(252, 219, 216)\"], [0.14960629921259844, \"rgb(252, 218, 215)\"], [0.15354330708661418, \"rgb(252, 217, 214)\"], [0.15748031496062992, \"rgb(252, 217, 213)\"], [0.16141732283464566, \"rgb(252, 216, 212)\"], [0.1653543307086614, \"rgb(252, 215, 211)\"], [0.16929133858267717, \"rgb(252, 214, 210)\"], [0.1732283464566929, \"rgb(252, 213, 209)\"], [0.17716535433070865, \"rgb(252, 212, 209)\"], [0.18110236220472442, \"rgb(252, 212, 208)\"], [0.18503937007874016, \"rgb(252, 211, 207)\"], [0.1889763779527559, \"rgb(252, 210, 206)\"], [0.19291338582677164, \"rgb(252, 209, 205)\"], [0.19685039370078738, \"rgb(252, 208, 204)\"], [0.20078740157480315, \"rgb(252, 207, 203)\"], [0.2047244094488189, \"rgb(252, 206, 202)\"], [0.20866141732283464, \"rgb(252, 206, 201)\"], [0.2125984251968504, \"rgb(252, 205, 200)\"], [0.21653543307086615, \"rgb(252, 204, 199)\"], [0.2204724409448819, \"rgb(252, 203, 199)\"], [0.22440944881889763, \"rgb(252, 202, 198)\"], [0.22834645669291337, \"rgb(252, 201, 197)\"], [0.23228346456692914, \"rgb(252, 201, 196)\"], [0.23622047244094488, \"rgb(252, 200, 195)\"], [0.24015748031496062, \"rgb(252, 199, 194)\"], [0.2440944881889764, \"rgb(252, 198, 193)\"], [0.24803149606299213, \"rgb(252, 197, 192)\"], [0.25196850393700787, \"rgb(251, 196, 191)\"], [0.2559055118110236, \"rgb(251, 195, 191)\"], [0.25984251968503935, \"rgb(251, 194, 191)\"], [0.2637795275590551, \"rgb(251, 193, 190)\"], [0.26771653543307083, \"rgb(251, 191, 190)\"], [0.27165354330708663, \"rgb(251, 190, 190)\"], [0.2755905511811024, \"rgb(251, 189, 189)\"], [0.2795275590551181, \"rgb(251, 188, 189)\"], [0.28346456692913385, \"rgb(251, 187, 189)\"], [0.2874015748031496, \"rgb(251, 185, 188)\"], [0.29133858267716534, \"rgb(251, 184, 188)\"], [0.2952755905511811, \"rgb(251, 183, 188)\"], [0.2992125984251969, \"rgb(251, 182, 187)\"], [0.3031496062992126, \"rgb(251, 181, 187)\"], [0.30708661417322836, \"rgb(251, 180, 187)\"], [0.3110236220472441, \"rgb(251, 178, 186)\"], [0.31496062992125984, \"rgb(250, 177, 186)\"], [0.3188976377952756, \"rgb(250, 176, 186)\"], [0.3228346456692913, \"rgb(250, 175, 185)\"], [0.32677165354330706, \"rgb(250, 174, 185)\"], [0.3307086614173228, \"rgb(250, 172, 185)\"], [0.3346456692913386, \"rgb(250, 171, 184)\"], [0.33858267716535434, \"rgb(250, 170, 184)\"], [0.3425196850393701, \"rgb(250, 169, 183)\"], [0.3464566929133858, \"rgb(250, 168, 183)\"], [0.35039370078740156, \"rgb(250, 166, 183)\"], [0.3543307086614173, \"rgb(250, 165, 182)\"], [0.35826771653543305, \"rgb(250, 164, 182)\"], [0.36220472440944884, \"rgb(250, 163, 182)\"], [0.3661417322834646, \"rgb(250, 162, 181)\"], [0.3700787401574803, \"rgb(250, 160, 181)\"], [0.37401574803149606, \"rgb(250, 159, 181)\"], [0.3779527559055118, \"rgb(249, 158, 180)\"], [0.38188976377952755, \"rgb(249, 156, 180)\"], [0.3858267716535433, \"rgb(249, 154, 179)\"], [0.38976377952755903, \"rgb(249, 153, 178)\"], [0.39370078740157477, \"rgb(249, 151, 178)\"], [0.39763779527559057, \"rgb(249, 149, 177)\"], [0.4015748031496063, \"rgb(249, 148, 177)\"], [0.40551181102362205, \"rgb(249, 146, 176)\"], [0.4094488188976378, \"rgb(249, 144, 175)\"], [0.41338582677165353, \"rgb(249, 142, 175)\"], [0.41732283464566927, \"rgb(249, 141, 174)\"], [0.421259842519685, \"rgb(248, 139, 173)\"], [0.4251968503937008, \"rgb(248, 137, 173)\"], [0.42913385826771655, \"rgb(248, 135, 172)\"], [0.4330708661417323, \"rgb(248, 134, 171)\"], [0.43700787401574803, \"rgb(248, 132, 171)\"], [0.4409448818897638, \"rgb(248, 130, 170)\"], [0.4448818897637795, \"rgb(248, 129, 170)\"], [0.44881889763779526, \"rgb(248, 127, 169)\"], [0.452755905511811, \"rgb(248, 125, 168)\"], [0.45669291338582674, \"rgb(248, 123, 168)\"], [0.46062992125984253, \"rgb(247, 122, 167)\"], [0.4645669291338583, \"rgb(247, 120, 166)\"], [0.468503937007874, \"rgb(247, 118, 166)\"], [0.47244094488188976, \"rgb(247, 116, 165)\"], [0.4763779527559055, \"rgb(247, 115, 165)\"], [0.48031496062992124, \"rgb(247, 113, 164)\"], [0.484251968503937, \"rgb(247, 111, 163)\"], [0.4881889763779528, \"rgb(247, 110, 163)\"], [0.4921259842519685, \"rgb(247, 108, 162)\"], [0.49606299212598426, \"rgb(247, 106, 161)\"], [0.5, \"rgb(246, 103, 160)\"], [0.5039370078740157, \"rgb(245, 101, 160)\"], [0.5078740157480315, \"rgb(244, 99, 160)\"], [0.5118110236220472, \"rgb(244, 98, 159)\"], [0.515748031496063, \"rgb(243, 96, 159)\"], [0.5196850393700787, \"rgb(242, 95, 159)\"], [0.5236220472440944, \"rgb(241, 93, 158)\"], [0.5275590551181102, \"rgb(240, 91, 158)\"], [0.5314960629921259, \"rgb(240, 90, 158)\"], [0.5354330708661417, \"rgb(239, 88, 158)\"], [0.5393700787401575, \"rgb(238, 86, 157)\"], [0.5433070866141733, \"rgb(237, 85, 157)\"], [0.547244094488189, \"rgb(236, 83, 157)\"], [0.5511811023622047, \"rgb(235, 81, 156)\"], [0.5551181102362205, \"rgb(235, 80, 156)\"], [0.5590551181102362, \"rgb(234, 78, 156)\"], [0.562992125984252, \"rgb(233, 77, 155)\"], [0.5669291338582677, \"rgb(232, 75, 155)\"], [0.5708661417322834, \"rgb(231, 73, 155)\"], [0.5748031496062992, \"rgb(231, 72, 154)\"], [0.5787401574803149, \"rgb(230, 70, 154)\"], [0.5826771653543307, \"rgb(229, 68, 154)\"], [0.5866141732283464, \"rgb(228, 67, 153)\"], [0.5905511811023622, \"rgb(227, 65, 153)\"], [0.5944881889763779, \"rgb(227, 64, 153)\"], [0.5984251968503937, \"rgb(226, 62, 153)\"], [0.6023622047244095, \"rgb(225, 60, 152)\"], [0.6062992125984252, \"rgb(224, 59, 152)\"], [0.610236220472441, \"rgb(223, 57, 152)\"], [0.6141732283464567, \"rgb(222, 55, 151)\"], [0.6181102362204725, \"rgb(222, 54, 151)\"], [0.6220472440944882, \"rgb(221, 52, 151)\"], [0.6259842519685039, \"rgb(220, 51, 150)\"], [0.6299212598425197, \"rgb(218, 49, 149)\"], [0.6338582677165354, \"rgb(217, 47, 148)\"], [0.6377952755905512, \"rgb(215, 46, 148)\"], [0.6417322834645669, \"rgb(214, 44, 147)\"], [0.6456692913385826, \"rgb(212, 42, 146)\"], [0.6496062992125984, \"rgb(211, 41, 145)\"], [0.6535433070866141, \"rgb(209, 39, 145)\"], [0.6574803149606299, \"rgb(208, 38, 144)\"], [0.6614173228346456, \"rgb(206, 36, 143)\"], [0.6653543307086615, \"rgb(205, 35, 142)\"], [0.6692913385826772, \"rgb(203, 33, 141)\"], [0.6732283464566929, \"rgb(202, 31, 141)\"], [0.6771653543307087, \"rgb(200, 30, 140)\"], [0.6811023622047244, \"rgb(199, 28, 139)\"], [0.6850393700787402, \"rgb(197, 27, 138)\"], [0.6889763779527559, \"rgb(196, 25, 137)\"], [0.6929133858267716, \"rgb(195, 23, 137)\"], [0.6968503937007874, \"rgb(193, 22, 136)\"], [0.7007874015748031, \"rgb(192, 20, 135)\"], [0.7047244094488189, \"rgb(190, 19, 134)\"], [0.7086614173228346, \"rgb(189, 17, 134)\"], [0.7125984251968503, \"rgb(187, 15, 133)\"], [0.7165354330708661, \"rgb(186, 14, 132)\"], [0.7204724409448818, \"rgb(184, 12, 131)\"], [0.7244094488188977, \"rgb(183, 10, 130)\"], [0.7283464566929134, \"rgb(181, 9, 130)\"], [0.7322834645669292, \"rgb(180, 7, 129)\"], [0.7362204724409449, \"rgb(178, 6, 128)\"], [0.7401574803149606, \"rgb(177, 4, 127)\"], [0.7440944881889764, \"rgb(175, 2, 126)\"], [0.7480314960629921, \"rgb(174, 1, 126)\"], [0.7519685039370079, \"rgb(172, 1, 125)\"], [0.7559055118110236, \"rgb(171, 1, 125)\"], [0.7598425196850394, \"rgb(169, 1, 125)\"], [0.7637795275590551, \"rgb(167, 1, 125)\"], [0.7677165354330708, \"rgb(166, 1, 124)\"], [0.7716535433070866, \"rgb(164, 1, 124)\"], [0.7755905511811023, \"rgb(162, 1, 124)\"], [0.7795275590551181, \"rgb(161, 1, 124)\"], [0.7834645669291338, \"rgb(159, 1, 124)\"], [0.7874015748031495, \"rgb(158, 1, 123)\"], [0.7913385826771654, \"rgb(156, 1, 123)\"], [0.7952755905511811, \"rgb(154, 1, 123)\"], [0.7992125984251969, \"rgb(153, 1, 123)\"], [0.8031496062992126, \"rgb(151, 1, 122)\"], [0.8070866141732284, \"rgb(149, 1, 122)\"], [0.8110236220472441, \"rgb(148, 1, 122)\"], [0.8149606299212598, \"rgb(146, 1, 122)\"], [0.8188976377952756, \"rgb(145, 1, 122)\"], [0.8228346456692913, \"rgb(143, 1, 121)\"], [0.8267716535433071, \"rgb(141, 1, 121)\"], [0.8307086614173228, \"rgb(140, 1, 121)\"], [0.8346456692913385, \"rgb(138, 1, 121)\"], [0.8385826771653543, \"rgb(136, 1, 121)\"], [0.84251968503937, \"rgb(135, 1, 120)\"], [0.8464566929133858, \"rgb(133, 1, 120)\"], [0.8503937007874016, \"rgb(131, 1, 120)\"], [0.8543307086614174, \"rgb(130, 1, 120)\"], [0.8582677165354331, \"rgb(128, 1, 119)\"], [0.8622047244094488, \"rgb(127, 1, 119)\"], [0.8661417322834646, \"rgb(125, 1, 119)\"], [0.8700787401574803, \"rgb(123, 1, 119)\"], [0.8740157480314961, \"rgb(122, 1, 119)\"], [0.8779527559055118, \"rgb(120, 0, 118)\"], [0.8818897637795275, \"rgb(119, 0, 118)\"], [0.8858267716535433, \"rgb(117, 0, 117)\"], [0.889763779527559, \"rgb(116, 0, 117)\"], [0.8937007874015748, \"rgb(114, 0, 117)\"], [0.8976377952755905, \"rgb(112, 0, 116)\"], [0.9015748031496063, \"rgb(111, 0, 116)\"], [0.905511811023622, \"rgb(109, 0, 115)\"], [0.9094488188976377, \"rgb(108, 0, 115)\"], [0.9133858267716535, \"rgb(106, 0, 114)\"], [0.9173228346456693, \"rgb(105, 0, 114)\"], [0.9212598425196851, \"rgb(103, 0, 114)\"], [0.9251968503937008, \"rgb(102, 0, 113)\"], [0.9291338582677166, \"rgb(100, 0, 113)\"], [0.9330708661417323, \"rgb(99, 0, 112)\"], [0.937007874015748, \"rgb(97, 0, 112)\"], [0.9409448818897638, \"rgb(96, 0, 112)\"], [0.9448818897637795, \"rgb(94, 0, 111)\"], [0.9488188976377953, \"rgb(92, 0, 111)\"], [0.952755905511811, \"rgb(91, 0, 110)\"], [0.9566929133858267, \"rgb(89, 0, 110)\"], [0.9606299212598425, \"rgb(88, 0, 110)\"], [0.9645669291338582, \"rgb(86, 0, 109)\"], [0.968503937007874, \"rgb(85, 0, 109)\"], [0.9724409448818897, \"rgb(83, 0, 108)\"], [0.9763779527559056, \"rgb(82, 0, 108)\"], [0.9803149606299213, \"rgb(80, 0, 108)\"], [0.984251968503937, \"rgb(79, 0, 107)\"], [0.9881889763779528, \"rgb(77, 0, 107)\"], [0.9921259842519685, \"rgb(76, 0, 106)\"], [0.9960629921259843, \"rgb(74, 0, 106)\"], [1.0, \"rgb(73, 0, 106)\"]], \"geo\": \"geo2\", \"locationmode\": \"USA-states\", \"locations\": [\"CA\", \"TX\", \"FL\", \"NY\", \"PA\", \"IL\", \"OH\", \"GA\", \"NC\", \"MI\", \"NJ\", \"VA\", \"WA\", \"AZ\", \"MA\", \"TN\", \"IN\", \"MO\", \"MD\", \"WI\", \"CO\", \"MN\", \"SC\", \"AL\", \"LA\", \"KY\", \"OR\", \"OK\", \"CT\", \"IA\", \"UT\", \"AR\", \"NV\", \"MS\", \"KS\", \"NM\", \"NE\", \"WV\", \"ID\", \"HI\", \"NH\", \"ME\", \"RI\", \"MT\", \"DE\", \"SD\", \"ND\", \"AK\", \"DC\", \"VT\", \"WY\"], \"marker\": {\"line\": {\"color\": \"black\", \"width\": 1.0}}, \"reversescale\": false, \"z\": [0.8422166888455421, 0.8128074781099259, 0.8366859886852397, 0.8845282147316674, 0.9455690634647175, 0.9458286107010422, 0.9347313787972055, 0.9288008137974688, 0.8839695646784766, 0.9723462460268737, 0.9411835222197271, 0.929223042963808, 0.9810105180468284, 0.949177525314595, 0.9708252937197079, 0.9916172813304847, 0.99893019361546, 0.9903047557657986, 1.0003441429631676, 1.0446514663448059, 0.9717646122638606, 1.0856531399432547, 1.084481221963147, 1.117767513414287, 1.0339589118239705, 1.0873826528917196, 1.0229811773285535, 1.0781298640422248, 1.1810937983917424, 1.1547646584431426, 1.1710997621328538, 1.2091273441900159, 1.2116439741030174, 1.2173036722884074, 1.2469627573143451, 1.4497262577706673, 1.5765677541218146, 1.6670530262367562, 1.4104742706371487, 1.69641993813864, 1.8034799992929358, 1.812778827905354, 2.2854046761685423, 1.7289767225844612, 1.8881425373520757, 2.0884775813219307, 2.404414581863902, 2.455109786140645, 2.6172207873486513, 2.9123026667509837, 3.1352164957543276], \"zauto\": false, \"zmax\": 3.1352164957543276, \"zmin\": 0.8128074781099259, \"type\": \"choropleth\", \"uid\": \"e89f6d21-f595-4cce-8178-b875c887d710\"}, {\"autocolorscale\": false, \"colorbar\": {\"title\": {\"text\": \"Whiteness\"}}, \"colorscale\": [[0.0, \"rgb(255, 247, 243)\"], [0.003937007874015748, \"rgb(254, 246, 242)\"], [0.007874015748031496, \"rgb(254, 245, 241)\"], [0.011811023622047244, \"rgb(254, 244, 240)\"], [0.015748031496062992, \"rgb(254, 244, 240)\"], [0.01968503937007874, \"rgb(254, 243, 239)\"], [0.023622047244094488, \"rgb(254, 242, 238)\"], [0.027559055118110236, \"rgb(254, 241, 238)\"], [0.031496062992125984, \"rgb(254, 241, 237)\"], [0.03543307086614173, \"rgb(254, 240, 236)\"], [0.03937007874015748, \"rgb(254, 239, 236)\"], [0.04330708661417323, \"rgb(254, 239, 235)\"], [0.047244094488188976, \"rgb(254, 238, 234)\"], [0.051181102362204724, \"rgb(254, 237, 234)\"], [0.05511811023622047, \"rgb(254, 236, 233)\"], [0.05905511811023622, \"rgb(254, 236, 232)\"], [0.06299212598425197, \"rgb(253, 235, 231)\"], [0.06692913385826771, \"rgb(253, 234, 231)\"], [0.07086614173228346, \"rgb(253, 234, 230)\"], [0.07480314960629922, \"rgb(253, 233, 229)\"], [0.07874015748031496, \"rgb(253, 232, 229)\"], [0.0826771653543307, \"rgb(253, 231, 228)\"], [0.08661417322834646, \"rgb(253, 231, 227)\"], [0.09055118110236221, \"rgb(253, 230, 227)\"], [0.09448818897637795, \"rgb(253, 229, 226)\"], [0.09842519685039369, \"rgb(253, 228, 225)\"], [0.10236220472440945, \"rgb(253, 228, 225)\"], [0.1062992125984252, \"rgb(253, 227, 224)\"], [0.11023622047244094, \"rgb(253, 226, 223)\"], [0.11417322834645668, \"rgb(253, 226, 222)\"], [0.11811023622047244, \"rgb(253, 225, 222)\"], [0.1220472440944882, \"rgb(253, 224, 221)\"], [0.12598425196850394, \"rgb(252, 223, 220)\"], [0.12992125984251968, \"rgb(252, 223, 219)\"], [0.13385826771653542, \"rgb(252, 222, 219)\"], [0.1377952755905512, \"rgb(252, 221, 218)\"], [0.14173228346456693, \"rgb(252, 220, 217)\"], [0.14566929133858267, \"rgb(252, 219, 216)\"], [0.14960629921259844, \"rgb(252, 218, 215)\"], [0.15354330708661418, \"rgb(252, 217, 214)\"], [0.15748031496062992, \"rgb(252, 217, 213)\"], [0.16141732283464566, \"rgb(252, 216, 212)\"], [0.1653543307086614, \"rgb(252, 215, 211)\"], [0.16929133858267717, \"rgb(252, 214, 210)\"], [0.1732283464566929, \"rgb(252, 213, 209)\"], [0.17716535433070865, \"rgb(252, 212, 209)\"], [0.18110236220472442, \"rgb(252, 212, 208)\"], [0.18503937007874016, \"rgb(252, 211, 207)\"], [0.1889763779527559, \"rgb(252, 210, 206)\"], [0.19291338582677164, \"rgb(252, 209, 205)\"], [0.19685039370078738, \"rgb(252, 208, 204)\"], [0.20078740157480315, \"rgb(252, 207, 203)\"], [0.2047244094488189, \"rgb(252, 206, 202)\"], [0.20866141732283464, \"rgb(252, 206, 201)\"], [0.2125984251968504, \"rgb(252, 205, 200)\"], [0.21653543307086615, \"rgb(252, 204, 199)\"], [0.2204724409448819, \"rgb(252, 203, 199)\"], [0.22440944881889763, \"rgb(252, 202, 198)\"], [0.22834645669291337, \"rgb(252, 201, 197)\"], [0.23228346456692914, \"rgb(252, 201, 196)\"], [0.23622047244094488, \"rgb(252, 200, 195)\"], [0.24015748031496062, \"rgb(252, 199, 194)\"], [0.2440944881889764, \"rgb(252, 198, 193)\"], [0.24803149606299213, \"rgb(252, 197, 192)\"], [0.25196850393700787, \"rgb(251, 196, 191)\"], [0.2559055118110236, \"rgb(251, 195, 191)\"], [0.25984251968503935, \"rgb(251, 194, 191)\"], [0.2637795275590551, \"rgb(251, 193, 190)\"], [0.26771653543307083, \"rgb(251, 191, 190)\"], [0.27165354330708663, \"rgb(251, 190, 190)\"], [0.2755905511811024, \"rgb(251, 189, 189)\"], [0.2795275590551181, \"rgb(251, 188, 189)\"], [0.28346456692913385, \"rgb(251, 187, 189)\"], [0.2874015748031496, \"rgb(251, 185, 188)\"], [0.29133858267716534, \"rgb(251, 184, 188)\"], [0.2952755905511811, \"rgb(251, 183, 188)\"], [0.2992125984251969, \"rgb(251, 182, 187)\"], [0.3031496062992126, \"rgb(251, 181, 187)\"], [0.30708661417322836, \"rgb(251, 180, 187)\"], [0.3110236220472441, \"rgb(251, 178, 186)\"], [0.31496062992125984, \"rgb(250, 177, 186)\"], [0.3188976377952756, \"rgb(250, 176, 186)\"], [0.3228346456692913, \"rgb(250, 175, 185)\"], [0.32677165354330706, \"rgb(250, 174, 185)\"], [0.3307086614173228, \"rgb(250, 172, 185)\"], [0.3346456692913386, \"rgb(250, 171, 184)\"], [0.33858267716535434, \"rgb(250, 170, 184)\"], [0.3425196850393701, \"rgb(250, 169, 183)\"], [0.3464566929133858, \"rgb(250, 168, 183)\"], [0.35039370078740156, \"rgb(250, 166, 183)\"], [0.3543307086614173, \"rgb(250, 165, 182)\"], [0.35826771653543305, \"rgb(250, 164, 182)\"], [0.36220472440944884, \"rgb(250, 163, 182)\"], [0.3661417322834646, \"rgb(250, 162, 181)\"], [0.3700787401574803, \"rgb(250, 160, 181)\"], [0.37401574803149606, \"rgb(250, 159, 181)\"], [0.3779527559055118, \"rgb(249, 158, 180)\"], [0.38188976377952755, \"rgb(249, 156, 180)\"], [0.3858267716535433, \"rgb(249, 154, 179)\"], [0.38976377952755903, \"rgb(249, 153, 178)\"], [0.39370078740157477, \"rgb(249, 151, 178)\"], [0.39763779527559057, \"rgb(249, 149, 177)\"], [0.4015748031496063, \"rgb(249, 148, 177)\"], [0.40551181102362205, \"rgb(249, 146, 176)\"], [0.4094488188976378, \"rgb(249, 144, 175)\"], [0.41338582677165353, \"rgb(249, 142, 175)\"], [0.41732283464566927, \"rgb(249, 141, 174)\"], [0.421259842519685, \"rgb(248, 139, 173)\"], [0.4251968503937008, \"rgb(248, 137, 173)\"], [0.42913385826771655, \"rgb(248, 135, 172)\"], [0.4330708661417323, \"rgb(248, 134, 171)\"], [0.43700787401574803, \"rgb(248, 132, 171)\"], [0.4409448818897638, \"rgb(248, 130, 170)\"], [0.4448818897637795, \"rgb(248, 129, 170)\"], [0.44881889763779526, \"rgb(248, 127, 169)\"], [0.452755905511811, \"rgb(248, 125, 168)\"], [0.45669291338582674, \"rgb(248, 123, 168)\"], [0.46062992125984253, \"rgb(247, 122, 167)\"], [0.4645669291338583, \"rgb(247, 120, 166)\"], [0.468503937007874, \"rgb(247, 118, 166)\"], [0.47244094488188976, \"rgb(247, 116, 165)\"], [0.4763779527559055, \"rgb(247, 115, 165)\"], [0.48031496062992124, \"rgb(247, 113, 164)\"], [0.484251968503937, \"rgb(247, 111, 163)\"], [0.4881889763779528, \"rgb(247, 110, 163)\"], [0.4921259842519685, \"rgb(247, 108, 162)\"], [0.49606299212598426, \"rgb(247, 106, 161)\"], [0.5, \"rgb(246, 103, 160)\"], [0.5039370078740157, \"rgb(245, 101, 160)\"], [0.5078740157480315, \"rgb(244, 99, 160)\"], [0.5118110236220472, \"rgb(244, 98, 159)\"], [0.515748031496063, \"rgb(243, 96, 159)\"], [0.5196850393700787, \"rgb(242, 95, 159)\"], [0.5236220472440944, \"rgb(241, 93, 158)\"], [0.5275590551181102, \"rgb(240, 91, 158)\"], [0.5314960629921259, \"rgb(240, 90, 158)\"], [0.5354330708661417, \"rgb(239, 88, 158)\"], [0.5393700787401575, \"rgb(238, 86, 157)\"], [0.5433070866141733, \"rgb(237, 85, 157)\"], [0.547244094488189, \"rgb(236, 83, 157)\"], [0.5511811023622047, \"rgb(235, 81, 156)\"], [0.5551181102362205, \"rgb(235, 80, 156)\"], [0.5590551181102362, \"rgb(234, 78, 156)\"], [0.562992125984252, \"rgb(233, 77, 155)\"], [0.5669291338582677, \"rgb(232, 75, 155)\"], [0.5708661417322834, \"rgb(231, 73, 155)\"], [0.5748031496062992, \"rgb(231, 72, 154)\"], [0.5787401574803149, \"rgb(230, 70, 154)\"], [0.5826771653543307, \"rgb(229, 68, 154)\"], [0.5866141732283464, \"rgb(228, 67, 153)\"], [0.5905511811023622, \"rgb(227, 65, 153)\"], [0.5944881889763779, \"rgb(227, 64, 153)\"], [0.5984251968503937, \"rgb(226, 62, 153)\"], [0.6023622047244095, \"rgb(225, 60, 152)\"], [0.6062992125984252, \"rgb(224, 59, 152)\"], [0.610236220472441, \"rgb(223, 57, 152)\"], [0.6141732283464567, \"rgb(222, 55, 151)\"], [0.6181102362204725, \"rgb(222, 54, 151)\"], [0.6220472440944882, \"rgb(221, 52, 151)\"], [0.6259842519685039, \"rgb(220, 51, 150)\"], [0.6299212598425197, \"rgb(218, 49, 149)\"], [0.6338582677165354, \"rgb(217, 47, 148)\"], [0.6377952755905512, \"rgb(215, 46, 148)\"], [0.6417322834645669, \"rgb(214, 44, 147)\"], [0.6456692913385826, \"rgb(212, 42, 146)\"], [0.6496062992125984, \"rgb(211, 41, 145)\"], [0.6535433070866141, \"rgb(209, 39, 145)\"], [0.6574803149606299, \"rgb(208, 38, 144)\"], [0.6614173228346456, \"rgb(206, 36, 143)\"], [0.6653543307086615, \"rgb(205, 35, 142)\"], [0.6692913385826772, \"rgb(203, 33, 141)\"], [0.6732283464566929, \"rgb(202, 31, 141)\"], [0.6771653543307087, \"rgb(200, 30, 140)\"], [0.6811023622047244, \"rgb(199, 28, 139)\"], [0.6850393700787402, \"rgb(197, 27, 138)\"], [0.6889763779527559, \"rgb(196, 25, 137)\"], [0.6929133858267716, \"rgb(195, 23, 137)\"], [0.6968503937007874, \"rgb(193, 22, 136)\"], [0.7007874015748031, \"rgb(192, 20, 135)\"], [0.7047244094488189, \"rgb(190, 19, 134)\"], [0.7086614173228346, \"rgb(189, 17, 134)\"], [0.7125984251968503, \"rgb(187, 15, 133)\"], [0.7165354330708661, \"rgb(186, 14, 132)\"], [0.7204724409448818, \"rgb(184, 12, 131)\"], [0.7244094488188977, \"rgb(183, 10, 130)\"], [0.7283464566929134, \"rgb(181, 9, 130)\"], [0.7322834645669292, \"rgb(180, 7, 129)\"], [0.7362204724409449, \"rgb(178, 6, 128)\"], [0.7401574803149606, \"rgb(177, 4, 127)\"], [0.7440944881889764, \"rgb(175, 2, 126)\"], [0.7480314960629921, \"rgb(174, 1, 126)\"], [0.7519685039370079, \"rgb(172, 1, 125)\"], [0.7559055118110236, \"rgb(171, 1, 125)\"], [0.7598425196850394, \"rgb(169, 1, 125)\"], [0.7637795275590551, \"rgb(167, 1, 125)\"], [0.7677165354330708, \"rgb(166, 1, 124)\"], [0.7716535433070866, \"rgb(164, 1, 124)\"], [0.7755905511811023, \"rgb(162, 1, 124)\"], [0.7795275590551181, \"rgb(161, 1, 124)\"], [0.7834645669291338, \"rgb(159, 1, 124)\"], [0.7874015748031495, \"rgb(158, 1, 123)\"], [0.7913385826771654, \"rgb(156, 1, 123)\"], [0.7952755905511811, \"rgb(154, 1, 123)\"], [0.7992125984251969, \"rgb(153, 1, 123)\"], [0.8031496062992126, \"rgb(151, 1, 122)\"], [0.8070866141732284, \"rgb(149, 1, 122)\"], [0.8110236220472441, \"rgb(148, 1, 122)\"], [0.8149606299212598, \"rgb(146, 1, 122)\"], [0.8188976377952756, \"rgb(145, 1, 122)\"], [0.8228346456692913, \"rgb(143, 1, 121)\"], [0.8267716535433071, \"rgb(141, 1, 121)\"], [0.8307086614173228, \"rgb(140, 1, 121)\"], [0.8346456692913385, \"rgb(138, 1, 121)\"], [0.8385826771653543, \"rgb(136, 1, 121)\"], [0.84251968503937, \"rgb(135, 1, 120)\"], [0.8464566929133858, \"rgb(133, 1, 120)\"], [0.8503937007874016, \"rgb(131, 1, 120)\"], [0.8543307086614174, \"rgb(130, 1, 120)\"], [0.8582677165354331, \"rgb(128, 1, 119)\"], [0.8622047244094488, \"rgb(127, 1, 119)\"], [0.8661417322834646, \"rgb(125, 1, 119)\"], [0.8700787401574803, \"rgb(123, 1, 119)\"], [0.8740157480314961, \"rgb(122, 1, 119)\"], [0.8779527559055118, \"rgb(120, 0, 118)\"], [0.8818897637795275, \"rgb(119, 0, 118)\"], [0.8858267716535433, \"rgb(117, 0, 117)\"], [0.889763779527559, \"rgb(116, 0, 117)\"], [0.8937007874015748, \"rgb(114, 0, 117)\"], [0.8976377952755905, \"rgb(112, 0, 116)\"], [0.9015748031496063, \"rgb(111, 0, 116)\"], [0.905511811023622, \"rgb(109, 0, 115)\"], [0.9094488188976377, \"rgb(108, 0, 115)\"], [0.9133858267716535, \"rgb(106, 0, 114)\"], [0.9173228346456693, \"rgb(105, 0, 114)\"], [0.9212598425196851, \"rgb(103, 0, 114)\"], [0.9251968503937008, \"rgb(102, 0, 113)\"], [0.9291338582677166, \"rgb(100, 0, 113)\"], [0.9330708661417323, \"rgb(99, 0, 112)\"], [0.937007874015748, \"rgb(97, 0, 112)\"], [0.9409448818897638, \"rgb(96, 0, 112)\"], [0.9448818897637795, \"rgb(94, 0, 111)\"], [0.9488188976377953, \"rgb(92, 0, 111)\"], [0.952755905511811, \"rgb(91, 0, 110)\"], [0.9566929133858267, \"rgb(89, 0, 110)\"], [0.9606299212598425, \"rgb(88, 0, 110)\"], [0.9645669291338582, \"rgb(86, 0, 109)\"], [0.968503937007874, \"rgb(85, 0, 109)\"], [0.9724409448818897, \"rgb(83, 0, 108)\"], [0.9763779527559056, \"rgb(82, 0, 108)\"], [0.9803149606299213, \"rgb(80, 0, 108)\"], [0.984251968503937, \"rgb(79, 0, 107)\"], [0.9881889763779528, \"rgb(77, 0, 107)\"], [0.9921259842519685, \"rgb(76, 0, 106)\"], [0.9960629921259843, \"rgb(74, 0, 106)\"], [1.0, \"rgb(73, 0, 106)\"]], \"geo\": \"geo\", \"locationmode\": \"USA-states\", \"locations\": [\"CA\", \"TX\", \"FL\", \"NY\", \"PA\", \"IL\", \"OH\", \"GA\", \"NC\", \"MI\", \"NJ\", \"VA\", \"WA\", \"AZ\", \"MA\", \"TN\", \"IN\", \"MO\", \"MD\", \"WI\", \"CO\", \"MN\", \"SC\", \"AL\", \"LA\", \"KY\", \"OR\", \"OK\", \"CT\", \"IA\", \"UT\", \"AR\", \"NV\", \"MS\", \"KS\", \"NM\", \"NE\", \"WV\", \"ID\", \"HI\", \"NH\", \"ME\", \"RI\", \"MT\", \"DE\", \"SD\", \"ND\", \"AK\", \"DC\", \"VT\", \"WY\"], \"marker\": {\"line\": {\"color\": [\"black\", \"black\", \"black\", \"black\", \"black\", \"black\", \"black\", \"black\", \"black\", \"black\", \"black\", \"black\", \"black\", \"black\", \"black\", \"black\", \"black\", \"black\", \"black\", \"black\", \"black\", \"black\", \"black\", \"black\", \"black\", \"black\", \"black\", \"black\", \"black\", \"black\", \"black\", \"black\", \"black\", \"black\", \"black\", \"black\", \"yellow\", \"yellow\", \"black\", \"yellow\", \"yellow\", \"yellow\", \"yellow\", \"yellow\", \"yellow\", \"yellow\", \"yellow\", \"yellow\", \"yellow\", \"yellow\", \"yellow\"], \"width\": [1.0, 1.0, 1.0, 1.0, 1.0, 1.0, 1.0, 1.0, 1.0, 1.0, 1.0, 1.0, 1.0, 1.0, 1.0, 1.0, 1.0, 1.0, 1.0, 1.0, 1.0, 1.0, 1.0, 1.0, 1.0, 1.0, 1.0, 1.0, 1.0, 1.0, 1.0, 1.0, 1.0, 1.0, 1.0, 1.0, 2.0, 2.0, 1.0, 2.0, 2.0, 2.0, 2.0, 2.0, 2.0, 2.0, 2.0, 2.0, 2.0, 2.0, 2.0]}}, \"reversescale\": false, \"z\": [37.0, 41.9, 53.8, 55.1, 76.4, 61.2, 78.9, 52.6, 63.0, 75.0, 54.8, 61.7, 68.6, 54.7, 71.5, 73.9, 79.2, 79.4, 50.7, 81.2, 68.2, 79.9, 63.6, 65.5, 58.5, 84.6, 75.6, 65.6, 66.7, 85.9, 78.3, 72.3, 48.8, 56.6, 75.9, 37.4, 79.0, 92.0, 82.0, 21.8, 90.3, 93.4, 72.1, 86.3, 62.2, 82.3, 84.4, 60.6, 36.5, 92.8, 84.0], \"zauto\": false, \"zmax\": 93.4, \"zmin\": 41.8, \"type\": \"choropleth\", \"uid\": \"31dfe56f-f0f6-421a-8a07-90d8ef728346\"}], {\"geo\": {\"domain\": {\"column\": 0, \"row\": 0}, \"lakecolor\": \"rgb(255, 255, 255)\", \"projection\": {\"type\": \"albers usa\"}, \"scope\": \"usa\", \"showlakes\": true}, \"grid\": {\"columns\": 1, \"rows\": 2}, \"height\": 900, \"title\": {\"text\": \"Wooooooooooo\"}, \"width\": 900, \"geo2\": {\"domain\": {\"column\": 0, \"row\": 1}, \"lakecolor\": \"rgb(255, 255, 255)\", \"projection\": {\"type\": \"albers usa\"}, \"scope\": \"usa\", \"showlakes\": true}}, {\"showLink\": false, \"linkText\": \"Export to plot.ly\", \"plotlyServerURL\": \"https://plot.ly\"}); \n",
       "}\n",
       "});</script>"
      ]
     },
     "metadata": {},
     "output_type": "display_data"
    }
   ],
   "source": [
    "RdPu_cmap = matplotlib.cm.get_cmap('RdPu')\n",
    "RdPu = matplotlib_to_plotly(RdPu_cmap, 255)\n",
    "\n",
    "# Plot\n",
    "vp_map = go.Choropleth(\n",
    "    colorscale=RdPu,\n",
    "    autocolorscale=False,\n",
    "    reversescale=False,\n",
    "    locations=[abbrev_df.loc[state, 'Postal Code'] for state in states], # Needs abbreviations\n",
    "    z=norm_states_vp,\n",
    "    locationmode='USA-states',\n",
    "    marker=dict(\n",
    "        line=dict(\n",
    "            color='black',\n",
    "            width=1.0,\n",
    "        )\n",
    "    ),\n",
    "    zauto=False,\n",
    "    zmin=min(norm_states_vp),\n",
    "    zmax=max(norm_states_vp),\n",
    "    colorbar = dict(\n",
    "        title = \"Voting Power\"\n",
    "    ),\n",
    "    geo='geo2',\n",
    ")\n",
    "\n",
    "whiteness = [census_df.loc[state, 'HC03_VC99'] for state in states]\n",
    "w_map = go.Choropleth(\n",
    "    colorscale=RdPu,\n",
    "    autocolorscale=False,\n",
    "    reversescale=False,\n",
    "    locations=[abbrev_df.loc[state, 'Postal Code'] for state in states], # Needs abbreviations\n",
    "    z=whiteness,\n",
    "    locationmode='USA-states',\n",
    "    marker=dict(\n",
    "        line=dict(\n",
    "            color=['black']*36 + ['yellow']*2 + ['black']*1 + ['yellow']*12 ,\n",
    "            width=[1.0]*36 + [2.0]*2 + [1.0]*1 + [2.0]*12,\n",
    "        )\n",
    "    ),\n",
    "    zauto=False,\n",
    "    zmin=min(whiteness)+20,\n",
    "    zmax=max(whiteness),\n",
    "    colorbar = dict(\n",
    "        title = \"Whiteness\"\n",
    "    ),\n",
    "    geo='geo',\n",
    ")\n",
    "\n",
    "data = [vp_map, w_map]\n",
    "\n",
    "layout = go.Layout(\n",
    "    title=go.layout.Title(\n",
    "        text='Wooooooooooo'\n",
    "    ),\n",
    "    width=900,\n",
    "    height=900,\n",
    "    grid=dict(\n",
    "        rows=2,\n",
    "        columns=1\n",
    "    ),\n",
    "    geo=go.layout.Geo(\n",
    "        scope='usa',\n",
    "        projection=go.layout.geo.Projection(type = 'albers usa'),\n",
    "        showlakes=True,\n",
    "        lakecolor='rgb(255, 255, 255)',\n",
    "        domain=dict(\n",
    "            row=0,\n",
    "            column=0,\n",
    "        )\n",
    "    ),\n",
    "    geo2=go.layout.Geo(\n",
    "        scope='usa',\n",
    "        projection=go.layout.geo.Projection(type = 'albers usa'),\n",
    "        showlakes=True,\n",
    "        lakecolor='rgb(255, 255, 255)',\n",
    "        domain=dict(\n",
    "            row=1,\n",
    "            column=0,\n",
    "        )\n",
    "    ),\n",
    ")\n",
    "\n",
    "fig = go.Figure(data=data, layout=layout)\n",
    "plotly.offline.init_notebook_mode(connected=True)\n",
    "plotly.offline.iplot(fig)"
   ]
  },
  {
   "cell_type": "code",
   "execution_count": 425,
   "metadata": {},
   "outputs": [],
   "source": [
    "pio.write_image(fig, 'images/ec_maps_01.png', format='png', scale=3.0)"
   ]
  },
  {
   "cell_type": "code",
   "execution_count": 349,
   "metadata": {},
   "outputs": [
    {
     "name": "stdout",
     "output_type": "stream",
     "text": [
      "3.14 Wyoming\n",
      "2.91 Vermont\n",
      "2.62 District of Columbia\n",
      "2.46 Alaska\n",
      "2.40 North Dakota\n",
      "2.09 South Dakota\n",
      "1.89 Delaware\n",
      "1.73 Montana\n",
      "2.29 Rhode Island\n",
      "1.81 Maine\n",
      "1.80 New Hampshire\n",
      "1.70 Hawaii\n",
      "1.41 Idaho\n",
      "1.67 West Virginia\n",
      "1.58 Nebraska\n",
      "1.45 New Mexico\n",
      "1.25 Kansas\n",
      "1.22 Mississippi\n",
      "1.21 Nevada\n",
      "1.21 Arkansas\n",
      "1.17 Utah\n",
      "1.15 Iowa\n",
      "1.18 Connecticut\n",
      "1.08 Oklahoma\n",
      "1.02 Oregon\n",
      "1.09 Kentucky\n",
      "1.03 Louisiana\n",
      "1.12 Alabama\n",
      "1.08 South Carolina\n",
      "1.09 Minnesota\n",
      "0.97 Colorado\n",
      "1.04 Wisconsin\n",
      "1.00 Maryland\n",
      "0.99 Missouri\n",
      "1.00 Indiana\n",
      "0.99 Tennessee\n",
      "0.97 Massachusetts\n",
      "0.95 Arizona\n",
      "0.98 Washington\n",
      "0.93 Virginia\n",
      "0.94 New Jersey\n",
      "0.97 Michigan\n",
      "0.88 North Carolina\n",
      "0.93 Georgia\n",
      "0.93 Ohio\n",
      "0.95 Illinois\n",
      "0.95 Pennsylvania\n",
      "0.88 New York\n",
      "0.84 Florida\n",
      "0.81 Texas\n",
      "0.84 California\n"
     ]
    }
   ],
   "source": [
    "for i in range(50, -1, -1):\n",
    "    print('{:.2f} {}'.format(norm_states_vp[i], states[i]))"
   ]
  },
  {
   "cell_type": "markdown",
   "metadata": {},
   "source": [
    "### IV. People Plot"
   ]
  },
  {
   "cell_type": "code",
   "execution_count": 450,
   "metadata": {},
   "outputs": [
    {
     "data": {
      "text/html": [
       "<script type=\"text/javascript\">window.PlotlyConfig = {MathJaxConfig: 'local'};</script><script type=\"text/javascript\">if (window.MathJax) {MathJax.Hub.Config({SVG: {font: \"STIX-Web\"}});}</script><script>requirejs.config({paths: { 'plotly': ['https://cdn.plot.ly/plotly-latest.min']},});if(!window._Plotly) {require(['plotly'],function(plotly) {window._Plotly=plotly;});}</script>"
      ],
      "text/vnd.plotly.v1+html": [
       "<script type=\"text/javascript\">window.PlotlyConfig = {MathJaxConfig: 'local'};</script><script type=\"text/javascript\">if (window.MathJax) {MathJax.Hub.Config({SVG: {font: \"STIX-Web\"}});}</script><script>requirejs.config({paths: { 'plotly': ['https://cdn.plot.ly/plotly-latest.min']},});if(!window._Plotly) {require(['plotly'],function(plotly) {window._Plotly=plotly;});}</script>"
      ]
     },
     "metadata": {},
     "output_type": "display_data"
    },
    {
     "data": {
      "application/vnd.plotly.v1+json": {
       "config": {
        "linkText": "Export to plot.ly",
        "plotlyServerURL": "https://plot.ly",
        "showLink": false
       },
       "data": [
        {
         "mode": "none",
         "type": "scatter",
         "uid": "f75d882f-967c-4013-898a-6bdb7b7ea4fd",
         "x": [
          0
         ],
         "y": [
          0
         ]
        }
       ],
       "layout": {
        "height": 640,
        "shapes": [
         {
          "fillcolor": "black",
          "line": {
           "width": 0
          },
          "type": "circle",
          "x0": 13,
          "x1": 29,
          "y0": 81.25,
          "y1": 97.25
         },
         {
          "fillcolor": "black",
          "line": {
           "width": 0
          },
          "type": "rect",
          "x0": 10,
          "x1": 32,
          "y0": 4.75,
          "y1": 80.25
         },
         {
          "fillcolor": "black",
          "line": {
           "width": 0
          },
          "type": "rect",
          "x0": 0,
          "x1": 42,
          "y0": 46.25,
          "y1": 70.25
         },
         {
          "fillcolor": "black",
          "line": {
           "width": 0
          },
          "type": "circle",
          "x0": 0,
          "x1": 20,
          "y0": 60.25,
          "y1": 80.25
         },
         {
          "fillcolor": "black",
          "line": {
           "width": 0
          },
          "type": "circle",
          "x0": 22,
          "x1": 42,
          "y0": 60.25,
          "y1": 80.25
         },
         {
          "fillcolor": "white",
          "line": {
           "width": 0
          },
          "type": "rect",
          "x0": 19.5,
          "x1": 22.5,
          "y0": 4.75,
          "y1": 42.25
         },
         {
          "fillcolor": "white",
          "line": {
           "width": 0
          },
          "type": "rect",
          "x0": 8,
          "x1": 10,
          "y0": 46.25,
          "y1": 69.25
         },
         {
          "fillcolor": "white",
          "line": {
           "width": 0
          },
          "type": "rect",
          "x0": 32,
          "x1": 34,
          "y0": 46.25,
          "y1": 69.25
         },
         {
          "fillcolor": "black",
          "line": {
           "width": 0
          },
          "type": "circle",
          "x0": 0,
          "x1": 8,
          "y0": 42.25,
          "y1": 50.25
         },
         {
          "fillcolor": "black",
          "line": {
           "width": 0
          },
          "type": "circle",
          "x0": 34,
          "x1": 42,
          "y0": 42.25,
          "y1": 50.25
         },
         {
          "fillcolor": "black",
          "line": {
           "width": 0
          },
          "type": "circle",
          "x0": 10,
          "x1": 19.5,
          "y0": 0,
          "y1": 9.5
         },
         {
          "fillcolor": "black",
          "line": {
           "width": 0
          },
          "type": "circle",
          "x0": 22.5,
          "x1": 32,
          "y0": 0,
          "y1": 9.5
         }
        ],
        "showlegend": false,
        "title": {
         "font": {
          "family": "verdana",
          "size": 18
         },
         "pad": {
          "b": 20
         },
         "text": "Vote loss/gain by racial groups",
         "y": 1,
         "yanchor": "bottom",
         "yref": "paper"
        },
        "width": 900,
        "xaxis": {
         "constrain": "domain",
         "dtick": 1,
         "range": [
          0,
          45
         ],
         "tick0": 0,
         "tickfont": {
          "size": 10
         }
        },
        "yaxis": {
         "constrain": "domain",
         "dtick": 1,
         "range": [
          0,
          100
         ],
         "scaleanchor": "x",
         "scaleratio": 1,
         "tick0": 0,
         "tickfont": {
          "size": 12
         },
         "title": {
          "text": "Population"
         }
        }
       }
      },
      "text/html": [
       "<div id=\"fa108216-3f40-4941-8f08-10756e892210\" style=\"height: 640px; width: 900px;\" class=\"plotly-graph-div\"></div><script type=\"text/javascript\">require([\"plotly\"], function(Plotly) { window.PLOTLYENV=window.PLOTLYENV || {};window.PLOTLYENV.BASE_URL=\"https://plot.ly\";\n",
       "if (document.getElementById(\"fa108216-3f40-4941-8f08-10756e892210\")) {\n",
       "    Plotly.newPlot(\"fa108216-3f40-4941-8f08-10756e892210\", [{\"mode\": \"none\", \"x\": [0], \"y\": [0], \"type\": \"scatter\", \"uid\": \"f75d882f-967c-4013-898a-6bdb7b7ea4fd\"}], {\"height\": 640, \"shapes\": [{\"fillcolor\": \"black\", \"line\": {\"width\": 0}, \"type\": \"circle\", \"x0\": 13, \"x1\": 29, \"y0\": 81.25, \"y1\": 97.25}, {\"fillcolor\": \"black\", \"line\": {\"width\": 0}, \"type\": \"rect\", \"x0\": 10, \"x1\": 32, \"y0\": 4.75, \"y1\": 80.25}, {\"fillcolor\": \"black\", \"line\": {\"width\": 0}, \"type\": \"rect\", \"x0\": 0, \"x1\": 42, \"y0\": 46.25, \"y1\": 70.25}, {\"fillcolor\": \"black\", \"line\": {\"width\": 0}, \"type\": \"circle\", \"x0\": 0, \"x1\": 20, \"y0\": 60.25, \"y1\": 80.25}, {\"fillcolor\": \"black\", \"line\": {\"width\": 0}, \"type\": \"circle\", \"x0\": 22, \"x1\": 42, \"y0\": 60.25, \"y1\": 80.25}, {\"fillcolor\": \"white\", \"line\": {\"width\": 0}, \"type\": \"rect\", \"x0\": 19.5, \"x1\": 22.5, \"y0\": 4.75, \"y1\": 42.25}, {\"fillcolor\": \"white\", \"line\": {\"width\": 0}, \"type\": \"rect\", \"x0\": 8, \"x1\": 10, \"y0\": 46.25, \"y1\": 69.25}, {\"fillcolor\": \"white\", \"line\": {\"width\": 0}, \"type\": \"rect\", \"x0\": 32, \"x1\": 34, \"y0\": 46.25, \"y1\": 69.25}, {\"fillcolor\": \"black\", \"line\": {\"width\": 0}, \"type\": \"circle\", \"x0\": 0, \"x1\": 8.0, \"y0\": 42.25, \"y1\": 50.25}, {\"fillcolor\": \"black\", \"line\": {\"width\": 0}, \"type\": \"circle\", \"x0\": 34, \"x1\": 42, \"y0\": 42.25, \"y1\": 50.25}, {\"fillcolor\": \"black\", \"line\": {\"width\": 0}, \"type\": \"circle\", \"x0\": 10, \"x1\": 19.5, \"y0\": 0, \"y1\": 9.5}, {\"fillcolor\": \"black\", \"line\": {\"width\": 0}, \"type\": \"circle\", \"x0\": 22.5, \"x1\": 32, \"y0\": 0, \"y1\": 9.5}], \"showlegend\": false, \"title\": {\"font\": {\"family\": \"verdana\", \"size\": 18}, \"pad\": {\"b\": 20}, \"text\": \"Vote loss/gain by racial groups\", \"y\": 1.0, \"yanchor\": \"bottom\", \"yref\": \"paper\"}, \"width\": 900, \"xaxis\": {\"constrain\": \"domain\", \"dtick\": 1.0, \"range\": [0, 45], \"tick0\": 0, \"tickfont\": {\"size\": 10}}, \"yaxis\": {\"constrain\": \"domain\", \"dtick\": 1.0, \"range\": [0, 100], \"scaleanchor\": \"x\", \"scaleratio\": 1, \"tick0\": 0, \"tickfont\": {\"size\": 12}, \"title\": {\"text\": \"Population\"}}}, {\"showLink\": false, \"linkText\": \"Export to plot.ly\", \"plotlyServerURL\": \"https://plot.ly\"}); \n",
       "}\n",
       "});</script>"
      ],
      "text/vnd.plotly.v1+html": [
       "<div id=\"fa108216-3f40-4941-8f08-10756e892210\" style=\"height: 640px; width: 900px;\" class=\"plotly-graph-div\"></div><script type=\"text/javascript\">require([\"plotly\"], function(Plotly) { window.PLOTLYENV=window.PLOTLYENV || {};window.PLOTLYENV.BASE_URL=\"https://plot.ly\";\n",
       "if (document.getElementById(\"fa108216-3f40-4941-8f08-10756e892210\")) {\n",
       "    Plotly.newPlot(\"fa108216-3f40-4941-8f08-10756e892210\", [{\"mode\": \"none\", \"x\": [0], \"y\": [0], \"type\": \"scatter\", \"uid\": \"f75d882f-967c-4013-898a-6bdb7b7ea4fd\"}], {\"height\": 640, \"shapes\": [{\"fillcolor\": \"black\", \"line\": {\"width\": 0}, \"type\": \"circle\", \"x0\": 13, \"x1\": 29, \"y0\": 81.25, \"y1\": 97.25}, {\"fillcolor\": \"black\", \"line\": {\"width\": 0}, \"type\": \"rect\", \"x0\": 10, \"x1\": 32, \"y0\": 4.75, \"y1\": 80.25}, {\"fillcolor\": \"black\", \"line\": {\"width\": 0}, \"type\": \"rect\", \"x0\": 0, \"x1\": 42, \"y0\": 46.25, \"y1\": 70.25}, {\"fillcolor\": \"black\", \"line\": {\"width\": 0}, \"type\": \"circle\", \"x0\": 0, \"x1\": 20, \"y0\": 60.25, \"y1\": 80.25}, {\"fillcolor\": \"black\", \"line\": {\"width\": 0}, \"type\": \"circle\", \"x0\": 22, \"x1\": 42, \"y0\": 60.25, \"y1\": 80.25}, {\"fillcolor\": \"white\", \"line\": {\"width\": 0}, \"type\": \"rect\", \"x0\": 19.5, \"x1\": 22.5, \"y0\": 4.75, \"y1\": 42.25}, {\"fillcolor\": \"white\", \"line\": {\"width\": 0}, \"type\": \"rect\", \"x0\": 8, \"x1\": 10, \"y0\": 46.25, \"y1\": 69.25}, {\"fillcolor\": \"white\", \"line\": {\"width\": 0}, \"type\": \"rect\", \"x0\": 32, \"x1\": 34, \"y0\": 46.25, \"y1\": 69.25}, {\"fillcolor\": \"black\", \"line\": {\"width\": 0}, \"type\": \"circle\", \"x0\": 0, \"x1\": 8.0, \"y0\": 42.25, \"y1\": 50.25}, {\"fillcolor\": \"black\", \"line\": {\"width\": 0}, \"type\": \"circle\", \"x0\": 34, \"x1\": 42, \"y0\": 42.25, \"y1\": 50.25}, {\"fillcolor\": \"black\", \"line\": {\"width\": 0}, \"type\": \"circle\", \"x0\": 10, \"x1\": 19.5, \"y0\": 0, \"y1\": 9.5}, {\"fillcolor\": \"black\", \"line\": {\"width\": 0}, \"type\": \"circle\", \"x0\": 22.5, \"x1\": 32, \"y0\": 0, \"y1\": 9.5}], \"showlegend\": false, \"title\": {\"font\": {\"family\": \"verdana\", \"size\": 18}, \"pad\": {\"b\": 20}, \"text\": \"Vote loss/gain by racial groups\", \"y\": 1.0, \"yanchor\": \"bottom\", \"yref\": \"paper\"}, \"width\": 900, \"xaxis\": {\"constrain\": \"domain\", \"dtick\": 1.0, \"range\": [0, 45], \"tick0\": 0, \"tickfont\": {\"size\": 10}}, \"yaxis\": {\"constrain\": \"domain\", \"dtick\": 1.0, \"range\": [0, 100], \"scaleanchor\": \"x\", \"scaleratio\": 1, \"tick0\": 0, \"tickfont\": {\"size\": 12}, \"title\": {\"text\": \"Population\"}}}, {\"showLink\": false, \"linkText\": \"Export to plot.ly\", \"plotlyServerURL\": \"https://plot.ly\"}); \n",
       "}\n",
       "});</script>"
      ]
     },
     "metadata": {},
     "output_type": "display_data"
    }
   ],
   "source": [
    "dummy = go.Scatter(\n",
    "    x = [0],\n",
    "    y = [0],\n",
    "    mode = 'none'\n",
    ")\n",
    "\n",
    "data = [dummy]\n",
    "\n",
    "layout = go.Layout(\n",
    "    title=dict(   \n",
    "        text='Vote loss/gain by racial groups',\n",
    "        font=dict(\n",
    "            family='verdana',\n",
    "            size=18,\n",
    "            color=None,\n",
    "        ),\n",
    "        #xref='paper',\n",
    "        yref='paper',\n",
    "        y=1.0,\n",
    "        yanchor='bottom',\n",
    "        #xanchor='right',\n",
    "        pad=dict( # unit: pixels\n",
    "            b=20,\n",
    "        ),\n",
    "    ),\n",
    "     width=900,\n",
    "     height=640,\n",
    "    showlegend=False,\n",
    "    xaxis=dict(\n",
    "        range=[0,45],\n",
    "        tickfont=dict(\n",
    "            size=10,\n",
    "        ),\n",
    "        tick0=0,\n",
    "        dtick=1.0,\n",
    "        constrain='domain',\n",
    "    ),\n",
    "    yaxis=dict(\n",
    "        title='Population',\n",
    "        range=[0, 100],\n",
    "        scaleanchor='x',\n",
    "        scaleratio=1,\n",
    "        tickfont=dict(\n",
    "            size=12,\n",
    "        ),\n",
    "        tick0=0,\n",
    "        dtick=1.0,\n",
    "        constrain='domain',\n",
    "    ),\n",
    ")\n",
    "\n",
    "split = 3\n",
    "asplit = 2\n",
    "vshift = (22-split)/2.0/2.0   # same as foot\n",
    "foot = vshift   # radius\n",
    "hand = (10-asplit)/2.0   # radius\n",
    "head = 8   # radius\n",
    "neck = 1\n",
    "\n",
    "color = 'black'\n",
    "bgcolor = 'white'\n",
    "\n",
    "man = [\n",
    "    # head\n",
    "    dict(\n",
    "        type='circle',\n",
    "        x0=21-head,\n",
    "        y0=75.5+vshift+neck,\n",
    "        x1=21+head,\n",
    "        y1=75.5+(2*head)+vshift+neck,\n",
    "        fillcolor=color,\n",
    "        line=dict(\n",
    "            width=0,\n",
    "        )\n",
    "    ),\n",
    "    # body\n",
    "    dict(\n",
    "        type='rect',\n",
    "        x0=10,\n",
    "        y0=vshift,\n",
    "        x1=32,\n",
    "        y1=75.5+vshift,\n",
    "        fillcolor=color,\n",
    "        line=dict(\n",
    "            width=0,\n",
    "        )\n",
    "    ),\n",
    "    # arms\n",
    "    dict(\n",
    "        type='rect',\n",
    "        x0=0,\n",
    "        y0=37.5+hand+vshift,\n",
    "        x1=42,\n",
    "        y1=65.5+vshift,\n",
    "        fillcolor=color,\n",
    "        line=dict(\n",
    "            width=0,\n",
    "        )\n",
    "    ),\n",
    "    # left shoulder\n",
    "    dict(\n",
    "        type='circle',\n",
    "        x0=0,\n",
    "        y0=55.5+vshift,\n",
    "        x1=20,\n",
    "        y1=75.5+vshift,\n",
    "        fillcolor=color,\n",
    "        line=dict(\n",
    "            width=0,\n",
    "        )\n",
    "    ),\n",
    "    # right shoulder\n",
    "    dict(\n",
    "        type='circle',\n",
    "        x0=22,\n",
    "        y0=55.5+vshift,\n",
    "        x1=42,\n",
    "        y1=75.5+vshift,\n",
    "        fillcolor=color,\n",
    "        line=dict(\n",
    "            width=0,\n",
    "        )\n",
    "    ),\n",
    "    # leg split\n",
    "    dict(\n",
    "        type='rect',\n",
    "        x0=21-split/2.0,\n",
    "        y0=vshift,\n",
    "        x1=21+split/2.0,\n",
    "        y1=37.5+vshift,\n",
    "        fillcolor=bgcolor,\n",
    "        line=dict(\n",
    "            width=0,\n",
    "        ),\n",
    "    ),\n",
    "    # left arm split\n",
    "    dict(\n",
    "        type='rect',\n",
    "        x0=10-asplit,\n",
    "        y0=37.5+hand+vshift,\n",
    "        x1=10,\n",
    "        y1=64.5+vshift,\n",
    "        fillcolor=bgcolor,\n",
    "        line=dict(\n",
    "            width=0,\n",
    "        ),\n",
    "    ),\n",
    "    # right arm split\n",
    "    dict(\n",
    "        type='rect',\n",
    "        x0=32,\n",
    "        y0=37.5+hand+vshift,\n",
    "        x1=32+asplit,\n",
    "        y1=64.5+vshift,\n",
    "        fillcolor=bgcolor,\n",
    "        line=dict(\n",
    "            width=0,\n",
    "        ),\n",
    "    ),\n",
    "    # left hand\n",
    "    dict(\n",
    "        type='circle',\n",
    "        x0=0,\n",
    "        y0=37.5+vshift,\n",
    "        x1=2*hand,\n",
    "        y1=37.5+(2*hand)+vshift,\n",
    "        fillcolor=color,\n",
    "        line=dict(\n",
    "            width=0,\n",
    "        ),\n",
    "    ),\n",
    "    # right hand\n",
    "    dict(\n",
    "        type='circle',\n",
    "        x0=32+asplit,\n",
    "        y0=37.5+vshift,\n",
    "        x1=42,\n",
    "        y1=37.5+(2*hand)+vshift,\n",
    "        fillcolor=color,\n",
    "        line=dict(\n",
    "            width=0,\n",
    "        ),\n",
    "    ),\n",
    "    # left foot\n",
    "    dict(\n",
    "        type='circle',\n",
    "        x0=10,\n",
    "        y0=0,\n",
    "        x1=10+(2*foot),\n",
    "        y1=2*vshift,\n",
    "        fillcolor=color,\n",
    "        line=dict(\n",
    "            width=0,\n",
    "        ),\n",
    "    ),\n",
    "    # right foot\n",
    "    dict(\n",
    "        type='circle',\n",
    "        x0=32-(2*foot),\n",
    "        y0=0,\n",
    "        x1=32,\n",
    "        y1=2*vshift,\n",
    "        fillcolor=color,\n",
    "        line=dict(\n",
    "            width=0,\n",
    "        ),\n",
    "    ),\n",
    "]\n",
    "\n",
    "layout['shapes'] = man\n",
    "\n",
    "fig = go.Figure(data=data, layout=layout)\n",
    "plotly.offline.init_notebook_mode(connected=True)\n",
    "plotly.offline.iplot(fig)"
   ]
  },
  {
   "cell_type": "code",
   "execution_count": 203,
   "metadata": {},
   "outputs": [],
   "source": [
    "pio.write_image(fig, 'images/ec_bars02.png', format='png', scale=3.0)"
   ]
  },
  {
   "cell_type": "code",
   "execution_count": 427,
   "metadata": {},
   "outputs": [
    {
     "data": {
      "text/plain": [
       "2.0"
      ]
     },
     "execution_count": 427,
     "metadata": {},
     "output_type": "execute_result"
    }
   ],
   "source": [
    "4**.5"
   ]
  },
  {
   "cell_type": "code",
   "execution_count": null,
   "metadata": {},
   "outputs": [],
   "source": []
  }
 ],
 "metadata": {
  "kernelspec": {
   "display_name": "Python 3",
   "language": "python",
   "name": "python3"
  },
  "language_info": {
   "codemirror_mode": {
    "name": "ipython",
    "version": 3
   },
   "file_extension": ".py",
   "mimetype": "text/x-python",
   "name": "python",
   "nbconvert_exporter": "python",
   "pygments_lexer": "ipython3",
   "version": "3.6.8"
  }
 },
 "nbformat": 4,
 "nbformat_minor": 2
}
