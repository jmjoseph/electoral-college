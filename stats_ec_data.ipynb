{
 "cells": [
  {
   "cell_type": "code",
   "execution_count": 1,
   "metadata": {},
   "outputs": [],
   "source": [
    "import numpy as np\n",
    "import pandas as pd\n",
    "from pandas import Series, DataFrame\n",
    "\n",
    "import plotly\n",
    "import plotly.graph_objs as go\n",
    "import plotly.io as pio"
   ]
  },
  {
   "cell_type": "code",
   "execution_count": 2,
   "metadata": {},
   "outputs": [],
   "source": [
    "# Load dataframes from csv files\n",
    "census_df = pd.read_csv('df_census.csv', index_col=0)\n",
    "ec_df = pd.read_csv('df_ec.csv', index_col=0)\n",
    "election_df = pd.read_csv('df_election.csv', index_col=0)\n",
    "abbrev_df = pd.read_csv('df_abbrev.csv', index_col=0)"
   ]
  },
  {
   "cell_type": "code",
   "execution_count": 3,
   "metadata": {},
   "outputs": [
    {
     "name": "stdout",
     "output_type": "stream",
     "text": [
      "Average share of an electoral vote for an individual:\n",
      "1.65e-06\n",
      "\n",
      "Average amount of people per electoral vote:\n",
      "605425.98\n"
     ]
    }
   ],
   "source": [
    "# Calculate Average voting power (EV share PER person)\n",
    "avg_vp = ec_df[\"Number of Electoral Votes\"].sum() / float(census_df.loc[\"United States\", \"HC01_VC03\"])\n",
    "print('Average share of an electoral vote for an individual:\\n{:.2e}'\n",
    "      .format(avg_vp))\n",
    "\n",
    "# Store inverse\n",
    "people_per_ev = 1.0/avg_vp\n",
    "print('\\nAverage amount of people per electoral vote:\\n{:.2f}'.format(people_per_ev))"
   ]
  },
  {
   "cell_type": "code",
   "execution_count": 4,
   "metadata": {},
   "outputs": [],
   "source": [
    "# Get list of states in decreasing order of population\n",
    "states = sorted(list(census_df.index[1:]), \n",
    "                key=lambda state: census_df.loc[state, 'HC01_VC03'],\n",
    "                reverse=True)\n",
    "\n",
    "# Calculate State Voting Power (SVP) and normalize by average voting power\n",
    "states_vp = [ec_df.loc[state, \"Number of Electoral Votes\"] / \\\n",
    "             float(census_df.loc[state, \"HC01_VC03\"]) for state in states]\n",
    "norm_states_vp = [vp/avg_vp for vp in states_vp]"
   ]
  },
  {
   "cell_type": "code",
   "execution_count": 14,
   "metadata": {},
   "outputs": [
    {
     "data": {
      "text/html": [
       "<script type=\"text/javascript\">window.PlotlyConfig = {MathJaxConfig: 'local'};</script><script type=\"text/javascript\">if (window.MathJax) {MathJax.Hub.Config({SVG: {font: \"STIX-Web\"}});}</script><script>requirejs.config({paths: { 'plotly': ['https://cdn.plot.ly/plotly-latest.min']},});if(!window._Plotly) {require(['plotly'],function(plotly) {window._Plotly=plotly;});}</script>"
      ],
      "text/vnd.plotly.v1+html": [
       "<script type=\"text/javascript\">window.PlotlyConfig = {MathJaxConfig: 'local'};</script><script type=\"text/javascript\">if (window.MathJax) {MathJax.Hub.Config({SVG: {font: \"STIX-Web\"}});}</script><script>requirejs.config({paths: { 'plotly': ['https://cdn.plot.ly/plotly-latest.min']},});if(!window._Plotly) {require(['plotly'],function(plotly) {window._Plotly=plotly;});}</script>"
      ]
     },
     "metadata": {},
     "output_type": "display_data"
    },
    {
     "data": {
      "application/vnd.plotly.v1+json": {
       "config": {
        "linkText": "Export to plot.ly",
        "plotlyServerURL": "https://plot.ly",
        "showLink": false
       },
       "data": [
        {
         "boxpoints": "all",
         "jitter": 0.4,
         "pointpos": 1.8,
         "text": [
          "CA",
          "TX",
          "FL",
          "NY",
          "PA",
          "IL",
          "OH",
          "GA",
          "NC",
          "MI",
          "NJ",
          "VA",
          "WA",
          "AZ",
          "MA",
          "TN",
          "IN",
          "MO",
          "MD",
          "WI",
          "CO",
          "MN",
          "SC",
          "AL",
          "LA",
          "KY",
          "OR",
          "OK",
          "CT",
          "IA",
          "UT",
          "AR",
          "NV",
          "MS",
          "KS",
          "NM",
          "NE",
          "WV",
          "ID",
          "HI",
          "NH",
          "ME",
          "RI",
          "MT",
          "DE",
          "SD",
          "ND",
          "AK",
          "DC",
          "VT",
          "WY"
         ],
         "type": "box",
         "uid": "eae3a752-31c5-443a-86ca-16009fb1a3da",
         "x": [
          0.8422166888455421,
          0.8128074781099259,
          0.8366859886852397,
          0.8845282147316674,
          0.9455690634647175,
          0.9458286107010422,
          0.9347313787972055,
          0.9288008137974688,
          0.8839695646784766,
          0.9723462460268737,
          0.9411835222197271,
          0.929223042963808,
          0.9810105180468284,
          0.949177525314595,
          0.9708252937197079,
          0.9916172813304847,
          0.99893019361546,
          0.9903047557657986,
          1.0003441429631676,
          1.0446514663448059,
          0.9717646122638606,
          1.0856531399432547,
          1.084481221963147,
          1.117767513414287,
          1.0339589118239705,
          1.0873826528917196,
          1.0229811773285535,
          1.0781298640422248,
          1.1810937983917424,
          1.1547646584431426,
          1.1710997621328538,
          1.2091273441900159,
          1.2116439741030174,
          1.2173036722884074,
          1.2469627573143451,
          1.4497262577706673,
          1.5765677541218146,
          1.6670530262367562,
          1.4104742706371487,
          1.69641993813864,
          1.8034799992929358,
          1.812778827905354,
          2.2854046761685423,
          1.7289767225844612,
          1.8881425373520757,
          2.0884775813219307,
          2.404414581863902,
          2.455109786140645,
          2.6172207873486513,
          2.9123026667509837,
          3.1352164957543276
         ]
        }
       ],
       "layout": {}
      },
      "text/html": [
       "<div id=\"cf56582f-e1cc-4089-8f9a-45a92b7185d6\" style=\"height: 525px; width: 100%;\" class=\"plotly-graph-div\"></div><script type=\"text/javascript\">require([\"plotly\"], function(Plotly) { window.PLOTLYENV=window.PLOTLYENV || {};window.PLOTLYENV.BASE_URL=\"https://plot.ly\";\n",
       "if (document.getElementById(\"cf56582f-e1cc-4089-8f9a-45a92b7185d6\")) {\n",
       "    Plotly.newPlot(\"cf56582f-e1cc-4089-8f9a-45a92b7185d6\", [{\"boxpoints\": \"all\", \"jitter\": 0.4, \"pointpos\": 1.8, \"text\": [\"CA\", \"TX\", \"FL\", \"NY\", \"PA\", \"IL\", \"OH\", \"GA\", \"NC\", \"MI\", \"NJ\", \"VA\", \"WA\", \"AZ\", \"MA\", \"TN\", \"IN\", \"MO\", \"MD\", \"WI\", \"CO\", \"MN\", \"SC\", \"AL\", \"LA\", \"KY\", \"OR\", \"OK\", \"CT\", \"IA\", \"UT\", \"AR\", \"NV\", \"MS\", \"KS\", \"NM\", \"NE\", \"WV\", \"ID\", \"HI\", \"NH\", \"ME\", \"RI\", \"MT\", \"DE\", \"SD\", \"ND\", \"AK\", \"DC\", \"VT\", \"WY\"], \"x\": [0.8422166888455421, 0.8128074781099259, 0.8366859886852397, 0.8845282147316674, 0.9455690634647175, 0.9458286107010422, 0.9347313787972055, 0.9288008137974688, 0.8839695646784766, 0.9723462460268737, 0.9411835222197271, 0.929223042963808, 0.9810105180468284, 0.949177525314595, 0.9708252937197079, 0.9916172813304847, 0.99893019361546, 0.9903047557657986, 1.0003441429631676, 1.0446514663448059, 0.9717646122638606, 1.0856531399432547, 1.084481221963147, 1.117767513414287, 1.0339589118239705, 1.0873826528917196, 1.0229811773285535, 1.0781298640422248, 1.1810937983917424, 1.1547646584431426, 1.1710997621328538, 1.2091273441900159, 1.2116439741030174, 1.2173036722884074, 1.2469627573143451, 1.4497262577706673, 1.5765677541218146, 1.6670530262367562, 1.4104742706371487, 1.69641993813864, 1.8034799992929358, 1.812778827905354, 2.2854046761685423, 1.7289767225844612, 1.8881425373520757, 2.0884775813219307, 2.404414581863902, 2.455109786140645, 2.6172207873486513, 2.9123026667509837, 3.1352164957543276], \"type\": \"box\", \"uid\": \"eae3a752-31c5-443a-86ca-16009fb1a3da\"}], {}, {\"showLink\": false, \"linkText\": \"Export to plot.ly\", \"plotlyServerURL\": \"https://plot.ly\"}); \n",
       "}\n",
       "});</script><script type=\"text/javascript\">window.addEventListener(\"resize\", function(){if (document.getElementById(\"cf56582f-e1cc-4089-8f9a-45a92b7185d6\")) {window._Plotly.Plots.resize(document.getElementById(\"cf56582f-e1cc-4089-8f9a-45a92b7185d6\"));};})</script>"
      ],
      "text/vnd.plotly.v1+html": [
       "<div id=\"cf56582f-e1cc-4089-8f9a-45a92b7185d6\" style=\"height: 525px; width: 100%;\" class=\"plotly-graph-div\"></div><script type=\"text/javascript\">require([\"plotly\"], function(Plotly) { window.PLOTLYENV=window.PLOTLYENV || {};window.PLOTLYENV.BASE_URL=\"https://plot.ly\";\n",
       "if (document.getElementById(\"cf56582f-e1cc-4089-8f9a-45a92b7185d6\")) {\n",
       "    Plotly.newPlot(\"cf56582f-e1cc-4089-8f9a-45a92b7185d6\", [{\"boxpoints\": \"all\", \"jitter\": 0.4, \"pointpos\": 1.8, \"text\": [\"CA\", \"TX\", \"FL\", \"NY\", \"PA\", \"IL\", \"OH\", \"GA\", \"NC\", \"MI\", \"NJ\", \"VA\", \"WA\", \"AZ\", \"MA\", \"TN\", \"IN\", \"MO\", \"MD\", \"WI\", \"CO\", \"MN\", \"SC\", \"AL\", \"LA\", \"KY\", \"OR\", \"OK\", \"CT\", \"IA\", \"UT\", \"AR\", \"NV\", \"MS\", \"KS\", \"NM\", \"NE\", \"WV\", \"ID\", \"HI\", \"NH\", \"ME\", \"RI\", \"MT\", \"DE\", \"SD\", \"ND\", \"AK\", \"DC\", \"VT\", \"WY\"], \"x\": [0.8422166888455421, 0.8128074781099259, 0.8366859886852397, 0.8845282147316674, 0.9455690634647175, 0.9458286107010422, 0.9347313787972055, 0.9288008137974688, 0.8839695646784766, 0.9723462460268737, 0.9411835222197271, 0.929223042963808, 0.9810105180468284, 0.949177525314595, 0.9708252937197079, 0.9916172813304847, 0.99893019361546, 0.9903047557657986, 1.0003441429631676, 1.0446514663448059, 0.9717646122638606, 1.0856531399432547, 1.084481221963147, 1.117767513414287, 1.0339589118239705, 1.0873826528917196, 1.0229811773285535, 1.0781298640422248, 1.1810937983917424, 1.1547646584431426, 1.1710997621328538, 1.2091273441900159, 1.2116439741030174, 1.2173036722884074, 1.2469627573143451, 1.4497262577706673, 1.5765677541218146, 1.6670530262367562, 1.4104742706371487, 1.69641993813864, 1.8034799992929358, 1.812778827905354, 2.2854046761685423, 1.7289767225844612, 1.8881425373520757, 2.0884775813219307, 2.404414581863902, 2.455109786140645, 2.6172207873486513, 2.9123026667509837, 3.1352164957543276], \"type\": \"box\", \"uid\": \"eae3a752-31c5-443a-86ca-16009fb1a3da\"}], {}, {\"showLink\": false, \"linkText\": \"Export to plot.ly\", \"plotlyServerURL\": \"https://plot.ly\"}); \n",
       "}\n",
       "});</script><script type=\"text/javascript\">window.addEventListener(\"resize\", function(){if (document.getElementById(\"cf56582f-e1cc-4089-8f9a-45a92b7185d6\")) {window._Plotly.Plots.resize(document.getElementById(\"cf56582f-e1cc-4089-8f9a-45a92b7185d6\"));};})</script>"
      ]
     },
     "metadata": {},
     "output_type": "display_data"
    }
   ],
   "source": [
    "data = [\n",
    "    go.Box(\n",
    "        x=norm_states_vp,\n",
    "        text=[abbrev_df.loc[state, 'Postal Code'] for state in states],\n",
    "        boxpoints='all',\n",
    "        jitter=0.4,\n",
    "        pointpos=1.8,\n",
    "    )\n",
    "]\n",
    "\n",
    "fig = go.Figure(data=data)#, layout=layout)\n",
    "plotly.offline.init_notebook_mode(connected=True)\n",
    "plotly.offline.iplot(fig)"
   ]
  },
  {
   "cell_type": "code",
   "execution_count": null,
   "metadata": {},
   "outputs": [],
   "source": []
  }
 ],
 "metadata": {
  "kernelspec": {
   "display_name": "Python 3",
   "language": "python",
   "name": "python3"
  },
  "language_info": {
   "codemirror_mode": {
    "name": "ipython",
    "version": 3
   },
   "file_extension": ".py",
   "mimetype": "text/x-python",
   "name": "python",
   "nbconvert_exporter": "python",
   "pygments_lexer": "ipython3",
   "version": "3.6.8"
  }
 },
 "nbformat": 4,
 "nbformat_minor": 2
}
